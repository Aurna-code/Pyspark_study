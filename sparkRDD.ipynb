{
 "cells": [
  {
   "cell_type": "markdown",
   "id": "d31e0c83-e52f-4246-9fe1-d79b614fbe25",
   "metadata": {
    "tags": []
   },
   "source": [
    "### sparkRDD\n",
    "+ 여러 분산노드에 걸쳐 저장하는 변경불가데이터 집합을 의미\n",
    "+ RDD 생성은 직접 만들거나 파일을 통해 생성할 수 있음\n",
    "+ RDD는 transformation과 action으로 구성\n",
    "    - 기존 RDD의 데이터를 토대로 새로운 RDD를 만들어 냄\n",
    "    - RDD를 기반으로 무언가를 계산해서 결과를 만들어 냄\n",
    "+ RDD는 Lazy 로딩 방식을 사용"
   ]
  },
  {
   "cell_type": "markdown",
   "id": "7d92bed8-7078-4f56-94d4-ced03fc3d651",
   "metadata": {},
   "source": []
  },
  {
   "cell_type": "code",
   "execution_count": null,
   "id": "0af35eeb-4bed-4c40-ae76-edac57dc066c",
   "metadata": {},
   "outputs": [],
   "source": [
    "lines = sc.textFile('/usr/share/spark/README.md')"
   ]
  },
  {
   "cell_type": "markdown",
   "id": "d217d244-3917-4741-b25d-6f25a7d6c76a",
   "metadata": {},
   "source": [
    "#### 읽어들인 라인 중 10줄만 확인"
   ]
  },
  {
   "cell_type": "code",
   "execution_count": null,
   "id": "7825e4bc-34db-4c1f-a81c-c64b4ace46b2",
   "metadata": {},
   "outputs": [],
   "source": [
    "lines.collect()[:10]"
   ]
  },
  {
   "cell_type": "markdown",
   "id": "8b962089-954f-4a3b-862f-aad41f4f4c40",
   "metadata": {},
   "source": [
    "#### 읽어들인 라인수 출력 : action"
   ]
  },
  {
   "cell_type": "code",
   "execution_count": null,
   "id": "11938548-796a-4a46-a41b-5e39f4974b5c",
   "metadata": {},
   "outputs": [],
   "source": [
    "lines.count()"
   ]
  },
  {
   "cell_type": "markdown",
   "id": "6db50ba9-f4b1-4283-8665-0fe48e561113",
   "metadata": {},
   "source": [
    "#### 읽어들인 라인들 중에서 Spark라는 단어를 찾음 : transformation"
   ]
  },
  {
   "cell_type": "code",
   "execution_count": null,
   "id": "78a9a463-5af6-4518-8b23-973c5b87483d",
   "metadata": {},
   "outputs": [],
   "source": [
    "filterlines = lines.filter(lambda x: \"Spark\" in x)"
   ]
  },
  {
   "cell_type": "code",
   "execution_count": null,
   "id": "bae42740-0de8-4d5c-993a-94c11caa67e0",
   "metadata": {},
   "outputs": [],
   "source": [
    "filterlines"
   ]
  },
  {
   "cell_type": "code",
   "execution_count": null,
   "id": "62c01d76-cd72-4e08-8fe5-62c21c416665",
   "metadata": {},
   "outputs": [],
   "source": [
    "filterlines.collect()[:10]"
   ]
  },
  {
   "cell_type": "markdown",
   "id": "37f5723f-83d8-45fa-9d5a-50a88f0ccdfe",
   "metadata": {},
   "source": [
    "#### Lazy 로딩방식 확인 "
   ]
  },
  {
   "cell_type": "markdown",
   "id": "b3139337-b58b-4135-b3ec-b354fc968460",
   "metadata": {},
   "source": [
    "##### 잘못된 위치의 파일을 읽어들이려 시도 - 오류 출력 안됨\n",
    "##### 현재 위치 : /home/hadoop"
   ]
  },
  {
   "cell_type": "code",
   "execution_count": null,
   "id": "3eb9d904-8f64-449b-9c12-eaff056980ac",
   "metadata": {},
   "outputs": [],
   "source": [
    "lines = sc.textFile(\"usr/share/spark/README.md\")"
   ]
  },
  {
   "cell_type": "markdown",
   "id": "d81a85df-a7ac-4f55-bef9-43b9d31a73c6",
   "metadata": {},
   "source": [
    "##### 잘못된 경로로 오류발생 - 이전 라인에서 오류가 출력되어야 하는데\n",
    "##### lazy loading으로 인해 action이 호출되어야만 비로소 오류가 출력"
   ]
  },
  {
   "cell_type": "code",
   "execution_count": null,
   "id": "38081a3d-88d2-4121-99e3-ffe6d6ad4538",
   "metadata": {},
   "outputs": [],
   "source": [
    "lines.collect()[:10]"
   ]
  },
  {
   "cell_type": "markdown",
   "id": "c79075e2-775c-4078-86b9-72efcdc36b27",
   "metadata": {},
   "source": [
    "### RDD 생성\n",
    "+ 직접 생성한 데이터로 만들거나\n",
    "    - sc.parallelize(리스트)\n",
    "+ 외부 데이터로 만드는 방법 존재\n",
    "    - sc.textFile(경로/파일)"
   ]
  },
  {
   "cell_type": "code",
   "execution_count": null,
   "id": "73b21eb5-7a3c-474b-a25b-8d0eb31142d7",
   "metadata": {},
   "outputs": [],
   "source": [
    "rdd =sc.parallelize(['Hello, World!','Hello, Python!','this is RDD'])"
   ]
  },
  {
   "cell_type": "code",
   "execution_count": null,
   "id": "32a0053c-dd6c-4956-a2c5-1b417d1778f0",
   "metadata": {},
   "outputs": [],
   "source": [
    "rdd.count"
   ]
  },
  {
   "cell_type": "markdown",
   "id": "c20ff66d-4815-4d58-9677-39b3ab29a669",
   "metadata": {},
   "source": [
    "### 직책별 사원수를 조회하는 spark rdd 코드를 작성해보기\n",
    "+ employees.csv를 이용"
   ]
  },
  {
   "cell_type": "code",
   "execution_count": null,
   "id": "e567c2b0-80ab-42e6-9852-a98299b8aa2f",
   "metadata": {},
   "outputs": [],
   "source": [
    "emp = sc.textFile('employees.csv')"
   ]
  },
  {
   "cell_type": "code",
   "execution_count": null,
   "id": "25d6a863-d3a7-4288-8f67-96d58dd91724",
   "metadata": {},
   "outputs": [],
   "source": [
    "emp.collect()[:5]"
   ]
  },
  {
   "cell_type": "markdown",
   "id": "f0cb7b44-6c48-41b8-8734-8023b4281692",
   "metadata": {},
   "source": [
    "#### 헤더를 제외하고 데이터만 골라냄"
   ]
  },
  {
   "cell_type": "code",
   "execution_count": null,
   "id": "332b4918-1009-4389-a3bb-398fcac49317",
   "metadata": {},
   "outputs": [],
   "source": [
    "header = emp.first()"
   ]
  },
  {
   "cell_type": "code",
   "execution_count": null,
   "id": "12450f37-645a-46fe-b46b-17787f97a8ae",
   "metadata": {},
   "outputs": [],
   "source": [
    "emp = emp.filter(lambda x: header != x)"
   ]
  },
  {
   "cell_type": "code",
   "execution_count": null,
   "id": "339bf5d6-b32f-4d38-b2bd-07ba8ad17c93",
   "metadata": {},
   "outputs": [],
   "source": [
    "emp.first()"
   ]
  },
  {
   "cell_type": "markdown",
   "id": "3126f8b4-691f-41ea-8e86-85653f491558",
   "metadata": {},
   "source": [
    "#### 사원 데이터에서 ,로 각 컬럼을 분리split하고 이름과 직책을 추출"
   ]
  },
  {
   "cell_type": "code",
   "execution_count": null,
   "id": "91425a19-289b-40a9-82e0-b1985e6feab5",
   "metadata": {},
   "outputs": [],
   "source": [
    "emp2 = emp.map(lambda x: (x.split(',')[6], x.split(',')[1]))"
   ]
  },
  {
   "cell_type": "code",
   "execution_count": null,
   "id": "c0f46257-c43c-4aa2-a99e-bcf256cafda2",
   "metadata": {},
   "outputs": [],
   "source": [
    "emp2.collect()[:5]"
   ]
  },
  {
   "cell_type": "markdown",
   "id": "ab3aeab7-6d50-4b46-b78f-ccd6f364f06e",
   "metadata": {},
   "source": [
    "#### 추출한 데이터에서 직책을 1로 매핑함"
   ]
  },
  {
   "cell_type": "code",
   "execution_count": null,
   "id": "84fef9ce-0690-4f0d-ae5e-4d478a351a47",
   "metadata": {},
   "outputs": [],
   "source": [
    "maps = emp2.mapValues(lambda x: 1)"
   ]
  },
  {
   "cell_type": "code",
   "execution_count": null,
   "id": "cdfb9139-422d-48db-a715-cbd66984f6cd",
   "metadata": {},
   "outputs": [],
   "source": [
    "maps.collect()[:5]"
   ]
  },
  {
   "cell_type": "markdown",
   "id": "50524694-2b75-4e05-a88b-9e6febf6ceed",
   "metadata": {},
   "source": [
    "#### 같은 직책끼리 모아서 집계처리함 (reduce)"
   ]
  },
  {
   "cell_type": "code",
   "execution_count": null,
   "id": "ec0111df-fd96-4447-a631-443908b1910b",
   "metadata": {},
   "outputs": [],
   "source": [
    "reduces = maps.reduceByKey(lambda x, y: x + y)"
   ]
  },
  {
   "cell_type": "code",
   "execution_count": null,
   "id": "8cc42db9-172e-4284-8682-74ddc3de06f2",
   "metadata": {},
   "outputs": [],
   "source": [
    "reduces.collect()"
   ]
  },
  {
   "cell_type": "markdown",
   "id": "aa374bbf-7522-485d-8dce-82d119fc42f4",
   "metadata": {},
   "source": [
    "#### 타이타닉 승객의 생존자/사망자 수 조회 spark rdd 코드"
   ]
  },
  {
   "cell_type": "code",
   "execution_count": null,
   "id": "b1809f68-3ac4-4800-a567-317981777823",
   "metadata": {},
   "outputs": [],
   "source": [
    "titan = sc.textFile('titanic.csv')"
   ]
  },
  {
   "cell_type": "code",
   "execution_count": null,
   "id": "f8270edf-0e48-4373-b194-51737103e510",
   "metadata": {},
   "outputs": [],
   "source": [
    "titan.collect()[:5]"
   ]
  },
  {
   "cell_type": "code",
   "execution_count": null,
   "id": "75c9126a-d9d4-4f9a-9afb-a747843821a7",
   "metadata": {},
   "outputs": [],
   "source": [
    "headr = titan.first()"
   ]
  },
  {
   "cell_type": "code",
   "execution_count": null,
   "id": "f2f9fa5f-9deb-4955-95d9-186cce1dfaec",
   "metadata": {},
   "outputs": [],
   "source": [
    "titan = titan.filter(lambda x: headr != x)"
   ]
  },
  {
   "cell_type": "code",
   "execution_count": null,
   "id": "a9f7c9e0-274a-4d12-87e5-624f029d35bb",
   "metadata": {},
   "outputs": [],
   "source": [
    "titan.first()"
   ]
  },
  {
   "cell_type": "code",
   "execution_count": null,
   "id": "384899c1-6cb0-4ef4-9b53-31992dcb8fc9",
   "metadata": {},
   "outputs": [],
   "source": [
    "titan2 = titan.map(lambda x: (x.split(',')[11], x.split(',')[2]))"
   ]
  },
  {
   "cell_type": "code",
   "execution_count": null,
   "id": "57eef28d-6b2f-43be-880c-f3c9254ad38b",
   "metadata": {},
   "outputs": [],
   "source": [
    "titan2.collect()[:5]"
   ]
  },
  {
   "cell_type": "code",
   "execution_count": null,
   "id": "520d41c0-66b5-40cc-9e80-a68966c19ab0",
   "metadata": {},
   "outputs": [],
   "source": [
    "maps3 = titan2.mapValues(lambda x: '1')"
   ]
  },
  {
   "cell_type": "code",
   "execution_count": null,
   "id": "33a87b2d-29bc-4324-9e53-9db3ec60c761",
   "metadata": {},
   "outputs": [],
   "source": [
    "maps3.collect()[:5]"
   ]
  },
  {
   "cell_type": "code",
   "execution_count": null,
   "id": "0046c1b6-0546-4752-a502-20d5b6bf3ec0",
   "metadata": {},
   "outputs": [],
   "source": [
    "reduces2 = maps3.reduceByKey(lambda x, y : x + y)"
   ]
  },
  {
   "cell_type": "code",
   "execution_count": null,
   "id": "8f0cf03c-0528-4c1c-b279-87cc06ca3ccd",
   "metadata": {},
   "outputs": [],
   "source": [
    "reduces2.collect()"
   ]
  },
  {
   "cell_type": "code",
   "execution_count": null,
   "id": "f25aa2a3-aabd-4435-a1fb-cb67c11d4b5a",
   "metadata": {},
   "outputs": [],
   "source": [
    "print(reduces2)"
   ]
  },
  {
   "cell_type": "code",
   "execution_count": null,
   "id": "935600a1-94ec-45b8-8b9c-646d73e655bc",
   "metadata": {},
   "outputs": [],
   "source": []
  }
 ],
 "metadata": {
  "kernelspec": {
   "display_name": "Python 3 (ipykernel)",
   "language": "python",
   "name": "python3"
  },
  "language_info": {
   "codemirror_mode": {
    "name": "ipython",
    "version": 3
   },
   "file_extension": ".py",
   "mimetype": "text/x-python",
   "name": "python",
   "nbconvert_exporter": "python",
   "pygments_lexer": "ipython3",
   "version": "3.7.10"
  }
 },
 "nbformat": 4,
 "nbformat_minor": 5
}
