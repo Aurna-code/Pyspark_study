{
 "cells": [
  {
   "cell_type": "code",
   "execution_count": 1,
   "id": "399c13f8-b50f-426f-a731-99d5a6fc13fa",
   "metadata": {},
   "outputs": [],
   "source": [
    "import json\n",
    "from collections import OrderedDict\n",
    "import re\n",
    "import requests\n",
    "from bs4 import BeautifulSoup\n"
   ]
  },
  {
   "cell_type": "markdown",
   "id": "9eb3c2ff-5d4c-44f1-b134-dbdf46834b36",
   "metadata": {},
   "source": [
    "#### yes24 2020년 10월 국내도서 종합 월별 베스트셀러 40권"
   ]
  },
  {
   "cell_type": "code",
   "execution_count": 13,
   "id": "5330cb41-0266-4e5c-ab6d-dbff4217d148",
   "metadata": {},
   "outputs": [],
   "source": [
    "url = 'http://www.yes24.com/24/category/bestseller?CategoryNumber=001&sumgb=09&year=2020&month=10'\n",
    "url2 = 'http://www.yes24.com/24/category/bestseller?CategoryNumber=001&sumgb=09&year=2020&month=10&PageNumber=2'\n",
    "headers = {}"
   ]
  },
  {
   "cell_type": "code",
   "execution_count": 7,
   "id": "486db2df-5414-45c5-a2f9-a78970247014",
   "metadata": {},
   "outputs": [],
   "source": [
    "titles = []\n",
    "writers = []\n",
    "pubs = []\n",
    "prices = []"
   ]
  },
  {
   "cell_type": "code",
   "execution_count": 14,
   "id": "7f0104a8-c3a0-4f9c-b7de-d8dec4c06289",
   "metadata": {},
   "outputs": [],
   "source": [
    "res = requests.get(url, headers=headers)\n",
    "html = BeautifulSoup(res.text, 'lxml')\n",
    "res2 = requests.get(url2, headers=headers)\n",
    "html2 = BeautifulSoup(res2.text, 'lxml')"
   ]
  },
  {
   "cell_type": "code",
   "execution_count": 21,
   "id": "3d4ba1d0-7f63-430a-8945-bf903af7d22a",
   "metadata": {},
   "outputs": [
    {
     "name": "stdout",
     "output_type": "stream",
     "text": [
      "이토록 공부가 재미있어지는 순간 : 공부에 지친 청소년들을 위한 힐링 에세이\n",
      "돈의 속성  : 최상위 부자가 말하는 돈에 대한 모든 것\n",
      "한번도 경험해보지 못한 나라 : \"민주주의는 어떻게 끝장나는가\"\n",
      "아몬드\n",
      "흔한남매의 흔한 호기심 1\n",
      "주식투자 무작정 따라하기 : 100만 왕초보가 감동한 최고의 주식투자 입문서-길벗 무따기\n",
      "심판)\n",
      "존리의 부자되기 습관 : 대한민국 경제독립 액션 플랜\n",
      "이상한 과자 가게 전천당 8\n",
      "김미경의 리부트 : 코로나로 멈춘 나를 다시 일으켜 세우는 법\n",
      "더 해빙 The Having  : 부와 행운을 끌어당기는 힘\n",
      "만남은 지겹고 이별은 지쳤다 : 색과 체 산문집\n",
      "기분이 태도가 되지 않게 : 기분 따라 행동하다 손해 보는 당신을 위한 심리 수업\n",
      "살고 싶다는 농담 : 허지웅 에세이\n",
      "보건교사 안은영 -오늘의 젊은 작가\n",
      "마법천자문 49  : 마주 보는 그림자! 그림자 영!\n",
      "규칙 없음 : 넷플릭스\n",
      "어른의 어휘력 : 말에 품격을 더하고 세상을 올바르게 이해하는 힘\n",
      "완전학습 바이블 : 배운 것을 100% 이해하는 후천적 공부머리의 비밀\n",
      "알사탕-그림책이 참 좋아 039\n"
     ]
    }
   ],
   "source": [
    "for title in html.select('td.goodsTxtInfo p:nth-child(1)'):\n",
    "    title = re.sub('\\[도서\\]', '', title.text)\n",
    "    title = re.sub('\\(.*?\\)', '', title)\n",
    "    title = (title.split(',')[0]).strip()\n",
    "    titles.append(title)\n",
    "    print(title)"
   ]
  },
  {
   "cell_type": "code",
   "execution_count": 28,
   "id": "f54fa3d5-92f5-4320-a4fc-fd2795bac918",
   "metadata": {},
   "outputs": [
    {
     "name": "stdout",
     "output_type": "stream",
     "text": [
      "애쓰지 않고 편안하게\n",
      "코로나 사피엔스 : 문명의 대전환, 대한민국 대표 석학 6인이 신인류의 미래를 말한다-문재인 대통령 2020년 독서의 달 추천도서\n",
      "철학의 숲 : 동화와 신화 속에 숨겨진 26가지 생각씨앗을 찾아서\n",
      "부의 대이동 : 달러와 금의 흐름으로 읽는 미래 투자 전략\n",
      "설민석의 세계사 대모험 6 : 인디펜던스 데이\n",
      "마음챙김의 시\n",
      "상관없는 거 아닌가? : 장기하 산문\n",
      "Go Go 카카오프렌즈 16 베트남\n",
      "해커스 토익 기출 보카 : 주제별 연상암기로 토익 영단어 30일 완성! -해커스 신토익\n",
      "장군이네 떡집-난 책읽기가 좋아\n",
      "나는 너를 펭랑해 : 펭수 엽서책\n",
      "공부란 무엇인가\n",
      "소원 떡집\n",
      "달 샤베트-그림책이 참 좋아 019\n",
      "초격차 : 리더의 질문 : 위기와 기회의 시대, 기업의 길을 묻다\n",
      "큰별쌤 최태성의 별★별 한국사 한국사능력검정시험 심화\n",
      "주식 부자 프로젝트 : 하루 만 원으로 시작하는\n",
      "CHANGE 9  : 포노 사피엔스 코드\n",
      "큰별쌤 최태성의 별★별 한국사 한국사능력검정시험 심화\n",
      "설민석의 한국사 대모험 14 : 명의 허준 편 : 안녕, 로빈!\n"
     ]
    }
   ],
   "source": [
    "for title in html2.select('td.goodsTxtInfo p:nth-child(1)'):\n",
    "    title = re.sub('\\[도서\\]', '', title.text)\n",
    "    title = re.sub('\\(.*?\\)', '', title)\n",
    "    title = re.sub('\\)', '', title).strip()\n",
    "    titles.append(title)\n",
    "    print(title)"
   ]
  },
  {
   "cell_type": "code",
   "execution_count": 29,
   "id": "32296b3c-b948-4f31-8db8-dad7907f1b3c",
   "metadata": {},
   "outputs": [
    {
     "name": "stdout",
     "output_type": "stream",
     "text": [
      "박성혁\n",
      "김승호\n",
      "강양구\n",
      "손원평\n",
      "흔한남매\n",
      "윤재수\n",
      "베르나르 베르베르\n",
      "존리\n",
      "히로시마 레이코\n",
      "김미경\n",
      "이서윤\n",
      "색과 체\n",
      "레몬심리\n",
      "허지웅\n",
      "정세랑\n",
      "유대영\n",
      "리드 헤이스팅스\n",
      "유선경\n",
      "임작가\n",
      "백희나\n"
     ]
    }
   ],
   "source": [
    "for writer in html.select('div.aupu a:nth-child(1)'):\n",
    "    writer = (writer.text).strip()\n",
    "    writers.append(writer)\n",
    "    print(writer)"
   ]
  },
  {
   "cell_type": "code",
   "execution_count": 30,
   "id": "4655d4a6-4a7e-4ae4-8171-caf29946a04e",
   "metadata": {},
   "outputs": [
    {
     "name": "stdout",
     "output_type": "stream",
     "text": [
      "김수현\n",
      "최재천\n",
      "브렌던 오도너휴\n",
      "오건영\n",
      "설민석\n",
      "류시화\n",
      "장기하\n",
      "김미영\n",
      "데이비드 조\n",
      "김리리\n",
      "EBS\n",
      "김영민\n",
      "김리리\n",
      "백희나\n",
      "권오현\n",
      "최태성\n",
      "채상욱\n",
      "최재붕\n",
      "최태성\n",
      "설민석\n"
     ]
    }
   ],
   "source": [
    "for writer in html2.select('div.aupu a:nth-child(1)'):\n",
    "    writer = (writer.text).strip()\n",
    "    writers.append(writer)\n",
    "    print(writer)"
   ]
  },
  {
   "cell_type": "code",
   "execution_count": 39,
   "id": "4e4135ed-0c9b-43e9-9a81-b3a6c93c9640",
   "metadata": {},
   "outputs": [],
   "source": []
  },
  {
   "cell_type": "code",
   "execution_count": 51,
   "id": "ece62b69-df11-4468-ac28-6fde08225f13",
   "metadata": {},
   "outputs": [
    {
     "name": "stdout",
     "output_type": "stream",
     "text": [
      "다산북스\n",
      "스노우폭스북스\n",
      "천년의상상\n",
      "창비\n",
      "미래엔아이세움\n",
      "길벗\n",
      "열린책들\n",
      "지식노마드\n",
      "길벗스쿨\n",
      "웅진지식하우스\n",
      "수오서재\n",
      "떠오름\n",
      "갤리온\n",
      "웅진지식하우스\n",
      "민음사\n",
      "아울북\n",
      "알에이치코리아(RHK)\n",
      "앤의서재\n",
      "다산에듀\n",
      "책읽는곰\n"
     ]
    }
   ],
   "source": [
    "for pub in html.select('div.aupu'):\n",
    "    pub = (pub.text.split('|')[1].strip())\n",
    "    pubs.append(pub)\n",
    "    print(pub)"
   ]
  },
  {
   "cell_type": "code",
   "execution_count": 52,
   "id": "edc885e4-665a-41f1-91a6-16992a9c1b15",
   "metadata": {},
   "outputs": [
    {
     "name": "stdout",
     "output_type": "stream",
     "text": [
      "놀\n",
      "인플루엔셜\n",
      "포레스트북스\n",
      "페이지2\n",
      "단꿈아이\n",
      "수오서재\n",
      "문학동네\n",
      "아울북\n",
      "해커스어학연구소\n",
      "비룡소\n",
      "EBS BOOKS\n",
      "어크로스\n",
      "비룡소\n",
      "책읽는곰\n",
      "쌤앤파커스\n",
      "이투스북\n",
      "비에이블\n",
      "쌤앤파커스\n",
      "이투스북\n",
      "아이휴먼\n"
     ]
    }
   ],
   "source": [
    "for pub in html2.select('div.aupu'):\n",
    "    pub = (pub.text.split('|')[1].strip())\n",
    "    pubs.append(pub)\n",
    "    print(pub)"
   ]
  },
  {
   "cell_type": "code",
   "execution_count": 53,
   "id": "2222204a-7edc-45b4-a58a-718232ba84a3",
   "metadata": {},
   "outputs": [
    {
     "name": "stdout",
     "output_type": "stream",
     "text": [
      "['다산북스', '스노우폭스북스', '권경애', '창비', '안치현', '길벗', '전미연', '지식노마드', '쟈쟈', '웅진지식하우스', '홍주연', '떠오름', '박영란', '웅진지식하우스', '민음사', '홍거북', '에린 마이어', '앤의서재', '다산에듀', '책읽는곰', '다산북스', '스노우폭스북스', '권경애', '창비', '안치현', '길벗', '전미연', '지식노마드', '쟈쟈', '웅진지식하우스', '홍주연', '떠오름', '박영란', '웅진지식하우스', '민음사', '홍거북', '에린 마이어', '앤의서재', '다산에듀', '책읽는곰', '다산북스', '스노우폭스북스', '천년의상상', '창비', '미래엔아이세움', '길벗', '열린책들', '지식노마드', '길벗스쿨', '웅진지식하우스', '수오서재', '떠오름', '갤리온', '웅진지식하우스', '민음사', '아울북', '알에이치코리아(RHK)', '앤의서재', '다산에듀', '책읽는곰', '놀', '인플루엔셜', '포레스트북스', '페이지2', '단꿈아이', '수오서재', '문학동네', '아울북', '해커스어학연구소', '비룡소', 'EBS BOOKS', '어크로스', '비룡소', '책읽는곰', '쌤앤파커스', '이투스북', '비에이블', '쌤앤파커스', '이투스북', '아이휴먼', '다산북스', '스노우폭스북스', '천년의상상', '창비', '미래엔아이세움', '길벗', '열린책들', '지식노마드', '길벗스쿨', '웅진지식하우스', '수오서재', '떠오름', '갤리온', '웅진지식하우스', '민음사', '아울북', '알에이치코리아(RHK)', '앤의서재', '다산에듀', '책읽는곰', '놀', '인플루엔셜', '포레스트북스', '페이지2', '단꿈아이', '수오서재', '문학동네', '아울북', '해커스어학연구소', '비룡소', 'EBS BOOKS', '어크로스', '비룡소', '책읽는곰', '쌤앤파커스', '이투스북', '비에이블', '쌤앤파커스', '이투스북', '아이휴먼']\n"
     ]
    }
   ],
   "source": [
    "print(pubs)"
   ]
  },
  {
   "cell_type": "code",
   "execution_count": 50,
   "id": "7e53865a-7b09-4170-a7ca-cc8bf7bf2ea5",
   "metadata": {},
   "outputs": [
    {
     "name": "stdout",
     "output_type": "stream",
     "text": [
      "15,000원 →13,500원(10% 할인) | YES포인트 750원(5% 지급)\n",
      "16,800원 →15,120원(10% 할인) | YES포인트 840원(5% 지급)\n",
      "17,800원 →16,020원(10% 할인) | YES포인트 890원(5% 지급)\n",
      "12,000원 →10,800원(10% 할인) | YES포인트 600원(5% 지급)\n",
      "12,000원 →10,800원(10% 할인) | YES포인트 600원(5% 지급)\n",
      "18,000원 →16,200원(10% 할인) | YES포인트 900원(5% 지급)\n",
      "12,800원 →11,520원(10% 할인) | YES포인트 640원(5% 지급)\n",
      "15,000원 →13,500원(10% 할인) | YES포인트 750원(5% 지급)\n",
      "12,000원 →10,800원(10% 할인) | YES포인트 600원(5% 지급)\n",
      "16,000원 →14,400원(10% 할인) | YES포인트 800원(5% 지급)\n",
      "16,000원 →14,400원(10% 할인) | YES포인트 800원(5% 지급)\n",
      "13,800원 →12,420원(10% 할인) | YES포인트 690원(5% 지급)\n",
      "14,000원 →12,600원(10% 할인) | YES포인트 700원(5% 지급)\n",
      "16,000원 →14,400원(10% 할인) | YES포인트 800원(5% 지급)\n",
      "14,000원 →12,600원(10% 할인) | YES포인트 700원(5% 지급)\n",
      "12,000원 →10,800원(10% 할인) | YES포인트 600원(5% 지급)\n",
      "25,000원 →22,500원(10% 할인) | YES포인트 1,250원(5% 지급)\n",
      "16,500원 →14,850원(10% 할인) | YES포인트 820원(5% 지급)\n",
      "17,000원 →15,300원(10% 할인) | YES포인트 850원(5% 지급)\n",
      "12,000원 →10,800원(10% 할인) | YES포인트 600원(5% 지급)\n"
     ]
    }
   ],
   "source": [
    "for price in html.select('td.goodsTxtInfo p:nth-child(3)'):\n",
    "    # price = re.sub(',','',price.text)\n",
    "    # price = re.sub('\\(.*?\\)', '', price)\n",
    "    # price = re.sub('원','', price).strip()\n",
    "    #price = (price.text.split('원')[0]).strip()\n",
    "    #price = re.sub(',','',price)\n",
    "    #prices.append(price)\n",
    "    price = (price.text.split('→')[0].strip())\n",
    "    price = re.sub('원','', price).strip()\n",
    "    print(price)"
   ]
  },
  {
   "cell_type": "code",
   "execution_count": null,
   "id": "2b27fc4c-01aa-4739-82bd-bb5adfd1535f",
   "metadata": {},
   "outputs": [],
   "source": []
  },
  {
   "cell_type": "code",
   "execution_count": null,
   "id": "a68f14be-7a2a-4be1-a7ce-239102d00f43",
   "metadata": {},
   "outputs": [],
   "source": []
  },
  {
   "cell_type": "code",
   "execution_count": null,
   "id": "ba374399-b63b-41a9-9e85-edc4ac698865",
   "metadata": {},
   "outputs": [],
   "source": []
  },
  {
   "cell_type": "code",
   "execution_count": null,
   "id": "8c74390b-4bd2-4fa8-b984-660c4f72a848",
   "metadata": {},
   "outputs": [],
   "source": []
  },
  {
   "cell_type": "code",
   "execution_count": null,
   "id": "be2ba7c9-f3e1-4ca4-91a9-a7342c3265ab",
   "metadata": {},
   "outputs": [],
   "source": []
  },
  {
   "cell_type": "code",
   "execution_count": null,
   "id": "e906dc51-7b40-4a35-8a62-54dd00fb6ec8",
   "metadata": {},
   "outputs": [],
   "source": []
  },
  {
   "cell_type": "code",
   "execution_count": null,
   "id": "8f9b9b6d-2820-4dd6-b375-a772adaa2995",
   "metadata": {},
   "outputs": [],
   "source": []
  },
  {
   "cell_type": "code",
   "execution_count": null,
   "id": "3416e93e-c563-43ee-a9fb-fcb0ba6cc6b1",
   "metadata": {},
   "outputs": [],
   "source": []
  },
  {
   "cell_type": "code",
   "execution_count": null,
   "id": "0d25b71d-e0ab-4f01-bc47-638eb8ad2034",
   "metadata": {},
   "outputs": [],
   "source": []
  },
  {
   "cell_type": "code",
   "execution_count": null,
   "id": "e92a7b26-bda9-4abe-9403-5944b538ece5",
   "metadata": {},
   "outputs": [],
   "source": []
  },
  {
   "cell_type": "code",
   "execution_count": null,
   "id": "6219a8d5-aeaf-40a9-b1c0-7d320cee4a18",
   "metadata": {},
   "outputs": [],
   "source": []
  },
  {
   "cell_type": "code",
   "execution_count": null,
   "id": "fe681499-a3f1-4167-b9c5-fd7268b2a65d",
   "metadata": {},
   "outputs": [],
   "source": []
  },
  {
   "cell_type": "code",
   "execution_count": null,
   "id": "fd1e4bfb-13f2-40ca-9885-d151a1f0006b",
   "metadata": {},
   "outputs": [],
   "source": []
  }
 ],
 "metadata": {
  "kernelspec": {
   "display_name": "Python 3 (ipykernel)",
   "language": "python",
   "name": "python3"
  },
  "language_info": {
   "codemirror_mode": {
    "name": "ipython",
    "version": 3
   },
   "file_extension": ".py",
   "mimetype": "text/x-python",
   "name": "python",
   "nbconvert_exporter": "python",
   "pygments_lexer": "ipython3",
   "version": "3.7.10"
  }
 },
 "nbformat": 4,
 "nbformat_minor": 5
}
