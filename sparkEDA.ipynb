{
 "cells": [
  {
   "cell_type": "markdown",
   "id": "284e3e81-c818-46d3-89a0-214c380aafa0",
   "metadata": {},
   "source": [
    "## 탐색적 분석\n",
    "+ exploratory data analysis : EDA\n",
    "+ 본격적인 데이터 분석 전에 데이터의 각 컬럼에 대한 이해와 데이터의 결측치, 이상치 처리 및 필터링을 수행\n",
    "+ 누구나 이해하기 쉬운 시각화 수행 과정"
   ]
  },
  {
   "cell_type": "code",
   "execution_count": 1,
   "id": "7ff54d89-bdbd-44f2-9eb9-c6d1c8baf62b",
   "metadata": {},
   "outputs": [
    {
     "ename": "NameError",
     "evalue": "name 'spark' is not defined",
     "output_type": "error",
     "traceback": [
      "\u001b[0;31m---------------------------------------------------------------------------\u001b[0m",
      "\u001b[0;31mNameError\u001b[0m                                 Traceback (most recent call last)",
      "\u001b[0;32m/tmp/ipykernel_17488/4194524621.py\u001b[0m in \u001b[0;36m<module>\u001b[0;34m\u001b[0m\n\u001b[0;32m----> 1\u001b[0;31m \u001b[0miris\u001b[0m \u001b[0;34m=\u001b[0m \u001b[0mspark\u001b[0m\u001b[0;34m.\u001b[0m\u001b[0mread\u001b[0m\u001b[0;34m.\u001b[0m\u001b[0mcsv\u001b[0m\u001b[0;34m(\u001b[0m\u001b[0;34m\"iris.csv\"\u001b[0m\u001b[0;34m,\u001b[0m \u001b[0mheader\u001b[0m\u001b[0;34m=\u001b[0m\u001b[0;32mFalse\u001b[0m\u001b[0;34m,\u001b[0m \u001b[0minferSchema\u001b[0m\u001b[0;34m=\u001b[0m\u001b[0;32mTrue\u001b[0m\u001b[0;34m)\u001b[0m\u001b[0;34m\u001b[0m\u001b[0;34m\u001b[0m\u001b[0m\n\u001b[0m",
      "\u001b[0;31mNameError\u001b[0m: name 'spark' is not defined"
     ]
    }
   ],
   "source": [
    "iris = spark.read.csv(\"iris.csv\", header=False, inferSchema=True)"
   ]
  },
  {
   "cell_type": "code",
   "execution_count": 2,
   "id": "0ba306ed-7a2f-46bd-bf63-e6608631ba42",
   "metadata": {},
   "outputs": [],
   "source": [
    "import pandas as pd"
   ]
  },
  {
   "cell_type": "code",
   "execution_count": 3,
   "id": "3aaf84a6-e8cd-4b7a-b159-4de8359976b8",
   "metadata": {},
   "outputs": [],
   "source": [
    "import numpy as np"
   ]
  },
  {
   "cell_type": "code",
   "execution_count": 4,
   "id": "6cd32125-8217-4507-9099-f54365f8405b",
   "metadata": {},
   "outputs": [],
   "source": [
    "import seaborn as sns"
   ]
  },
  {
   "cell_type": "code",
   "execution_count": 5,
   "id": "1a602123-eed1-4dc9-b361-d5cc300723cf",
   "metadata": {},
   "outputs": [],
   "source": [
    "import matplotlib.pyplot as plt"
   ]
  },
  {
   "cell_type": "code",
   "execution_count": 13,
   "id": "bd851b45-fa7b-443d-84ab-866e0b74d4cb",
   "metadata": {},
   "outputs": [],
   "source": [
    "from pyspark.sql.functions import col"
   ]
  },
  {
   "cell_type": "code",
   "execution_count": null,
   "id": "24da4701-0458-4851-a4e0-e5418369879a",
   "metadata": {},
   "outputs": [],
   "source": [
    "iris.show(5)"
   ]
  },
  {
   "cell_type": "code",
   "execution_count": null,
   "id": "b3ca097f-cdcf-4502-bf35-d2e144682321",
   "metadata": {},
   "outputs": [],
   "source": [
    "iris = iris.withColumnRenamed('_c0', 'Sepal Length').withColumnRenamed('_c1', 'Sepal Width')\\\n",
    ".withColumnRenamed('_c2', 'Petal Length').withColumnRenamed('_c3', 'Petal Width').withColumnRenamed('_c4', 'Species')"
   ]
  },
  {
   "cell_type": "code",
   "execution_count": null,
   "id": "7b565948-3ba0-4f08-80b2-671c72a1f52d",
   "metadata": {},
   "outputs": [],
   "source": [
    "iris.show(5)"
   ]
  },
  {
   "cell_type": "markdown",
   "id": "4d3a1901-2469-4514-8427-5b68aec23ad4",
   "metadata": {},
   "source": [
    "### 데이터분석 함수 : avg, max, min, sum, count"
   ]
  },
  {
   "cell_type": "markdown",
   "id": "80bf31c5-e00a-4084-ac02-681fa54e550d",
   "metadata": {},
   "source": [
    "### agg({컬럼명:집계함수})"
   ]
  },
  {
   "cell_type": "code",
   "execution_count": null,
   "id": "b168acc6-e2c6-4c7d-94f8-346da123e8c8",
   "metadata": {},
   "outputs": [],
   "source": [
    "meanVals = iris.agg({'Sepal Length':'avg','Sepal Width':'avg'})"
   ]
  },
  {
   "cell_type": "code",
   "execution_count": null,
   "id": "45a7f73d-bf83-423a-8c9c-5aea98e1a7f0",
   "metadata": {},
   "outputs": [],
   "source": [
    "meanVals.show()"
   ]
  },
  {
   "cell_type": "code",
   "execution_count": null,
   "id": "f79ec256-b863-477b-b283-d097754e458f",
   "metadata": {},
   "outputs": [],
   "source": [
    "maxVals = iris.agg({'Sepal Length':'max', 'Petal Length':'max'})"
   ]
  },
  {
   "cell_type": "code",
   "execution_count": null,
   "id": "cc218152-8f24-41c1-84e4-f483fb12358d",
   "metadata": {},
   "outputs": [],
   "source": []
  },
  {
   "cell_type": "code",
   "execution_count": null,
   "id": "4ba6192c-f170-4fe0-b4b5-8b4eb6c38207",
   "metadata": {},
   "outputs": [],
   "source": []
  },
  {
   "cell_type": "markdown",
   "id": "c632469b-0a4a-404d-ad9c-7852560db834",
   "metadata": {},
   "source": [
    "### 데이터분석 함수2 : var_samp, stddev_samp, cor, corr"
   ]
  },
  {
   "cell_type": "code",
   "execution_count": null,
   "id": "59485b44-5b70-41b6-bd18-da526d381cd5",
   "metadata": {},
   "outputs": [],
   "source": [
    "varVals = iris.agg({'Sepal Length':'var_samp','Sepal Width' : 'var_samp'})"
   ]
  },
  {
   "cell_type": "code",
   "execution_count": null,
   "id": "fdb1231a-b90f-4552-ae22-7c904927bbce",
   "metadata": {},
   "outputs": [],
   "source": [
    "varVals.show() # 표본분산"
   ]
  },
  {
   "cell_type": "code",
   "execution_count": null,
   "id": "707da51a-f39b-4b69-86a2-bc4fb5728494",
   "metadata": {},
   "outputs": [],
   "source": [
    "stddevVals = iris.agg({'Sepal Length':'stddev_samp','Sepal Width' : 'stddev_samp'})"
   ]
  },
  {
   "cell_type": "code",
   "execution_count": null,
   "id": "031f667d-ceff-4d68-88d9-e67ba04d823a",
   "metadata": {},
   "outputs": [],
   "source": [
    "stddevVals.show() # 표본표준편차"
   ]
  },
  {
   "cell_type": "code",
   "execution_count": null,
   "id": "71ead3c2-9c11-4aa3-9820-a2b0f829844e",
   "metadata": {},
   "outputs": [],
   "source": [
    "covVals = iris.cov('Sepal Length', 'Sepal Width')"
   ]
  },
  {
   "cell_type": "code",
   "execution_count": null,
   "id": "31923577-d6cf-4387-9bfd-753df4a12267",
   "metadata": {},
   "outputs": [],
   "source": [
    "covVals # 공분산 : 두 변수간의 선형관계"
   ]
  },
  {
   "cell_type": "code",
   "execution_count": null,
   "id": "aa07ac5d-1540-4778-9284-3d858c8a4a51",
   "metadata": {},
   "outputs": [],
   "source": []
  },
  {
   "cell_type": "code",
   "execution_count": null,
   "id": "e6a8cfaf-39c5-45be-a829-e4b671bad760",
   "metadata": {},
   "outputs": [],
   "source": [
    "corrVals = iris.corr('Sepal Length', 'Sepal Width')"
   ]
  },
  {
   "cell_type": "code",
   "execution_count": null,
   "id": "e9bd11a0-a6b6-4b7c-847d-3fc9d71cb4e9",
   "metadata": {},
   "outputs": [],
   "source": [
    "corrVals #상관계수 : 두 변수간의 상관관계"
   ]
  },
  {
   "cell_type": "markdown",
   "id": "65b71bb3-4954-4483-a0ca-39b334e75b19",
   "metadata": {},
   "source": [
    "### 데이터의 외형 확인\n",
    "+ 산점도 : plot(x변수, y변수, 그래프옵션)"
   ]
  },
  {
   "cell_type": "markdown",
   "id": "bb1b0a79-691f-48cd-8cc8-fda1a9a6d439",
   "metadata": {},
   "source": []
  },
  {
   "cell_type": "code",
   "execution_count": null,
   "id": "ea557ce6-d59d-4587-ad89-e79814dae55c",
   "metadata": {},
   "outputs": [],
   "source": [
    "iris2 = iris.toPandas()"
   ]
  },
  {
   "cell_type": "code",
   "execution_count": 18,
   "id": "22c69f08-97bd-41dd-9141-f8f6d03fc154",
   "metadata": {},
   "outputs": [
    {
     "data": {
      "text/plain": [
       "[<matplotlib.lines.Line2D at 0x7f8ed3f7f390>]"
      ]
     },
     "execution_count": 18,
     "metadata": {},
     "output_type": "execute_result"
    },
    {
     "data": {
      "image/png": "[encoded data removed]",
      "text/plain": [
       "<Figure size 432x288 with 1 Axes>"
      ]
     },
     "metadata": {
      "needs_background": "light"
     },
     "output_type": "display_data"
    }
   ],
   "source": [
    "plt.plot(iris2['Sepal Length'], iris2['Sepal Width'])"
   ]
  },
  {
   "cell_type": "code",
   "execution_count": 19,
   "id": "e4ca9f01-4faa-487a-8879-f97113241222",
   "metadata": {},
   "outputs": [
    {
     "data": {
      "text/plain": [
       "[<matplotlib.lines.Line2D at 0x7f8ed4a48a50>]"
      ]
     },
     "execution_count": 19,
     "metadata": {},
     "output_type": "execute_result"
    },
    {
     "data": {
      "image/png": "[encoded data removed]",
      "text/plain": [
       "<Figure size 432x288 with 1 Axes>"
      ]
     },
     "metadata": {
      "needs_background": "light"
     },
     "output_type": "display_data"
    }
   ],
   "source": [
    "plt.plot(iris2['Sepal Length'], iris2['Sepal Width'], 'o')"
   ]
  },
  {
   "cell_type": "code",
   "execution_count": null,
   "id": "a58bbc59-eec6-44f3-bbfd-72d017eab57c",
   "metadata": {},
   "outputs": [],
   "source": [
    "plt.plot(iris2['Sepal Length'], iris2['Sepal Width'], 'or')"
   ]
  },
  {
   "cell_type": "code",
   "execution_count": null,
   "id": "57f94017-d732-49f7-89b2-e2c790d40fc2",
   "metadata": {},
   "outputs": [],
   "source": [
    "covVals2 = iris.cov('Petal Length', 'Petal Width')"
   ]
  },
  {
   "cell_type": "code",
   "execution_count": null,
   "id": "a91a6f1f-6bb2-4e25-8047-30844300fd28",
   "metadata": {},
   "outputs": [],
   "source": [
    "covVals2"
   ]
  },
  {
   "cell_type": "code",
   "execution_count": null,
   "id": "2bbb1a43-1bea-407d-a3cd-b427dfd4f160",
   "metadata": {},
   "outputs": [],
   "source": [
    "corrVals2 = iris.corr('Petal Length', 'Petal Width')"
   ]
  },
  {
   "cell_type": "code",
   "execution_count": null,
   "id": "b5e94bdf-9498-4dbb-a53d-4c9b6fd028bf",
   "metadata": {},
   "outputs": [],
   "source": [
    "corrVals2"
   ]
  },
  {
   "cell_type": "code",
   "execution_count": null,
   "id": "9707b3e6-3caf-4714-9bf1-ed221e80c838",
   "metadata": {},
   "outputs": [],
   "source": [
    "plt.plot(iris2['Petal Length'], iris2['Petal Width'], 'or')"
   ]
  },
  {
   "cell_type": "markdown",
   "id": "0cf2a84d-8144-44ae-9ab5-ce5f7bf0570f",
   "metadata": {},
   "source": [
    "### 범주형 데이터 : 막대그래프"
   ]
  },
  {
   "cell_type": "code",
   "execution_count": null,
   "id": "c6ee04f0-2762-4b78-b429-4d72e8dc63e7",
   "metadata": {},
   "outputs": [],
   "source": [
    "sns.countplot(data=iris2, x='Species')"
   ]
  },
  {
   "cell_type": "markdown",
   "id": "343eaa36-d5d5-4752-b307-90b231f8e502",
   "metadata": {},
   "source": [
    "### 연속형 데이터 : 히스토그램\n",
    "+ hist(대상컬럼, 옵션)"
   ]
  },
  {
   "cell_type": "code",
   "execution_count": null,
   "id": "9a8df864-30dc-415c-85a3-82862f1cd4dd",
   "metadata": {},
   "outputs": [],
   "source": [
    "plt.hist(iris2['Sepal Length'])"
   ]
  },
  {
   "cell_type": "markdown",
   "id": "3a04ed64-861e-4cbc-a2d1-82b9a9df39ec",
   "metadata": {},
   "source": [
    "### 확률밀도 그래프 : kde\n",
    "+ kdeplot(변수, 데이터객체)"
   ]
  },
  {
   "cell_type": "code",
   "execution_count": null,
   "id": "b0b477d8-7c0b-42c9-b96d-9b81bbf2e65a",
   "metadata": {},
   "outputs": [],
   "source": [
    "sns.kdeplot(data=iris2, x='Sepal Length')"
   ]
  },
  {
   "cell_type": "markdown",
   "id": "58c8a9e9-c7a0-4479-9b1a-8c7104b04be8",
   "metadata": {},
   "source": [
    "### 데이터분석 함수3 : summary, describe"
   ]
  },
  {
   "cell_type": "code",
   "execution_count": null,
   "id": "105e3406-cf8f-4c34-af0c-c598b82419aa",
   "metadata": {},
   "outputs": [],
   "source": [
    "iris.summary().show()"
   ]
  },
  {
   "cell_type": "code",
   "execution_count": null,
   "id": "6e3845d5-c689-479c-802d-8180244f9eaa",
   "metadata": {},
   "outputs": [],
   "source": [
    "iris.select(col('Sepal Length'), col('Sepal Width')).summary(['count', 'mean', 'min', 'max']).show()"
   ]
  },
  {
   "cell_type": "code",
   "execution_count": null,
   "id": "3a4beb6b-e492-4760-9076-c651c94dc8ce",
   "metadata": {},
   "outputs": [],
   "source": [
    "iris.describe().show()"
   ]
  },
  {
   "cell_type": "code",
   "execution_count": null,
   "id": "ca179dd4-4a5e-4ea5-a091-4875430de187",
   "metadata": {},
   "outputs": [],
   "source": [
    "iris.describe(['Sepal Length', 'Sepal Width']).show()"
   ]
  },
  {
   "cell_type": "code",
   "execution_count": 7,
   "id": "44156a70-fd0a-4fb1-a0a0-2e1e9b61fb7d",
   "metadata": {},
   "outputs": [],
   "source": [
    "loan = spark.read.csv(\"loan.csv\", header=True, inferSchema=True)"
   ]
  },
  {
   "cell_type": "code",
   "execution_count": 8,
   "id": "f96b6927-f0fd-4b6d-862c-e633131dfd64",
   "metadata": {},
   "outputs": [
    {
     "name": "stdout",
     "output_type": "stream",
     "text": [
      "+-------+------------+-------------+-----------------------+-----------------------------------------------+-------------+---------------+-----------+-------------+---+----------------+-----+\n",
      "|loan_id|loan_purpose|is_first_loan|total_credit_card_limit|avg_percentage_credit_card_limit_used_last_year|saving_amount|checking_amount|is_employed|yearly_salary|age|dependent_number|label|\n",
      "+-------+------------+-------------+-----------------------+-----------------------------------------------+-------------+---------------+-----------+-------------+---+----------------+-----+\n",
      "|    A_1|    personal|            1|                   7900|                                            0.8|         1103|           6393|          1|        16400| 42|               4|    0|\n",
      "|    A_2|    personal|            0|                   3300|                                           0.29|         2588|            832|          1|        75500| 56|               1|    0|\n",
      "|    A_3|    personal|            0|                   7600|                                            0.9|         1651|           8868|          1|        59000| 46|               1|    0|\n",
      "|    A_4|    personal|            1|                   3400|                                           0.38|         1269|           6863|          1|        26000| 55|               8|    0|\n",
      "|    A_5|   emergency|            0|                   2600|                                           0.89|         1310|           3423|          1|         9700| 41|               4|    1|\n",
      "+-------+------------+-------------+-----------------------+-----------------------------------------------+-------------+---------------+-----------+-------------+---+----------------+-----+\n",
      "only showing top 5 rows\n",
      "\n"
     ]
    }
   ],
   "source": [
    "loan.show(5)"
   ]
  },
  {
   "cell_type": "code",
   "execution_count": 9,
   "id": "94196855-1855-47fc-b492-d03d5ed8d4cf",
   "metadata": {},
   "outputs": [],
   "source": [
    "loan2 = loan.toPandas()"
   ]
  },
  {
   "cell_type": "code",
   "execution_count": null,
   "id": "1e4e10ad-4705-4394-ab5a-ea024f09310d",
   "metadata": {},
   "outputs": [],
   "source": [
    "loan2.describe()"
   ]
  },
  {
   "cell_type": "code",
   "execution_count": 15,
   "id": "9d1d051c-e6ca-4e52-88fa-9f79fa069c67",
   "metadata": {},
   "outputs": [
    {
     "data": {
      "text/plain": [
       "<AxesSubplot:xlabel='label', ylabel='count'>"
      ]
     },
     "execution_count": 15,
     "metadata": {},
     "output_type": "execute_result"
    },
    {
     "data": {
      "image/png": "[encoded data removed]",
      "text/plain": [
       "<Figure size 432x288 with 1 Axes>"
      ]
     },
     "metadata": {
      "needs_background": "light"
     },
     "output_type": "display_data"
    }
   ],
   "source": [
    "sns.countplot(data=loan2, x='label')"
   ]
  },
  {
   "cell_type": "code",
   "execution_count": 18,
   "id": "a9b05944-68de-4f89-abe0-96f591b9aef7",
   "metadata": {},
   "outputs": [
    {
     "name": "stdout",
     "output_type": "stream",
     "text": [
      "+------------+-----+\n",
      "|loan_purpose|count|\n",
      "+------------+-----+\n",
      "|      others| 6763|\n",
      "|   emergency| 7562|\n",
      "|    property|11388|\n",
      "|  operations|10580|\n",
      "|    personal|10458|\n",
      "+------------+-----+\n",
      "\n"
     ]
    }
   ],
   "source": [
    "loan.groupBy('loan_purpose').count().show()"
   ]
  },
  {
   "cell_type": "code",
   "execution_count": 19,
   "id": "6f7bf841-f0a6-4af0-8871-0fcc714bbf3f",
   "metadata": {},
   "outputs": [
    {
     "data": {
      "text/plain": [
       "<AxesSubplot:xlabel='loan_purpose', ylabel='count'>"
      ]
     },
     "execution_count": 19,
     "metadata": {},
     "output_type": "execute_result"
    },
    {
     "data": {
      "image/png": "[encoded data removed]",
      "text/plain": [
       "<Figure size 432x288 with 1 Axes>"
      ]
     },
     "metadata": {
      "needs_background": "light"
     },
     "output_type": "display_data"
    }
   ],
   "source": [
    "sns.countplot(data=loan2, x='loan_purpose')"
   ]
  },
  {
   "cell_type": "code",
   "execution_count": 20,
   "id": "92312e29-a3a7-4184-9ec8-3eb761720a24",
   "metadata": {},
   "outputs": [
    {
     "name": "stdout",
     "output_type": "stream",
     "text": [
      "+-------------+-----+\n",
      "|is_first_loan|count|\n",
      "+-------------+-----+\n",
      "|            1|25313|\n",
      "|            0|21438|\n",
      "+-------------+-----+\n",
      "\n"
     ]
    }
   ],
   "source": [
    "loan.groupBy('is_first_loan').count().show()"
   ]
  },
  {
   "cell_type": "code",
   "execution_count": 21,
   "id": "ac5af6d6-371c-4980-beee-c73f5e5b3539",
   "metadata": {},
   "outputs": [
    {
     "data": {
      "text/plain": [
       "<AxesSubplot:xlabel='is_first_loan', ylabel='count'>"
      ]
     },
     "execution_count": 21,
     "metadata": {},
     "output_type": "execute_result"
    },
    {
     "data": {
      "image/png": "[encoded data removed]",
      "text/plain": [
       "<Figure size 432x288 with 1 Axes>"
      ]
     },
     "metadata": {
      "needs_background": "light"
     },
     "output_type": "display_data"
    }
   ],
   "source": [
    "sns.countplot(data=loan2, x='is_first_loan')"
   ]
  },
  {
   "cell_type": "code",
   "execution_count": 23,
   "id": "533c04b9-fb90-4aaf-b228-2f4cc13e97cb",
   "metadata": {},
   "outputs": [
    {
     "data": {
      "text/plain": [
       "<AxesSubplot:xlabel='is_employed', ylabel='count'>"
      ]
     },
     "execution_count": 23,
     "metadata": {},
     "output_type": "execute_result"
    },
    {
     "data": {
      "image/png": "[encoded data removed]",
      "text/plain": [
       "<Figure size 432x288 with 1 Axes>"
      ]
     },
     "metadata": {
      "needs_background": "light"
     },
     "output_type": "display_data"
    }
   ],
   "source": [
    "sns.countplot(data=loan2, x='is_employed')"
   ]
  },
  {
   "cell_type": "code",
   "execution_count": 24,
   "id": "5214b529-bd4a-44cb-b6d0-070a700f2df7",
   "metadata": {},
   "outputs": [
    {
     "data": {
      "text/plain": [
       "<AxesSubplot:xlabel='dependent_number', ylabel='count'>"
      ]
     },
     "execution_count": 24,
     "metadata": {},
     "output_type": "execute_result"
    },
    {
     "data": {
      "image/png": "[encoded data removed]",
      "text/plain": [
       "<Figure size 432x288 with 1 Axes>"
      ]
     },
     "metadata": {
      "needs_background": "light"
     },
     "output_type": "display_data"
    }
   ],
   "source": [
    "sns.countplot(data=loan2, x='dependent_number')"
   ]
  },
  {
   "cell_type": "code",
   "execution_count": null,
   "id": "26697f6b-9a26-4fbc-bdea-92ba69e517c3",
   "metadata": {},
   "outputs": [],
   "source": []
  },
  {
   "cell_type": "code",
   "execution_count": null,
   "id": "7b392a90-3337-417a-9a5e-8e3ed3759fc4",
   "metadata": {},
   "outputs": [],
   "source": []
  },
  {
   "cell_type": "code",
   "execution_count": null,
   "id": "2c5273da-c799-4a9f-935d-98007d1700b1",
   "metadata": {},
   "outputs": [],
   "source": []
  },
  {
   "cell_type": "code",
   "execution_count": 22,
   "id": "4cab57f7-8354-4f4e-a2bd-24a363b0d5e4",
   "metadata": {},
   "outputs": [
    {
     "data": {
      "text/plain": [
       "(array([4452., 5725., 7441., 7923., 7553., 5890., 3880., 2274., 1126.,\n",
       "         487.]),\n",
       " array([18. , 24.1, 30.2, 36.3, 42.4, 48.5, 54.6, 60.7, 66.8, 72.9, 79. ]),\n",
       " <BarContainer object of 10 artists>)"
      ]
     },
     "execution_count": 22,
     "metadata": {},
     "output_type": "execute_result"
    },
    {
     "data": {
      "image/png": "[encoded data removed]",
      "text/plain": [
       "<Figure size 432x288 with 1 Axes>"
      ]
     },
     "metadata": {
      "needs_background": "light"
     },
     "output_type": "display_data"
    }
   ],
   "source": [
    "plt.hist(loan2['age'])"
   ]
  },
  {
   "cell_type": "code",
   "execution_count": null,
   "id": "d48944aa-cae6-43de-b7d3-bc63e4c0a61d",
   "metadata": {},
   "outputs": [],
   "source": []
  },
  {
   "cell_type": "code",
   "execution_count": 25,
   "id": "9b42e528-631e-449d-a244-be38d687d49f",
   "metadata": {},
   "outputs": [
    {
     "data": {
      "text/plain": [
       "<AxesSubplot:xlabel='age', ylabel='Density'>"
      ]
     },
     "execution_count": 25,
     "metadata": {},
     "output_type": "execute_result"
    },
    {
     "data": {
      "image/png": "[encoded data removed]",
      "text/plain": [
       "<Figure size 432x288 with 1 Axes>"
      ]
     },
     "metadata": {
      "needs_background": "light"
     },
     "output_type": "display_data"
    }
   ],
   "source": [
    "sns.kdeplot(data=loan2, x='age')"
   ]
  },
  {
   "cell_type": "code",
   "execution_count": 26,
   "id": "1eee4eef-0640-46db-9fe3-f170a0331313",
   "metadata": {},
   "outputs": [
    {
     "data": {
      "text/plain": [
       "<AxesSubplot:xlabel='yearly_salary', ylabel='Density'>"
      ]
     },
     "execution_count": 26,
     "metadata": {},
     "output_type": "execute_result"
    },
    {
     "data": {
      "image/png": "[encoded data removed]",
      "text/plain": [
       "<Figure size 432x288 with 1 Axes>"
      ]
     },
     "metadata": {
      "needs_background": "light"
     },
     "output_type": "display_data"
    }
   ],
   "source": [
    "sns.kdeplot(data=loan2, x='yearly_salary')"
   ]
  },
  {
   "cell_type": "code",
   "execution_count": null,
   "id": "4f89daca-b89a-4788-bdb2-7c77c5de9837",
   "metadata": {},
   "outputs": [],
   "source": []
  },
  {
   "cell_type": "markdown",
   "id": "8e51de0e-8444-4a86-9e48-6f6d323ad88a",
   "metadata": {},
   "source": [
    "### 대출자 저축금액 분포"
   ]
  },
  {
   "cell_type": "code",
   "execution_count": 27,
   "id": "aa48d657-25d9-43a5-81cd-0754fc73117b",
   "metadata": {},
   "outputs": [
    {
     "data": {
      "text/plain": [
       "<AxesSubplot:xlabel='saving_amount', ylabel='Density'>"
      ]
     },
     "execution_count": 27,
     "metadata": {},
     "output_type": "execute_result"
    },
    {
     "data": {
      "image/png": "[encoded data removed]",
      "text/plain": [
       "<Figure size 432x288 with 1 Axes>"
      ]
     },
     "metadata": {
      "needs_background": "light"
     },
     "output_type": "display_data"
    }
   ],
   "source": [
    "sns.kdeplot(data=loan2, x='saving_amount')"
   ]
  },
  {
   "cell_type": "code",
   "execution_count": 28,
   "id": "c86dbb90-59c5-45ec-9b13-b1a3db362b91",
   "metadata": {},
   "outputs": [
    {
     "data": {
      "text/plain": [
       "[<matplotlib.lines.Line2D at 0x7ff5468b4250>]"
      ]
     },
     "execution_count": 28,
     "metadata": {},
     "output_type": "execute_result"
    },
    {
     "data": {
      "image/png": "[encoded data removed]",
      "text/plain": [
       "<Figure size 432x288 with 1 Axes>"
      ]
     },
     "metadata": {
      "needs_background": "light"
     },
     "output_type": "display_data"
    }
   ],
   "source": [
    "plt.plot(loan2['yearly_salary'], loan2['saving_amount'], 'o')"
   ]
  },
  {
   "cell_type": "code",
   "execution_count": 30,
   "id": "7a43e0fb-184b-499d-8505-333ea7325336",
   "metadata": {},
   "outputs": [
    {
     "data": {
      "text/plain": [
       "4931472.718232857"
      ]
     },
     "execution_count": 30,
     "metadata": {},
     "output_type": "execute_result"
    }
   ],
   "source": [
    "loan.cov('yearly_salary', 'saving_amount')"
   ]
  },
  {
   "cell_type": "code",
   "execution_count": null,
   "id": "e31b57b4-1b7b-4c61-b0c8-d5e3d626ff91",
   "metadata": {},
   "outputs": [],
   "source": []
  },
  {
   "cell_type": "code",
   "execution_count": null,
   "id": "bf182fed-d9b6-4b29-9c74-67f78f846116",
   "metadata": {},
   "outputs": [],
   "source": []
  }
 ],
 "metadata": {
  "kernelspec": {
   "display_name": "Python 3 (ipykernel)",
   "language": "python",
   "name": "python3"
  },
  "language_info": {
   "codemirror_mode": {
    "name": "ipython",
    "version": 3
   },
   "file_extension": ".py",
   "mimetype": "text/x-python",
   "name": "python",
   "nbconvert_exporter": "python",
   "pygments_lexer": "ipython3",
   "version": "3.7.10"
  }
 },
 "nbformat": 4,
 "nbformat_minor": 5
}
