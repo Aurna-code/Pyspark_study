{
 "cells": [
  {
   "cell_type": "markdown",
   "id": "828e435d-adf1-452e-92f0-e99fbad85cd0",
   "metadata": {},
   "source": [
    "## 스파크 데이터 시각화\n",
    "+ 스파크 데이터프레임을 판다스 객체로 변환해야만 시각화 가능\n",
    "+ 파이썬의 데이터 시각화 패키지는 matplotlib 또는 seaborn"
   ]
  },
  {
   "cell_type": "code",
   "execution_count": 7,
   "id": "c91ea547-243f-49d7-8f60-bb01aa18a800",
   "metadata": {},
   "outputs": [],
   "source": [
    "import pandas as pd"
   ]
  },
  {
   "cell_type": "code",
   "execution_count": 9,
   "id": "f6e78be4-6dfa-4ca6-8da2-5db36dad5938",
   "metadata": {},
   "outputs": [],
   "source": [
    "import seaborn as sns"
   ]
  },
  {
   "cell_type": "code",
   "execution_count": 8,
   "id": "7c295e4a-07fb-4d6c-affc-530e127105b7",
   "metadata": {},
   "outputs": [],
   "source": [
    "titanic = spark.read.csv('titanic.csv', header=True, inferSchema=True)"
   ]
  },
  {
   "cell_type": "code",
   "execution_count": 10,
   "id": "618b68f7-7623-47e4-9857-20e9c7254309",
   "metadata": {},
   "outputs": [
    {
     "name": "stdout",
     "output_type": "stream",
     "text": [
      "root\n",
      " |-- pclass: integer (nullable = true)\n",
      " |-- survived: integer (nullable = true)\n",
      " |-- name: string (nullable = true)\n",
      " |-- sex: string (nullable = true)\n",
      " |-- age: double (nullable = true)\n",
      " |-- sibsp: integer (nullable = true)\n",
      " |-- parch: integer (nullable = true)\n",
      " |-- ticket: string (nullable = true)\n",
      " |-- fare: double (nullable = true)\n",
      " |-- embarked: string (nullable = true)\n",
      " |-- life: string (nullable = true)\n",
      " |-- seat: string (nullable = true)\n",
      " |-- port: string (nullable = true)\n",
      "\n"
     ]
    }
   ],
   "source": [
    "titanic.printSchema()"
   ]
  },
  {
   "cell_type": "code",
   "execution_count": 15,
   "id": "ad69fe1c-ece7-43ce-86e4-4754ebf1f851",
   "metadata": {},
   "outputs": [
    {
     "name": "stdout",
     "output_type": "stream",
     "text": [
      "+-------+------------------+-------------------+--------------------+------+------------------+------------------+-------------------+-----------------+-----------------+--------+----+----+------------+\n",
      "|summary|            pclass|           survived|                name|   sex|               age|             sibsp|              parch|           ticket|             fare|embarked|life|seat|        port|\n",
      "+-------+------------------+-------------------+--------------------+------+------------------+------------------+-------------------+-----------------+-----------------+--------+----+----+------------+\n",
      "|  count|              1306|               1306|                1306|  1306|              1306|              1306|               1306|             1306|             1306|    1306|1306|1306|        1306|\n",
      "|   mean| 2.296324655436447|0.38131699846860645|                null|  null| 29.82687984438616|               0.5|0.38591117917304746|249580.3029350105|33.22395627871377|    null|null|null|        null|\n",
      "| stddev|0.8370365342398028| 0.4858962054013946|                null|  null|12.837289454109293|1.0425800593127736| 0.8663574893682794|443266.5458450591|51.76598590355333|    null|null|null|        null|\n",
      "|    min|                 1|                  0|\"Andersson, Mr. A...|female|            0.1667|                 0|                  0|           110152|              0.0|       C|dead| 1st|   cherbourg|\n",
      "|    25%|                 2|                  0|                null|  null|              22.0|                 0|                  0|          19950.0|           7.8958|    null|null|null|        null|\n",
      "|    50%|                 3|                  0|                null|  null|  29.8811345124283|                 0|                  0|         234686.0|          14.4542|    null|null|null|        null|\n",
      "|    75%|                 3|                  1|                null|  null|              35.0|                 1|                  0|         347469.0|           31.275|    null|null|null|        null|\n",
      "|    max|                 3|                  1|van Melkebeke, Mr...|  male|              80.0|                 8|                  9|        WE/P 5735|         512.3292|       S|live| 3rd|southampthon|\n",
      "+-------+------------------+-------------------+--------------------+------+------------------+------------------+-------------------+-----------------+-----------------+--------+----+----+------------+\n",
      "\n"
     ]
    }
   ],
   "source": [
    "titanic.summary().show()"
   ]
  },
  {
   "cell_type": "markdown",
   "id": "500585c0-71c4-43ba-bf14-65da39493175",
   "metadata": {},
   "source": [
    "### spark 객체를 pandas 객체 변환 : to_panda"
   ]
  },
  {
   "cell_type": "code",
   "execution_count": 12,
   "id": "50da87cc-76eb-4457-853d-00d20161004d",
   "metadata": {},
   "outputs": [],
   "source": [
    "titanic2 = titanic.toPandas()"
   ]
  },
  {
   "cell_type": "code",
   "execution_count": 13,
   "id": "59ee136f-4a23-482b-932f-ecf71025cc1a",
   "metadata": {},
   "outputs": [
    {
     "data": {
      "text/html": [
       "<div>\n",
       "<style scoped>\n",
       "    .dataframe tbody tr th:only-of-type {\n",
       "        vertical-align: middle;\n",
       "    }\n",
       "\n",
       "    .dataframe tbody tr th {\n",
       "        vertical-align: top;\n",
       "    }\n",
       "\n",
       "    .dataframe thead th {\n",
       "        text-align: right;\n",
       "    }\n",
       "</style>\n",
       "<table border=\"1\" class=\"dataframe\">\n",
       "  <thead>\n",
       "    <tr style=\"text-align: right;\">\n",
       "      <th></th>\n",
       "      <th>pclass</th>\n",
       "      <th>survived</th>\n",
       "      <th>age</th>\n",
       "      <th>sibsp</th>\n",
       "      <th>parch</th>\n",
       "      <th>fare</th>\n",
       "    </tr>\n",
       "  </thead>\n",
       "  <tbody>\n",
       "    <tr>\n",
       "      <th>count</th>\n",
       "      <td>1306.000000</td>\n",
       "      <td>1306.000000</td>\n",
       "      <td>1306.000000</td>\n",
       "      <td>1306.00000</td>\n",
       "      <td>1306.000000</td>\n",
       "      <td>1306.000000</td>\n",
       "    </tr>\n",
       "    <tr>\n",
       "      <th>mean</th>\n",
       "      <td>2.296325</td>\n",
       "      <td>0.381317</td>\n",
       "      <td>29.826880</td>\n",
       "      <td>0.50000</td>\n",
       "      <td>0.385911</td>\n",
       "      <td>33.223956</td>\n",
       "    </tr>\n",
       "    <tr>\n",
       "      <th>std</th>\n",
       "      <td>0.837037</td>\n",
       "      <td>0.485896</td>\n",
       "      <td>12.837289</td>\n",
       "      <td>1.04258</td>\n",
       "      <td>0.866357</td>\n",
       "      <td>51.765986</td>\n",
       "    </tr>\n",
       "    <tr>\n",
       "      <th>min</th>\n",
       "      <td>1.000000</td>\n",
       "      <td>0.000000</td>\n",
       "      <td>0.166700</td>\n",
       "      <td>0.00000</td>\n",
       "      <td>0.000000</td>\n",
       "      <td>0.000000</td>\n",
       "    </tr>\n",
       "    <tr>\n",
       "      <th>25%</th>\n",
       "      <td>2.000000</td>\n",
       "      <td>0.000000</td>\n",
       "      <td>22.000000</td>\n",
       "      <td>0.00000</td>\n",
       "      <td>0.000000</td>\n",
       "      <td>7.895800</td>\n",
       "    </tr>\n",
       "    <tr>\n",
       "      <th>50%</th>\n",
       "      <td>3.000000</td>\n",
       "      <td>0.000000</td>\n",
       "      <td>29.881135</td>\n",
       "      <td>0.00000</td>\n",
       "      <td>0.000000</td>\n",
       "      <td>14.454200</td>\n",
       "    </tr>\n",
       "    <tr>\n",
       "      <th>75%</th>\n",
       "      <td>3.000000</td>\n",
       "      <td>1.000000</td>\n",
       "      <td>35.000000</td>\n",
       "      <td>1.00000</td>\n",
       "      <td>0.000000</td>\n",
       "      <td>31.275000</td>\n",
       "    </tr>\n",
       "    <tr>\n",
       "      <th>max</th>\n",
       "      <td>3.000000</td>\n",
       "      <td>1.000000</td>\n",
       "      <td>80.000000</td>\n",
       "      <td>8.00000</td>\n",
       "      <td>9.000000</td>\n",
       "      <td>512.329200</td>\n",
       "    </tr>\n",
       "  </tbody>\n",
       "</table>\n",
       "</div>"
      ],
      "text/plain": [
       "            pclass     survived          age       sibsp        parch  \\\n",
       "count  1306.000000  1306.000000  1306.000000  1306.00000  1306.000000   \n",
       "mean      2.296325     0.381317    29.826880     0.50000     0.385911   \n",
       "std       0.837037     0.485896    12.837289     1.04258     0.866357   \n",
       "min       1.000000     0.000000     0.166700     0.00000     0.000000   \n",
       "25%       2.000000     0.000000    22.000000     0.00000     0.000000   \n",
       "50%       3.000000     0.000000    29.881135     0.00000     0.000000   \n",
       "75%       3.000000     1.000000    35.000000     1.00000     0.000000   \n",
       "max       3.000000     1.000000    80.000000     8.00000     9.000000   \n",
       "\n",
       "              fare  \n",
       "count  1306.000000  \n",
       "mean     33.223956  \n",
       "std      51.765986  \n",
       "min       0.000000  \n",
       "25%       7.895800  \n",
       "50%      14.454200  \n",
       "75%      31.275000  \n",
       "max     512.329200  "
      ]
     },
     "execution_count": 13,
     "metadata": {},
     "output_type": "execute_result"
    }
   ],
   "source": [
    "titanic2.describe()"
   ]
  },
  {
   "cell_type": "markdown",
   "id": "d9117378-b517-4256-9a70-98af8b32409d",
   "metadata": {},
   "source": [
    "#### 타이타닉 승객 생존자/사망자 현황"
   ]
  },
  {
   "cell_type": "markdown",
   "id": "362b4aef-1ff8-48df-bf37-05b1632c5f49",
   "metadata": {},
   "source": [
    "#### 범주형 : seaborn의 countplot으로 시각화"
   ]
  },
  {
   "cell_type": "markdown",
   "id": "22f4355b-cb8d-41df-81fd-eca6917ed0bf",
   "metadata": {},
   "source": [
    "#### countplot(변수, 데이터객체)"
   ]
  },
  {
   "cell_type": "code",
   "execution_count": 16,
   "id": "9c869c95-ff3d-4f54-9b6f-62abdcfa5b77",
   "metadata": {},
   "outputs": [
    {
     "data": {
      "text/plain": [
       "<AxesSubplot:xlabel='survived', ylabel='count'>"
      ]
     },
     "execution_count": 16,
     "metadata": {},
     "output_type": "execute_result"
    },
    {
     "data": {
      "image/png": "[encoded data removed]",
      "text/plain": [
       "<Figure size 432x288 with 1 Axes>"
      ]
     },
     "metadata": {
      "needs_background": "light"
     },
     "output_type": "display_data"
    }
   ],
   "source": [
    "sns.countplot(data=titanic2, x='survived')"
   ]
  },
  {
   "cell_type": "code",
   "execution_count": 17,
   "id": "75a248df-45a0-4fa1-bbf9-9e127616bee5",
   "metadata": {},
   "outputs": [
    {
     "data": {
      "text/plain": [
       "<AxesSubplot:xlabel='life', ylabel='count'>"
      ]
     },
     "execution_count": 17,
     "metadata": {},
     "output_type": "execute_result"
    },
    {
     "data": {
      "image/png": "[encoded data removed]",
      "text/plain": [
       "<Figure size 432x288 with 1 Axes>"
      ]
     },
     "metadata": {
      "needs_background": "light"
     },
     "output_type": "display_data"
    }
   ],
   "source": [
    "sns.countplot(data=titanic2, x='life')"
   ]
  },
  {
   "cell_type": "markdown",
   "id": "166216e0-c1bb-474a-bb06-f9339a7faef7",
   "metadata": {},
   "source": [
    "#### 타이타닉 승객 승선위치별 현황"
   ]
  },
  {
   "cell_type": "code",
   "execution_count": 18,
   "id": "c7b31b4f-6074-4f4c-9b62-82b988d8c0ab",
   "metadata": {},
   "outputs": [
    {
     "data": {
      "text/plain": [
       "<AxesSubplot:xlabel='seat', ylabel='count'>"
      ]
     },
     "execution_count": 18,
     "metadata": {},
     "output_type": "execute_result"
    },
    {
     "data": {
      "image/png": "[encoded data removed]",
      "text/plain": [
       "<Figure size 432x288 with 1 Axes>"
      ]
     },
     "metadata": {
      "needs_background": "light"
     },
     "output_type": "display_data"
    }
   ],
   "source": [
    "sns.countplot(data=titanic2, x = 'seat')"
   ]
  },
  {
   "cell_type": "markdown",
   "id": "335a3086-d97d-45de-b8e2-f9aa1e515ddf",
   "metadata": {},
   "source": [
    "#### 타이타닉 승객 성별현황"
   ]
  },
  {
   "cell_type": "code",
   "execution_count": 19,
   "id": "44890711-084e-4827-ae10-39360c9d240b",
   "metadata": {},
   "outputs": [
    {
     "data": {
      "text/plain": [
       "<AxesSubplot:xlabel='sex', ylabel='count'>"
      ]
     },
     "execution_count": 19,
     "metadata": {},
     "output_type": "execute_result"
    },
    {
     "data": {
      "image/png": "[encoded data removed]",
      "text/plain": [
       "<Figure size 432x288 with 1 Axes>"
      ]
     },
     "metadata": {
      "needs_background": "light"
     },
     "output_type": "display_data"
    }
   ],
   "source": [
    "sns.countplot(data=titanic2, x = 'sex')"
   ]
  },
  {
   "cell_type": "markdown",
   "id": "827fbb0d-e99f-43e8-8ded-5029623cbff5",
   "metadata": {},
   "source": [
    "#### 타이타닉 승객 입항 항구"
   ]
  },
  {
   "cell_type": "code",
   "execution_count": 20,
   "id": "13db934d-6045-45bf-8024-2a3bf7ddd921",
   "metadata": {},
   "outputs": [
    {
     "data": {
      "text/plain": [
       "<AxesSubplot:xlabel='port', ylabel='count'>"
      ]
     },
     "execution_count": 20,
     "metadata": {},
     "output_type": "execute_result"
    },
    {
     "data": {
      "image/png": "[encoded data removed]",
      "text/plain": [
       "<Figure size 432x288 with 1 Axes>"
      ]
     },
     "metadata": {
      "needs_background": "light"
     },
     "output_type": "display_data"
    }
   ],
   "source": [
    "sns.countplot(data=titanic2, x = 'port')"
   ]
  },
  {
   "cell_type": "markdown",
   "id": "171b24e5-5d0e-44b6-9ea0-8cce4c70f054",
   "metadata": {},
   "source": [
    "#### 사원들의 직책별 현황"
   ]
  },
  {
   "cell_type": "code",
   "execution_count": 23,
   "id": "f1221102-0bc6-471e-b607-5a227409f230",
   "metadata": {},
   "outputs": [],
   "source": [
    "employees = spark.read.csv('employees.csv', header=True, inferSchema=True)"
   ]
  },
  {
   "cell_type": "code",
   "execution_count": 24,
   "id": "b3273c08-33e2-46aa-a3fe-007f91496f06",
   "metadata": {},
   "outputs": [
    {
     "name": "stdout",
     "output_type": "stream",
     "text": [
      "root\n",
      " |-- EMPLOYEE_ID: integer (nullable = true)\n",
      " |-- FIRST_NAME: string (nullable = true)\n",
      " |-- LAST_NAME: string (nullable = true)\n",
      " |-- EMAIL: string (nullable = true)\n",
      " |-- PHONE_NUMBER: string (nullable = true)\n",
      " |-- HIRE_DATE: timestamp (nullable = true)\n",
      " |-- JOB_ID: string (nullable = true)\n",
      " |-- SALARY: integer (nullable = true)\n",
      " |-- COMMISSION_PCT: double (nullable = true)\n",
      " |-- MANAGER_ID: integer (nullable = true)\n",
      " |-- DEPARTMENT_ID: integer (nullable = true)\n",
      "\n"
     ]
    }
   ],
   "source": [
    "employees.printSchema()"
   ]
  },
  {
   "cell_type": "code",
   "execution_count": 25,
   "id": "92a2d0ff-a4c3-4979-8904-6eb9bf0f1da3",
   "metadata": {},
   "outputs": [],
   "source": [
    "emp = employees.toPandas()"
   ]
  },
  {
   "cell_type": "code",
   "execution_count": 26,
   "id": "f2b25a65-04b3-4191-9a39-a51e9ae983db",
   "metadata": {},
   "outputs": [
    {
     "data": {
      "text/plain": [
       "<AxesSubplot:xlabel='JOB_ID', ylabel='count'>"
      ]
     },
     "execution_count": 26,
     "metadata": {},
     "output_type": "execute_result"
    },
    {
     "data": {
      "image/png": "[encoded data removed]",
      "text/plain": [
       "<Figure size 432x288 with 1 Axes>"
      ]
     },
     "metadata": {
      "needs_background": "light"
     },
     "output_type": "display_data"
    }
   ],
   "source": [
    "sns.countplot(data=emp, x='JOB_ID')"
   ]
  },
  {
   "cell_type": "code",
   "execution_count": null,
   "id": "09f6616e-5827-4acc-b561-fed10b7b2e29",
   "metadata": {},
   "outputs": [],
   "source": []
  },
  {
   "cell_type": "code",
   "execution_count": null,
   "id": "30d99843-d9e2-4942-8a82-ad5c3df39536",
   "metadata": {},
   "outputs": [],
   "source": []
  },
  {
   "cell_type": "code",
   "execution_count": null,
   "id": "41b15e97-f48c-43aa-8987-0865fbadc3fc",
   "metadata": {},
   "outputs": [],
   "source": []
  },
  {
   "cell_type": "code",
   "execution_count": null,
   "id": "0499596b-66b1-4977-9d24-058799cfcde1",
   "metadata": {},
   "outputs": [],
   "source": []
  },
  {
   "cell_type": "code",
   "execution_count": null,
   "id": "bed795f9-175f-4183-9c54-225cfee2f4a0",
   "metadata": {},
   "outputs": [],
   "source": []
  }
 ],
 "metadata": {
  "kernelspec": {
   "display_name": "Python 3 (ipykernel)",
   "language": "python",
   "name": "python3"
  },
  "language_info": {
   "codemirror_mode": {
    "name": "ipython",
    "version": 3
   },
   "file_extension": ".py",
   "mimetype": "text/x-python",
   "name": "python",
   "nbconvert_exporter": "python",
   "pygments_lexer": "ipython3",
   "version": "3.7.10"
  }
 },
 "nbformat": 4,
 "nbformat_minor": 5
}
