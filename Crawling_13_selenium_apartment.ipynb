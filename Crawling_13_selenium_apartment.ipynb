{
 "cells": [
  {
   "cell_type": "markdown",
   "id": "b7d96dab-5af0-4d68-b776-d35efab699ed",
   "metadata": {},
   "source": [
    "### 공동주택관리 시스템\n",
    "* 2018.08, 강남구, 삼성도 소재 모든 아파트,\n",
    "  아파트 명칭, 법정동 주소,\n",
    "  아파트 주차대수 (지상, 지하)등을 추출\n",
    "* 단, 실제 URL에 질의문자열을 포함시켜 정보 추출"
   ]
  },
  {
   "cell_type": "markdown",
   "id": "60b29e77-8c75-4db5-965f-91a2cb9d3132",
   "metadata": {},
   "source": [
    "### k-apt.go.kr URL분석"
   ]
  },
  {
   "cell_type": "markdown",
   "id": "2a73a969-07fb-4518-aa46-52175bf74024",
   "metadata": {},
   "source": [
    "1. ~/kaptinfo/openkaptinfo.do\n",
    "   + 요청 정보가 없음\n",
    "   \n",
    "2. getBjdList.do : 요청 폼 데이터 포함 (지역)\n",
    "   + ajax로 작동, 시도선택시 -> 시군구출력 -> 읍면동 출력\n",
    "   + ?bjd_gbn = SIDO                 (시도출력)  \n",
    "   + ?bjd_gbn = SGG&bjd_code = 11    (서울특별시 선택시, 시군구 출력)  \n",
    "   + ?bjd_gbn = EMD&bjd_code = 11680 (서울특별시 강남구, 읍면동 출력)\n",
    "   + 읍면동 선택시 bjd_code와 search_date 변수를 생성한 후 getBjdList.do를 호출\n",
    "\n",
    "3. getBjdList.do : 요청한 폼 데이터 포함 (지역내 모든 아파트)\n",
    "   + ?bjd_code =11680105&earch_date: 201807\n",
    "   \n",
    "4. getKaptSetday.do : 요총 폼 데이터 포함 (아파트 상세정보)\n",
    "   + ?kapt_code = A10026350\n",
    "   getKaptInfo_Detail.do"
   ]
  },
  {
   "cell_type": "code",
   "execution_count": 19,
   "id": "a008cc04-6c76-4bf4-9b6e-98467ed87ea4",
   "metadata": {},
   "outputs": [],
   "source": [
    "import sys\n",
    "import time\n",
    "from selenium import webdriver\n",
    "from selenium.webdriver.common.by import By\n",
    "from bs4 import BeautifulSoup\n",
    "from selenium.webdriver.chrome.options import Options\n",
    "from selenium.webdriver.support.select import Select\n",
    "import json\n",
    "import requests"
   ]
  },
  {
   "cell_type": "code",
   "execution_count": 32,
   "id": "30e5958d-d471-4687-b4bd-b6ed6288110b",
   "metadata": {},
   "outputs": [],
   "source": [
    "# 딘지 키워드 검색\n",
    "year = '2018'\n",
    "month = '08'\n",
    "sido = '서울특별시'\n",
    "gugun = '강남구'\n",
    "dong = '삼성동'\n",
    "\n",
    "base = 'http://www.k-apt.go.kr/'\n",
    "url1 =  base + 'kaptinfo/openkaptinfo.do'\n",
    "url2 =  base + 'cmmn/bjd/getBidList.do'\n",
    "url3 =  base + 'kaptinfo/getKaptList.do'\n",
    "url4 =  base + 'kaptinfo/getKaptSetday.do'\n",
    "path = \"/home/hadoop/chromedriver\""
   ]
  },
  {
   "cell_type": "code",
   "execution_count": null,
   "id": "197aebc2-83c1-478c-be06-ba3c0635d571",
   "metadata": {},
   "outputs": [],
   "source": []
  },
  {
   "cell_type": "code",
   "execution_count": 33,
   "id": "bd41e034-65d9-4584-879e-c51a4cee4b9f",
   "metadata": {},
   "outputs": [],
   "source": [
    "# 셀레니엄 실행\n",
    "opts = Options()\n",
    "opts.add_argument('--headless')\n",
    "chrome = webdriver.Chrome(executable_path=path, options=opts)\n",
    "chrome.get(url1)\n",
    "chrome.implicitly_wait(2)"
   ]
  },
  {
   "cell_type": "code",
   "execution_count": 34,
   "id": "6116f571-6ac5-419c-a36b-805379217bd2",
   "metadata": {},
   "outputs": [],
   "source": [
    "# 검색할 단지 정보 선택\n",
    "yy = Select(chrome.find_element(By.CLASS_NAME, 'combo_YYYY'))"
   ]
  },
  {
   "cell_type": "code",
   "execution_count": 35,
   "id": "e959f8a8-c18e-4046-af54-bb9fc919f3fd",
   "metadata": {},
   "outputs": [],
   "source": [
    "yy.select_by_visible_text(year)\n",
    "time.sleep(1)"
   ]
  },
  {
   "cell_type": "code",
   "execution_count": 36,
   "id": "955168c5-9059-4f98-b814-4dd0c4b34e61",
   "metadata": {},
   "outputs": [],
   "source": [
    "# 검색할 년도 정보 선택\n",
    "mm = Select(chrome.find_element(By.CLASS_NAME, 'combo_MM'))\n",
    "mm.select_by_visible_text(month)\n",
    "time.sleep(1)"
   ]
  },
  {
   "cell_type": "code",
   "execution_count": 37,
   "id": "22f0395b-3e7e-4751-b55a-b9743fdae021",
   "metadata": {},
   "outputs": [],
   "source": [
    "# 검색할 광역시도 정보 선택\n",
    "sd = Select(chrome.find_element(By.CLASS_NAME, 'combo_SIDO'))\n",
    "sd.select_by_visible_text(sido)\n",
    "time.sleep(1)"
   ]
  },
  {
   "cell_type": "code",
   "execution_count": 38,
   "id": "2e67cc65-3fd4-40a3-8855-c09c941c6c7c",
   "metadata": {},
   "outputs": [],
   "source": [
    "# 구군\n",
    "gg = Select(chrome.find_element(By.CLASS_NAME, 'combo_SGG'))\n",
    "gg.select_by_visible_text(gugun)\n",
    "time.sleep(1)"
   ]
  },
  {
   "cell_type": "code",
   "execution_count": 39,
   "id": "c9d87b4d-c185-436f-b70d-f1e30fd26086",
   "metadata": {},
   "outputs": [],
   "source": [
    "# 읍면동\n",
    "dg = Select(chrome.find_element(By.CLASS_NAME, 'combo_EMD'))\n",
    "dg.select_by_visible_text(dong)\n",
    "time.sleep(1)"
   ]
  },
  {
   "cell_type": "code",
   "execution_count": 50,
   "id": "2d3d614e-f9c6-479b-85e5-083c8e3e6e86",
   "metadata": {},
   "outputs": [
    {
     "name": "stdout",
     "output_type": "stream",
     "text": [
      "11680105\n"
     ]
    }
   ],
   "source": [
    "# 선택한 시구동에 대한 전체코드값txt_bjdcode 출력\n",
    "# 단, 이 코드값은 숨겨져 있기때문에 요소값을 출력할 수 없음\n",
    "# 따라서, 자바스크립트로 display:none을 display:block으로 바꿔야 함.\n",
    "bjd = chrome.find_element(By.CLASS_NAME, 'txt_bjdCode')\n",
    "chrome.execute_script('arguments[0].style.display=\"block\"',bjd)\n",
    "print(bjd.text)"
   ]
  },
  {
   "cell_type": "code",
   "execution_count": null,
   "id": "36e22e90-0c7d-4107-a594-7f2d652f3b4d",
   "metadata": {},
   "outputs": [],
   "source": [
    "# 선택한 시 동구에 존재하는 모든 아파트의 코드값 KAPT_CODE 출력\n",
    "# 단, 이 코드값은 숨겨져 있기때문에 요소값을 출력할 수 없음\n"
   ]
  },
  {
   "cell_type": "code",
   "execution_count": 45,
   "id": "2422e7f3-4869-4dc2-8859-d22990fa8102",
   "metadata": {},
   "outputs": [
    {
     "name": "stdout",
     "output_type": "stream",
     "text": [
      "A10026350\n"
     ]
    }
   ],
   "source": [
    "td1 = chrome.find_element(By.XPATH, '//tr[@id=\"1\"]/td[1]')\n",
    "chrome.execute_script('arguments[0].style.display=\"block\"', td1)\n",
    "print(td1.text)"
   ]
  },
  {
   "cell_type": "markdown",
   "id": "6204036c-4e5d-47f2-8180-f6b0ad5c0128",
   "metadata": {},
   "source": [
    "### 삼성동센트럴아이파크 주차장 정보 출력"
   ]
  },
  {
   "cell_type": "code",
   "execution_count": null,
   "id": "ed81beb4-f6a1-4478-8261-d2bb7b3aa6b4",
   "metadata": {},
   "outputs": [],
   "source": [
    "kapt_code = td1.text\n",
    "url4 = url4 + '?kapt_code=' + kapt_code\n",
    "chrome.get(url4)\n",
    "chrome.page_source[:100]"
   ]
  },
  {
   "cell_type": "markdown",
   "id": "53ca6d97-fdf6-434f-aca1-5cac593b5a47",
   "metadata": {},
   "source": [
    "#### 삼성동의 모든 아파트 정보 출력"
   ]
  },
  {
   "cell_type": "code",
   "execution_count": 40,
   "id": "6b478cc4-df03-465f-a9b8-3651f0536302",
   "metadata": {},
   "outputs": [
    {
     "name": "stdout",
     "output_type": "stream",
     "text": [
      "15\n"
     ]
    }
   ],
   "source": [
    "cnt = chrome.find_element(By.CSS_SELECTOR, 'table[id=\"aptInfoList\"] tr:last-child').get_attribute('id')\n",
    "cnt = int(cnt)\n",
    "# print(cnt)"
   ]
  },
  {
   "cell_type": "code",
   "execution_count": null,
   "id": "9c3a330d-8593-45b8-8807-ac0e69b2b07b",
   "metadata": {},
   "outputs": [],
   "source": [
    "for i in range(1, cnt+1):\n",
    "    code = chrome.find_element(By.XPATH, f'//tr[@id=\"{i}\"]/td[1]')\n",
    "    chrome.execute_script('arguments[0].style.display=\"block\"', code)\n",
    "    print(code.text)\n",
    "    time.sleep(1)"
   ]
  },
  {
   "cell_type": "code",
   "execution_count": 47,
   "id": "e5ef83c0-9d8d-4893-b01a-cb51716d8685",
   "metadata": {},
   "outputs": [],
   "source": [
    "chrome.get(url4)"
   ]
  },
  {
   "cell_type": "markdown",
   "id": "cb5e3167-a5a1-468a-8217-eec5f7b4903a",
   "metadata": {},
   "source": [
    "#### selenium으로 불러온 소스를 json형식으로 다시 읽어옴"
   ]
  },
  {
   "cell_type": "code",
   "execution_count": 48,
   "id": "eb6f9bf1-5f66-4348-a40e-44730ad2ae50",
   "metadata": {},
   "outputs": [],
   "source": [
    "html = BeautifulSoup(chrome.page_source)\n",
    "apt = json.loads(html.find('body').text)\n"
   ]
  },
  {
   "cell_type": "code",
   "execution_count": 49,
   "id": "41fff8b2-fac7-426d-924a-90a965c24240",
   "metadata": {},
   "outputs": [
    {
     "name": "stdout",
     "output_type": "stream",
     "text": [
      "0\n",
      "743\n"
     ]
    }
   ],
   "source": [
    "print(apt.get(\"kaptInfo\").get(\"KAPTD_PCNT\"))\n",
    "print(apt.get(\"kaptInfo\").get(\"KAPTD_PCNTU\"))"
   ]
  },
  {
   "cell_type": "code",
   "execution_count": 55,
   "id": "6156d3d9-5fa0-4be7-bc56-61c3f482a108",
   "metadata": {},
   "outputs": [],
   "source": []
  },
  {
   "cell_type": "markdown",
   "id": "56251b49-3d91-458d-bc9f-3be07f36fea9",
   "metadata": {},
   "source": [
    "#### '삼성동센트럴아이파크'의 주차장 정보 출력 2"
   ]
  },
  {
   "cell_type": "code",
   "execution_count": 56,
   "id": "1de26694-6d51-4b9d-bd03-ace2737f6c4e",
   "metadata": {},
   "outputs": [],
   "source": [
    "res = requests.get(url4)\n",
    "html = BeautifulSoup(res.text)\n",
    "apt2 = json.loads(html.find('body').text)"
   ]
  },
  {
   "cell_type": "code",
   "execution_count": 58,
   "id": "6fbe0d52-b81a-40a8-b92f-961a52d82363",
   "metadata": {},
   "outputs": [
    {
     "name": "stdout",
     "output_type": "stream",
     "text": [
      "0\n",
      "743\n",
      "삼성동센트럴아이파크\n"
     ]
    }
   ],
   "source": [
    "print(apt2.get(\"kaptInfo\").get(\"KAPTD_PCNT\"))\n",
    "print(apt2.get(\"kaptInfo\").get(\"KAPTD_PCNTU\"))\n",
    "print(apt2.get(\"kaptInfo\").get(\"KAPT_NAME\"))"
   ]
  },
  {
   "cell_type": "code",
   "execution_count": null,
   "id": "50536e0b-3e88-4a07-abd2-164917d3a7c3",
   "metadata": {},
   "outputs": [],
   "source": []
  },
  {
   "cell_type": "code",
   "execution_count": null,
   "id": "295b5c41-f60f-448b-b50e-5e9751bbdf1c",
   "metadata": {},
   "outputs": [],
   "source": []
  },
  {
   "cell_type": "code",
   "execution_count": null,
   "id": "3fd4b412-05cb-4ca6-a325-6d37ad6c7de0",
   "metadata": {},
   "outputs": [],
   "source": []
  },
  {
   "cell_type": "code",
   "execution_count": null,
   "id": "aced8d9f-5745-41a2-b36a-0b5c36261fbe",
   "metadata": {},
   "outputs": [],
   "source": []
  },
  {
   "cell_type": "code",
   "execution_count": null,
   "id": "238f7c2e-68cd-4343-ad1b-612e2e0527e7",
   "metadata": {},
   "outputs": [],
   "source": []
  },
  {
   "cell_type": "code",
   "execution_count": null,
   "id": "f2d7e026-3cf6-4054-83ba-cf0e55f08fbd",
   "metadata": {},
   "outputs": [],
   "source": []
  },
  {
   "cell_type": "code",
   "execution_count": null,
   "id": "955d673b-a38b-4200-92cc-fff0ca834521",
   "metadata": {},
   "outputs": [],
   "source": []
  },
  {
   "cell_type": "code",
   "execution_count": null,
   "id": "9e1b63aa-ba75-4a1d-8e03-990897133c4c",
   "metadata": {},
   "outputs": [],
   "source": []
  },
  {
   "cell_type": "code",
   "execution_count": null,
   "id": "84258bb2-3e6c-4f6e-a187-c247359f4df2",
   "metadata": {},
   "outputs": [],
   "source": []
  },
  {
   "cell_type": "code",
   "execution_count": null,
   "id": "2cace748-3b74-44b0-b979-8a6a01da8053",
   "metadata": {},
   "outputs": [],
   "source": []
  },
  {
   "cell_type": "code",
   "execution_count": null,
   "id": "1082047f-ead0-4b4a-917b-e1aad5e7c2e1",
   "metadata": {},
   "outputs": [],
   "source": []
  },
  {
   "cell_type": "code",
   "execution_count": null,
   "id": "a4435f6a-e01c-4d7b-b253-ee4dac1fa18a",
   "metadata": {},
   "outputs": [],
   "source": []
  },
  {
   "cell_type": "code",
   "execution_count": null,
   "id": "4f41f7a3-b677-4b0a-a605-70d7b964456a",
   "metadata": {},
   "outputs": [],
   "source": []
  },
  {
   "cell_type": "code",
   "execution_count": null,
   "id": "86276d42-fac7-4e5a-ac4c-c8b8f6250a9e",
   "metadata": {},
   "outputs": [],
   "source": []
  }
 ],
 "metadata": {
  "kernelspec": {
   "display_name": "Python 3 (ipykernel)",
   "language": "python",
   "name": "python3"
  },
  "language_info": {
   "codemirror_mode": {
    "name": "ipython",
    "version": 3
   },
   "file_extension": ".py",
   "mimetype": "text/x-python",
   "name": "python",
   "nbconvert_exporter": "python",
   "pygments_lexer": "ipython3",
   "version": "3.7.10"
  }
 },
 "nbformat": 4,
 "nbformat_minor": 5
}
