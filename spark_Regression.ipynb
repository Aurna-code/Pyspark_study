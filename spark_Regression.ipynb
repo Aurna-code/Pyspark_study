{
 "cells": [
  {
   "cell_type": "markdown",
   "id": "52188f2e-b868-4090-8eac-2c7c785cdf91",
   "metadata": {
    "tags": []
   },
   "source": [
    "## 보스턴 집값 예측\n",
    "* 보스턴 외곽지역 집값과 그것들과 관련있는 여러 요소를 변수로 정의\n",
    "\n",
    "\n",
    "\n",
    "\n",
    "\n",
    "\n",
    "\n"
   ]
  },
  {
   "cell_type": "code",
   "execution_count": 1,
   "id": "9aaa901c-ed5d-4505-a546-5d530fb1a0e6",
   "metadata": {},
   "outputs": [],
   "source": [
    "import pandas as pd"
   ]
  },
  {
   "cell_type": "code",
   "execution_count": 2,
   "id": "cbbbd572-8f4b-4cc9-95b8-004431e87d2d",
   "metadata": {},
   "outputs": [],
   "source": [
    "import numpy as np"
   ]
  },
  {
   "cell_type": "code",
   "execution_count": 3,
   "id": "3d9ff21e-22d4-4ad7-8bb6-c322a080a57e",
   "metadata": {},
   "outputs": [],
   "source": [
    "import seaborn as sns"
   ]
  },
  {
   "cell_type": "code",
   "execution_count": 4,
   "id": "8dd4878d-28b4-4f29-b4ad-cbc12f83cfaa",
   "metadata": {},
   "outputs": [],
   "source": [
    "import matplotlib.pyplot as plt"
   ]
  },
  {
   "cell_type": "code",
   "execution_count": 5,
   "id": "120f1976-1fdc-4abb-8c2a-1b5cdf22b999",
   "metadata": {},
   "outputs": [],
   "source": [
    "from pyspark.sql.functions import col"
   ]
  },
  {
   "cell_type": "code",
   "execution_count": 6,
   "id": "563b3500-21c7-411b-b8fe-728ecd794a33",
   "metadata": {},
   "outputs": [],
   "source": [
    "boston = spark.read.csv(\"boston.csv\", header=True, inferSchema=True)"
   ]
  },
  {
   "cell_type": "code",
   "execution_count": 7,
   "id": "d608beda-5001-45a0-b499-6b8baa7f6266",
   "metadata": {},
   "outputs": [],
   "source": [
    "boston2 = boston.toPandas()"
   ]
  },
  {
   "cell_type": "code",
   "execution_count": null,
   "id": "c75c2701-6156-4253-944d-2c0e67b15376",
   "metadata": {},
   "outputs": [],
   "source": [
    "boston2.describe()"
   ]
  },
  {
   "cell_type": "code",
   "execution_count": 10,
   "id": "71b2d856-66e7-4388-ae35-8b68053eab0b",
   "metadata": {},
   "outputs": [],
   "source": [
    "corrVal = boston.cov('rm', 'medv')"
   ]
  },
  {
   "cell_type": "code",
   "execution_count": 11,
   "id": "3a09536a-60cf-4bf3-b13f-b7b6b84a25b2",
   "metadata": {},
   "outputs": [
    {
     "data": {
      "text/plain": [
       "4.4934458795444785"
      ]
     },
     "execution_count": 11,
     "metadata": {},
     "output_type": "execute_result"
    }
   ],
   "source": [
    "corrVal"
   ]
  },
  {
   "cell_type": "code",
   "execution_count": null,
   "id": "2dc6cb7d-7c54-4bcf-a401-3e98369cc56a",
   "metadata": {},
   "outputs": [],
   "source": [
    "plt.plot('rm', 'mdev', 'ro')"
   ]
  },
  {
   "cell_type": "code",
   "execution_count": null,
   "id": "1d178253-f45e-4233-a55c-ac9d1d842000",
   "metadata": {},
   "outputs": [],
   "source": [
    "plt.xlabel('rm')"
   ]
  },
  {
   "cell_type": "code",
   "execution_count": null,
   "id": "5e43bc2f-9538-44c7-aa10-1d2e70a60d8d",
   "metadata": {},
   "outputs": [],
   "source": [
    "plt.ylabel('medv')"
   ]
  },
  {
   "cell_type": "code",
   "execution_count": 15,
   "id": "2a235170-53c6-4567-baea-31c5b418e148",
   "metadata": {},
   "outputs": [],
   "source": [
    "plt.show()"
   ]
  },
  {
   "cell_type": "code",
   "execution_count": null,
   "id": "601d3368-c43b-4bca-82ad-af5f27d80a39",
   "metadata": {},
   "outputs": [],
   "source": [
    "상관계수 행렬"
   ]
  },
  {
   "cell_type": "code",
   "execution_count": null,
   "id": "3260fc6e-634a-4e09-b8ac-0715338aeca6",
   "metadata": {},
   "outputs": [],
   "source": [
    "boston2.corr()"
   ]
  },
  {
   "cell_type": "code",
   "execution_count": null,
   "id": "5a65dc20-9f17-4f9d-b0e5-5ac73661b933",
   "metadata": {},
   "outputs": [],
   "source": [
    "히트맵을 이용한 상관계수 시각화 1"
   ]
  },
  {
   "cell_type": "code",
   "execution_count": 17,
   "id": "fcee7a03-7f71-47b2-b3f9-656743567f95",
   "metadata": {},
   "outputs": [],
   "source": [
    "corrdf = boston2.corr()"
   ]
  },
  {
   "cell_type": "code",
   "execution_count": 18,
   "id": "08beb767-a58e-4450-ac3c-185bec5a4a93",
   "metadata": {},
   "outputs": [
    {
     "data": {
      "text/plain": [
       "<matplotlib.image.AxesImage at 0x7fc468a98310>"
      ]
     },
     "execution_count": 18,
     "metadata": {},
     "output_type": "execute_result"
    },
    {
     "data": {
      "image/png": "[encoded data removed]",
      "text/plain": [
       "<Figure size 288x288 with 1 Axes>"
      ]
     },
     "metadata": {
      "needs_background": "light"
     },
     "output_type": "display_data"
    }
   ],
   "source": [
    "plt.matshow(corrdf)"
   ]
  },
  {
   "cell_type": "code",
   "execution_count": 19,
   "id": "cd668ae4-e746-4c10-bc32-cd093cfdd945",
   "metadata": {},
   "outputs": [],
   "source": [
    "plt.show()"
   ]
  },
  {
   "cell_type": "code",
   "execution_count": null,
   "id": "bfd0463b-7ba1-41f4-b4eb-3e6b0b9638f9",
   "metadata": {},
   "outputs": [],
   "source": [
    "히트맵을 이용한 상관계수 시각화 2 - seaborn"
   ]
  },
  {
   "cell_type": "code",
   "execution_count": 20,
   "id": "6a0a3f73-1518-440a-9df8-d80b2f23ce61",
   "metadata": {},
   "outputs": [
    {
     "data": {
      "text/plain": [
       "<Figure size 936x936 with 0 Axes>"
      ]
     },
     "execution_count": 20,
     "metadata": {},
     "output_type": "execute_result"
    },
    {
     "data": {
      "text/plain": [
       "<Figure size 936x936 with 0 Axes>"
      ]
     },
     "metadata": {},
     "output_type": "display_data"
    }
   ],
   "source": [
    "plt.figure(figsize=(13, 13))"
   ]
  },
  {
   "cell_type": "code",
   "execution_count": null,
   "id": "1cc65767-6a70-427d-986f-d17b896a7740",
   "metadata": {},
   "outputs": [],
   "source": [
    "sns.heatmap(corrdf, anoot =True)"
   ]
  },
  {
   "cell_type": "code",
   "execution_count": null,
   "id": "e875d455-37a6-4096-afa2-42f9e41ee374",
   "metadata": {},
   "outputs": [],
   "source": []
  },
  {
   "cell_type": "code",
   "execution_count": null,
   "id": "6af54b5b-15d6-4897-8668-3d0b8f26bd1f",
   "metadata": {},
   "outputs": [],
   "source": [
    "전처리 - 독립변수 벡터화"
   ]
  },
  {
   "cell_type": "raw",
   "id": "5b924176-5d1b-4a31-b1c6-628aae52b3c9",
   "metadata": {},
   "source": []
  },
  {
   "cell_type": "code",
   "execution_count": 8,
   "id": "9d17677a-a32d-48ef-ad03-8fe19e500204",
   "metadata": {},
   "outputs": [],
   "source": [
    "from pyspark.ml.linalg import Vector"
   ]
  },
  {
   "cell_type": "code",
   "execution_count": 9,
   "id": "9c5bb0a9-86c3-4c92-85a3-e42583fd8b71",
   "metadata": {},
   "outputs": [],
   "source": [
    "from pyspark.ml.feature import VectorAssembler"
   ]
  },
  {
   "cell_type": "code",
   "execution_count": 16,
   "id": "46dc90f1-87fb-4734-b2ec-3a496be7a8a3",
   "metadata": {},
   "outputs": [],
   "source": [
    "va = VectorAssembler(inputCols=['crim','zn','indus','chas','nox','rm','age','dis','rad','tax','ptratio','black','lstat'], outputCol='features')"
   ]
  },
  {
   "cell_type": "code",
   "execution_count": 17,
   "id": "1f125f6f-6431-425f-aadc-26538f7a2d78",
   "metadata": {},
   "outputs": [],
   "source": [
    "boston = va.transform(boston)"
   ]
  },
  {
   "cell_type": "markdown",
   "id": "d922176e-a271-488b-844c-123915e9b14f",
   "metadata": {},
   "source": [
    "### 벡터화한 칼럼 확인"
   ]
  },
  {
   "cell_type": "code",
   "execution_count": 18,
   "id": "52664abe-a25b-4993-9945-931417b1bd22",
   "metadata": {},
   "outputs": [
    {
     "name": "stderr",
     "output_type": "stream",
     "text": [
      "21/10/12 00:59:14 WARN Utils: Truncated the string representation of a plan since it was too large. This behavior can be adjusted by setting 'spark.debug.maxToStringFields' in SparkEnv.conf.\n"
     ]
    },
    {
     "name": "stdout",
     "output_type": "stream",
     "text": [
      "+-------------------------------------------------------------------------+\n",
      "|features                                                                 |\n",
      "+-------------------------------------------------------------------------+\n",
      "|[0.00632,18.0,2.31,0.0,0.538,6.575,65.2,4.09,1.0,296.0,15.3,396.9,4.98]  |\n",
      "|[0.02731,0.0,7.07,0.0,0.469,6.421,78.9,4.9671,2.0,242.0,17.8,396.9,9.14] |\n",
      "|[0.02729,0.0,7.07,0.0,0.469,7.185,61.1,4.9671,2.0,242.0,17.8,392.83,4.03]|\n",
      "|[0.03237,0.0,2.18,0.0,0.458,6.998,45.8,6.0622,3.0,222.0,18.7,394.63,2.94]|\n",
      "|[0.06905,0.0,2.18,0.0,0.458,7.147,54.2,6.0622,3.0,222.0,18.7,396.9,5.33] |\n",
      "+-------------------------------------------------------------------------+\n",
      "only showing top 5 rows\n",
      "\n"
     ]
    }
   ],
   "source": [
    "boston.select('features').show(5,False)"
   ]
  },
  {
   "cell_type": "markdown",
   "id": "256dac88-6cd5-4060-9121-1fd317133994",
   "metadata": {},
   "source": [
    "### 독립변수와 종속변수를 추출해서 새로운 변수 생성"
   ]
  },
  {
   "cell_type": "code",
   "execution_count": 26,
   "id": "3666a4a5-4898-4989-803a-faee985acf4b",
   "metadata": {},
   "outputs": [],
   "source": [
    "model_df = boston.select('features','medv')"
   ]
  },
  {
   "cell_type": "code",
   "execution_count": 27,
   "id": "e8166875-690f-484c-a99a-bb56e7073691",
   "metadata": {},
   "outputs": [],
   "source": [
    "model_df = model_df.withColumnRenamed('medv','label')"
   ]
  },
  {
   "cell_type": "code",
   "execution_count": 28,
   "id": "d6f840ca-5d77-4147-b4f7-1a6f6a479fa3",
   "metadata": {},
   "outputs": [
    {
     "name": "stdout",
     "output_type": "stream",
     "text": [
      "+--------------------+-----+\n",
      "|            features|label|\n",
      "+--------------------+-----+\n",
      "|[0.00632,18.0,2.3...| 24.0|\n",
      "|[0.02731,0.0,7.07...| 21.6|\n",
      "|[0.02729,0.0,7.07...| 34.7|\n",
      "|[0.03237,0.0,2.18...| 33.4|\n",
      "|[0.06905,0.0,2.18...| 36.2|\n",
      "+--------------------+-----+\n",
      "only showing top 5 rows\n",
      "\n"
     ]
    }
   ],
   "source": [
    "model_df.show(5)"
   ]
  },
  {
   "cell_type": "markdown",
   "id": "1110bfcc-95e1-4968-8231-6d8bb14c1d16",
   "metadata": {},
   "source": [
    "### 훈련셋, 테스트셋 생성"
   ]
  },
  {
   "cell_type": "code",
   "execution_count": 29,
   "id": "991f1d74-6316-4869-a56b-27525bf8d1db",
   "metadata": {},
   "outputs": [],
   "source": [
    "seed = 2110120945"
   ]
  },
  {
   "cell_type": "code",
   "execution_count": 30,
   "id": "fbc6b1db-58b1-4569-a3cf-cd74a1ba3668",
   "metadata": {},
   "outputs": [],
   "source": [
    "train, test = model_df.randomSplit([0.75, 0.25], seed)"
   ]
  },
  {
   "cell_type": "code",
   "execution_count": 31,
   "id": "0b038c6a-40b9-47cd-afda-68e2f2ea127f",
   "metadata": {},
   "outputs": [
    {
     "name": "stdout",
     "output_type": "stream",
     "text": [
      "train set size : 376\n"
     ]
    }
   ],
   "source": [
    "print(f'train set size : {train.count()}')"
   ]
  },
  {
   "cell_type": "code",
   "execution_count": 32,
   "id": "05051748-6dad-4f28-aed5-5642edcaa6f1",
   "metadata": {},
   "outputs": [
    {
     "name": "stdout",
     "output_type": "stream",
     "text": [
      "test set size : 376\n"
     ]
    }
   ],
   "source": [
    "print(f'test set size : {train.count()}')"
   ]
  },
  {
   "cell_type": "markdown",
   "id": "fa064de6-4d04-4a52-a0a1-ddf630412d04",
   "metadata": {},
   "source": [
    "### 선형회귀분석\n",
    "+ ML 중요지표 : R^2, 오차값\n",
    "+ 통계 중요지표 : "
   ]
  },
  {
   "cell_type": "code",
   "execution_count": 24,
   "id": "d9940273-bbe3-472f-af7f-e26a5129e4e1",
   "metadata": {},
   "outputs": [],
   "source": [
    "from pyspark.ml.regression import LinearRegression"
   ]
  },
  {
   "cell_type": "code",
   "execution_count": 25,
   "id": "4bd0816f-bc33-4d34-a656-85e3607a63df",
   "metadata": {},
   "outputs": [],
   "source": [
    "lr = LinearRegression()"
   ]
  },
  {
   "cell_type": "code",
   "execution_count": 33,
   "id": "577cb56a-2672-42fe-8010-31822819fb15",
   "metadata": {},
   "outputs": [
    {
     "name": "stderr",
     "output_type": "stream",
     "text": [
      "21/10/12 01:10:34 WARN Instrumentation: [592fe417] regParam is zero, which might cause numerical instability and overfitting.\n",
      "21/10/12 01:10:34 WARN BLAS: Failed to load implementation from: com.github.fommil.netlib.NativeSystemBLAS\n",
      "21/10/12 01:10:34 WARN BLAS: Failed to load implementation from: com.github.fommil.netlib.NativeRefBLAS\n",
      "21/10/12 01:10:34 WARN LAPACK: Failed to load implementation from: com.github.fommil.netlib.NativeSystemLAPACK\n",
      "21/10/12 01:10:34 WARN LAPACK: Failed to load implementation from: com.github.fommil.netlib.NativeRefLAPACK\n"
     ]
    }
   ],
   "source": [
    "trained = lr.fit(train)"
   ]
  },
  {
   "cell_type": "code",
   "execution_count": 34,
   "id": "ad079700-a692-4e54-9c5e-1f25025e6aee",
   "metadata": {},
   "outputs": [],
   "source": [
    "pred =trained.transform(test)"
   ]
  },
  {
   "cell_type": "code",
   "execution_count": 36,
   "id": "5036c2d1-fdc1-428f-9f8d-77693687ab30",
   "metadata": {},
   "outputs": [
    {
     "name": "stdout",
     "output_type": "stream",
     "text": [
      "+-----+------------------+\n",
      "|label|        prediction|\n",
      "+-----+------------------+\n",
      "| 30.1| 25.12998317867188|\n",
      "| 33.0| 22.53942393820208|\n",
      "| 26.6| 21.40474994161692|\n",
      "| 18.5| 18.95089817175425|\n",
      "| 19.5|20.038435263360817|\n",
      "+-----+------------------+\n",
      "only showing top 5 rows\n",
      "\n"
     ]
    }
   ],
   "source": [
    "pred.select('label', 'prediction').show(5)"
   ]
  },
  {
   "cell_type": "markdown",
   "id": "de13538c-55e6-4477-bf30-2b3a97adadd4",
   "metadata": {},
   "source": [
    "### 회귀모형 평가"
   ]
  },
  {
   "cell_type": "code",
   "execution_count": 37,
   "id": "2d92e986-251e-41b2-a082-792727976b1c",
   "metadata": {},
   "outputs": [],
   "source": [
    "pred = trained.evaluate(test)"
   ]
  },
  {
   "cell_type": "code",
   "execution_count": 38,
   "id": "bb3f2589-952a-4090-8b14-4cf1fedad212",
   "metadata": {},
   "outputs": [
    {
     "data": {
      "text/plain": [
       "0.6580736858103006"
      ]
     },
     "execution_count": 38,
     "metadata": {},
     "output_type": "execute_result"
    }
   ],
   "source": [
    "pred.r2                # 결정계수 - 적어도 0.75수준은 되어야 써먹을만함"
   ]
  },
  {
   "cell_type": "code",
   "execution_count": 39,
   "id": "af7557b1-d001-4310-918b-b6496a21e053",
   "metadata": {},
   "outputs": [
    {
     "data": {
      "text/plain": [
       "24.690415183484113"
      ]
     },
     "execution_count": 39,
     "metadata": {},
     "output_type": "execute_result"
    }
   ],
   "source": [
    "pred.meanSquaredError   # 평균제곱오차"
   ]
  },
  {
   "cell_type": "code",
   "execution_count": 40,
   "id": "755275cf-b121-4a54-bfed-a2eb8f4190eb",
   "metadata": {},
   "outputs": [
    {
     "data": {
      "text/plain": [
       "DenseVector([-0.1576, 0.052, 0.0775, 0.9283, -18.0278, 3.8515, -0.0109, -1.6083, 0.3567, -0.014, -1.0167, 0.0115, -0.5283])"
      ]
     },
     "execution_count": 40,
     "metadata": {},
     "output_type": "execute_result"
    }
   ],
   "source": [
    "trained.coefficients   # 회귀계수 (기울기)"
   ]
  },
  {
   "cell_type": "code",
   "execution_count": 41,
   "id": "76f4ea36-0615-4fe4-98e6-f3eb948a4be7",
   "metadata": {},
   "outputs": [
    {
     "data": {
      "text/plain": [
       "37.731981265752424"
      ]
     },
     "execution_count": 41,
     "metadata": {},
     "output_type": "execute_result"
    }
   ],
   "source": [
    "trained.intercept      # 회귀계수 (절편)"
   ]
  },
  {
   "cell_type": "code",
   "execution_count": null,
   "id": "f603dada-95c5-49f5-a3be-b1bb5b1a4ed5",
   "metadata": {},
   "outputs": [],
   "source": []
  },
  {
   "cell_type": "markdown",
   "id": "fb3af5d5-1282-4f36-903d-b201b6ea29b9",
   "metadata": {},
   "source": [
    "### 범죄율, 단위면적당 거주주민수,"
   ]
  },
  {
   "cell_type": "code",
   "execution_count": 13,
   "id": "5ba9b395-d7ef-4fde-841d-8f4dbcddcf95",
   "metadata": {},
   "outputs": [
    {
     "data": {
      "text/plain": [
       "<AxesSubplot:xlabel='crim', ylabel='Density'>"
      ]
     },
     "execution_count": 13,
     "metadata": {},
     "output_type": "execute_result"
    },
    {
     "data": {
      "image/png": "[encoded data removed]",
      "text/plain": [
       "<Figure size 432x288 with 1 Axes>"
      ]
     },
     "metadata": {
      "needs_background": "light"
     },
     "output_type": "display_data"
    }
   ],
   "source": [
    "sns.kdeplot(data=boston2, x='crim')"
   ]
  },
  {
   "cell_type": "code",
   "execution_count": null,
   "id": "7af41acb-c313-4ed0-9288-fce97cff04a8",
   "metadata": {},
   "outputs": [],
   "source": [
    "plt.plot(boston2['Sepal Length'], iris2['Sepal Width'], 'o')"
   ]
  },
  {
   "cell_type": "code",
   "execution_count": null,
   "id": "39081afe-d369-45b3-995e-1eb15fa2daa0",
   "metadata": {},
   "outputs": [],
   "source": []
  },
  {
   "cell_type": "markdown",
   "id": "f6e9a15b-1c05-4f99-8850-4c79f1d193b6",
   "metadata": {},
   "source": [
    "### 비상업지구 거주민, 강근처 주택여부, 오염도 비율,"
   ]
  },
  {
   "cell_type": "code",
   "execution_count": null,
   "id": "4bf39bd7-cbea-44df-a466-fd94ad8c0f93",
   "metadata": {},
   "outputs": [],
   "source": []
  },
  {
   "cell_type": "markdown",
   "id": "95f07b54-442a-44da-9bf1-965ca208eeea",
   "metadata": {},
   "source": [
    "### 공실비율, 노후주택 비율, 도로 접근성비율,"
   ]
  },
  {
   "cell_type": "code",
   "execution_count": null,
   "id": "521bfa13-e866-4c48-a1f2-b821396900f2",
   "metadata": {},
   "outputs": [],
   "source": []
  },
  {
   "cell_type": "markdown",
   "id": "420729d4-4c62-4dde-a029-6f8049dfb3d2",
   "metadata": {},
   "source": [
    "### 재산세 납부비율, 학생/교사 비율, 유색인종 비율,"
   ]
  },
  {
   "cell_type": "code",
   "execution_count": null,
   "id": "a93285b5-26e9-4ea1-9c93-ced0639e145b",
   "metadata": {},
   "outputs": [],
   "source": []
  },
  {
   "cell_type": "markdown",
   "id": "c1d3549e-9d7c-40f3-ab63-e68201ae7887",
   "metadata": {},
   "source": [
    "### 하위계층 비율, 본인소유 주택가격(유일한 종속변수)"
   ]
  },
  {
   "cell_type": "code",
   "execution_count": null,
   "id": "d727169b-0b06-4b6d-9226-3f2a76cec1d6",
   "metadata": {},
   "outputs": [],
   "source": []
  },
  {
   "cell_type": "markdown",
   "id": "63b6c06b-582a-4dab-826a-372436780cb1",
   "metadata": {},
   "source": [
    "## 최종적으로 집값에 영향을 주는 요인은?"
   ]
  },
  {
   "cell_type": "code",
   "execution_count": null,
   "id": "2a0d4003-da29-4ed1-a689-e7af215b188c",
   "metadata": {},
   "outputs": [],
   "source": []
  },
  {
   "cell_type": "code",
   "execution_count": null,
   "id": "bfbfa0ca-26a4-41b1-9406-8acc34f9c88b",
   "metadata": {},
   "outputs": [],
   "source": []
  }
 ],
 "metadata": {
  "kernelspec": {
   "display_name": "Python 3 (ipykernel)",
   "language": "python",
   "name": "python3"
  },
  "language_info": {
   "codemirror_mode": {
    "name": "ipython",
    "version": 3
   },
   "file_extension": ".py",
   "mimetype": "text/x-python",
   "name": "python",
   "nbconvert_exporter": "python",
   "pygments_lexer": "ipython3",
   "version": "3.7.10"
  }
 },
 "nbformat": 4,
 "nbformat_minor": 5
}
