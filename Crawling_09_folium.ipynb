{
 "cells": [
  {
   "cell_type": "markdown",
   "id": "c708bdc7-9bd7-4f6c-a016-8a02a1e7e0e8",
   "metadata": {},
   "source": [
    "#### 오픈소스 무료지도API : folium\n",
    "+ python-visualization.github.io/folium"
   ]
  },
  {
   "cell_type": "code",
   "execution_count": 43,
   "id": "e1d4312a-841c-418f-a76c-3a7c9584733a",
   "metadata": {},
   "outputs": [],
   "source": [
    "import folium"
   ]
  },
  {
   "cell_type": "code",
   "execution_count": 44,
   "id": "65f1d9d7-ab11-45f1-bda6-43ff70c7a1cd",
   "metadata": {},
   "outputs": [],
   "source": [
    "lat = 37.566"
   ]
  },
  {
   "cell_type": "code",
   "execution_count": 45,
   "id": "91afbe34-12c4-4fe3-91a6-c2cd849ffb08",
   "metadata": {},
   "outputs": [],
   "source": [
    "lng = 126.9784"
   ]
  },
  {
   "cell_type": "code",
   "execution_count": 46,
   "id": "10b3d53c-5462-4e65-9d5d-171a31a41bc0",
   "metadata": {},
   "outputs": [],
   "source": [
    "fmap = folium.Map([lat, lng])"
   ]
  },
  {
   "cell_type": "code",
   "execution_count": 47,
   "id": "8b2a8506-944b-4f03-b408-b6b796c04d7b",
   "metadata": {},
   "outputs": [],
   "source": [
    "fmap.save('maps/fmap1.html')"
   ]
  },
  {
   "cell_type": "markdown",
   "id": "999a10ac-a1eb-4592-953c-8572061bf071",
   "metadata": {},
   "source": [
    "#### 마커 표시\n"
   ]
  },
  {
   "cell_type": "code",
   "execution_count": 48,
   "id": "9c4860cc-b832-4f4a-a415-6a8e1077d27a",
   "metadata": {},
   "outputs": [],
   "source": [
    "tooltip = 'over here!!'"
   ]
  },
  {
   "cell_type": "code",
   "execution_count": 49,
   "id": "bcab0cbe-02ec-4155-9e90-3fc55927c2eb",
   "metadata": {},
   "outputs": [],
   "source": [
    "fmap = folium.Map([lat, lng], zoom_start=17)\n",
    "folium.Marker([lat, lng], popup=tooltip, tooltip=tooltip).add_to(fmap)\n",
    "fmap.save('maps/fmap1b.html')"
   ]
  },
  {
   "cell_type": "markdown",
   "id": "4ba6e1d2-94ae-43a1-894c-0d2764ea0019",
   "metadata": {},
   "source": [
    "#### 마커 표시2\n"
   ]
  },
  {
   "cell_type": "code",
   "execution_count": 50,
   "id": "4d742090-e21b-49fc-ac3c-b9d33ea9a9f7",
   "metadata": {},
   "outputs": [],
   "source": [
    "fmap = folium.Map([lat, lng], zoom_start=17)\n",
    "folium.Marker([lat, lng], popup='<b>over here!!</b>', tooltip=tooltip, icon=folium.Icon(color='red',icon='phone')).add_to(fmap)\n",
    "fmap.save('maps/fmap1c.html')"
   ]
  },
  {
   "cell_type": "code",
   "execution_count": null,
   "id": "a8b573be-969d-4891-b8fa-9b0a8e65e5d7",
   "metadata": {},
   "outputs": [],
   "source": []
  },
  {
   "cell_type": "markdown",
   "id": "b7a6a0b7-3013-4f12-8157-d863632e8637",
   "metadata": {},
   "source": [
    "### geojson을 이용한 지도 시각화\n",
    "+ github.com/southkorea"
   ]
  },
  {
   "cell_type": "code",
   "execution_count": 1,
   "id": "35c9d0bd-b251-4cde-9776-c97b99996f6a",
   "metadata": {},
   "outputs": [],
   "source": [
    "import json"
   ]
  },
  {
   "cell_type": "code",
   "execution_count": 2,
   "id": "b8dfc0d3-3d1f-441a-8aac-e20fec85b1e1",
   "metadata": {},
   "outputs": [],
   "source": [
    "with open('data/2018.json') as f:\n",
    "           kor2018geo = json.load(f)"
   ]
  },
  {
   "cell_type": "code",
   "execution_count": 3,
   "id": "8c21a682-a899-4bb3-8072-60b9476d82fa",
   "metadata": {},
   "outputs": [
    {
     "data": {
      "text/plain": [
       "'서울특별시'"
      ]
     },
     "execution_count": 3,
     "metadata": {},
     "output_type": "execute_result"
    }
   ],
   "source": [
    "kor2018geo['features'][0]['properties']['name']"
   ]
  },
  {
   "cell_type": "code",
   "execution_count": null,
   "id": "96c6b957-80d5-4031-986a-589047b9a38d",
   "metadata": {},
   "outputs": [],
   "source": [
    "kor2018geo['features'][1]"
   ]
  },
  {
   "cell_type": "code",
   "execution_count": 5,
   "id": "5c524cd5-5c68-4bf6-b163-5f920a3d2a9b",
   "metadata": {},
   "outputs": [
    {
     "ename": "NameError",
     "evalue": "name 'folium' is not defined",
     "output_type": "error",
     "traceback": [
      "\u001b[0;31m---------------------------------------------------------------------------\u001b[0m",
      "\u001b[0;31mNameError\u001b[0m                                 Traceback (most recent call last)",
      "\u001b[0;32m/tmp/ipykernel_4981/1662010255.py\u001b[0m in \u001b[0;36m<module>\u001b[0;34m\u001b[0m\n\u001b[0;32m----> 1\u001b[0;31m \u001b[0mfmap\u001b[0m \u001b[0;34m=\u001b[0m \u001b[0mfolium\u001b[0m\u001b[0;34m.\u001b[0m\u001b[0mMap\u001b[0m\u001b[0;34m(\u001b[0m\u001b[0;34m[\u001b[0m\u001b[0mlat\u001b[0m\u001b[0;34m,\u001b[0m \u001b[0mlng\u001b[0m\u001b[0;34m]\u001b[0m\u001b[0;34m,\u001b[0m \u001b[0mzoom_start\u001b[0m\u001b[0;34m=\u001b[0m\u001b[0;36m7\u001b[0m\u001b[0;34m)\u001b[0m\u001b[0;34m\u001b[0m\u001b[0;34m\u001b[0m\u001b[0m\n\u001b[0m",
      "\u001b[0;31mNameError\u001b[0m: name 'folium' is not defined"
     ]
    }
   ],
   "source": [
    "fmap = folium.Map([lat, lng], zoom_start=7)"
   ]
  },
  {
   "cell_type": "code",
   "execution_count": 56,
   "id": "320d3374-0cd6-48f7-976d-5315db495703",
   "metadata": {},
   "outputs": [
    {
     "data": {
      "text/plain": [
       "<folium.features.GeoJson at 0x7fbf86b94ad0>"
      ]
     },
     "execution_count": 56,
     "metadata": {},
     "output_type": "execute_result"
    }
   ],
   "source": [
    "folium.GeoJson(kor2018geo).add_to(fmap)"
   ]
  },
  {
   "cell_type": "code",
   "execution_count": 57,
   "id": "a63dbea3-856e-4c70-9f7e-c889574a8d38",
   "metadata": {},
   "outputs": [],
   "source": [
    "fmap.save('maps/fmap2.html')"
   ]
  },
  {
   "cell_type": "markdown",
   "id": "01001184-4eec-4ff5-b910-d0835b547669",
   "metadata": {},
   "source": [
    "#### 서울시 경계구역 시각화"
   ]
  },
  {
   "cell_type": "code",
   "execution_count": 58,
   "id": "ba5fe62f-4516-4a73-9846-c118f43edb77",
   "metadata": {},
   "outputs": [],
   "source": [
    "import googlemaps as gmaps\n",
    "import matplotlib.pyplot as plt\n",
    "import requests\n",
    "from collections import OrderedDict\n",
    "from bs4 import BeautifulSoup\n",
    "import matplotlib as mpl\n",
    "import gmaps\n",
    "import gmaps.datasets\n",
    "from ipywidgets.embed import embed_minimal_html\n",
    "from matplotlib import cm\n",
    "from ipywidgets.embed import embed_minimal_html\n",
    "import pandas as pd"
   ]
  },
  {
   "cell_type": "code",
   "execution_count": 59,
   "id": "35a5916b-eb04-4c6b-9227-8f78a8131155",
   "metadata": {},
   "outputs": [],
   "source": [
    "with open('data/seoul_geo_simple.json') as f:\n",
    "           seoul_geo = json.load(f)"
   ]
  },
  {
   "cell_type": "code",
   "execution_count": 60,
   "id": "2b2dfbbe-1c99-4f55-a354-2c7d8807152a",
   "metadata": {},
   "outputs": [],
   "source": [
    "fmap = folium.Map([lat, lng], zoom_start=11)\n",
    "folium.GeoJson(seoul_geo).add_to(fmap)\n",
    "fmap.save('maps/fmap2b.html')"
   ]
  },
  {
   "cell_type": "code",
   "execution_count": null,
   "id": "7dd4b80d-d713-4f1a-a0b8-d92e27abe8a2",
   "metadata": {},
   "outputs": [],
   "source": []
  },
  {
   "cell_type": "markdown",
   "id": "3869073c-f62d-43ef-ac14-c884bd7606e4",
   "metadata": {},
   "source": [
    "#### 서울시 구별 인구수 단계구분도 시각화"
   ]
  },
  {
   "cell_type": "code",
   "execution_count": 61,
   "id": "a1fe52c7-5554-464f-8857-e6e2ddb1a9ae",
   "metadata": {},
   "outputs": [],
   "source": [
    "pop = pd.read_csv('data/seoul_pop_2019.csv', header=None, encoding='euc=kr')"
   ]
  },
  {
   "cell_type": "code",
   "execution_count": 62,
   "id": "e850c550-63ca-440a-b0fc-b243857bc6f2",
   "metadata": {},
   "outputs": [],
   "source": [
    "pop.columns = ['gu','pop']\n",
    "pop.head()\n",
    "pop['pop'] = pop['pop'].str.replace(',','')\n",
    "pop['pop'] = pop['pop'].apply(lambda x: int(x))"
   ]
  },
  {
   "cell_type": "code",
   "execution_count": 63,
   "id": "d41ba913-7bef-4dfb-9313-e4066be9305f",
   "metadata": {},
   "outputs": [
    {
     "data": {
      "text/html": [
       "<div>\n",
       "<style scoped>\n",
       "    .dataframe tbody tr th:only-of-type {\n",
       "        vertical-align: middle;\n",
       "    }\n",
       "\n",
       "    .dataframe tbody tr th {\n",
       "        vertical-align: top;\n",
       "    }\n",
       "\n",
       "    .dataframe thead th {\n",
       "        text-align: right;\n",
       "    }\n",
       "</style>\n",
       "<table border=\"1\" class=\"dataframe\">\n",
       "  <thead>\n",
       "    <tr style=\"text-align: right;\">\n",
       "      <th></th>\n",
       "      <th>gu</th>\n",
       "      <th>pop</th>\n",
       "    </tr>\n",
       "  </thead>\n",
       "  <tbody>\n",
       "    <tr>\n",
       "      <th>0</th>\n",
       "      <td>종로구</td>\n",
       "      <td>152026</td>\n",
       "    </tr>\n",
       "    <tr>\n",
       "      <th>1</th>\n",
       "      <td>중구</td>\n",
       "      <td>126143</td>\n",
       "    </tr>\n",
       "    <tr>\n",
       "      <th>2</th>\n",
       "      <td>용산구</td>\n",
       "      <td>229122</td>\n",
       "    </tr>\n",
       "    <tr>\n",
       "      <th>3</th>\n",
       "      <td>성동구</td>\n",
       "      <td>304936</td>\n",
       "    </tr>\n",
       "    <tr>\n",
       "      <th>4</th>\n",
       "      <td>광진구</td>\n",
       "      <td>353878</td>\n",
       "    </tr>\n",
       "  </tbody>\n",
       "</table>\n",
       "</div>"
      ],
      "text/plain": [
       "    gu     pop\n",
       "0  종로구  152026\n",
       "1   중구  126143\n",
       "2  용산구  229122\n",
       "3  성동구  304936\n",
       "4  광진구  353878"
      ]
     },
     "execution_count": 63,
     "metadata": {},
     "output_type": "execute_result"
    }
   ],
   "source": [
    "pop.head()"
   ]
  },
  {
   "cell_type": "code",
   "execution_count": 68,
   "id": "215da7e7-784b-490a-944a-8b1ff9f301a6",
   "metadata": {},
   "outputs": [],
   "source": [
    "fmap = folium.Map([lat, lng], zoom_start=11)\n",
    "folium.Choropleth(geo_data = seoul_geo, data=pop, columns=['gu','pop'], key_on='feature.properties.name', fill_color='YlGn', fill_opcity=0.7).add_to(fmap) # 배열을 단수 단어로 한다\n",
    "fmap.save('maps/fmap3.html')"
   ]
  },
  {
   "cell_type": "code",
   "execution_count": null,
   "id": "48a74de6-a693-4bb7-8ff0-d14961894521",
   "metadata": {},
   "outputs": [],
   "source": [
    "seoul_geo"
   ]
  },
  {
   "cell_type": "code",
   "execution_count": null,
   "id": "a39139e5-ad23-4cb4-92b3-7bcc274389a6",
   "metadata": {},
   "outputs": [],
   "source": []
  },
  {
   "cell_type": "code",
   "execution_count": null,
   "id": "24b30cff-608c-4038-9af5-c30a98ba84a0",
   "metadata": {},
   "outputs": [],
   "source": []
  },
  {
   "cell_type": "code",
   "execution_count": null,
   "id": "3046c875-e076-48b6-bd43-c0981bb18c77",
   "metadata": {},
   "outputs": [],
   "source": []
  },
  {
   "cell_type": "code",
   "execution_count": null,
   "id": "57c0b1bd-9158-447c-8c45-db0919dd501f",
   "metadata": {},
   "outputs": [],
   "source": []
  },
  {
   "cell_type": "markdown",
   "id": "12370fc3-a167-4472-a71d-26996a2012bf",
   "metadata": {},
   "source": [
    "### 미 실업률"
   ]
  },
  {
   "cell_type": "code",
   "execution_count": 69,
   "id": "dab0dcd3-03e3-4c73-ae7f-2cf86d887b2c",
   "metadata": {},
   "outputs": [],
   "source": [
    "with open('data/usa_states_geo_simple.json') as f:\n",
    "           usa_geo = json.load(f)"
   ]
  },
  {
   "cell_type": "code",
   "execution_count": 70,
   "id": "bfdb142c-85b2-4780-a9ef-2d49773420b2",
   "metadata": {},
   "outputs": [
    {
     "data": {
      "text/html": [
       "<div>\n",
       "<style scoped>\n",
       "    .dataframe tbody tr th:only-of-type {\n",
       "        vertical-align: middle;\n",
       "    }\n",
       "\n",
       "    .dataframe tbody tr th {\n",
       "        vertical-align: top;\n",
       "    }\n",
       "\n",
       "    .dataframe thead th {\n",
       "        text-align: right;\n",
       "    }\n",
       "</style>\n",
       "<table border=\"1\" class=\"dataframe\">\n",
       "  <thead>\n",
       "    <tr style=\"text-align: right;\">\n",
       "      <th></th>\n",
       "      <th>State</th>\n",
       "      <th>Unemployment</th>\n",
       "    </tr>\n",
       "  </thead>\n",
       "  <tbody>\n",
       "    <tr>\n",
       "      <th>0</th>\n",
       "      <td>AL</td>\n",
       "      <td>7.1</td>\n",
       "    </tr>\n",
       "    <tr>\n",
       "      <th>1</th>\n",
       "      <td>AK</td>\n",
       "      <td>6.8</td>\n",
       "    </tr>\n",
       "    <tr>\n",
       "      <th>2</th>\n",
       "      <td>AZ</td>\n",
       "      <td>8.1</td>\n",
       "    </tr>\n",
       "    <tr>\n",
       "      <th>3</th>\n",
       "      <td>AR</td>\n",
       "      <td>7.2</td>\n",
       "    </tr>\n",
       "    <tr>\n",
       "      <th>4</th>\n",
       "      <td>CA</td>\n",
       "      <td>10.1</td>\n",
       "    </tr>\n",
       "  </tbody>\n",
       "</table>\n",
       "</div>"
      ],
      "text/plain": [
       "  State  Unemployment\n",
       "0    AL           7.1\n",
       "1    AK           6.8\n",
       "2    AZ           8.1\n",
       "3    AR           7.2\n",
       "4    CA          10.1"
      ]
     },
     "execution_count": 70,
     "metadata": {},
     "output_type": "execute_result"
    }
   ],
   "source": [
    "unemp = pd.read_csv('data/unemployment.csv')\n",
    "unemp.head()"
   ]
  },
  {
   "cell_type": "code",
   "execution_count": 71,
   "id": "13955735-fc44-483f-9bfa-82744e31b026",
   "metadata": {},
   "outputs": [],
   "source": [
    "usa = (48, -102)"
   ]
  },
  {
   "cell_type": "code",
   "execution_count": 72,
   "id": "100a81c5-cc35-4675-b6af-8db04bc184e6",
   "metadata": {},
   "outputs": [],
   "source": [
    "fmap = folium.Map([48, -102], zoom_start=4)\n",
    "folium.GeoJson(usa_geo).add_to(fmap)\n",
    "fmap.save('maps/fmap4.html')"
   ]
  },
  {
   "cell_type": "code",
   "execution_count": 79,
   "id": "27b38b61-a917-4aee-a5d4-26c4599521ac",
   "metadata": {},
   "outputs": [],
   "source": [
    "fmap = folium.Map([48, -102], zoom_start=4)\n",
    "folium.Choropleth(geo_data = usa_geo, data=unemp, columns=['State','Unemployment'], key_on='feature.id', fill_color='PuBu', fill_opcity=0.7).add_to(fmap) # 배열을 단수 단어로 한다\n",
    "fmap.save('maps/fmap4b.html')"
   ]
  },
  {
   "cell_type": "code",
   "execution_count": null,
   "id": "6db4d4cb-4a76-4604-ae8b-6e3c376d1d40",
   "metadata": {},
   "outputs": [],
   "source": [
    "usa_geo"
   ]
  },
  {
   "cell_type": "code",
   "execution_count": null,
   "id": "c0063c62-4156-4cd2-9f85-adef56c95ef5",
   "metadata": {},
   "outputs": [],
   "source": []
  },
  {
   "cell_type": "code",
   "execution_count": null,
   "id": "70894c8b-6c24-41c8-b48d-7ea6bdf323cb",
   "metadata": {},
   "outputs": [],
   "source": []
  },
  {
   "cell_type": "markdown",
   "id": "2d11f485-5f46-4792-a0f9-2ca46d239eda",
   "metadata": {},
   "source": []
  },
  {
   "cell_type": "markdown",
   "id": "7f836d22-d1e3-4f1f-ac46-5a170f77e98f",
   "metadata": {},
   "source": []
  },
  {
   "cell_type": "code",
   "execution_count": null,
   "id": "53b6a8d3-880e-412d-b009-2c8529ecf892",
   "metadata": {},
   "outputs": [],
   "source": []
  },
  {
   "cell_type": "code",
   "execution_count": null,
   "id": "b5320c67-489b-459f-86f9-84ac93ea8a51",
   "metadata": {},
   "outputs": [],
   "source": []
  },
  {
   "cell_type": "code",
   "execution_count": null,
   "id": "8e06ea0b-3a06-4dff-ad6f-7d4108c9b08e",
   "metadata": {},
   "outputs": [],
   "source": []
  },
  {
   "cell_type": "code",
   "execution_count": null,
   "id": "129b2adf-74b1-453b-83fb-92918f686190",
   "metadata": {},
   "outputs": [],
   "source": []
  },
  {
   "cell_type": "code",
   "execution_count": null,
   "id": "114c7fe3-1dd7-4cdd-a656-9803e76ac58f",
   "metadata": {},
   "outputs": [],
   "source": []
  }
 ],
 "metadata": {
  "kernelspec": {
   "display_name": "Python 3 (ipykernel)",
   "language": "python",
   "name": "python3"
  },
  "language_info": {
   "codemirror_mode": {
    "name": "ipython",
    "version": 3
   },
   "file_extension": ".py",
   "mimetype": "text/x-python",
   "name": "python",
   "nbconvert_exporter": "python",
   "pygments_lexer": "ipython3",
   "version": "3.7.10"
  }
 },
 "nbformat": 4,
 "nbformat_minor": 5
}
