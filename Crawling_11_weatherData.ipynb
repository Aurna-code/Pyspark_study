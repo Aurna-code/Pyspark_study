{
 "cells": [
  {
   "cell_type": "markdown",
   "id": "ffd6b5de-9e69-48ec-afda-e009abcab279",
   "metadata": {},
   "source": [
    "## 기상청 날씨 데이터 수집하기\n",
    "+ RSS : rich site summary\n",
    "+ 사이트를 구독한 사용자에게 업데이트된 컨텐츠를 간편하게 배포하고자 만든 데이터 형식\n",
    "+ 사이트 방문 없이 해당 사이트 컨텐츠 이용가능"
   ]
  },
  {
   "cell_type": "code",
   "execution_count": 1,
   "id": "6d4e8827-a68b-435b-bded-b7ee78125fe7",
   "metadata": {},
   "outputs": [
    {
     "name": "stdout",
     "output_type": "stream",
     "text": [
      "Defaulting to user installation because normal site-packages is not writeable\n",
      "Requirement already satisfied: lxml in ./.local/lib/python3.7/site-packages (4.6.3)\n",
      "Note: you may need to restart the kernel to use updated packages.\n"
     ]
    }
   ],
   "source": [
    "pip install lxml"
   ]
  },
  {
   "cell_type": "code",
   "execution_count": 8,
   "id": "002414cc-ab55-4140-9f85-b8b2efe21ad0",
   "metadata": {},
   "outputs": [
    {
     "name": "stdout",
     "output_type": "stream",
     "text": [
      "Defaulting to user installation because normal site-packages is not writeable\n",
      "Requirement already satisfied: cssselect in ./.local/lib/python3.7/site-packages (1.1.0)\n",
      "Note: you may need to restart the kernel to use updated packages.\n"
     ]
    }
   ],
   "source": [
    "pip install cssselect"
   ]
  },
  {
   "cell_type": "code",
   "execution_count": 6,
   "id": "d0c716fa-8e44-4c5f-9950-a715a771f948",
   "metadata": {},
   "outputs": [],
   "source": [
    "import requests"
   ]
  },
  {
   "cell_type": "code",
   "execution_count": 9,
   "id": "32c01575-079c-4674-abaa-7c39d715e1a4",
   "metadata": {},
   "outputs": [],
   "source": [
    "import lxml.html "
   ]
  },
  {
   "cell_type": "code",
   "execution_count": 7,
   "id": "2ee08719-498e-4bbb-ab35-9cb970bc0bf8",
   "metadata": {},
   "outputs": [],
   "source": [
    "from lxml.cssselect import CSSSelector"
   ]
  },
  {
   "cell_type": "code",
   "execution_count": 11,
   "id": "e722ec81-9206-47c8-be25-afdb12717e4f",
   "metadata": {},
   "outputs": [],
   "source": [
    "from xml.etree import ElementTree"
   ]
  },
  {
   "cell_type": "code",
   "execution_count": 4,
   "id": "747c9e07-df25-4592-a7ca-e94fdfc3bcdb",
   "metadata": {},
   "outputs": [],
   "source": [
    "url = 'https://www.kma.go.kr/wid/queryDFSRSS.jsp?zone=1171067000'"
   ]
  },
  {
   "cell_type": "code",
   "execution_count": 17,
   "id": "12258334-bb4c-4c17-bdda-b861596a1578",
   "metadata": {},
   "outputs": [],
   "source": [
    "headers = {'User-Agent' : 'Mozilla/5.0 (Windows NT 10.0; Win64; x64) AppleWebKit/537.36 (KHTML, like Gecko) Chrome/95.0.4638.54 Safari/537.36'}"
   ]
  },
  {
   "cell_type": "code",
   "execution_count": 18,
   "id": "06879ac4-29c7-493f-b07a-3f619359e69e",
   "metadata": {},
   "outputs": [],
   "source": [
    "res = requests.get(url, headers=headers)"
   ]
  },
  {
   "cell_type": "code",
   "execution_count": 20,
   "id": "369c2056-cfca-4c76-a6c4-e330d9ee51f3",
   "metadata": {},
   "outputs": [],
   "source": [
    "rss = res.text"
   ]
  },
  {
   "cell_type": "code",
   "execution_count": 13,
   "id": "8b0cc848-0042-4a36-a3c4-0937c6dedfd0",
   "metadata": {},
   "outputs": [
    {
     "name": "stdout",
     "output_type": "stream",
     "text": [
      "200 UTF-8 text/xml;charset=UTF-8\n"
     ]
    }
   ],
   "source": [
    "print(res.status_code, res.encoding, res.headers['content-type'])"
   ]
  },
  {
   "cell_type": "code",
   "execution_count": 21,
   "id": "e8025aae-c46e-450f-a0c1-b031aa87877c",
   "metadata": {},
   "outputs": [
    {
     "data": {
      "text/plain": [
       "'<?xml version=\"1.0\" encoding=\"UTF-8\" ?>\\n<rss version=\"2.0\">\\n<channel>\\n<title>기상청 동네예보 웹서비스 - 서울특별시 송파구 잠실2동 도표예보</title>\\n<link>http://www.kma.go.kr/weather/main.jsp</link>\\n<description>동네예보 웹서비스</description>\\n<language>ko</language>\\n<generator>동네예보</generator>\\n<pubDate>2021년 10월 22일 (금)요일 17:00</pubDate>\\n <item>\\n<author>기상청</author>\\n<category>서울특별시'"
      ]
     },
     "execution_count": 21,
     "metadata": {},
     "output_type": "execute_result"
    }
   ],
   "source": [
    "rss[:350]"
   ]
  },
  {
   "cell_type": "markdown",
   "id": "4f254cef-8a9f-4e7c-9dee-634484047920",
   "metadata": {},
   "source": [
    "#### 서버로부터 읽어온 rss 데이터를 파일에 저장"
   ]
  },
  {
   "cell_type": "code",
   "execution_count": 22,
   "id": "28f4e5c1-53f9-4475-ae85-ecec6c60e114",
   "metadata": {},
   "outputs": [],
   "source": [
    "with open('weather.xml', 'w') as f:\n",
    "    f.write(rss)"
   ]
  },
  {
   "cell_type": "markdown",
   "id": "a6c1f18b-a0fa-4ef8-bb49-e61e305db5fd",
   "metadata": {},
   "source": [
    "#### 파일 내용을 읽어 계층구조 생성"
   ]
  },
  {
   "cell_type": "code",
   "execution_count": 23,
   "id": "a45f7d8e-b0b5-4f6f-9005-c14a58746fbe",
   "metadata": {},
   "outputs": [],
   "source": [
    "tree = ElementTree.parse('weather.xml')"
   ]
  },
  {
   "cell_type": "markdown",
   "id": "c1d80ff3-4b18-44f8-99c0-0e9e3e2518cf",
   "metadata": {},
   "source": [
    "#### getroot 메서드로 xml 상위요소 추출"
   ]
  },
  {
   "cell_type": "code",
   "execution_count": 25,
   "id": "332dfb4f-cf80-4c6b-8ff8-beca07eb9d06",
   "metadata": {},
   "outputs": [],
   "source": [
    "root = tree.getroot()"
   ]
  },
  {
   "cell_type": "markdown",
   "id": "4b4c7bb4-d999-4f74-a5b9-c1b3e1856583",
   "metadata": {},
   "source": [
    "#### findall 메서드로 추출할 데이터가 있는 요소 element를 지칭함"
   ]
  },
  {
   "cell_type": "code",
   "execution_count": 28,
   "id": "44082f82-dd9a-4ff7-802b-84ca850ffb00",
   "metadata": {},
   "outputs": [
    {
     "name": "stdout",
     "output_type": "stream",
     "text": [
      "21 12.0 맑음\n",
      "\n",
      "24 10.0 맑음\n",
      "\n",
      "3 8.0 맑음\n",
      "\n",
      "6 7.0 맑음\n",
      "\n",
      "9 10.0 맑음\n",
      "\n",
      "12 16.0 맑음\n",
      "\n",
      "15 17.0 맑음\n",
      "\n",
      "18 15.0 구름 많음\n",
      "\n",
      "21 12.0 구름 많음\n",
      "\n",
      "24 10.0 맑음\n",
      "\n",
      "3 8.0 맑음\n",
      "\n",
      "6 7.0 구름 많음\n",
      "\n",
      "9 10.0 맑음\n",
      "\n",
      "12 15.0 맑음\n",
      "\n",
      "15 17.0 맑음\n",
      "\n",
      "18 14.0 맑음\n",
      "\n",
      "21 12.0 구름 많음\n",
      "\n",
      "24 11.0 구름 많음\n",
      "\n"
     ]
    }
   ],
   "source": [
    "for w in root.findall('channel/item/description/body/data'):\n",
    "    hour = w.find('hour').text\n",
    "    temp = w.find('temp').text\n",
    "    wter = w.find('wfKor').text\n",
    "    print(f'{hour} {temp} {wter}\\n')"
   ]
  },
  {
   "cell_type": "code",
   "execution_count": 29,
   "id": "a9fcf3d9-70f7-43af-940d-095f12a4720e",
   "metadata": {},
   "outputs": [],
   "source": [
    "url2 = 'https://www.hani.co.kr/rss/'"
   ]
  },
  {
   "cell_type": "code",
   "execution_count": 30,
   "id": "840068be-baf9-4d86-ad60-956966e7d042",
   "metadata": {},
   "outputs": [],
   "source": [
    "headers = {'User-Agent' : 'Mozilla/5.0 (Windows NT 10.0; Win64; x64) AppleWebKit/537.36 (KHTML, like Gecko) Chrome/95.0.4638.54 Safari/537.36'}"
   ]
  },
  {
   "cell_type": "code",
   "execution_count": 31,
   "id": "77572e3f-e5aa-47ed-9126-987173557938",
   "metadata": {},
   "outputs": [],
   "source": [
    "res2 = requests.get(url2, headers=headers)"
   ]
  },
  {
   "cell_type": "code",
   "execution_count": 32,
   "id": "e407d6df-f975-417e-aaa6-be861a81538f",
   "metadata": {},
   "outputs": [],
   "source": [
    "rss2 = res2.text"
   ]
  },
  {
   "cell_type": "code",
   "execution_count": 33,
   "id": "33593a7a-4620-48f8-bc3d-000e3cdb1e55",
   "metadata": {},
   "outputs": [],
   "source": [
    "with open('hani.xml', 'w') as f:\n",
    "    f.write(rss2)"
   ]
  },
  {
   "cell_type": "code",
   "execution_count": 34,
   "id": "62034418-1808-46bd-a7ce-036979b36375",
   "metadata": {},
   "outputs": [],
   "source": [
    "tree2 = ElementTree.parse('hani.xml')"
   ]
  },
  {
   "cell_type": "code",
   "execution_count": 35,
   "id": "512c15e1-e33c-482c-b5d2-0d4b4528e867",
   "metadata": {},
   "outputs": [],
   "source": [
    "root2 = tree2.getroot()"
   ]
  },
  {
   "cell_type": "code",
   "execution_count": 37,
   "id": "d22a6908-7c27-4aff-92ac-0087d8823a20",
   "metadata": {},
   "outputs": [
    {
     "name": "stdout",
     "output_type": "stream",
     "text": [
      "[Editorial] Nuri launch is small step for S. Korea’s autonomous leap into space <table border='0px' cellpadding='0px' cellspacing='0px' width='107px'><tr><td bgcolor='#DDDDDD' style='padding: 1px;'><table border='0px' cellpadding='0px' cellspacing='0px' width='105px' height='84px'><tr><td bgcolor='#FFFFFF' style='padding: 3px;' align=center><img src='https://flexible.img.hani.co.kr/flexible/normal/212/112/imgdb/original/2021/1022/1516348924385971.jpg' border=0></td></tr></table></td><td width='13px' nowrap></td></tr></table>At 5 pm Thursday, the Nuri rocket headed into space from its launch pad at the Naro Space Center in Goheung, South Jeolla Province. The first- and second-stage boosters separated normally, sending the\n",
      "\n",
      "카카오페이, 기관 러브콜 “한달 이상 안 팔게” 70% <table border='0px' cellpadding='0px' cellspacing='0px' width='107px'><tr><td bgcolor='#DDDDDD' style='padding: 1px;'><table border='0px' cellpadding='0px' cellspacing='0px' width='105px' height='84px'><tr><td bgcolor='#FFFFFF' style='padding: 3px;' align=center><img src='https://flexible.img.hani.co.kr/flexible/normal/212/112/imgdb/original/2021/1022/20211022502070.jpg' border=0></td></tr></table></td><td width='13px' nowrap></td></tr></table>  다음달 상장을 앞둔 카카오페이가 공모가를 희망 범위(6만~9만원)의 상단인 9만원으로 확정했다.  22일 카카오페이는 기관투자자들의 수요예측 결과를 토대로 공모가를 9만원으로 결정했다고 공시했다. 이에 따라 공모금액은 1조5300억원으로 이 가운데 3825억원이 개인투자자에게 배정된다. 공모가 기준 시가총액은 11조7330억원으로 코스피 33위(우선주 \n",
      "\n",
      "N. Korea says missile test wasn’t aimed at US, conveys concern over US response <table border='0px' cellpadding='0px' cellspacing='0px' width='107px'><tr><td bgcolor='#DDDDDD' style='padding: 1px;'><table border='0px' cellpadding='0px' cellspacing='0px' width='105px' height='84px'><tr><td bgcolor='#FFFFFF' style='padding: 3px;' align=center><img src='https://flexible.img.hani.co.kr/flexible/normal/212/112/imgdb/original/2021/1022/7916348922451215.jpg' border=0></td></tr></table></td><td width='13px' nowrap></td></tr></table>North Korea expressed deep concern over the decision by the US to convene a closed-door meeting of the UN Security Council (UNSC) in connection with the North’s test launch of a new submarine-launched\n",
      "\n",
      "Independently made Nuri rocket takes S. Korea into stratosphere <table border='0px' cellpadding='0px' cellspacing='0px' width='107px'><tr><td bgcolor='#DDDDDD' style='padding: 1px;'><table border='0px' cellpadding='0px' cellspacing='0px' width='105px' height='84px'><tr><td bgcolor='#FFFFFF' style='padding: 3px;' align=center><img src='https://flexible.img.hani.co.kr/flexible/normal/212/112/imgdb/original/2021/1022/491634892235765.jpg' border=0></td></tr></table></td><td width='13px' nowrap></td></tr></table>Nuri, Korea’s first space launch vehicle developed exclusively with domestic technology, was only half successful in space. This &quot;rehearsal&quot; showed the shortcomings the domestic space industry must re\n",
      "\n",
      "Foreign minister calls S. Korea’s SLBM far superior to that of N. Korea <table border='0px' cellpadding='0px' cellspacing='0px' width='107px'><tr><td bgcolor='#DDDDDD' style='padding: 1px;'><table border='0px' cellpadding='0px' cellspacing='0px' width='105px' height='84px'><tr><td bgcolor='#FFFFFF' style='padding: 3px;' align=center><img src='https://flexible.img.hani.co.kr/flexible/normal/212/127/imgdb/child/2021/1022/53_16348919084352_6316348918895182.jpg' border=0></td></tr></table></td><td width='13px' nowrap></td></tr></table>South Korean Minister of Foreign Affairs Chung Eui-yong fired back at opposition party lawmakers’ criticisms of the administration’s “complacent” response to North Korea’s test launch of a submarine-l\n",
      "\n",
      "One day separates debt-ridden Evergrande from weekend default <table border='0px' cellpadding='0px' cellspacing='0px' width='107px'><tr><td bgcolor='#DDDDDD' style='padding: 1px;'><table border='0px' cellpadding='0px' cellspacing='0px' width='105px' height='84px'><tr><td bgcolor='#FFFFFF' style='padding: 3px;' align=center><img src='https://flexible.img.hani.co.kr/flexible/normal/212/127/imgdb/child/2021/1022/53_16348917745146_8616348914866653.jpg' border=0></td></tr></table></td><td width='13px' nowrap></td></tr></table>China Evergrande Group, China’s second-largest real estate developer, is running out of options to escape a severe liquidity crisis. The breakdown of negotiations for the sale of a key unit makes it n\n",
      "\n",
      "“내년 서울 지하철 승강기 100% 설치 약속은 어디로…” <table border='0px' cellpadding='0px' cellspacing='0px' width='107px'><tr><td bgcolor='#DDDDDD' style='padding: 1px;'><table border='0px' cellpadding='0px' cellspacing='0px' width='105px' height='84px'><tr><td bgcolor='#FFFFFF' style='padding: 3px;' align=center><img src='https://flexible.img.hani.co.kr/flexible/normal/212/112/imgdb/original/2021/1022/20211022502036.jpg' border=0></td></tr></table></td><td width='13px' nowrap></td></tr></table>    장애인단체가 내년도 서울시 예산안에 장애인 이동권 예산이 삭감된 것에 반발하며 22일 오후 서울 지하철 승강장에서 승·하차 시위를 벌였다. 서울장애인차별철폐연대는 이날 오후 2시께 서울 지하철 4호선 혜화역에서 휠체어를 타고 서울역까지 이동한 뒤, 전동휠체어를 탄 이들이 열차 출입문을 막는 등 집단행동에 나섰다. 이들은 서울시가 지난 2015년 발표\n",
      "\n",
      "[포토] 전쟁장사 멈춰라! <table border='0px' cellpadding='0px' cellspacing='0px' width='107px'><tr><td bgcolor='#DDDDDD' style='padding: 1px;'><table border='0px' cellpadding='0px' cellspacing='0px' width='105px' height='84px'><tr><td bgcolor='#FFFFFF' style='padding: 3px;' align=center><img src='https://flexible.img.hani.co.kr/flexible/normal/212/127/imgdb/child/2021/1022/53_16348920781369_20211022502020.jpg' border=0></td></tr></table></td><td width='13px' nowrap></td></tr></table>22일 ‘2021 서울 국제 항공우주 및 방위산업 전시회(ADEX)’가 열리고 있는 경기 성남시 서울공항은 에어쇼가 한창이었다. 귀를 찢는 듯한 굉음 너머로 ‘전쟁없는세상’ 활동가들의 외침이 들렸다.오후 12시 25분께 전시회 에이(A)홀에 마련된 현대로템 부스. 노르웨이형 케이(K)2 전차인 ‘K2NO'가 전시된 곳에 활동가 두 명이 올라 ‘케이(K)-방\n",
      "\n",
      "‘전두환 동생’ 전경환 전 새마을중앙본부 회장 별세 <table border='0px' cellpadding='0px' cellspacing='0px' width='107px'><tr><td bgcolor='#DDDDDD' style='padding: 1px;'><table border='0px' cellpadding='0px' cellspacing='0px' width='105px' height='84px'><tr><td bgcolor='#FFFFFF' style='padding: 3px;' align=center><img src='https://flexible.img.hani.co.kr/flexible/normal/212/127/imgdb/child/2021/1022/53_16348918863836_20211022502016.jpg' border=0></td></tr></table></td><td width='13px' nowrap></td></tr></table>전두환 전 대통령 동생 전경환씨가 21일 지병으로 별세했다. 향년 79. 22일 전 전 대통령 쪽과 삼성서울병원 등에 따르면, 전씨는 그간 뇌경색과 다발성 심장판막 질환 등의 지병으로 투병 생활을 해왔다.1968년 육군 중위로 예편한 전씨는 삼성그룹 비서실을 거쳐 1977년부터 1981년까지 청와대 경호실에서 근무했다. 10·26 사태 당시 보안사령관이던 \n",
      "\n",
      "영업종료한 코인업체에 남은 예치금 17억원 <table border='0px' cellpadding='0px' cellspacing='0px' width='107px'><tr><td bgcolor='#DDDDDD' style='padding: 1px;'><table border='0px' cellpadding='0px' cellspacing='0px' width='105px' height='84px'><tr><td bgcolor='#FFFFFF' style='padding: 3px;' align=center><img src='https://flexible.img.hani.co.kr/flexible/normal/212/127/imgdb/child/2021/1022/53_16348918202007_20211022502004.jpg' border=0></td></tr></table></td><td width='13px' nowrap></td></tr></table>금융당국에 사업자신고를 하지 않고 영업을 종료한 가상자산(암호화폐) 업체에 남아있는 예치금이 17억원으로 나타났다. 대부분은 가입자 당 1만원 미만 소액이다.22일 금융위원회가 발표한 가상자산 고객 예치금 출금 현황을 보면, 지난 20일 기준 코인 간 거래만 가능한(코인마켓) 가상자산 업체에 남은 원화 예치금은 409억원으로 나타났다. 사업자 신고에 필수 \n",
      "\n",
      "문 대통령, G20·COP26 참석 위해 다음주 유럽 순방 <table border='0px' cellpadding='0px' cellspacing='0px' width='107px'><tr><td bgcolor='#DDDDDD' style='padding: 1px;'><table border='0px' cellpadding='0px' cellspacing='0px' width='105px' height='84px'><tr><td bgcolor='#FFFFFF' style='padding: 3px;' align=center><img src='https://flexible.img.hani.co.kr/flexible/normal/212/127/imgdb/child/2021/1022/53_16348918719884_20211022501988.jpg' border=0></td></tr></table></td><td width='13px' nowrap></td></tr></table>  문재인 대통령이 주요20개국(G20) 정상회의와 제26차 유엔기후변화협약 당사국총회(COP26) 참석 등을 위해 28일부터 다음달 5일까지 7박9일간 일정으로 유럽을 방문한다. 문 대통령은 ‘방북 의사’를 밝혔던 프란치스코 교황도 다시 만나 한반도 평화 증진을 위한 논의도 할 예정이다. 청와대 관계자는 “교황이 북한 방문 의사를 수차례 말씀하신 바 있기\n",
      "\n",
      "[예언해줌] 남욱이 쥔 키?…“‘이재명 국감’ 국민의힘 대응 찌질” <table border='0px' cellpadding='0px' cellspacing='0px' width='107px'><tr><td bgcolor='#DDDDDD' style='padding: 1px;'><table border='0px' cellpadding='0px' cellspacing='0px' width='105px' height='84px'><tr><td bgcolor='#FFFFFF' style='padding: 3px;' align=center><img src='https://flexible.img.hani.co.kr/flexible/normal/212/112/imgdb/original/2021/1022/20211022501972.jpg' border=0></td></tr></table></td><td width='13px' nowrap></td></tr></table>이번 주 완타치 3K쇼 뉴스 ‘예언해줌 라이브’ 요약본은 ‘대장동 특혜 의혹’ 사건의 핵심 키맨으로 불리는 남욱 변호사가 쥐고 있는 키가 무엇인지와 ‘이재명 국감’이 돼버린 경기도 국감 속 국민의힘 의원들 모습에 대한 따끔한(?) 일침을 정리해봤습니다.무능한 탓인지, 무리한 탓인지 검찰이 청구한 김만배씨의 구속영장은 법원에서 기각됐고, 미국에 머물다 전격 \n",
      "\n",
      "식당·카페 시간제한부터 풀리나…정부 ‘단계적 일상회복’ 방안 속속 <table border='0px' cellpadding='0px' cellspacing='0px' width='107px'><tr><td bgcolor='#DDDDDD' style='padding: 1px;'><table border='0px' cellpadding='0px' cellspacing='0px' width='105px' height='84px'><tr><td bgcolor='#FFFFFF' style='padding: 3px;' align=center><img src='https://flexible.img.hani.co.kr/flexible/normal/212/127/imgdb/child/2021/1022/53_16348921382195_20211022501955.jpg' border=0></td></tr></table></td><td width='13px' nowrap></td></tr></table>정부가 이르면 다음달 1일부터 시작하는 단계적 일상 회복(위드 코로나) 전환의 첫번째 단계에서 식당·카페 등 다중이용시설 영업시간 제한을 해제하는 방안을 검토한다. 현재 사회적 거리두기 4단계 지역에서 집합금지 중인 유흥시설 등 일부 고위험시설도 3개월간 미접종자에게 48시간 이내 음성확인서를 요구하는 방식으로 문을 열게 될 것으로 보인다.2일 오전 열린 \n",
      "\n",
      "그러니까 사과할 마음 없단 거죠? 윤석열 ‘사과 사진’ 전말 <table border='0px' cellpadding='0px' cellspacing='0px' width='107px'><tr><td bgcolor='#DDDDDD' style='padding: 1px;'><table border='0px' cellpadding='0px' cellspacing='0px' width='105px' height='84px'><tr><td bgcolor='#FFFFFF' style='padding: 3px;' align=center><img src='https://flexible.img.hani.co.kr/flexible/normal/212/127/imgdb/child/2021/1022/53_16348914934494_20211022501931.jpg' border=0></td></tr></table></td><td width='13px' nowrap></td></tr></table>‘전두환 옹호’ 발언으로 여론의 질타를 받은 윤석열 전 검찰총장이 이번엔 공식 에스엔에스(SNS)에 반려견에게 사과를 주는 사진을 게시해 논란에 휩싸였다. ‘전두환 미화 망언’을 사과한 당일 밤에 ‘사과는 개에게 주라’고 해석되는 조롱성 사진을 올리면서, 사과의 진정성은 물론 대선 후보로서의 자질까지 의심받고 있다. 굳이 이 시점에…24시간 사이 세차례 ‘\n",
      "\n",
      "자유언론실천 47주년 기념식, 원로기자들 “조중동 적폐언론 청산” <table border='0px' cellpadding='0px' cellspacing='0px' width='107px'><tr><td bgcolor='#DDDDDD' style='padding: 1px;'><table border='0px' cellpadding='0px' cellspacing='0px' width='105px' height='84px'><tr><td bgcolor='#FFFFFF' style='padding: 3px;' align=center><img src='https://flexible.img.hani.co.kr/flexible/normal/212/127/imgdb/child/2021/1022/53_16348892898426_20211022501851.jpg' border=0></td></tr></table></td><td width='13px' nowrap></td></tr></table>1974년 10월24일 &amp;lt;동아일보&amp;gt; 기자들이 정부의 언론탄압에 맞서 발표했던 자유언론실천 47주년을 맞아 22일 오후 서울 프레스센터 전국언론노조 회의실에서 기념식이 열렸다. 제33회 안종필 자유언론상 시상식과 전국언론노조, 한국기자협회, 한국피디연합회 등 세 단체가 수여하는 제27회 통일언론상 시상식도 함께 열렸다. 기념식엔 이부영 자유언론실천\n",
      "\n",
      "“단계적 일상 회복은 사회적 약자의 인권 중심이어야 한다” <table border='0px' cellpadding='0px' cellspacing='0px' width='107px'><tr><td bgcolor='#DDDDDD' style='padding: 1px;'><table border='0px' cellpadding='0px' cellspacing='0px' width='105px' height='84px'><tr><td bgcolor='#FFFFFF' style='padding: 3px;' align=center><img src='https://flexible.img.hani.co.kr/flexible/normal/212/127/imgdb/child/2021/1022/53_16348881906758_20211022501843.jpg' border=0></td></tr></table></td><td width='13px' nowrap></td></tr></table>   정부가 11월 초부터 ‘단계적 일상 회복’(위드 코로나)으로 방역체계를 전환하겠다고 밝힌 가운데, 시민단체가 인권 중심의 단계적 일상 회복을 추진하고 집회·시위의 권리를 보장하라고 촉구했다. ‘코로나19 인권대응네트워크’는 22일 단계적 일상 회복 관련 2차 공개토론회가 열리는 서울 서초구 엘타워 앞에서 기자회견을 열고 “단계적 일상 회복은 인권 중심\n",
      "\n",
      "KBS 사장후보 2명 사퇴…김의철 단독 후보, 시민 대상 비전 발표 <table border='0px' cellpadding='0px' cellspacing='0px' width='107px'><tr><td bgcolor='#DDDDDD' style='padding: 1px;'><table border='0px' cellpadding='0px' cellspacing='0px' width='105px' height='84px'><tr><td bgcolor='#FFFFFF' style='padding: 3px;' align=center><img src='https://flexible.img.hani.co.kr/flexible/normal/212/127/imgdb/child/2021/1022/53_16348872546435_20211022501796.jpg' border=0></td></tr></table></td><td width='13px' nowrap></td></tr></table>3명으로 압축됐던 25대 한국방송(KBS) 사장 후보 가운데 2명이 사퇴했다. 이에 따라 23일 열리는 시민 대상 비전발표회에는 김의철 케이비에스 비즈니스 사장만이 나선다.한국방송 이사회는 22일 임병걸 한국방송 부사장과 서재석 전 한국방송 이사가 사퇴서를 제출했다고 밝혔다. 임 부사장은 재직 중 대학원에 다닌 사실로 논란이 인 것과 관련해 이사회와 회사에\n",
      "\n",
      "엘지 이어 삼성도 스텔란티스와 북미 합작공장 설립 <table border='0px' cellpadding='0px' cellspacing='0px' width='107px'><tr><td bgcolor='#DDDDDD' style='padding: 1px;'><table border='0px' cellpadding='0px' cellspacing='0px' width='105px' height='84px'><tr><td bgcolor='#FFFFFF' style='padding: 3px;' align=center><img src='https://flexible.img.hani.co.kr/flexible/normal/212/127/imgdb/child/2021/1022/53_16348872875117_20211022501782.jpg' border=0></td></tr></table></td><td width='13px' nowrap></td></tr></table>삼성에스디아이(SDI)가 세계 4위 자동차 회사 스텔란티스와 미국에 전기차 배터리 공장을 짓는다. 스텔란티스는 최근 엘지(LG)에너지솔루션과도 북미 지역의 배터리 합작 회사를 세우기로 했다. 국내 배터리 제조사들이 이 회사의 전기차 배터리 물량을 싹쓸이하는 셈이다.삼성에스디아이는 최근 스텔란티스와 전기차 배터리 합작법인을 설립하기 위한 양해 각서를 맺었다고\n",
      "\n",
      "한국원자력환경공단, 하반기 직원 38명 공개채용 한국원자력환경공단(이사장 차성수)은 29일부터 정규직 18명, 개방형직위 2명, 체험형 인턴 15명, 휴직 대체근로자 3명 등 총 38명의 직원을 공개 채용한다.정규직은 총 18명으로, 신입사원 12명(장애인 별도 전형 2명 포함), 경력직 6명을 채용한다.감사 부서장 1명과 정보보안 부서장 1명 등 2명은 민간 전문인력 확보를 통한 조직 경쟁력 강화를 위\n",
      "\n",
      "체류 자격 인정받고도 ‘닫힌 일본’ …외국인 37만명 불편 호소 <table border='0px' cellpadding='0px' cellspacing='0px' width='107px'><tr><td bgcolor='#DDDDDD' style='padding: 1px;'><table border='0px' cellpadding='0px' cellspacing='0px' width='105px' height='84px'><tr><td bgcolor='#FFFFFF' style='padding: 3px;' align=center><img src='https://flexible.img.hani.co.kr/flexible/normal/212/127/imgdb/child/2021/1022/53_16348852122238_20211022501639.jpg' border=0></td></tr></table></td><td width='13px' nowrap></td></tr></table>일본에서 장기간 머물 수 있는 자격을 인정받았지만 입국하지 못한 외국인이 37만여명에 달한다고 &amp;lt;니혼게이자이신문&amp;gt;이 22일 보도했다. 이 가운데 약 70%는 기능 실습생이나 유학생으로 큰 불편을 호소하고 있다. 외국인이 일본에서 3개월 이상 머물기 위해서는 사전에 체류 자격을 신청해야 하는데, 올 1월 이후 57만8천명이 증명서를 받았지만 37만\n",
      "\n",
      "국힘, 배임 빠진 유동규 기소에 “공작적 기소 용납 못해” <table border='0px' cellpadding='0px' cellspacing='0px' width='107px'><tr><td bgcolor='#DDDDDD' style='padding: 1px;'><table border='0px' cellpadding='0px' cellspacing='0px' width='105px' height='84px'><tr><td bgcolor='#FFFFFF' style='padding: 3px;' align=center><img src='https://flexible.img.hani.co.kr/flexible/normal/212/127/imgdb/child/2021/1022/53_16348854734016_20211022501634.jpg' border=0></td></tr></table></td><td width='13px' nowrap></td></tr></table>검찰이 대장동 의혹의 핵심 인물인 유동규 전 성남도시개발공사 기획본부장의 ‘배임’ 혐의를 제외하고 기소하자, 야권은 22일 ‘꼬리 자르기’ 수사라고 비판하며 특검 도입을 거듭 주장했다. 김기현 국민의힘 원내대표는 이날 대검찰청을 항의 방문하고 “단군 이래 최대의 개발비리 특혜 의혹 사건의 몸통을 숨기고, 유야무야 덮어버리려고 하는 시커먼 의도”라며 “검찰이\n",
      "\n",
      "충북 청주에 한국공예촌…무형문화재 등 공예인 60여명 입주 <table border='0px' cellpadding='0px' cellspacing='0px' width='107px'><tr><td bgcolor='#DDDDDD' style='padding: 1px;'><table border='0px' cellpadding='0px' cellspacing='0px' width='105px' height='84px'><tr><td bgcolor='#FFFFFF' style='padding: 3px;' align=center><img src='https://flexible.img.hani.co.kr/flexible/normal/212/127/imgdb/child/2021/1022/53_16348849519251_20211022501631.jpg' border=0></td></tr></table></td><td width='13px' nowrap></td></tr></table>무형문화재 등 전통 공예인들이 살면서 작품을 제작·전시·판매하고, 시민들이 체험할 수 있는 한국전통공예촌이 충북 청주 미원에 들어선다. 충북 청주시는 한국전통공예산업진흥협회가 추진하는 한국전통공예촌 복합문화산업단지 조성사업(공예촌 사업)의 문화산업단지 계획을 승인·고시했다고 22일 밝혔다. 앞서 청주시와 한국전통공예산업진흥협회는 2016년 업무 협약을 하고\n",
      "\n",
      "내전의 비극 속 ‘애달픈’ 진화…코끼리는 ‘상아’ 없이 태어났다 <table border='0px' cellpadding='0px' cellspacing='0px' width='107px'><tr><td bgcolor='#DDDDDD' style='padding: 1px;'><table border='0px' cellpadding='0px' cellspacing='0px' width='105px' height='84px'><tr><td bgcolor='#FFFFFF' style='padding: 3px;' align=center><img src='https://flexible.img.hani.co.kr/flexible/normal/212/127/imgdb/child/2021/1022/53_16348830309888_20211022501529.jpg' border=0></td></tr></table></td><td width='13px' nowrap></td></tr></table>인도와 동남아를 비롯해 지중해 일대의 고대 전쟁에서 상대를 짓밟고 공포에 빠뜨리기 위해 종종 지상 최대 동물인 코끼리를 동원했다. 그러나 아프리카 모잠비크 내전(1977∼1992)에선 코끼리가 또 다른 비극적 역할을 맡았다. 양쪽 모두 코끼리를 밀렵해 상아를 팔아 군비를 조달했고 고기를 먹었다.15년 내전을 거치면서 이 나라 고롱고사 국립공원에 2500마리\n",
      "\n",
      "위성에서 우주발사체 사업으로…“체격 커져 유아옷 벗을 때” <table border='0px' cellpadding='0px' cellspacing='0px' width='107px'><tr><td bgcolor='#DDDDDD' style='padding: 1px;'><table border='0px' cellpadding='0px' cellspacing='0px' width='105px' height='84px'><tr><td bgcolor='#FFFFFF' style='padding: 3px;' align=center><img src='https://flexible.img.hani.co.kr/flexible/normal/212/112/imgdb/original/2021/1022/20211022501501.jpg' border=0></td></tr></table></td><td width='13px' nowrap></td></tr></table>21일 한국형발사체 누리호의 발사가 100% 성공 눈앞에서 멈췄지만, 1990년대 초 시작한 30년 우주 연구개발의 총결산이라는 의미가 퇴색하는 것은 아니다. 원하는 궤도까지 무사히 비행한 누리호는 우리나라 우주과학이 앞으로 30년의 도약을 준비해야 하는 이정표이기도 하다. 과학계는 우리나라 우주개발이 누리호 이전과 이후로 갈릴 것이라고 말한다. 김승조 서\n",
      "\n",
      "자조 금융이 만들어내는 집단지성의 힘 <table border='0px' cellpadding='0px' cellspacing='0px' width='107px'><tr><td bgcolor='#DDDDDD' style='padding: 1px;'><table border='0px' cellpadding='0px' cellspacing='0px' width='105px' height='84px'><tr><td bgcolor='#FFFFFF' style='padding: 3px;' align=center><img src='https://flexible.img.hani.co.kr/flexible/normal/212/127/imgdb/child/2021/1022/53_16348828253254_20211022501479.jpg' border=0></td></tr></table></td><td width='13px' nowrap></td></tr></table>‘보조금 24’라는 누리집이 있다. 국가가 제공하는 각종 지원금을 쉽게 확인할 수 있도록 만든 온라인 전용 창구다. 개인이 받을 수 있는 정부 보조금 수는 300개가 넘는데, 중앙·지방정부가 발주하는 공공사업에도 이런저런 명목의 지원금이 붙는다. 공익적 가치를 실현하기 위한 일이니만큼 사업 참여자들에게 인센티브를 제공해주는 것이라 할 수 있다.사회적 경제 \n",
      "\n",
      "특별한 아이를 허락하신 특별한 부모 <table border='0px' cellpadding='0px' cellspacing='0px' width='107px'><tr><td bgcolor='#DDDDDD' style='padding: 1px;'><table border='0px' cellpadding='0px' cellspacing='0px' width='105px' height='84px'><tr><td bgcolor='#FFFFFF' style='padding: 3px;' align=center><img src='https://flexible.img.hani.co.kr/flexible/normal/212/112/imgdb/original/2021/1022/20211022501462.jpg' border=0></td></tr></table></td><td width='13px' nowrap></td></tr></table>미국 노스캐롤라이나주에 사는 애슐리 잉글랜드씨 부부는 어느 날, 정신지체장애를 가진 여덟 살 아들을 데리고 저녁 외식을 하러 나갔다. 아이 때문에 바깥나들이가 너무나 어렵고 괴로운 일이었지만 모처럼 용기를 냈다. 아니나 다를까, 주문할 때부터 아이가 소란스러워지기 시작했다. 테이블을 손바닥으로 마구 쳐댔다. 다른 손님들을 짜증을 나게 하는 행동이었다. 말려\n",
      "\n",
      "헝다, ‘주말 디폴트’ 위기 일단 모면…달러채 이자 지급 <table border='0px' cellpadding='0px' cellspacing='0px' width='107px'><tr><td bgcolor='#DDDDDD' style='padding: 1px;'><table border='0px' cellpadding='0px' cellspacing='0px' width='105px' height='84px'><tr><td bgcolor='#FFFFFF' style='padding: 3px;' align=center><img src='https://flexible.img.hani.co.kr/flexible/normal/212/127/imgdb/child/2021/1022/53_16348840885292_20211022501456.jpg' border=0></td></tr></table></td><td width='13px' nowrap></td></tr></table>최악의 유동성 위기를 겪고 있는 중국 2위 부동산 개발업체 헝다(에버그란데)가 일단 주말 채무불이행(디폴트) 위기를 넘겼다. 중국 관영 &amp;lt;증권시보&amp;gt;는 22일 익명의 소식통을 인용해 헝다가 달러화 채권 이자 8350만달러(약 981억원)를 지급 유예 기간 종료일인 23일 전에 가까스레 냈다고 보도했다. 헝다가 수탁 기관인 시티은행에 돈을 송금했으며\n",
      "\n",
      "‘위드 코로나’ 재택치료 확대…집→병원 이송중 환자 첫 사망 <table border='0px' cellpadding='0px' cellspacing='0px' width='107px'><tr><td bgcolor='#DDDDDD' style='padding: 1px;'><table border='0px' cellpadding='0px' cellspacing='0px' width='105px' height='84px'><tr><td bgcolor='#FFFFFF' style='padding: 3px;' align=center><img src='https://flexible.img.hani.co.kr/flexible/normal/212/127/imgdb/child/2021/1022/53_16348814492206_20211022501395.jpg' border=0></td></tr></table></td><td width='13px' nowrap></td></tr></table>  코로나19 확진 판정 뒤 재택치료를 받던 환자가 병원으로 이송되던 중 숨졌다. 코로나19 전담 구급대가 출동하고 병원이 배정될 때까지 시간이 지체된 것으로 확인돼, 단계적 일상 회복(위드 코로나)의 일환인 재택치료의 안정적 시행을 위해 응급 이송체계 정비를 서둘러야 한다는 지적이 나온다.  22일 서울시와 소방 및 방역당국 등의 말을 종합하면, 서대문구\n",
      "\n",
      "30대 여성의 선거 도전기로 포문…‘희허락락’ 쉬어가세요 <table border='0px' cellpadding='0px' cellspacing='0px' width='107px'><tr><td bgcolor='#DDDDDD' style='padding: 1px;'><table border='0px' cellpadding='0px' cellspacing='0px' width='105px' height='84px'><tr><td bgcolor='#FFFFFF' style='padding: 3px;' align=center><img src='https://flexible.img.hani.co.kr/flexible/normal/212/127/imgdb/child/2021/1022/53_16348803948941_20211022501329.jpg' border=0></td></tr></table></td><td width='13px' nowrap></td></tr></table>전북에서 상영하는 제14회 희허락락(喜.Her.樂.樂) 여성영화제가 오는 29~30일 전북 전주시 완산구 씨네Q 영화의거리점(옛 메가박스)에서 열린다. 애초 양성성평등주간을 기념해 지난달 3~4일 열릴 예정이었으나 코로나19로 인한 사회적 거리두기가 격상되면서 연기됐다.이번 영화제는 당찬 30대 여성의 지방선거 도전기를 담은 개막작 &amp;lt;청춘선거&amp;gt;를\n",
      "\n",
      "오세훈 “따릉이 3천대 도입” 급선회…전 시장 지우기 의식? <table border='0px' cellpadding='0px' cellspacing='0px' width='107px'><tr><td bgcolor='#DDDDDD' style='padding: 1px;'><table border='0px' cellpadding='0px' cellspacing='0px' width='105px' height='84px'><tr><td bgcolor='#FFFFFF' style='padding: 3px;' align=center><img src='https://flexible.img.hani.co.kr/flexible/normal/212/127/imgdb/child/2021/1022/53_16348798918795_20211022501307.jpg' border=0></td></tr></table></td><td width='13px' nowrap></td></tr></table>서울시가 내년에도 서울시 공공자전거 따릉이를 3천대 추가 확보한다. 내년도 시 예산에 따릉이 예산을 편성하지 않은 사실이 확인되면서 일방적인 전임 시장 흔적 지우기라는 논란이 일자 이를 의식한 행보 아니냐는 지적이 나온다.오세훈 시장은 22일 직접 서울시청 인근 따릉이 대여소를 찾아 올 연말까지 3천대, 내년에 3천대 등 모두 6천대를 추가 도입한다는 ‘따\n",
      "\n"
     ]
    }
   ],
   "source": [
    "for w in root2.findall('channel/item'):\n",
    "    title = w.find('title').text\n",
    "    description = w.find('description').text\n",
    "    print(f'{title} {description}\\n')"
   ]
  },
  {
   "cell_type": "code",
   "execution_count": null,
   "id": "943d7232-d1f3-4e18-8519-55064a3c9f3d",
   "metadata": {},
   "outputs": [],
   "source": []
  },
  {
   "cell_type": "code",
   "execution_count": null,
   "id": "e7286242-b510-49b6-95c3-688e3c29d9c6",
   "metadata": {},
   "outputs": [],
   "source": []
  },
  {
   "cell_type": "code",
   "execution_count": null,
   "id": "5530475a-5592-4cdf-9b70-b873c43b2d9b",
   "metadata": {},
   "outputs": [],
   "source": []
  },
  {
   "cell_type": "code",
   "execution_count": null,
   "id": "78f26d5f-cedb-4916-b7d4-91269e898beb",
   "metadata": {},
   "outputs": [],
   "source": []
  },
  {
   "cell_type": "code",
   "execution_count": null,
   "id": "948af46e-4646-47de-92b0-23097aedc1d3",
   "metadata": {},
   "outputs": [],
   "source": []
  },
  {
   "cell_type": "code",
   "execution_count": null,
   "id": "10f82cb3-e9c0-407c-826b-3878bca14f24",
   "metadata": {},
   "outputs": [],
   "source": []
  },
  {
   "cell_type": "code",
   "execution_count": null,
   "id": "c0359b02-f980-4964-a431-dff93a6a05b0",
   "metadata": {},
   "outputs": [],
   "source": []
  },
  {
   "cell_type": "code",
   "execution_count": null,
   "id": "ae7d60c7-1f44-4833-8495-c8078e9d656b",
   "metadata": {},
   "outputs": [],
   "source": []
  }
 ],
 "metadata": {
  "kernelspec": {
   "display_name": "Python 3 (ipykernel)",
   "language": "python",
   "name": "python3"
  },
  "language_info": {
   "codemirror_mode": {
    "name": "ipython",
    "version": 3
   },
   "file_extension": ".py",
   "mimetype": "text/x-python",
   "name": "python",
   "nbconvert_exporter": "python",
   "pygments_lexer": "ipython3",
   "version": "3.7.10"
  }
 },
 "nbformat": 4,
 "nbformat_minor": 5
}
