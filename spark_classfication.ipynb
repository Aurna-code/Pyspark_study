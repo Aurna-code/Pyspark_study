{
 "cells": [
  {
   "cell_type": "code",
   "execution_count": 2,
   "id": "66090e86-5e11-4814-bc3c-d8c196690270",
   "metadata": {},
   "outputs": [],
   "source": [
    "import pandas as pd"
   ]
  },
  {
   "cell_type": "code",
   "execution_count": 3,
   "id": "d44a2dbd-0901-4b74-871c-547e9423bcd3",
   "metadata": {},
   "outputs": [],
   "source": [
    "import numpy as np"
   ]
  },
  {
   "cell_type": "code",
   "execution_count": 4,
   "id": "845ce1bb-f3f3-4c3e-99d4-5b4108a611be",
   "metadata": {},
   "outputs": [],
   "source": [
    "import seaborn as sns"
   ]
  },
  {
   "cell_type": "code",
   "execution_count": 5,
   "id": "7503936e-550d-488b-8b72-7f0e3cace694",
   "metadata": {},
   "outputs": [],
   "source": [
    "import matplotlib.pyplot as plt"
   ]
  },
  {
   "cell_type": "code",
   "execution_count": 6,
   "id": "3f30bdab-b7a1-411f-8979-4fad9965d163",
   "metadata": {},
   "outputs": [],
   "source": [
    "from pyspark.sql.functions import col"
   ]
  },
  {
   "cell_type": "code",
   "execution_count": 7,
   "id": "472b972c-0120-4eeb-a059-333cf51e4c8e",
   "metadata": {},
   "outputs": [
    {
     "name": "stderr",
     "output_type": "stream",
     "text": [
      "                                                                                \r"
     ]
    }
   ],
   "source": [
    "loan = spark.read.csv(\"loan.csv\", header=True, inferSchema=True)"
   ]
  },
  {
   "cell_type": "code",
   "execution_count": 8,
   "id": "35379502-d3d4-4857-980a-18d5347a8e9e",
   "metadata": {},
   "outputs": [
    {
     "name": "stdout",
     "output_type": "stream",
     "text": [
      "root\n",
      " |-- loan_id: string (nullable = true)\n",
      " |-- loan_purpose: string (nullable = true)\n",
      " |-- is_first_loan: integer (nullable = true)\n",
      " |-- total_credit_card_limit: integer (nullable = true)\n",
      " |-- avg_percentage_credit_card_limit_used_last_year: double (nullable = true)\n",
      " |-- saving_amount: integer (nullable = true)\n",
      " |-- checking_amount: integer (nullable = true)\n",
      " |-- is_employed: integer (nullable = true)\n",
      " |-- yearly_salary: integer (nullable = true)\n",
      " |-- age: integer (nullable = true)\n",
      " |-- dependent_number: integer (nullable = true)\n",
      " |-- label: integer (nullable = true)\n",
      "\n"
     ]
    }
   ],
   "source": [
    "loan.printSchema()"
   ]
  },
  {
   "cell_type": "markdown",
   "id": "0757bd26-eab9-4f60-8653-675822c5fd4f",
   "metadata": {},
   "source": [
    "### 대출여부 종속변수는 범주형이므로 분석방법은 분류분석을 이용\n",
    "+ 로지스틱 회귀, 의사결정나무, 랜덤포레스트, 앙상블"
   ]
  },
  {
   "cell_type": "code",
   "execution_count": 9,
   "id": "19d7e3e7-0202-4378-bb43-90e1434f960c",
   "metadata": {},
   "outputs": [
    {
     "name": "stdout",
     "output_type": "stream",
     "text": [
      "+-------+------------+-------------+-----------------------+-----------------------------------------------+-------------+---------------+-----------+-------------+---+----------------+-----+\n",
      "|loan_id|loan_purpose|is_first_loan|total_credit_card_limit|avg_percentage_credit_card_limit_used_last_year|saving_amount|checking_amount|is_employed|yearly_salary|age|dependent_number|label|\n",
      "+-------+------------+-------------+-----------------------+-----------------------------------------------+-------------+---------------+-----------+-------------+---+----------------+-----+\n",
      "|    A_1|    personal|            1|                   7900|                                            0.8|         1103|           6393|          1|        16400| 42|               4|    0|\n",
      "|    A_2|    personal|            0|                   3300|                                           0.29|         2588|            832|          1|        75500| 56|               1|    0|\n",
      "|    A_3|    personal|            0|                   7600|                                            0.9|         1651|           8868|          1|        59000| 46|               1|    0|\n",
      "|    A_4|    personal|            1|                   3400|                                           0.38|         1269|           6863|          1|        26000| 55|               8|    0|\n",
      "|    A_5|   emergency|            0|                   2600|                                           0.89|         1310|           3423|          1|         9700| 41|               4|    1|\n",
      "+-------+------------+-------------+-----------------------+-----------------------------------------------+-------------+---------------+-----------+-------------+---+----------------+-----+\n",
      "only showing top 5 rows\n",
      "\n"
     ]
    }
   ],
   "source": [
    "loan.show(5)"
   ]
  },
  {
   "cell_type": "markdown",
   "id": "95610b66-9526-4a4e-8020-3c207def75d5",
   "metadata": {},
   "source": [
    "### 대출목적이 문자이므로 숫자형으로 변경 필요"
   ]
  },
  {
   "cell_type": "markdown",
   "id": "7d9a144e-25d7-44eb-bf19-22980c01d138",
   "metadata": {},
   "source": [
    "### 데이터 전처리"
   ]
  },
  {
   "cell_type": "code",
   "execution_count": 10,
   "id": "484cc531-2dd2-4d2d-84f3-a2f95ebf582a",
   "metadata": {},
   "outputs": [
    {
     "name": "stderr",
     "output_type": "stream",
     "text": [
      "                                                                                \r"
     ]
    }
   ],
   "source": [
    "loan2 = loan.toPandas()"
   ]
  },
  {
   "cell_type": "code",
   "execution_count": 11,
   "id": "b741d1ff-f541-49f7-9f17-65842a3daec3",
   "metadata": {},
   "outputs": [
    {
     "data": {
      "text/plain": [
       "<bound method DataFrame.info of        loan_id loan_purpose  is_first_loan  total_credit_card_limit  \\\n",
       "0          A_1     personal              1                     7900   \n",
       "1          A_2     personal              0                     3300   \n",
       "2          A_3     personal              0                     7600   \n",
       "3          A_4     personal              1                     3400   \n",
       "4          A_5    emergency              0                     2600   \n",
       "...        ...          ...            ...                      ...   \n",
       "46746  A_47650    emergency              0                     4800   \n",
       "46747  A_47651   operations              0                     3800   \n",
       "46748  A_47652     personal              0                     4800   \n",
       "46749  A_47653     personal              1                     3200   \n",
       "46750  A_47654     personal              0                     3800   \n",
       "\n",
       "       avg_percentage_credit_card_limit_used_last_year  saving_amount  \\\n",
       "0                                                 0.80           1103   \n",
       "1                                                 0.29           2588   \n",
       "2                                                 0.90           1651   \n",
       "3                                                 0.38           1269   \n",
       "4                                                 0.89           1310   \n",
       "...                                                ...            ...   \n",
       "46746                                             0.29           3175   \n",
       "46747                                             0.78            929   \n",
       "46748                                             1.02            494   \n",
       "46749                                             0.50            805   \n",
       "46750                                             0.59           3212   \n",
       "\n",
       "       checking_amount  is_employed  yearly_salary  age  dependent_number  \\\n",
       "0                 6393            1          16400   42                 4   \n",
       "1                  832            1          75500   56                 1   \n",
       "2                 8868            1          59000   46                 1   \n",
       "3                 6863            1          26000   55                 8   \n",
       "4                 3423            1           9700   41                 4   \n",
       "...                ...          ...            ...  ...               ...   \n",
       "46746             2811            1          29800   25                 0   \n",
       "46747             3114            1          42600   61                 1   \n",
       "46748             2404            0              0   49                 4   \n",
       "46749             1757            1           2400   57                 8   \n",
       "46750             9336            1          36000   27                 1   \n",
       "\n",
       "       label  \n",
       "0          0  \n",
       "1          0  \n",
       "2          0  \n",
       "3          0  \n",
       "4          1  \n",
       "...      ...  \n",
       "46746      0  \n",
       "46747      1  \n",
       "46748      1  \n",
       "46749      1  \n",
       "46750      0  \n",
       "\n",
       "[46751 rows x 12 columns]>"
      ]
     },
     "execution_count": 11,
     "metadata": {},
     "output_type": "execute_result"
    }
   ],
   "source": [
    "loan2.info"
   ]
  },
  {
   "cell_type": "markdown",
   "id": "e1d503fb-3160-487d-9b15-2a4bdf21ae94",
   "metadata": {},
   "source": [
    "### 이상치 여부 확인 - 회귀분석 아니므로 큰의미없음"
   ]
  },
  {
   "cell_type": "code",
   "execution_count": 13,
   "id": "f65287cd-1062-4c0c-8da7-a072bbc1e62e",
   "metadata": {},
   "outputs": [
    {
     "data": {
      "text/plain": [
       "<AxesSubplot:>"
      ]
     },
     "execution_count": 13,
     "metadata": {},
     "output_type": "execute_result"
    },
    {
     "data": {
      "image/png": "[encoded data removed]",
      "text/plain": [
       "<Figure size 432x288 with 1 Axes>"
      ]
     },
     "metadata": {
      "needs_background": "light"
     },
     "output_type": "display_data"
    }
   ],
   "source": [
    "loan2.boxplot(column=['saving_amount','yearly_salary'])"
   ]
  },
  {
   "cell_type": "code",
   "execution_count": 14,
   "id": "0743eeba-1453-4426-a7b4-d31d42b61d97",
   "metadata": {},
   "outputs": [
    {
     "data": {
      "text/plain": [
       "<AxesSubplot:>"
      ]
     },
     "execution_count": 14,
     "metadata": {},
     "output_type": "execute_result"
    },
    {
     "data": {
      "image/png": "[encoded data removed]",
      "text/plain": [
       "<Figure size 432x288 with 1 Axes>"
      ]
     },
     "metadata": {
      "needs_background": "light"
     },
     "output_type": "display_data"
    }
   ],
   "source": [
    "loan2.boxplot(column=['avg_percentage_credit_card_limit_used_last_year'])"
   ]
  },
  {
   "cell_type": "markdown",
   "id": "d42d2f8e-ba2c-4bbb-aea3-3840f26ba4b6",
   "metadata": {},
   "source": [
    "### 레이블 인코딩 - one, two, three 등의 데이터를 레이블 인코딩하면?\n",
    "+ 0 : one, 1 : three, 2 : two"
   ]
  },
  {
   "cell_type": "markdown",
   "id": "5492caa7-e6f1-4d71-8b8d-717d7700cab3",
   "metadata": {},
   "source": [
    "### 원핫인코딩 : 레이블인코딩의 단점 보완\n",
    "+ one, two, three등의 데이터를 원핫 인코딩하면?\n",
    "### 1   0   0     : one\n",
    "### 0   1   0     : two\n",
    "### 0   0   1     : three\n",
    "### 최종적으로 만들어진 코드 : 100, 010, 001"
   ]
  },
  {
   "cell_type": "code",
   "execution_count": null,
   "id": "a7c17eff-2dc3-45a0-aa21-28ee031e55ad",
   "metadata": {},
   "outputs": [],
   "source": []
  },
  {
   "cell_type": "code",
   "execution_count": null,
   "id": "a7ba1806-b547-4410-9980-44a7235f7483",
   "metadata": {},
   "outputs": [],
   "source": []
  },
  {
   "cell_type": "markdown",
   "id": "98464fa4-9bd4-4e76-9294-3c2eb07876c9",
   "metadata": {},
   "source": [
    "### 범주형 변수를 수치형으로 변경"
   ]
  },
  {
   "cell_type": "code",
   "execution_count": 16,
   "id": "39706bd4-fef5-4cde-8c4c-be3b96d5a6aa",
   "metadata": {},
   "outputs": [],
   "source": [
    "from pyspark.ml.feature import OneHotEncoder, StringIndexer, VectorAssembler"
   ]
  },
  {
   "cell_type": "markdown",
   "id": "53be786c-c030-4053-8de9-71400241f91b",
   "metadata": {},
   "source": [
    "### 문자형 변수의 값을 숫자형으로 변환하기 위해 레이블인코딩 수행\n",
    "+ StringIndexer(입력컬럼, 대상컬럼).fit(데이터프레임)"
   ]
  },
  {
   "cell_type": "code",
   "execution_count": 22,
   "id": "e6b92749-cdb9-49e7-a6cb-ef27397be5b8",
   "metadata": {},
   "outputs": [
    {
     "name": "stderr",
     "output_type": "stream",
     "text": [
      "                                                                                \r"
     ]
    }
   ],
   "source": [
    "lp_idx = StringIndexer(inputCol='loan_purpose', outputCol='lp_idx').fit(loan)"
   ]
  },
  {
   "cell_type": "markdown",
   "id": "cbb0261a-73d5-4508-94cc-fabae0c28163",
   "metadata": {},
   "source": [
    "#### 레이블 인코딩 결과를 이용해서 대출목적 컬럼의 값을 숫자형으로 변경"
   ]
  },
  {
   "cell_type": "code",
   "execution_count": 25,
   "id": "fbe79965-ce44-4a4e-a0b6-5cfc1fd07e42",
   "metadata": {},
   "outputs": [],
   "source": [
    "loan = lp_idx.transform(loan)"
   ]
  },
  {
   "cell_type": "code",
   "execution_count": 26,
   "id": "5a157d8c-d686-479f-8615-d3f61785c689",
   "metadata": {},
   "outputs": [
    {
     "name": "stdout",
     "output_type": "stream",
     "text": [
      "+------------+------+\n",
      "|loan_purpose|lp_idx|\n",
      "+------------+------+\n",
      "|    personal|   2.0|\n",
      "|    personal|   2.0|\n",
      "|    personal|   2.0|\n",
      "|    personal|   2.0|\n",
      "|   emergency|   3.0|\n",
      "+------------+------+\n",
      "only showing top 5 rows\n",
      "\n"
     ]
    }
   ],
   "source": [
    "loan.select('loan_purpose', 'lp_idx').show(5)"
   ]
  },
  {
   "cell_type": "markdown",
   "id": "f27b39d8-66d9-4bd0-bc63-1e40dfbb8c4c",
   "metadata": {},
   "source": [
    "### 분류분석을 위해 원핫인코딩으로 변환"
   ]
  },
  {
   "cell_type": "code",
   "execution_count": 35,
   "id": "a003f9e4-57a4-4845-8aa3-57458ad70505",
   "metadata": {},
   "outputs": [],
   "source": [
    "lp_ohe = OneHotEncoder(inputCol='lp_idx', outputCol='lp_ohe')"
   ]
  },
  {
   "cell_type": "code",
   "execution_count": 36,
   "id": "61e9a146-8a66-43ee-89f7-7f2aaebd9804",
   "metadata": {},
   "outputs": [],
   "source": [
    "loan = lp_ohe.transform(loan)"
   ]
  },
  {
   "cell_type": "markdown",
   "id": "91ee3323-5d63-4fd9-afb8-03fe2f4bb6bd",
   "metadata": {},
   "source": []
  },
  {
   "cell_type": "code",
   "execution_count": 37,
   "id": "c18676c1-53ee-4353-b1f1-4141d581e69f",
   "metadata": {},
   "outputs": [
    {
     "name": "stdout",
     "output_type": "stream",
     "text": [
      "+------------+------+-------------+\n",
      "|loan_purpose|lp_idx|       lp_ohe|\n",
      "+------------+------+-------------+\n",
      "|    personal|   2.0|(4,[2],[1.0])|\n",
      "|    personal|   2.0|(4,[2],[1.0])|\n",
      "|    personal|   2.0|(4,[2],[1.0])|\n",
      "|    personal|   2.0|(4,[2],[1.0])|\n",
      "|   emergency|   3.0|(4,[3],[1.0])|\n",
      "+------------+------+-------------+\n",
      "only showing top 5 rows\n",
      "\n"
     ]
    }
   ],
   "source": [
    "loan.select('loan_purpose', 'lp_idx', 'lp_ohe').show(5)"
   ]
  },
  {
   "cell_type": "markdown",
   "id": "40aae1fa-af35-4284-b896-f483d06efabf",
   "metadata": {},
   "source": [
    "### 독립변수와 종속변수를 하나로 묶음"
   ]
  },
  {
   "cell_type": "code",
   "execution_count": 40,
   "id": "20413f79-e298-4797-ac1e-5812c5981ab8",
   "metadata": {},
   "outputs": [],
   "source": [
    "vdf = VectorAssembler(inputCols=['lp_ohe', 'is_first_loan', 'total_credit_card_limit', 'avg_percentage_credit_card_limit_used_last_year', 'saving_amount', 'checking_amount', 'is_employed', 'yearly_salary', 'age', 'dependent_number'], outputCol='features')"
   ]
  },
  {
   "cell_type": "markdown",
   "id": "d78864e2-b24d-430e-81f5-2de4e9287628",
   "metadata": {},
   "source": [
    "### vector assembler 객체를 이용해서 벡터화 수행"
   ]
  },
  {
   "cell_type": "code",
   "execution_count": 41,
   "id": "569c398a-9d98-40ad-8136-fa9a367114f6",
   "metadata": {},
   "outputs": [],
   "source": [
    "loans = vdf.transform(loan)"
   ]
  },
  {
   "cell_type": "code",
   "execution_count": 43,
   "id": "854ef754-e0ec-4c86-ad1d-668ecb42c44b",
   "metadata": {},
   "outputs": [
    {
     "name": "stdout",
     "output_type": "stream",
     "text": [
      "+--------------------------------------------------------------------+-----+\n",
      "|features                                                            |label|\n",
      "+--------------------------------------------------------------------+-----+\n",
      "|[0.0,0.0,1.0,0.0,1.0,7900.0,0.8,1103.0,6393.0,1.0,16400.0,42.0,4.0] |0    |\n",
      "|[0.0,0.0,1.0,0.0,0.0,3300.0,0.29,2588.0,832.0,1.0,75500.0,56.0,1.0] |0    |\n",
      "|[0.0,0.0,1.0,0.0,0.0,7600.0,0.9,1651.0,8868.0,1.0,59000.0,46.0,1.0] |0    |\n",
      "|[0.0,0.0,1.0,0.0,1.0,3400.0,0.38,1269.0,6863.0,1.0,26000.0,55.0,8.0]|0    |\n",
      "|[0.0,0.0,0.0,1.0,0.0,2600.0,0.89,1310.0,3423.0,1.0,9700.0,41.0,4.0] |1    |\n",
      "+--------------------------------------------------------------------+-----+\n",
      "only showing top 5 rows\n",
      "\n"
     ]
    }
   ],
   "source": [
    "loans.select('features', 'label').show(5, False)"
   ]
  },
  {
   "cell_type": "markdown",
   "id": "8e806bfa-be48-43a8-bb53-19fb3099b43d",
   "metadata": {},
   "source": [
    "### 분석을 위해 독립변수와 종속변수를 추출하여 새로운 변수 생성"
   ]
  },
  {
   "cell_type": "code",
   "execution_count": 44,
   "id": "1a3183e8-69a9-4227-bd0b-681ff3f4e581",
   "metadata": {},
   "outputs": [],
   "source": [
    "model_df = loans.select('features', 'label')"
   ]
  },
  {
   "cell_type": "code",
   "execution_count": 45,
   "id": "5ddd02aa-f9ee-44a0-a33f-1b7e03165d9d",
   "metadata": {},
   "outputs": [
    {
     "name": "stdout",
     "output_type": "stream",
     "text": [
      "+--------------------+-----+\n",
      "|            features|label|\n",
      "+--------------------+-----+\n",
      "|[0.0,0.0,1.0,0.0,...|    0|\n",
      "|[0.0,0.0,1.0,0.0,...|    0|\n",
      "|[0.0,0.0,1.0,0.0,...|    0|\n",
      "|[0.0,0.0,1.0,0.0,...|    0|\n",
      "|[0.0,0.0,0.0,1.0,...|    1|\n",
      "+--------------------+-----+\n",
      "only showing top 5 rows\n",
      "\n"
     ]
    }
   ],
   "source": [
    "model_df.show(5)"
   ]
  },
  {
   "cell_type": "markdown",
   "id": "a992617f-094d-49c6-9fe1-8246f35df7c3",
   "metadata": {},
   "source": [
    "### train. test로 분리"
   ]
  },
  {
   "cell_type": "code",
   "execution_count": 46,
   "id": "0a1a082a-23ec-4391-b367-6d1c39eefc1f",
   "metadata": {},
   "outputs": [],
   "source": [
    "train, test= model_df.randomSplit([0.75, 0.25])"
   ]
  },
  {
   "cell_type": "markdown",
   "id": "9f131700-9c47-4caa-8eb6-f3b51223856e",
   "metadata": {},
   "source": [
    "### 모델 훈련"
   ]
  },
  {
   "cell_type": "code",
   "execution_count": 47,
   "id": "738a4d0a-dc7b-411a-85d5-030a56b68c32",
   "metadata": {},
   "outputs": [],
   "source": [
    "from pyspark.ml.classification import LogisticRegression"
   ]
  },
  {
   "cell_type": "code",
   "execution_count": 48,
   "id": "6ddcb3e6-79bf-4df1-bc83-213e5233a23d",
   "metadata": {},
   "outputs": [
    {
     "name": "stderr",
     "output_type": "stream",
     "text": [
      "21/10/11 07:45:13 WARN BLAS: Failed to load implementation from: com.github.fommil.netlib.NativeSystemBLAS\n",
      "21/10/11 07:45:13 WARN BLAS: Failed to load implementation from: com.github.fommil.netlib.NativeRefBLAS\n",
      "21/10/11 07:45:14 WARN BlockManager: Asked to remove block broadcast_27_piece0, which does not exist\n"
     ]
    }
   ],
   "source": [
    "lg = LogisticRegression().fit(train)"
   ]
  },
  {
   "cell_type": "code",
   "execution_count": 50,
   "id": "9f50cb05-d3e4-4b8e-86fe-c98f81829388",
   "metadata": {},
   "outputs": [],
   "source": [
    "trainmodel= lg.summary"
   ]
  },
  {
   "cell_type": "code",
   "execution_count": 51,
   "id": "af413243-0b70-4f7c-97c5-f6524198da34",
   "metadata": {},
   "outputs": [
    {
     "name": "stderr",
     "output_type": "stream",
     "text": [
      "                                                                                \r"
     ]
    },
    {
     "data": {
      "text/plain": [
       "0.8946426033821231"
      ]
     },
     "execution_count": 51,
     "metadata": {},
     "output_type": "execute_result"
    }
   ],
   "source": [
    "trainmodel.accuracy    #정확도"
   ]
  },
  {
   "cell_type": "code",
   "execution_count": 54,
   "id": "d0f5fb5c-9e37-48ea-af0f-a2e956407e5a",
   "metadata": {},
   "outputs": [
    {
     "data": {
      "text/plain": [
       "[0.9242104337116214, 0.8406553690466629]"
      ]
     },
     "execution_count": 54,
     "metadata": {},
     "output_type": "execute_result"
    }
   ],
   "source": [
    "trainmodel.precisionByLabel    # 정밀도"
   ]
  },
  {
   "cell_type": "code",
   "execution_count": 53,
   "id": "e187bb3a-0a14-4d12-adb2-810d185609e5",
   "metadata": {},
   "outputs": [
    {
     "data": {
      "text/plain": [
       "[0.9137203739943466, 0.8586546349466776]"
      ]
     },
     "execution_count": 53,
     "metadata": {},
     "output_type": "execute_result"
    }
   ],
   "source": [
    "trainmodel.recallByLabel    # 재현율"
   ]
  },
  {
   "cell_type": "code",
   "execution_count": 55,
   "id": "39e88a4c-9553-4682-9b42-89dfcec032de",
   "metadata": {},
   "outputs": [
    {
     "name": "stderr",
     "output_type": "stream",
     "text": [
      "                                                                                \r"
     ]
    },
    {
     "data": {
      "text/plain": [
       "0.9591740651969674"
      ]
     },
     "execution_count": 55,
     "metadata": {},
     "output_type": "execute_result"
    }
   ],
   "source": [
    "trainmodel.areaUnderROC    # AUC 값"
   ]
  },
  {
   "cell_type": "markdown",
   "id": "9b1ec8b6-938f-41ea-bd14-905dbaa682d0",
   "metadata": {},
   "source": [
    "### 모델 예측"
   ]
  },
  {
   "cell_type": "code",
   "execution_count": 57,
   "id": "669ba03b-9ca7-4a16-b514-b26969dee714",
   "metadata": {},
   "outputs": [],
   "source": [
    "pred = lg.transform(test)"
   ]
  },
  {
   "cell_type": "code",
   "execution_count": 58,
   "id": "3b503a45-59ef-4959-8d1e-bbfb1db9946a",
   "metadata": {},
   "outputs": [
    {
     "name": "stderr",
     "output_type": "stream",
     "text": [
      "[Stage 80:>                                                         (0 + 1) / 1]"
     ]
    },
    {
     "name": "stdout",
     "output_type": "stream",
     "text": [
      "+---------------------------------------------------------------+-----+----------------------------------------+------------------------------------------+----------+\n",
      "|features                                                       |label|rawPrediction                           |probability                               |prediction|\n",
      "+---------------------------------------------------------------+-----+----------------------------------------+------------------------------------------+----------+\n",
      "|(13,[0,4,5,6,7,8,11],[1.0,1.0,2700.0,0.49,1802.0,526.0,66.0])  |1    |[-2.7686483784735962,2.7686483784735962]|[0.05904205953886716,0.9409579404611329]  |1.0       |\n",
      "|(13,[0,4,5,6,7,8,11],[1.0,1.0,4500.0,0.98,1145.0,685.0,47.0])  |1    |[-3.902842451516627,3.902842451516627]  |[0.019785104900077198,0.9802148950999229] |1.0       |\n",
      "|(13,[0,5,6,7,8,11],[1.0,4500.0,0.24,2553.0,6557.0,38.0])       |0    |[5.170270575476525,-5.170270575476525]  |[0.9943490834113425,0.00565091658865739]  |0.0       |\n",
      "|(13,[0,5,6,7,8,11,12],[1.0,1000.0,0.9,1501.0,1101.0,20.0,6.0]) |1    |[-5.422178540224947,5.422178540224947]  |[0.004398083838833431,0.9956019161611667] |1.0       |\n",
      "|(13,[0,5,6,7,8,11,12],[1.0,1100.0,0.69,743.0,1088.0,37.0,4.0]) |1    |[-5.802924253388166,5.802924253388166]  |[0.003009629129633386,0.9969903708703667] |1.0       |\n",
      "|(13,[0,5,6,7,8,11,12],[1.0,1200.0,1.01,908.0,1929.0,37.0,3.0]) |1    |[-5.453658194267529,5.453658194267529]  |[0.004262371109049876,0.9957376288909501] |1.0       |\n",
      "|(13,[0,5,6,7,8,11,12],[1.0,1300.0,0.7,955.0,2612.0,31.0,4.0])  |1    |[-4.061734797108228,4.061734797108228]  |[0.016927642376587095,0.983072357623413]  |1.0       |\n",
      "|(13,[0,5,6,7,8,11,12],[1.0,1300.0,0.87,1106.0,1753.0,31.0,1.0])|1    |[-4.673497725868161,4.673497725868161]  |[0.009253125180723241,0.9907468748192768] |1.0       |\n",
      "|(13,[0,5,6,7,8,11,12],[1.0,1400.0,0.67,2052.0,2088.0,52.0,8.0])|1    |[-3.1432199760904367,3.1432199760904367]|[0.04135926280923109,0.9586407371907689]  |1.0       |\n",
      "|(13,[0,5,6,7,8,11,12],[1.0,1400.0,0.94,1088.0,1193.0,57.0,8.0])|1    |[-6.091761807319308,6.091761807319308]  |[0.0022563187275806544,0.9977436812724193]|1.0       |\n",
      "+---------------------------------------------------------------+-----+----------------------------------------+------------------------------------------+----------+\n",
      "only showing top 10 rows\n",
      "\n"
     ]
    },
    {
     "name": "stderr",
     "output_type": "stream",
     "text": [
      "                                                                                \r"
     ]
    }
   ],
   "source": [
    "pred.show(10, False)  #예측결과 확인"
   ]
  },
  {
   "cell_type": "code",
   "execution_count": 59,
   "id": "0fb64d72-923e-4c46-a535-36ffa89a9882",
   "metadata": {},
   "outputs": [],
   "source": [
    "pred = lg.evaluate(test)"
   ]
  },
  {
   "cell_type": "code",
   "execution_count": 60,
   "id": "deaa36d9-b19f-45ab-9e8c-207bbbe4a820",
   "metadata": {},
   "outputs": [
    {
     "name": "stderr",
     "output_type": "stream",
     "text": [
      "                                                                                \r"
     ]
    },
    {
     "data": {
      "text/plain": [
       "0.8927892097527235"
      ]
     },
     "execution_count": 60,
     "metadata": {},
     "output_type": "execute_result"
    }
   ],
   "source": [
    "pred.accuracy"
   ]
  },
  {
   "cell_type": "code",
   "execution_count": 61,
   "id": "ece521ae-a25a-4865-acd9-7b916f3e5e8f",
   "metadata": {},
   "outputs": [
    {
     "name": "stderr",
     "output_type": "stream",
     "text": [
      "                                                                                \r"
     ]
    },
    {
     "data": {
      "text/plain": [
       "[0.9199361617236335, 0.8423523597726711]"
      ]
     },
     "execution_count": 61,
     "metadata": {},
     "output_type": "execute_result"
    }
   ],
   "source": [
    "pred.precisionByLabel"
   ]
  },
  {
   "cell_type": "code",
   "execution_count": 64,
   "id": "8aebdc94-c432-4c14-8b4d-6a6e2c267e10",
   "metadata": {
    "tags": []
   },
   "outputs": [
    {
     "data": {
      "text/plain": [
       "[0.9155526141628061, 0.849912739965096]"
      ]
     },
     "execution_count": 64,
     "metadata": {},
     "output_type": "execute_result"
    }
   ],
   "source": [
    "pred.recallByLabel "
   ]
  },
  {
   "cell_type": "code",
   "execution_count": 63,
   "id": "d2f78de0-d2b9-43e7-bce5-107948142cf5",
   "metadata": {},
   "outputs": [
    {
     "name": "stderr",
     "output_type": "stream",
     "text": [
      "                                                                                \r"
     ]
    },
    {
     "data": {
      "text/plain": [
       "0.9582241819773916"
      ]
     },
     "execution_count": 63,
     "metadata": {},
     "output_type": "execute_result"
    }
   ],
   "source": [
    "pred.areaUnderROC  "
   ]
  },
  {
   "cell_type": "markdown",
   "id": "b6a9d17b-e5ab-4cde-b895-285711f85ebc",
   "metadata": {},
   "source": [
    "### 오차행렬 confusion matrix"
   ]
  },
  {
   "cell_type": "code",
   "execution_count": 69,
   "id": "dfd84090-cdc8-4377-9313-b65372831344",
   "metadata": {},
   "outputs": [],
   "source": [
    "from sklearn.metrics import confusion_matrix"
   ]
  },
  {
   "cell_type": "code",
   "execution_count": 71,
   "id": "4f4095ad-9d3b-435a-9137-dc0848db3047",
   "metadata": {},
   "outputs": [],
   "source": [
    "pred = lg.transform(test)"
   ]
  },
  {
   "cell_type": "code",
   "execution_count": 72,
   "id": "c6d822a2-8e8e-49a2-8280-da7574da7065",
   "metadata": {},
   "outputs": [
    {
     "name": "stderr",
     "output_type": "stream",
     "text": [
      "                                                                                \r"
     ]
    }
   ],
   "source": [
    "y_true = pred.select(['label']).collect()"
   ]
  },
  {
   "cell_type": "code",
   "execution_count": 74,
   "id": "25d63f11-4bed-4a35-ba92-e9eacc9674a9",
   "metadata": {},
   "outputs": [
    {
     "name": "stderr",
     "output_type": "stream",
     "text": [
      "                                                                                \r"
     ]
    }
   ],
   "source": [
    "y_pred = pred.select(['prediction']).collect()"
   ]
  },
  {
   "cell_type": "code",
   "execution_count": 75,
   "id": "092d6dcd-f2d5-4e7e-ad21-49fb5c8455c8",
   "metadata": {},
   "outputs": [
    {
     "data": {
      "text/plain": [
       "array([[6917,  638],\n",
       "       [ 602, 3409]])"
      ]
     },
     "execution_count": 75,
     "metadata": {},
     "output_type": "execute_result"
    }
   ],
   "source": [
    "confusion_matrix(y_true, y_pred)"
   ]
  },
  {
   "cell_type": "markdown",
   "id": "e9364150-31b4-4c8f-bc34-7c90726a42b2",
   "metadata": {},
   "source": []
  },
  {
   "cell_type": "code",
   "execution_count": null,
   "id": "ff4a7272-37d9-4fbf-8113-7e18225d9bbb",
   "metadata": {},
   "outputs": [],
   "source": []
  }
 ],
 "metadata": {
  "kernelspec": {
   "display_name": "Python 3 (ipykernel)",
   "language": "python",
   "name": "python3"
  },
  "language_info": {
   "codemirror_mode": {
    "name": "ipython",
    "version": 3
   },
   "file_extension": ".py",
   "mimetype": "text/x-python",
   "name": "python",
   "nbconvert_exporter": "python",
   "pygments_lexer": "ipython3",
   "version": "3.7.10"
  }
 },
 "nbformat": 4,
 "nbformat_minor": 5
}
