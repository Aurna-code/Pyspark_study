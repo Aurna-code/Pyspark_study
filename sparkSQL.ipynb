{
 "cells": [
  {
   "cell_type": "markdown",
   "id": "dbe98389-5be2-4c00-9f8f-6c99828089a1",
   "metadata": {
    "tags": []
   },
   "source": [
    "## 사용자 정의 함수 : UDF\n",
    "+ 특정 기능을 수행하는 함수는 UDF 형식으로 만들어 사용가능\n",
    "+ 주로 파생변수를 만들 때 사용\n",
    "+ udf(사용자정의함수명, 반환값타입)\n",
    "+ udf함수는 udf(사용자정의함수값,\n",
    "+ udf를 통한 파생변수는 withColumn(컬럼명, udf함수명)로 생성"
   ]
  },
  {
   "cell_type": "markdown",
   "id": "156a2a67-f447-4272-884b-ac43827f4e00",
   "metadata": {},
   "source": [
    "#### 사원들의 연봉을 다음의 분류기준에 따라 변환해서 조회\n",
    "##### 2100 이하 : slave salary\n",
    "##### 2200 ~ 3200 : low salary\n",
    "##### 3200 ~ 6200 : medium salary\n",
    "##### 6200 ~ 15000 : high salary\n",
    "##### 15000 이상 : master salary"
   ]
  },
  {
   "cell_type": "code",
   "execution_count": 123,
   "id": "d5556e68-0c35-4b8d-8c6d-2533fba1ae9d",
   "metadata": {},
   "outputs": [],
   "source": [
    "emp = spark.read.csv(\"employees.csv\", header=True, inferSchema=True)"
   ]
  },
  {
   "cell_type": "markdown",
   "id": "4fb2ccd9-317e-4c42-b94c-c739cfa951e9",
   "metadata": {},
   "source": [
    "#### 급여에 대한 등급을 출력하는 함수 정의"
   ]
  },
  {
   "cell_type": "code",
   "execution_count": null,
   "id": "a5c56ccf-da91-41ca-a0a3-ddec85c8e28d",
   "metadata": {},
   "outputs": [],
   "source": [
    "def sal_grade(x):\n",
    "    grade = 'slave salary'\n",
    "    if x >= 15000 : grade = 'master salary'\n",
    "    elif x >= 6200 : grade = 'high salary'\n",
    "    elif x >= 3200 : grade = 'medium salary'\n",
    "    elif x >= 2100 : grade = 'low salary'\n",
    "    return grade"
   ]
  },
  {
   "cell_type": "markdown",
   "id": "9dfcdc39-f4fe-47ad-a1f0-7afc5e320923",
   "metadata": {},
   "source": [
    "#### sal_grade를 udf함수로 지정"
   ]
  },
  {
   "cell_type": "code",
   "execution_count": null,
   "id": "c4a1e4d5-4c24-49f2-9a45-d5f851b9eea0",
   "metadata": {},
   "outputs": [],
   "source": [
    "from pyspark.sql.functions import udf\n",
    "from pyspark.sql.types import StringType, IntegerType"
   ]
  },
  {
   "cell_type": "code",
   "execution_count": null,
   "id": "946bcde0-904d-44b6-8660-62399eaef2ba",
   "metadata": {},
   "outputs": [],
   "source": [
    "sg_udf = udf(sal_grade, StringType())"
   ]
  },
  {
   "cell_type": "markdown",
   "id": "d81afb48-ae41-4bc2-80d8-810b1ec75d68",
   "metadata": {},
   "source": [
    "#### 기존의 데이터프레임에 salgrade라는 파생변수(컬럼)을 추가"
   ]
  },
  {
   "cell_type": "code",
   "execution_count": null,
   "id": "b155ec95-d948-4355-a9a8-0149ab2407d2",
   "metadata": {},
   "outputs": [],
   "source": [
    "emp = emp.withColumn('salgrade', sg_udf(emp.SALARY))"
   ]
  },
  {
   "cell_type": "markdown",
   "id": "f30615ed-b001-4369-a933-06ff183a886e",
   "metadata": {},
   "source": [
    "#### 생성한 파생변수 확인"
   ]
  },
  {
   "cell_type": "code",
   "execution_count": null,
   "id": "81a1c349-e4d1-408c-8155-6a9fa52ad344",
   "metadata": {},
   "outputs": [],
   "source": [
    "emp.select('SALARY', 'salgrade').show(5)"
   ]
  },
  {
   "cell_type": "markdown",
   "id": "5fa5c362-fe81-480d-a2e9-409b4d0950df",
   "metadata": {},
   "source": [
    "#### 타이타닉 승객 나이를 다음 조건에 따라 범주형 데이터로 변환하기\n",
    "+ 1age, 5age, 10age, 20age, ..., 80age로 분류\n",
    "+ 파생변수명 ages, 함수명 age_class"
   ]
  },
  {
   "cell_type": "code",
   "execution_count": null,
   "id": "ccd4fa35-b487-461d-9337-3dbb8587e2ee",
   "metadata": {},
   "outputs": [],
   "source": [
    "titanic = spark.read.csv(\"titanic.csv\", header=True, inferSchema=True)"
   ]
  },
  {
   "cell_type": "code",
   "execution_count": null,
   "id": "0957799b-453f-4460-9a7a-bd579ea0b4a5",
   "metadata": {},
   "outputs": [],
   "source": [
    "def age_class(x):\n",
    "    aclass = '1age'\n",
    "    if x >= 80 : aclass = 'master elder'\n",
    "    elif x >= 60 : aclass = 'elder'\n",
    "    elif x >= 40 : aclass = 'older'\n",
    "    elif x >= 20 : aclass = 'youngling'\n",
    "    elif x >= 10 : aclass = 'kid'\n",
    "    else : aclass = 'baby'\n",
    "    return aclass"
   ]
  },
  {
   "cell_type": "code",
   "execution_count": null,
   "id": "5d622abb-9d48-4d26-b425-b070e62e3328",
   "metadata": {},
   "outputs": [],
   "source": [
    "ac_udf = udf(age_class, StringType())"
   ]
  },
  {
   "cell_type": "code",
   "execution_count": null,
   "id": "0df21307-3d86-4077-92f9-7bfbf12149fe",
   "metadata": {},
   "outputs": [],
   "source": [
    "titanic.withColumn('ages', ac_udf(titanic.age))"
   ]
  },
  {
   "cell_type": "code",
   "execution_count": null,
   "id": "dd916b44-0eac-43bb-bcb9-8e2e6b5a5fa6",
   "metadata": {},
   "outputs": [],
   "source": [
    "titanic.select('age', 'ages').show(5)"
   ]
  },
  {
   "cell_type": "markdown",
   "id": "1ecb9387-06e1-4889-b7a4-057d7027b82a",
   "metadata": {},
   "source": [
    "#### 타이타닉 승객의 나이별 승객수를 조회하세요"
   ]
  },
  {
   "cell_type": "code",
   "execution_count": null,
   "id": "ca338a72-79af-4415-8f34-771ec8c063d6",
   "metadata": {},
   "outputs": [],
   "source": [
    "titanic.groupBy('ages').count().show()"
   ]
  },
  {
   "cell_type": "code",
   "execution_count": null,
   "id": "8d247e6b-d050-4161-aa41-b385131cfeb5",
   "metadata": {},
   "outputs": [],
   "source": []
  },
  {
   "cell_type": "markdown",
   "id": "5aab8f5e-0f66-4d09-8952-1d7120ecac72",
   "metadata": {},
   "source": [
    "## Join\n",
    "+ 여러 테이블을 연결해서 데이터를 검색하는 것\n",
    "+ 테이블의 결합기준은 각 테이블에 존재하는 공통 속성\n",
    "+ 결합 유형 : inner join, outer join. self join\n",
    "+ 데이터객체명.join(조인대상, 조인조건, 조인유형)"
   ]
  },
  {
   "cell_type": "code",
   "execution_count": null,
   "id": "930b81b8-b508-45e1-b0a6-372a2a8ed0d1",
   "metadata": {},
   "outputs": [],
   "source": [
    "dept = spark.read.csv('departments.csv', header=True, inferSchema=True)"
   ]
  },
  {
   "cell_type": "code",
   "execution_count": null,
   "id": "fb626e56-f8b6-4d70-8939-f8c259212603",
   "metadata": {},
   "outputs": [],
   "source": [
    "dept.show(5)"
   ]
  },
  {
   "cell_type": "code",
   "execution_count": null,
   "id": "c0774a74-d7db-4c8d-8b7d-ad8fcce2d5f1",
   "metadata": {},
   "outputs": [],
   "source": [
    "join_condition = emp.DEPARTMENT_ID == dept.DEPARTMENT_ID"
   ]
  },
  {
   "cell_type": "markdown",
   "id": "a3d62f4e-19a0-4467-a1b2-ca5d791405f2",
   "metadata": {},
   "source": [
    "#### 내부조인 : 공통 속성명이 다를 경우"
   ]
  },
  {
   "cell_type": "code",
   "execution_count": null,
   "id": "cc35816a-b45b-4f40-8db4-c4e49349d8c2",
   "metadata": {},
   "outputs": [],
   "source": [
    "empdept = emp.join(dept, join_condition, 'inner')"
   ]
  },
  {
   "cell_type": "code",
   "execution_count": null,
   "id": "d1ef8c4f-5c3a-436f-8fed-c26685e4b125",
   "metadata": {},
   "outputs": [],
   "source": [
    "empdept.show(5)"
   ]
  },
  {
   "cell_type": "markdown",
   "id": "1ca5a5c2-db4f-41ce-974a-37c7e92a4ede",
   "metadata": {},
   "source": [
    "#### 공통 속성명이 동일한 경우"
   ]
  },
  {
   "cell_type": "code",
   "execution_count": null,
   "id": "78f78f39-f2c5-4788-aa8a-713be20e5013",
   "metadata": {},
   "outputs": [],
   "source": [
    "empdept2 = emp.join(dept, 'DEPARTMENT_ID', 'inner')"
   ]
  },
  {
   "cell_type": "code",
   "execution_count": null,
   "id": "6adfad65-233f-4df1-87e1-5cd5c7fde0bd",
   "metadata": {},
   "outputs": [],
   "source": [
    "empdept2.show(5)"
   ]
  },
  {
   "cell_type": "markdown",
   "id": "21f4cb35-173a-4536-8d65-5c293a082a02",
   "metadata": {},
   "source": [
    "#### 사원 이름과 부서명 조회"
   ]
  },
  {
   "cell_type": "code",
   "execution_count": null,
   "id": "c5175ef8-bd5e-4008-b4c4-dee11995dffd",
   "metadata": {},
   "outputs": [],
   "source": [
    "empdept2.select('FIRST_NAME', 'DEPARTMENT_NAME').show(5)"
   ]
  },
  {
   "cell_type": "markdown",
   "id": "a27715af-9424-4ecc-a63e-a087e4e07ba5",
   "metadata": {},
   "source": [
    "#### 외부조인"
   ]
  },
  {
   "cell_type": "code",
   "execution_count": null,
   "id": "52388fba-9096-4ec5-aa3f-90d1e7062fd0",
   "metadata": {},
   "outputs": [],
   "source": [
    "empdept3 = emp.join(dept, 'DEPARTMENT_ID', 'outer')"
   ]
  },
  {
   "cell_type": "code",
   "execution_count": null,
   "id": "a4d91f58-123c-4bb5-ab1c-15b4f7ea570c",
   "metadata": {},
   "outputs": [],
   "source": [
    "empdept3.show(5)"
   ]
  },
  {
   "cell_type": "markdown",
   "id": "a902b660-ad57-42a6-b4cc-30c73f526655",
   "metadata": {},
   "source": [
    "#### 사원이 한명도 없는 부서 조회"
   ]
  },
  {
   "cell_type": "code",
   "execution_count": null,
   "id": "0a5d0807-daaf-4c7b-84d0-af3a1f9ed6d5",
   "metadata": {},
   "outputs": [],
   "source": [
    "empdept3.filter(empdept3.FIRST_NAME.isNull()).select('DEPARTMENT_ID','DEPARTMENT_NAME').show()"
   ]
  },
  {
   "cell_type": "markdown",
   "id": "46317dfa-370c-4a54-8d0c-b5a0709cbdef",
   "metadata": {},
   "source": [
    "#### 부서에 소속되지 않은 사원 조회"
   ]
  },
  {
   "cell_type": "code",
   "execution_count": null,
   "id": "b400ca5b-5b35-4666-973b-84551055a4ce",
   "metadata": {},
   "outputs": [],
   "source": [
    "empdept3.filter(empdept3.DEPARTMENT_ID.isNull()).select('FIRST_NAME','LAST_NAME').show()"
   ]
  },
  {
   "cell_type": "code",
   "execution_count": null,
   "id": "2ba40b20-4011-4bc2-8b5b-efb94bc95cdb",
   "metadata": {},
   "outputs": [],
   "source": [
    "orders = spark.read.csv('orders.csv', header=True, inferSchema=True)"
   ]
  },
  {
   "cell_type": "code",
   "execution_count": null,
   "id": "17abfe91-b979-4d75-9646-faef1afc5afb",
   "metadata": {},
   "outputs": [],
   "source": [
    "products = spark.read.csv('products.csv', header=True, inferSchema=True)"
   ]
  },
  {
   "cell_type": "code",
   "execution_count": null,
   "id": "3e4e804e-eb89-4218-b9b0-9eea485cd4d4",
   "metadata": {},
   "outputs": [],
   "source": [
    "customers = spark.read.csv('customers.csv', header=True, inferSchema=True)"
   ]
  },
  {
   "cell_type": "code",
   "execution_count": null,
   "id": "b7ff2c8c-95f3-4649-9f9d-e5962381f2b8",
   "metadata": {},
   "outputs": [],
   "source": [
    "orderpro = orders.join(products, 'prodid', 'inner')"
   ]
  },
  {
   "cell_type": "code",
   "execution_count": null,
   "id": "31d1096f-b91a-4539-8138-1a7eb646f96d",
   "metadata": {},
   "outputs": [],
   "source": [
    "orderpro.show()"
   ]
  },
  {
   "cell_type": "code",
   "execution_count": null,
   "id": "aaa4d447-58c6-4528-ae70-964ee8b8fb65",
   "metadata": {},
   "outputs": [],
   "source": [
    "orderpro.filter(orderpro.userid == 'carrot').select('userid', 'prodname', 'price').show()"
   ]
  },
  {
   "cell_type": "code",
   "execution_count": null,
   "id": "485bb908-a889-4ece-82af-c1670b806c9a",
   "metadata": {},
   "outputs": [],
   "source": [
    "ordercus = orders.join(customers, 'userid', 'right_outer')"
   ]
  },
  {
   "cell_type": "code",
   "execution_count": null,
   "id": "8dc5d6db-70e4-4779-8dfc-5e4000ee5228",
   "metadata": {},
   "outputs": [],
   "source": [
    "ordercus.show()"
   ]
  },
  {
   "cell_type": "code",
   "execution_count": null,
   "id": "6fcb96c6-fef5-4dbc-b455-c3281151e347",
   "metadata": {},
   "outputs": [],
   "source": [
    "ordercus.filter(ordercus.orderid.isNull()).select('userid', 'name', 'grade').show()"
   ]
  },
  {
   "cell_type": "code",
   "execution_count": null,
   "id": "a4e8e043-4991-42aa-b207-7016f65d2045",
   "metadata": {},
   "outputs": [],
   "source": [
    "orderpro2 = orders.join(products, 'prodid', 'outer')"
   ]
  },
  {
   "cell_type": "code",
   "execution_count": null,
   "id": "43f6d4ba-da19-4633-8d70-b03c06bd2895",
   "metadata": {},
   "outputs": [],
   "source": [
    "orderpro2.filter(orderpro2.orderid.isNull()).select('prodname', 'maker').show()"
   ]
  },
  {
   "cell_type": "markdown",
   "id": "bf5374f6-84b8-4084-88b0-25e2fd47d154",
   "metadata": {},
   "source": [
    "#### 셀프조인 : 같은 이름의 데이블을 결합해서 원하는 데이터를 조회"
   ]
  },
  {
   "cell_type": "markdown",
   "id": "bf7568a8-9ac4-479d-9c76-cc44ddac839c",
   "metadata": {},
   "source": [
    "#### 각 사원들의 상사 사번과 이름을 조회"
   ]
  },
  {
   "cell_type": "code",
   "execution_count": null,
   "id": "2f4869c0-95df-48c2-8b1b-a550b769d563",
   "metadata": {},
   "outputs": [],
   "source": [
    "from pyspark.sql.functions import col"
   ]
  },
  {
   "cell_type": "code",
   "execution_count": null,
   "id": "62808ea6-ecd4-40d0-a623-7fa44302656a",
   "metadata": {},
   "outputs": [],
   "source": [
    "mgr = emp"
   ]
  },
  {
   "cell_type": "code",
   "execution_count": null,
   "id": "db426b80-31dd-462a-8a8e-2566fd071190",
   "metadata": {},
   "outputs": [],
   "source": [
    "join_condition = emp.MANAGER_ID == mgr.EMPLOYEE_ID"
   ]
  },
  {
   "cell_type": "code",
   "execution_count": null,
   "id": "8dddab2d-69f8-406b-b92e-7f6661656cff",
   "metadata": {},
   "outputs": [],
   "source": [
    "empmgr = emp.alias('emp').join(emp.alias('mgr'), col('emp.MANAGER_ID') == col('mgr.EMPLOYEE_ID'), \"inner\")"
   ]
  },
  {
   "cell_type": "code",
   "execution_count": null,
   "id": "640e8872-130d-4237-a792-a964ba1c3b6d",
   "metadata": {},
   "outputs": [],
   "source": [
    "empmgr.show(5)"
   ]
  },
  {
   "cell_type": "code",
   "execution_count": null,
   "id": "498db17f-1d5f-4913-8b21-57e7694a552e",
   "metadata": {},
   "outputs": [],
   "source": [
    "empmgr.select('emp.EMPLOYEE_ID','emp.FIRST_NAME','emp.MANAGER_ID','mgr.EMPLOYEE_ID', 'mgr.FIRST_NAME').show(5)"
   ]
  },
  {
   "cell_type": "markdown",
   "id": "f123b1bb-2648-4891-8c69-df583c906040",
   "metadata": {},
   "source": [
    "# SparkSQL\n",
    "+ 스파크 데이터프레임에 저장된 데이터들을 SQL 문법을 이용해서 탐색할 수 있도록 해 줌\n",
    "+ spark.sql() 함수 사용"
   ]
  },
  {
   "cell_type": "markdown",
   "id": "8ee0686f-5045-4a49-821f-7f92f9b31f19",
   "metadata": {},
   "source": [
    "### 스파크 SQL을 위한 스파크 세션 생성"
   ]
  },
  {
   "cell_type": "code",
   "execution_count": 127,
   "id": "20b0f17a-1325-4884-9dd5-c7323d94c380",
   "metadata": {},
   "outputs": [],
   "source": [
    "spark = SparkSession.builder.master('app').appName('sparkSQL').getOrCreate()"
   ]
  },
  {
   "cell_type": "markdown",
   "id": "32693633-9d36-4041-9ba8-ed4d2090cad5",
   "metadata": {},
   "source": [
    "### SQL 사용을 위한 View 객체 생성"
   ]
  },
  {
   "cell_type": "code",
   "execution_count": 124,
   "id": "168fe0dd-7c24-4158-b070-aa52d5fad817",
   "metadata": {},
   "outputs": [],
   "source": [
    "EMP = emp.createOrReplaceTempView(\"EMP\")"
   ]
  },
  {
   "cell_type": "code",
   "execution_count": 125,
   "id": "ca8a1794-6881-4eba-a598-d24c223d412b",
   "metadata": {},
   "outputs": [],
   "source": [
    "cus = customers.createOrReplaceTempView(\"cus\")"
   ]
  },
  {
   "cell_type": "code",
   "execution_count": 34,
   "id": "11a7900c-8c98-4d1f-b941-5917b99cefec",
   "metadata": {},
   "outputs": [],
   "source": [
    "order = orders.createOrReplaceTempView(\"order\")"
   ]
  },
  {
   "cell_type": "code",
   "execution_count": 126,
   "id": "b3141c54-07b0-4695-ac3f-75b729fe6d98",
   "metadata": {},
   "outputs": [],
   "source": [
    "prod = products.createOrReplaceTempView(\"prod\")"
   ]
  },
  {
   "cell_type": "markdown",
   "id": "d0e3d217-8d30-4bda-8e34-a9a601a8fd6d",
   "metadata": {},
   "source": [
    "### SQL 함수를 이용하여 SQL 질의문을 수행하고 결과 출력"
   ]
  },
  {
   "cell_type": "code",
   "execution_count": null,
   "id": "14bc6f94-4ccd-4ec9-9dd8-cbdf07825da8",
   "metadata": {},
   "outputs": [],
   "source": [
    "spark.sql('select FIRST_NAME, LAST_NAME from EMP').show()"
   ]
  },
  {
   "cell_type": "markdown",
   "id": "20fb0adf-3868-4d71-8a28-1e8079ce0a15",
   "metadata": {},
   "source": [
    "## SPAKR_DSL_SQL"
   ]
  },
  {
   "cell_type": "code",
   "execution_count": 42,
   "id": "ff1be81c-7d2d-4a6c-b5ce-c2693ed189b0",
   "metadata": {},
   "outputs": [
    {
     "name": "stdout",
     "output_type": "stream",
     "text": [
      "+------+------+----+------+------+-----+\n",
      "|userid|  name| age| grade|   job|coins|\n",
      "+------+------+----+------+------+-----+\n",
      "| apple|정소화|  20|  gold|  학생| 1000|\n",
      "|banana|김선우|  25|   vip|간호사| 2500|\n",
      "|carrot|고명석|  28|  gold|  교사| 4500|\n",
      "| melon|성원용|  35|  gold|회사원| 5000|\n",
      "|orange|김용욱|  22|silver|  학생|    0|\n",
      "| peach|오형준|null|silver|  의사|  300|\n",
      "|  pear|채광주|  31|silver|회사원|  500|\n",
      "+------+------+----+------+------+-----+\n",
      "\n"
     ]
    }
   ],
   "source": [
    "customers.select('*').show()"
   ]
  },
  {
   "cell_type": "code",
   "execution_count": null,
   "id": "cdb9c4e3-e712-42e9-9de6-71c823ccd05f",
   "metadata": {},
   "outputs": [],
   "source": []
  },
  {
   "cell_type": "code",
   "execution_count": 32,
   "id": "082161c3-3d44-47ee-ba7f-453aaed26abc",
   "metadata": {},
   "outputs": [
    {
     "name": "stdout",
     "output_type": "stream",
     "text": [
      "+------+------+------+\n",
      "|  name|userid| grade|\n",
      "+------+------+------+\n",
      "|정소화| apple|  gold|\n",
      "|김선우|banana|   vip|\n",
      "|고명석|carrot|  gold|\n",
      "|성원용| melon|  gold|\n",
      "|김용욱|orange|silver|\n",
      "|오형준| peach|silver|\n",
      "|채광주|  pear|silver|\n",
      "+------+------+------+\n",
      "\n"
     ]
    }
   ],
   "source": [
    "spark.sql('select name, userid, grade from cus').show()"
   ]
  },
  {
   "cell_type": "code",
   "execution_count": null,
   "id": "cf03123b-723d-4f0f-8cc3-c25c68ced5f7",
   "metadata": {},
   "outputs": [],
   "source": [
    "customers.select('userid', 'name', 'grade').show(5)"
   ]
  },
  {
   "cell_type": "code",
   "execution_count": 55,
   "id": "2528cce8-097e-4eb1-b320-ef53e8e11b5f",
   "metadata": {},
   "outputs": [
    {
     "name": "stderr",
     "output_type": "stream",
     "text": [
      "                                                                                \r"
     ]
    },
    {
     "name": "stdout",
     "output_type": "stream",
     "text": [
      "+--------+\n",
      "|   maker|\n",
      "+--------+\n",
      "|한빛제과|\n",
      "|대한식품|\n",
      "|민국푸드|\n",
      "+--------+\n",
      "\n"
     ]
    },
    {
     "name": "stderr",
     "output_type": "stream",
     "text": [
      "                                                                                \r"
     ]
    }
   ],
   "source": [
    "products.select('maker').distinct().show()"
   ]
  },
  {
   "cell_type": "code",
   "execution_count": 62,
   "id": "39fa3df7-235e-422b-b8d8-b00cf274d6ff",
   "metadata": {},
   "outputs": [
    {
     "ename": "SyntaxError",
     "evalue": "unexpected EOF while parsing (1745456254.py, line 1)",
     "output_type": "error",
     "traceback": [
      "\u001b[0;36m  File \u001b[0;32m\"/tmp/ipykernel_12595/1745456254.py\"\u001b[0;36m, line \u001b[0;32m1\u001b[0m\n\u001b[0;31m    products.select('prodname', products.price.alias('value').show()\u001b[0m\n\u001b[0m                                                                    ^\u001b[0m\n\u001b[0;31mSyntaxError\u001b[0m\u001b[0;31m:\u001b[0m unexpected EOF while parsing\n"
     ]
    }
   ],
   "source": [
    "products.select('prodname', products.'price'.alias('value').show()"
   ]
  },
  {
   "cell_type": "code",
   "execution_count": 63,
   "id": "efdf7b55-da91-4d58-8c88-8bce2c87a5c6",
   "metadata": {},
   "outputs": [
    {
     "name": "stdout",
     "output_type": "stream",
     "text": [
      "+----------+-----+--------+\n",
      "|  prodname|price|adjprice|\n",
      "+----------+-----+--------+\n",
      "|  그냥만두| 4500|    5000|\n",
      "|  매운쫄면| 5500|    6000|\n",
      "|  쿵떡파이| 2600|    3100|\n",
      "|맛난초콜렛| 2500|    3000|\n",
      "|  얼큰라면| 1200|    1700|\n",
      "+----------+-----+--------+\n",
      "only showing top 5 rows\n",
      "\n"
     ]
    }
   ],
   "source": [
    "products.select('prodname', 'price', (products.price + 500).alias('adjprice')).show(5)"
   ]
  },
  {
   "cell_type": "code",
   "execution_count": null,
   "id": "a18e6771-f97d-4566-ab62-e0fa3143790f",
   "metadata": {},
   "outputs": [],
   "source": []
  },
  {
   "cell_type": "code",
   "execution_count": null,
   "id": "ded5f847-085e-43fc-814c-49cdd66a80ed",
   "metadata": {},
   "outputs": [],
   "source": [
    "spark.sql('select * from cus').show()"
   ]
  },
  {
   "cell_type": "code",
   "execution_count": null,
   "id": "4d093d88-7b32-4401-bded-2c2b2b5e5617",
   "metadata": {},
   "outputs": [],
   "source": [
    "spark.sql('select prodid, maker from prod group by maker').show()"
   ]
  },
  {
   "cell_type": "code",
   "execution_count": null,
   "id": "d2dd1103-a56e-40c8-8069-fa4c20b3003d",
   "metadata": {},
   "outputs": [],
   "source": [
    "spark.sql('select distinct maker from prod').show()"
   ]
  },
  {
   "cell_type": "code",
   "execution_count": 61,
   "id": "911431b5-616f-483d-a669-f445e1f3a04f",
   "metadata": {},
   "outputs": [
    {
     "name": "stdout",
     "output_type": "stream",
     "text": [
      "+----------+-----+\n",
      "|  prodname|value|\n",
      "+----------+-----+\n",
      "|  그냥만두| 4500|\n",
      "|  매운쫄면| 5500|\n",
      "|  쿵떡파이| 2600|\n",
      "|맛난초콜렛| 2500|\n",
      "|  얼큰라면| 1200|\n",
      "|  통통우동| 1550|\n",
      "|달콤비스켓| 1500|\n",
      "+----------+-----+\n",
      "\n"
     ]
    }
   ],
   "source": [
    "spark.sql('select prodname, price value from prod').show()"
   ]
  },
  {
   "cell_type": "code",
   "execution_count": 65,
   "id": "deeaf68d-30e4-44c9-a415-170c29704ceb",
   "metadata": {},
   "outputs": [
    {
     "name": "stdout",
     "output_type": "stream",
     "text": [
      "+----------+-----+----+\n",
      "|  prodname|price| adj|\n",
      "+----------+-----+----+\n",
      "|  그냥만두| 4500|5000|\n",
      "|  매운쫄면| 5500|6000|\n",
      "|  쿵떡파이| 2600|3100|\n",
      "|맛난초콜렛| 2500|3000|\n",
      "|  얼큰라면| 1200|1700|\n",
      "|  통통우동| 1550|2050|\n",
      "|달콤비스켓| 1500|2000|\n",
      "+----------+-----+----+\n",
      "\n"
     ]
    }
   ],
   "source": [
    "spark.sql('select prodname, price, price + 500 adj from prod').show()"
   ]
  },
  {
   "cell_type": "code",
   "execution_count": 66,
   "id": "b1811a4c-5a76-44fc-8507-186044538dd1",
   "metadata": {},
   "outputs": [
    {
     "name": "stdout",
     "output_type": "stream",
     "text": [
      "+----------+-----+-----+\n",
      "|  prodname|stock|price|\n",
      "+----------+-----+-----+\n",
      "|  쿵떡파이| 3600| 2600|\n",
      "|맛난초콜렛| 1250| 2500|\n",
      "|달콤비스켓| 1650| 1500|\n",
      "+----------+-----+-----+\n",
      "\n"
     ]
    }
   ],
   "source": [
    "products.filter(products.maker == '한빛제과').select('prodname', 'stock', 'price').show()"
   ]
  },
  {
   "cell_type": "code",
   "execution_count": 67,
   "id": "2c128be2-a627-4b86-ac77-514f3930948e",
   "metadata": {},
   "outputs": [
    {
     "name": "stdout",
     "output_type": "stream",
     "text": [
      "+----------+-----+-----+--------+\n",
      "|  prodname|stock|price|   maker|\n",
      "+----------+-----+-----+--------+\n",
      "|  쿵떡파이| 3600| 2600|한빛제과|\n",
      "|맛난초콜렛| 1250| 2500|한빛제과|\n",
      "|달콤비스켓| 1650| 1500|한빛제과|\n",
      "+----------+-----+-----+--------+\n",
      "\n"
     ]
    }
   ],
   "source": [
    "spark.sql(\"select prodname, stock, price, maker from prod where maker = '한빛제과'\").show()"
   ]
  },
  {
   "cell_type": "code",
   "execution_count": 68,
   "id": "78b25619-8dc2-4e91-8cdb-fa9ee8420a90",
   "metadata": {},
   "outputs": [
    {
     "name": "stdout",
     "output_type": "stream",
     "text": [
      "+------+------+-------------------+\n",
      "|prodid|amount|            orddate|\n",
      "+------+------+-------------------+\n",
      "|   p06|    45|2013-01-11 00:00:00|\n",
      "|   p06|    36|2013-02-20 00:00:00|\n",
      "|   p01|    19|2013-03-02 00:00:00|\n",
      "|   p03|    22|2013-03-15 00:00:00|\n",
      "|   p02|    50|2013-04-10 00:00:00|\n",
      "|   p03|    20|2013-05-22 00:00:00|\n",
      "+------+------+-------------------+\n",
      "\n"
     ]
    }
   ],
   "source": [
    "orders.filter(orders.amount > 15).select('prodid', 'amount', 'orddate').show()"
   ]
  },
  {
   "cell_type": "code",
   "execution_count": 69,
   "id": "0e5a130e-80b4-4105-a424-b48895062dbd",
   "metadata": {},
   "outputs": [
    {
     "name": "stdout",
     "output_type": "stream",
     "text": [
      "+------+------+-------------------+\n",
      "|prodid|amount|            orddate|\n",
      "+------+------+-------------------+\n",
      "|   p06|    45|2013-01-11 00:00:00|\n",
      "|   p06|    36|2013-02-20 00:00:00|\n",
      "|   p01|    19|2013-03-02 00:00:00|\n",
      "|   p03|    22|2013-03-15 00:00:00|\n",
      "|   p02|    50|2013-04-10 00:00:00|\n",
      "|   p03|    20|2013-05-22 00:00:00|\n",
      "+------+------+-------------------+\n",
      "\n"
     ]
    }
   ],
   "source": [
    "spark.sql(\"select prodid, amount, orddate from order where amount > 15\").show()"
   ]
  },
  {
   "cell_type": "code",
   "execution_count": null,
   "id": "2a4d5313-cc3a-48e1-a2c8-b79733375a8e",
   "metadata": {},
   "outputs": [],
   "source": []
  },
  {
   "cell_type": "code",
   "execution_count": 75,
   "id": "1e44809a-cc08-41c8-a4ac-b2caf60c30a3",
   "metadata": {},
   "outputs": [
    {
     "name": "stdout",
     "output_type": "stream",
     "text": [
      "+------+------+-------------------+\n",
      "|prodid|amount|            orddate|\n",
      "+------+------+-------------------+\n",
      "|   p03|    22|2013-03-15 00:00:00|\n",
      "+------+------+-------------------+\n",
      "\n"
     ]
    }
   ],
   "source": [
    "orders.filter((orders.amount > 15) & (orders.userid == 'apple')).select('prodid', 'amount', 'orddate').show()"
   ]
  },
  {
   "cell_type": "code",
   "execution_count": 76,
   "id": "d76e7496-23ed-4a47-b28a-175f2c7e4b99",
   "metadata": {},
   "outputs": [
    {
     "name": "stdout",
     "output_type": "stream",
     "text": [
      "+------+------+-------------------+\n",
      "|prodid|amount|            orddate|\n",
      "+------+------+-------------------+\n",
      "|   p03|    22|2013-03-15 00:00:00|\n",
      "+------+------+-------------------+\n",
      "\n"
     ]
    }
   ],
   "source": [
    "spark.sql(\"select prodid, amount, orddate from order where amount > 15 and userid == 'apple'\").show()"
   ]
  },
  {
   "cell_type": "code",
   "execution_count": 77,
   "id": "05d0f468-31d1-4e95-a3f0-b2bb86e53da5",
   "metadata": {},
   "outputs": [
    {
     "name": "stdout",
     "output_type": "stream",
     "text": [
      "+----------+-----+--------+\n",
      "|  prodname|price|   maker|\n",
      "+----------+-----+--------+\n",
      "|  쿵떡파이| 2600|한빛제과|\n",
      "|맛난초콜렛| 2500|한빛제과|\n",
      "+----------+-----+--------+\n",
      "\n"
     ]
    }
   ],
   "source": [
    "products.filter((products.price >= 2000) & (products.price <=3000)).select('prodname', 'price', 'maker').show()"
   ]
  },
  {
   "cell_type": "code",
   "execution_count": 85,
   "id": "a689aaa2-3ac0-4d01-8171-f2d28a222bbd",
   "metadata": {},
   "outputs": [
    {
     "name": "stdout",
     "output_type": "stream",
     "text": [
      "+----------+-----+--------+\n",
      "|  prodname|price|   maker|\n",
      "+----------+-----+--------+\n",
      "|  쿵떡파이| 2600|한빛제과|\n",
      "|맛난초콜렛| 2500|한빛제과|\n",
      "+----------+-----+--------+\n",
      "\n"
     ]
    }
   ],
   "source": [
    "products.filter(products.price.between(2000, 3000)).select('prodname', 'price', 'maker').show()"
   ]
  },
  {
   "cell_type": "code",
   "execution_count": 81,
   "id": "14142eb7-ae61-4b4c-b0a0-71317e1f0fe9",
   "metadata": {},
   "outputs": [
    {
     "name": "stdout",
     "output_type": "stream",
     "text": [
      "+----------+-----+--------+\n",
      "|  prodname|price|   maker|\n",
      "+----------+-----+--------+\n",
      "|  쿵떡파이| 2600|한빛제과|\n",
      "|맛난초콜렛| 2500|한빛제과|\n",
      "+----------+-----+--------+\n",
      "\n"
     ]
    }
   ],
   "source": [
    "spark.sql(\"select prodname, price, maker from prod where price >=2000 and price <= 3000\").show()"
   ]
  },
  {
   "cell_type": "code",
   "execution_count": 88,
   "id": "0c9f2ffa-b345-4f1a-8b41-a7a2f53fd61a",
   "metadata": {},
   "outputs": [
    {
     "name": "stdout",
     "output_type": "stream",
     "text": [
      "+----------+-----+--------+\n",
      "|  prodname|price|   maker|\n",
      "+----------+-----+--------+\n",
      "|  쿵떡파이| 2600|한빛제과|\n",
      "|맛난초콜렛| 2500|한빛제과|\n",
      "+----------+-----+--------+\n",
      "\n"
     ]
    }
   ],
   "source": [
    "spark.sql(\"select prodname, price, maker from prod where price between 2000 and 3000\").show()"
   ]
  },
  {
   "cell_type": "code",
   "execution_count": 89,
   "id": "3c7f744c-10d7-4836-a574-720fe48dd14d",
   "metadata": {},
   "outputs": [
    {
     "name": "stdout",
     "output_type": "stream",
     "text": [
      "+------+---+------+-----+\n",
      "|  name|age| grade|coins|\n",
      "+------+---+------+-----+\n",
      "|김선우| 25|   vip| 2500|\n",
      "|김용욱| 22|silver|    0|\n",
      "+------+---+------+-----+\n",
      "\n"
     ]
    }
   ],
   "source": [
    "customers.filter(customers.name.like('김%')).select('name','age','grade','coins').show()"
   ]
  },
  {
   "cell_type": "markdown",
   "id": "4b2c34d3-f8cb-47de-9c1a-f87233651f9e",
   "metadata": {},
   "source": [
    "### ※ 따옴표 3개를 쓰면 줄바꿈 코드 인식가능(파이썬)"
   ]
  },
  {
   "cell_type": "code",
   "execution_count": 90,
   "id": "24565896-dd03-4a27-bb14-b614bb6547f0",
   "metadata": {},
   "outputs": [
    {
     "name": "stdout",
     "output_type": "stream",
     "text": [
      "+------+---+------+-----+\n",
      "|  name|age| grade|coins|\n",
      "+------+---+------+-----+\n",
      "|김선우| 25|   vip| 2500|\n",
      "|김용욱| 22|silver|    0|\n",
      "+------+---+------+-----+\n",
      "\n"
     ]
    }
   ],
   "source": [
    "spark.sql(\"select name, age, grade,coins from cus where name like '김%'\").show()"
   ]
  },
  {
   "cell_type": "code",
   "execution_count": 93,
   "id": "9087dd24-53ee-4d10-b804-cb8bcc655317",
   "metadata": {},
   "outputs": [
    {
     "name": "stdout",
     "output_type": "stream",
     "text": [
      "+------+------+------+-----+\n",
      "|userid|  name| grade|coins|\n",
      "+------+------+------+-----+\n",
      "| apple|정소화|  gold| 1000|\n",
      "| melon|성원용|  gold| 5000|\n",
      "| peach|오형준|silver|  300|\n",
      "+------+------+------+-----+\n",
      "\n"
     ]
    }
   ],
   "source": [
    "customers.filter(customers.userid.like('_____')).select('userid','name','grade','coins').show()"
   ]
  },
  {
   "cell_type": "code",
   "execution_count": 95,
   "id": "8e690a60-39e2-43f6-ac3e-c75b3205db1d",
   "metadata": {},
   "outputs": [
    {
     "name": "stdout",
     "output_type": "stream",
     "text": [
      "+------+----+------+------+\n",
      "|  name| age| grade|userid|\n",
      "+------+----+------+------+\n",
      "|정소화|  20|  gold| apple|\n",
      "|성원용|  35|  gold| melon|\n",
      "|오형준|null|silver| peach|\n",
      "+------+----+------+------+\n",
      "\n"
     ]
    }
   ],
   "source": [
    "spark.sql(\"select name, age, grade, userid from cus where userid like '_____'\").show()"
   ]
  },
  {
   "cell_type": "code",
   "execution_count": 97,
   "id": "98ae4118-16e8-4772-85bb-446dbd097679",
   "metadata": {},
   "outputs": [
    {
     "name": "stdout",
     "output_type": "stream",
     "text": [
      "+------+\n",
      "|  name|\n",
      "+------+\n",
      "|오형준|\n",
      "+------+\n",
      "\n"
     ]
    }
   ],
   "source": [
    "customers.filter(customers.age.isNull()).select('name').show()"
   ]
  },
  {
   "cell_type": "code",
   "execution_count": 98,
   "id": "ad6019b1-a203-444c-a1cb-fc5f4f26c0b3",
   "metadata": {},
   "outputs": [
    {
     "name": "stdout",
     "output_type": "stream",
     "text": [
      "+------+\n",
      "|  name|\n",
      "+------+\n",
      "|오형준|\n",
      "+------+\n",
      "\n"
     ]
    }
   ],
   "source": [
    "spark.sql(\"select name from cus where age is null\").show()"
   ]
  },
  {
   "cell_type": "code",
   "execution_count": 99,
   "id": "6f3ccbd9-8006-43aa-ae00-8efead0c5b9f",
   "metadata": {},
   "outputs": [
    {
     "name": "stdout",
     "output_type": "stream",
     "text": [
      "+------+\n",
      "|  name|\n",
      "+------+\n",
      "|정소화|\n",
      "|김선우|\n",
      "|고명석|\n",
      "|성원용|\n",
      "|김용욱|\n",
      "|채광주|\n",
      "+------+\n",
      "\n"
     ]
    }
   ],
   "source": [
    "customers.filter(customers.age.isNotNull()).select('name').show()"
   ]
  },
  {
   "cell_type": "code",
   "execution_count": 100,
   "id": "9df9fd35-a4d2-42a6-ab11-251ae752390e",
   "metadata": {},
   "outputs": [
    {
     "name": "stdout",
     "output_type": "stream",
     "text": [
      "+------+\n",
      "|  name|\n",
      "+------+\n",
      "|정소화|\n",
      "|김선우|\n",
      "|고명석|\n",
      "|성원용|\n",
      "|김용욱|\n",
      "|채광주|\n",
      "+------+\n",
      "\n"
     ]
    }
   ],
   "source": [
    "spark.sql(\"select name from cus where age is not null\").show()"
   ]
  },
  {
   "cell_type": "code",
   "execution_count": 102,
   "id": "8acdc7e5-8aeb-4495-98e0-5ac9211192ac",
   "metadata": {},
   "outputs": [
    {
     "name": "stdout",
     "output_type": "stream",
     "text": [
      "+------+------+----+\n",
      "|  name| grade| age|\n",
      "+------+------+----+\n",
      "|성원용|  gold|  35|\n",
      "|채광주|silver|  31|\n",
      "|고명석|  gold|  28|\n",
      "|김선우|   vip|  25|\n",
      "|김용욱|silver|  22|\n",
      "|정소화|  gold|  20|\n",
      "|오형준|silver|null|\n",
      "+------+------+----+\n",
      "\n"
     ]
    }
   ],
   "source": [
    "customers.select('name', 'grade', 'age').orderBy('age', ascending=False).show()"
   ]
  },
  {
   "cell_type": "code",
   "execution_count": 105,
   "id": "44c06b8b-434e-4844-a621-f49aa9a8d7b1",
   "metadata": {},
   "outputs": [
    {
     "name": "stdout",
     "output_type": "stream",
     "text": [
      "+------+------+----+\n",
      "|  name| grade| age|\n",
      "+------+------+----+\n",
      "|성원용|  gold|  35|\n",
      "|채광주|silver|  31|\n",
      "|고명석|  gold|  28|\n",
      "|김선우|   vip|  25|\n",
      "|김용욱|silver|  22|\n",
      "|정소화|  gold|  20|\n",
      "|오형준|silver|null|\n",
      "+------+------+----+\n",
      "\n"
     ]
    }
   ],
   "source": [
    "spark.sql(\"select name, grade, age from cus order by age desc\").show()"
   ]
  },
  {
   "cell_type": "code",
   "execution_count": 106,
   "id": "c907effd-537f-4e66-bb21-87f957ae80bc",
   "metadata": {},
   "outputs": [
    {
     "name": "stdout",
     "output_type": "stream",
     "text": [
      "+------+------+------+-------------------+\n",
      "|userid|prodid|amount|            orddate|\n",
      "+------+------+------+-------------------+\n",
      "|  pear|   p02|    50|2013-04-10 00:00:00|\n",
      "|banana|   p06|    45|2013-01-11 00:00:00|\n",
      "| melon|   p06|    36|2013-02-20 00:00:00|\n",
      "| apple|   p03|    22|2013-03-15 00:00:00|\n",
      "|carrot|   p03|    20|2013-05-22 00:00:00|\n",
      "|banana|   p01|    19|2013-03-02 00:00:00|\n",
      "|banana|   p04|    15|2013-04-11 00:00:00|\n",
      "| apple|   p03|    10|2013-01-01 00:00:00|\n",
      "|carrot|   p02|     8|2013-02-01 00:00:00|\n",
      "| melon|   p01|     5|2013-01-10 00:00:00|\n",
      "+------+------+------+-------------------+\n",
      "\n"
     ]
    }
   ],
   "source": [
    "orders.select('userid', 'prodid', 'amount', 'orddate').orderBy('prodid').orderBy('amount', ascending=False).show()"
   ]
  },
  {
   "cell_type": "code",
   "execution_count": 128,
   "id": "f267319d-720e-40ea-bcba-900c4625d53d",
   "metadata": {},
   "outputs": [
    {
     "name": "stdout",
     "output_type": "stream",
     "text": [
      "+------+------+------+-------------------+\n",
      "|userid|prodid|amount|            orddate|\n",
      "+------+------+------+-------------------+\n",
      "|banana|   p01|    19|2013-03-02 00:00:00|\n",
      "| melon|   p01|     5|2013-01-10 00:00:00|\n",
      "|  pear|   p02|    50|2013-04-10 00:00:00|\n",
      "|carrot|   p02|     8|2013-02-01 00:00:00|\n",
      "| apple|   p03|    22|2013-03-15 00:00:00|\n",
      "|carrot|   p03|    20|2013-05-22 00:00:00|\n",
      "| apple|   p03|    10|2013-01-01 00:00:00|\n",
      "|banana|   p04|    15|2013-04-11 00:00:00|\n",
      "|banana|   p06|    45|2013-01-11 00:00:00|\n",
      "| melon|   p06|    36|2013-02-20 00:00:00|\n",
      "+------+------+------+-------------------+\n",
      "\n"
     ]
    }
   ],
   "source": [
    "spark.sql(\"select userid, prodid, amount, orddate from order order by prodid, amount desc\").show()"
   ]
  },
  {
   "cell_type": "code",
   "execution_count": 176,
   "id": "1d8c3d34-a827-4986-a3da-9708dfb5edfa",
   "metadata": {},
   "outputs": [],
   "source": [
    "\n",
    "from pyspark.sql.functions import min,max,avg,sum,count,round,col,countDistinct"
   ]
  },
  {
   "cell_type": "code",
   "execution_count": 135,
   "id": "70b71ea1-897b-44c8-9032-62fb8be11fd1",
   "metadata": {},
   "outputs": [
    {
     "name": "stdout",
     "output_type": "stream",
     "text": [
      "+-------+\n",
      "|   avgp|\n",
      "+-------+\n",
      "|2764.29|\n",
      "+-------+\n",
      "\n"
     ]
    }
   ],
   "source": [
    "products.select(round(avg('price'),2).alias('avgp')).show()"
   ]
  },
  {
   "cell_type": "code",
   "execution_count": 136,
   "id": "040d177a-b1c8-4fa7-86a6-d589a0bda78e",
   "metadata": {},
   "outputs": [
    {
     "name": "stdout",
     "output_type": "stream",
     "text": [
      "+-------+\n",
      "|   avgp|\n",
      "+-------+\n",
      "|2764.29|\n",
      "+-------+\n",
      "\n"
     ]
    }
   ],
   "source": [
    "spark.sql(\"select round(avg(price),2) avgp from prod\").show()"
   ]
  },
  {
   "cell_type": "code",
   "execution_count": 122,
   "id": "f68f263f-9693-4f0f-ab90-91826b1777a0",
   "metadata": {},
   "outputs": [
    {
     "name": "stdout",
     "output_type": "stream",
     "text": [
      "+-----------------+\n",
      "|       avg(price)|\n",
      "+-----------------+\n",
      "|2764.285714285714|\n",
      "+-----------------+\n",
      "\n"
     ]
    }
   ],
   "source": [
    "sql = \"\"\" select avg(price) from prod \"\"\"\n",
    "spark.sql(sql).show() "
   ]
  },
  {
   "cell_type": "code",
   "execution_count": 141,
   "id": "d0ea2d61-97c3-4403-a889-7e7eef528c2f",
   "metadata": {},
   "outputs": [
    {
     "name": "stdout",
     "output_type": "stream",
     "text": [
      "+------+\n",
      "|hansum|\n",
      "+------+\n",
      "|  6500|\n",
      "+------+\n",
      "\n"
     ]
    }
   ],
   "source": [
    "products.filter(products.maker == '한빛제과').select(sum('stock').alias('hansum')).show()"
   ]
  },
  {
   "cell_type": "code",
   "execution_count": 144,
   "id": "8ce4fafb-8bc8-4262-be6f-f9bf89e8a774",
   "metadata": {},
   "outputs": [
    {
     "name": "stdout",
     "output_type": "stream",
     "text": [
      "+------+\n",
      "|hansum|\n",
      "+------+\n",
      "|  6500|\n",
      "+------+\n",
      "\n"
     ]
    }
   ],
   "source": [
    "spark.sql(\"select sum(stock) hansum from prod where maker = '한빛제과'\").show()"
   ]
  },
  {
   "cell_type": "code",
   "execution_count": 167,
   "id": "65ec01f5-517c-4eb2-8c9a-fc8a5ec10e26",
   "metadata": {},
   "outputs": [
    {
     "name": "stdout",
     "output_type": "stream",
     "text": [
      "+-------------+\n",
      "|count(userid)|\n",
      "+-------------+\n",
      "|            7|\n",
      "+-------------+\n",
      "\n"
     ]
    }
   ],
   "source": [
    "customers.select(count('userid')).show()"
   ]
  },
  {
   "cell_type": "code",
   "execution_count": 149,
   "id": "76d8d521-d723-4dbc-9f10-4246b47a0649",
   "metadata": {},
   "outputs": [
    {
     "name": "stdout",
     "output_type": "stream",
     "text": [
      "+-------+\n",
      "|usernum|\n",
      "+-------+\n",
      "|      7|\n",
      "+-------+\n",
      "\n"
     ]
    }
   ],
   "source": [
    "sql = \"\"\"select count(userid) usernum from cus\"\"\"\n",
    "spark.sql(sql).show()"
   ]
  },
  {
   "cell_type": "code",
   "execution_count": 171,
   "id": "876e7f11-29bf-4cbe-b620-711433fc9c3d",
   "metadata": {},
   "outputs": [
    {
     "name": "stdout",
     "output_type": "stream",
     "text": [
      "+------------+\n",
      "|count(maker)|\n",
      "+------------+\n",
      "|           7|\n",
      "+------------+\n",
      "\n"
     ]
    }
   ],
   "source": [
    "products.select(count('maker')).distinct().alias('makernum').show()"
   ]
  },
  {
   "cell_type": "code",
   "execution_count": 155,
   "id": "f4b2b7ec-f92e-4f63-811a-a618298d2a9f",
   "metadata": {},
   "outputs": [
    {
     "name": "stdout",
     "output_type": "stream",
     "text": [
      "+--------+\n",
      "|makernum|\n",
      "+--------+\n",
      "|       7|\n",
      "+--------+\n",
      "\n"
     ]
    }
   ],
   "source": [
    "sql = \"\"\"select count(maker) makernum from prod\"\"\"\n",
    "spark.sql(sql).show()"
   ]
  },
  {
   "cell_type": "code",
   "execution_count": 175,
   "id": "530cfb11-d82f-408a-8d15-59cf84eaa42b",
   "metadata": {},
   "outputs": [
    {
     "data": {
      "text/plain": [
       "3"
      ]
     },
     "execution_count": 175,
     "metadata": {},
     "output_type": "execute_result"
    }
   ],
   "source": [
    "products.select('maker').distinct().count()"
   ]
  },
  {
   "cell_type": "code",
   "execution_count": 178,
   "id": "3731321d-a356-4447-a81f-a897f0b19d64",
   "metadata": {},
   "outputs": [
    {
     "name": "stdout",
     "output_type": "stream",
     "text": [
      "+---+\n",
      "|cnt|\n",
      "+---+\n",
      "|  3|\n",
      "+---+\n",
      "\n"
     ]
    }
   ],
   "source": [
    "products.select(countDistinct('maker').alias('cnt')).show()"
   ]
  },
  {
   "cell_type": "code",
   "execution_count": 174,
   "id": "1385500c-38fc-4abc-baf8-dc44471c8090",
   "metadata": {},
   "outputs": [
    {
     "name": "stdout",
     "output_type": "stream",
     "text": [
      "+---+\n",
      "|cnt|\n",
      "+---+\n",
      "|  3|\n",
      "+---+\n",
      "\n"
     ]
    }
   ],
   "source": [
    "sql = \"\"\"select count(distinct maker) cnt from prod \"\"\"\n",
    "spark.sql(sql).show()"
   ]
  },
  {
   "cell_type": "code",
   "execution_count": 188,
   "id": "6146f6ae-c6c2-4021-bfda-8c4c4b975529",
   "metadata": {},
   "outputs": [
    {
     "name": "stdout",
     "output_type": "stream",
     "text": [
      "+------+---+\n",
      "|prodid|cnt|\n",
      "+------+---+\n",
      "|   p01| 24|\n",
      "|   p02| 58|\n",
      "|   p03| 52|\n",
      "|   p04| 15|\n",
      "|   p06| 81|\n",
      "+------+---+\n",
      "\n"
     ]
    }
   ],
   "source": [
    "orders.groupBy('prodid').agg(sum('amount').alias('cnt')).orderBy('prodid').show()"
   ]
  },
  {
   "cell_type": "code",
   "execution_count": 192,
   "id": "81f9aecd-a058-4932-af84-1701a05016c7",
   "metadata": {},
   "outputs": [
    {
     "name": "stdout",
     "output_type": "stream",
     "text": [
      "+------+-----------+\n",
      "|prodid|sum(amount)|\n",
      "+------+-----------+\n",
      "|   p01|         24|\n",
      "|   p02|         58|\n",
      "|   p03|         52|\n",
      "|   p04|         15|\n",
      "|   p06|         81|\n",
      "+------+-----------+\n",
      "\n"
     ]
    }
   ],
   "source": [
    "sql = \"\"\"select prodid, sum(amount) from order group by prodid order by prodid\"\"\"\n",
    "spark.sql(sql).show()"
   ]
  },
  {
   "cell_type": "code",
   "execution_count": 197,
   "id": "923052c8-8649-43fb-8e19-30cdbcfecf63",
   "metadata": {},
   "outputs": [
    {
     "name": "stdout",
     "output_type": "stream",
     "text": [
      "+--------+-------+------+\n",
      "|   maker|prodnum|highpr|\n",
      "+--------+-------+------+\n",
      "|한빛제과|      3|  2600|\n",
      "|대한식품|      2|  4500|\n",
      "|민국푸드|      2|  5500|\n",
      "+--------+-------+------+\n",
      "\n"
     ]
    }
   ],
   "source": [
    "products.groupBy('maker').agg(count('prodid').alias('prodnum'), (max('price').alias('highpr'))).show()"
   ]
  },
  {
   "cell_type": "code",
   "execution_count": 199,
   "id": "368b952b-ae75-4b52-af37-618ed99d067e",
   "metadata": {},
   "outputs": [
    {
     "name": "stdout",
     "output_type": "stream",
     "text": [
      "+--------+-------+------+\n",
      "|   maker|prodnum|hihgpr|\n",
      "+--------+-------+------+\n",
      "|한빛제과|      3|  2600|\n",
      "|대한식품|      2|  4500|\n",
      "|민국푸드|      2|  5500|\n",
      "+--------+-------+------+\n",
      "\n"
     ]
    }
   ],
   "source": [
    "sql = \"\"\"select maker, count(prodid) prodnum, max(price) hihgpr from prod group by maker\"\"\"\n",
    "spark.sql(sql).show()"
   ]
  },
  {
   "cell_type": "code",
   "execution_count": 203,
   "id": "ec99f7e2-4056-464f-bcde-cc374cf7b51b",
   "metadata": {},
   "outputs": [
    {
     "name": "stdout",
     "output_type": "stream",
     "text": [
      "+--------+-------+------+\n",
      "|   maker|prodnum|highpr|\n",
      "+--------+-------+------+\n",
      "|한빛제과|      3|  2600|\n",
      "+--------+-------+------+\n",
      "\n"
     ]
    }
   ],
   "source": [
    "products.groupBy('maker').agg(count('prodid').alias('prodnum'), (max('price').alias('highpr'))).filter(count('prodid') >= 3).show()"
   ]
  },
  {
   "cell_type": "code",
   "execution_count": 206,
   "id": "d3dab29f-fcc0-4a0a-8ef1-e6f90f21a1f1",
   "metadata": {},
   "outputs": [
    {
     "name": "stdout",
     "output_type": "stream",
     "text": [
      "+--------+-------+------+\n",
      "|   maker|prodnum|highpr|\n",
      "+--------+-------+------+\n",
      "|한빛제과|      3|  2600|\n",
      "+--------+-------+------+\n",
      "\n"
     ]
    }
   ],
   "source": [
    "products.groupBy('maker').agg(count('prodid').alias('prodnum'), (max('price').alias('highpr'))).filter(col('prodnum') >= 3).show()"
   ]
  },
  {
   "cell_type": "code",
   "execution_count": 205,
   "id": "73ff9bb4-b2e6-4006-8c81-4fe1ba87d908",
   "metadata": {},
   "outputs": [
    {
     "name": "stdout",
     "output_type": "stream",
     "text": [
      "+--------+-------+------+\n",
      "|   maker|prodnum|hihgpr|\n",
      "+--------+-------+------+\n",
      "|한빛제과|      3|  2600|\n",
      "+--------+-------+------+\n",
      "\n"
     ]
    }
   ],
   "source": [
    "sql = \"\"\"select maker, count(prodid) prodnum, max(price) hihgpr from prod group by maker having prodnum >= 3\"\"\"\n",
    "spark.sql(sql).show()"
   ]
  },
  {
   "cell_type": "code",
   "execution_count": 210,
   "id": "fb389505-e101-4d56-a41c-cfe37a768d81",
   "metadata": {},
   "outputs": [
    {
     "name": "stdout",
     "output_type": "stream",
     "text": [
      "+-----+-------+-------+\n",
      "|grade|usernum|avgcoin|\n",
      "+-----+-------+-------+\n",
      "| gold|      3| 3500.0|\n",
      "|  vip|      1| 2500.0|\n",
      "+-----+-------+-------+\n",
      "\n"
     ]
    }
   ],
   "source": [
    "customers.groupBy('grade').agg((count('userid').alias('usernum')), round(avg('coins'), 2).alias('avgcoin')).filter(col('avgcoin')>1000).show()"
   ]
  },
  {
   "cell_type": "code",
   "execution_count": 211,
   "id": "8c4c4ee3-019d-47dd-a4c1-a0403264166b",
   "metadata": {},
   "outputs": [
    {
     "name": "stdout",
     "output_type": "stream",
     "text": [
      "+-------+--------+\n",
      "|usernum|avgcoins|\n",
      "+-------+--------+\n",
      "|      3|  3500.0|\n",
      "|      1|  2500.0|\n",
      "+-------+--------+\n",
      "\n"
     ]
    }
   ],
   "source": [
    "sql = \"\"\"select count(userid) usernum, round((avg(coins)),2) avgcoins from cus group by grade having avg(coins) > 1000 \"\"\"\n",
    "spark.sql(sql).show()"
   ]
  },
  {
   "cell_type": "code",
   "execution_count": 220,
   "id": "ba31391a-4ab5-489c-aa04-f8683d8cfc46",
   "metadata": {},
   "outputs": [],
   "source": [
    "cusOrd = customers.join(orders, 'userid', 'inner')"
   ]
  },
  {
   "cell_type": "code",
   "execution_count": null,
   "id": "99219f56-0f08-4fc3-91b8-0e6e04324e23",
   "metadata": {},
   "outputs": [],
   "source": []
  },
  {
   "cell_type": "code",
   "execution_count": 216,
   "id": "86deac90-3e67-4631-a436-4698d56355be",
   "metadata": {},
   "outputs": [],
   "source": [
    "prodOrd = products.join(orders, 'prodid', 'inner')"
   ]
  },
  {
   "cell_type": "code",
   "execution_count": 217,
   "id": "9f08b541-b2a5-45c6-a4cf-ff8da0ced011",
   "metadata": {},
   "outputs": [
    {
     "name": "stdout",
     "output_type": "stream",
     "text": [
      "+------+----------+\n",
      "|userid|  prodname|\n",
      "+------+----------+\n",
      "|banana|  통통우동|\n",
      "|banana|  그냥만두|\n",
      "|banana|맛난초콜렛|\n",
      "+------+----------+\n",
      "\n"
     ]
    }
   ],
   "source": [
    "prodOrd.filter(col('userid') == 'banana').select('userid', 'prodname').show()"
   ]
  },
  {
   "cell_type": "code",
   "execution_count": 219,
   "id": "af9e09fd-69ce-4c12-8d68-38668440b9de",
   "metadata": {},
   "outputs": [
    {
     "name": "stdout",
     "output_type": "stream",
     "text": [
      "+------+----------+\n",
      "|userid|  prodname|\n",
      "+------+----------+\n",
      "|banana|  통통우동|\n",
      "|banana|  그냥만두|\n",
      "|banana|맛난초콜렛|\n",
      "+------+----------+\n",
      "\n"
     ]
    }
   ],
   "source": [
    "sql = \"\"\"select o.userid, p.prodname  from prod p inner join order o using(prodid) where userid = 'banana'\"\"\"\n",
    "spark.sql(sql).show()"
   ]
  },
  {
   "cell_type": "code",
   "execution_count": 235,
   "id": "e5e78d07-a89a-4aa5-934c-fcb713cbe008",
   "metadata": {},
   "outputs": [
    {
     "name": "stdout",
     "output_type": "stream",
     "text": [
      "+---+------+-------------------+\n",
      "|age|prodid|            orddate|\n",
      "+---+------+-------------------+\n",
      "| 35|   p01|2013-01-10 00:00:00|\n",
      "| 35|   p06|2013-02-20 00:00:00|\n",
      "| 31|   p02|2013-04-10 00:00:00|\n",
      "+---+------+-------------------+\n",
      "\n"
     ]
    }
   ],
   "source": [
    "cusOrd.filter(col('age') >= 30).select('age', 'prodid', 'orddate').show()"
   ]
  },
  {
   "cell_type": "code",
   "execution_count": 238,
   "id": "01dd4990-7915-4f0e-913e-ccc2fa9e0ba1",
   "metadata": {},
   "outputs": [
    {
     "name": "stdout",
     "output_type": "stream",
     "text": [
      "+---+------+-------------------+\n",
      "|age|prodid|            orddate|\n",
      "+---+------+-------------------+\n",
      "| 35|   p01|2013-01-10 00:00:00|\n",
      "| 35|   p06|2013-02-20 00:00:00|\n",
      "| 31|   p02|2013-04-10 00:00:00|\n",
      "+---+------+-------------------+\n",
      "\n"
     ]
    }
   ],
   "source": [
    "sql = \"\"\"select c.age, o.prodid, o.orddate  from cus c inner join order o using(userid) where age >= 30\"\"\"\n",
    "spark.sql(sql).show()"
   ]
  },
  {
   "cell_type": "code",
   "execution_count": 244,
   "id": "2afcb61f-2bd1-4439-90df-1bef69dad1a1",
   "metadata": {},
   "outputs": [
    {
     "name": "stdout",
     "output_type": "stream",
     "text": [
      "+---+------+----------+-------------------+\n",
      "|age|prodid|     odate|            orddate|\n",
      "+---+------+----------+-------------------+\n",
      "| 35|   p01|2013-01-10|2013-01-10 00:00:00|\n",
      "| 35|   p06|2013-02-20|2013-02-20 00:00:00|\n",
      "| 31|   p02|2013-04-10|2013-04-10 00:00:00|\n",
      "+---+------+----------+-------------------+\n",
      "\n"
     ]
    }
   ],
   "source": [
    "sql = \"\"\"select c.age, o.prodid, substr(orddate,0,10) odate, o.orddate  from cus c inner join order o using(userid) where age >= 30\"\"\"\n",
    "spark.sql(sql).show()"
   ]
  },
  {
   "cell_type": "code",
   "execution_count": 241,
   "id": "34921b26-48f5-4943-8b1b-c61e057952eb",
   "metadata": {},
   "outputs": [],
   "source": [
    "from pyspark.sql.functions import substring"
   ]
  },
  {
   "cell_type": "code",
   "execution_count": 242,
   "id": "5c7b59a3-f547-48e5-b9a3-b96fc44d4100",
   "metadata": {},
   "outputs": [
    {
     "name": "stdout",
     "output_type": "stream",
     "text": [
      "+---+------+-------------------+----------+\n",
      "|age|prodid|            orddate|     odate|\n",
      "+---+------+-------------------+----------+\n",
      "| 35|   p01|2013-01-10 00:00:00|2013-01-10|\n",
      "| 35|   p06|2013-02-20 00:00:00|2013-02-20|\n",
      "| 31|   p02|2013-04-10 00:00:00|2013-04-10|\n",
      "+---+------+-------------------+----------+\n",
      "\n"
     ]
    }
   ],
   "source": [
    "cusOrd.filter(col('age') >= 30).select('age', 'prodid', 'orddate', substring('orddate',0,10).alias('odate')).show()"
   ]
  },
  {
   "cell_type": "markdown",
   "id": "76f00115-182e-466f-a165-1d6536626710",
   "metadata": {},
   "source": [
    "### 뷰를 만들어 두면 sql에서 join 코드 대체가능"
   ]
  },
  {
   "cell_type": "code",
   "execution_count": 246,
   "id": "f6b647dd-a868-4709-88c3-2d114eb4ec00",
   "metadata": {},
   "outputs": [],
   "source": [
    "PRODORDER = prodOrd.createOrReplaceTempView('PRODORDER')"
   ]
  },
  {
   "cell_type": "code",
   "execution_count": 248,
   "id": "b619393d-933f-4cc8-a78d-4a085320b872",
   "metadata": {},
   "outputs": [],
   "source": [
    "CUSTORDER = cusOrd.createOrReplaceTempView('CUSORDER')"
   ]
  },
  {
   "cell_type": "code",
   "execution_count": 250,
   "id": "7353764e-9ead-464f-a46a-4276ad461999",
   "metadata": {},
   "outputs": [
    {
     "name": "stdout",
     "output_type": "stream",
     "text": [
      "+------+----------+\n",
      "|userid|  prodname|\n",
      "+------+----------+\n",
      "|banana|  통통우동|\n",
      "|banana|  그냥만두|\n",
      "|banana|맛난초콜렛|\n",
      "+------+----------+\n",
      "\n"
     ]
    }
   ],
   "source": [
    "sql = \"\"\"select userid, prodname from PRODORDER where userid = 'banana' \"\"\"\n",
    "spark.sql(sql).show()"
   ]
  },
  {
   "cell_type": "code",
   "execution_count": null,
   "id": "d7c7df4d-d35a-4948-9f53-cfaabac43410",
   "metadata": {},
   "outputs": [],
   "source": []
  },
  {
   "cell_type": "code",
   "execution_count": 228,
   "id": "a27b5700-2a50-4252-979c-c7f17c808eef",
   "metadata": {},
   "outputs": [],
   "source": [
    "cusordpro = orders.join(customers, 'userid', 'inner').join(products, 'prodid', 'inner')"
   ]
  },
  {
   "cell_type": "code",
   "execution_count": 233,
   "id": "3268e3f2-b2e2-4ec8-98ff-321ffdb8eae4",
   "metadata": {},
   "outputs": [
    {
     "name": "stdout",
     "output_type": "stream",
     "text": [
      "+--------+\n",
      "|prodname|\n",
      "+--------+\n",
      "|매운쫄면|\n",
      "|쿵떡파이|\n",
      "+--------+\n",
      "\n"
     ]
    }
   ],
   "source": [
    "cusordpro.filter(col('name') == '고명석').select('prodname').show()"
   ]
  },
  {
   "cell_type": "code",
   "execution_count": 234,
   "id": "222d78ad-f661-44db-b57a-f20f01bee4c1",
   "metadata": {},
   "outputs": [
    {
     "name": "stdout",
     "output_type": "stream",
     "text": [
      "+--------+\n",
      "|prodname|\n",
      "+--------+\n",
      "|매운쫄면|\n",
      "|쿵떡파이|\n",
      "+--------+\n",
      "\n"
     ]
    }
   ],
   "source": [
    "spark.sql(\"select prodname from order o inner join cus c using(userid) inner join prod p using(prodid) where c.name = '고명석'\").show()"
   ]
  },
  {
   "cell_type": "code",
   "execution_count": 251,
   "id": "4016ecb3-6d7c-4414-a30e-1aa12e71dcde",
   "metadata": {},
   "outputs": [],
   "source": [
    "cusordpro1 = cusordpro.createOrReplaceTempView('cusordpro1')"
   ]
  },
  {
   "cell_type": "code",
   "execution_count": 253,
   "id": "5743aeb7-c22e-424d-a6bc-f675ee4c4d2b",
   "metadata": {},
   "outputs": [
    {
     "name": "stdout",
     "output_type": "stream",
     "text": [
      "+--------+\n",
      "|prodname|\n",
      "+--------+\n",
      "|매운쫄면|\n",
      "|쿵떡파이|\n",
      "+--------+\n",
      "\n"
     ]
    }
   ],
   "source": [
    "spark.sql(\"select prodname from cusordpro1 where name = '고명석'\").show()"
   ]
  },
  {
   "cell_type": "code",
   "execution_count": 256,
   "id": "dd671bf3-b1c5-4281-978c-00a2d0c76082",
   "metadata": {},
   "outputs": [
    {
     "name": "stdout",
     "output_type": "stream",
     "text": [
      "+------+------+-------+------+---------------+-------------------+------+---+------+------+-----+----------+-----+-----+--------+\n",
      "|prodid|userid|orderid|amount|           addr|            orddate|  name|age| grade|   job|coins|  prodname|stock|price|   maker|\n",
      "+------+------+-------+------+---------------+-------------------+------+---+------+------+-----+----------+-----+-----+--------+\n",
      "|   p03| apple|    o01|    10|  서울시 마포구|2013-01-01 00:00:00|정소화| 20|  gold|  학생| 1000|  쿵떡파이| 3600| 2600|한빛제과|\n",
      "|   p01| melon|    o02|     5|  인천시 계양구|2013-01-10 00:00:00|성원용| 35|  gold|회사원| 5000|  그냥만두| 5000| 4500|대한식품|\n",
      "|   p06|banana|    o03|    45|  경기도 부천시|2013-01-11 00:00:00|김선우| 25|   vip|간호사| 2500|  통통우동| 1000| 1550|민국푸드|\n",
      "|   p02|carrot|    o04|     8|  부산시 금정구|2013-02-01 00:00:00|고명석| 28|  gold|  교사| 4500|  매운쫄면| 2500| 5500|민국푸드|\n",
      "|   p06| melon|    o05|    36|  경기도 용인시|2013-02-20 00:00:00|성원용| 35|  gold|회사원| 5000|  통통우동| 1000| 1550|민국푸드|\n",
      "|   p01|banana|    o06|    19|충청북도 보은군|2013-03-02 00:00:00|김선우| 25|   vip|간호사| 2500|  그냥만두| 5000| 4500|대한식품|\n",
      "|   p03| apple|    o07|    22|서울시 영등포구|2013-03-15 00:00:00|정소화| 20|  gold|  학생| 1000|  쿵떡파이| 3600| 2600|한빛제과|\n",
      "|   p02|  pear|    o08|    50|  강원도 춘천시|2013-04-10 00:00:00|채광주| 31|silver|회사원|  500|  매운쫄면| 2500| 5500|민국푸드|\n",
      "|   p04|banana|    o09|    15|전라남도 목포시|2013-04-11 00:00:00|김선우| 25|   vip|간호사| 2500|맛난초콜렛| 1250| 2500|한빛제과|\n",
      "|   p03|carrot|    o10|    20|  경기도 안양시|2013-05-22 00:00:00|고명석| 28|  gold|  교사| 4500|  쿵떡파이| 3600| 2600|한빛제과|\n",
      "+------+------+-------+------+---------------+-------------------+------+---+------+------+-----+----------+-----+-----+--------+\n",
      "\n"
     ]
    }
   ],
   "source": [
    "cusordpro.show()"
   ]
  },
  {
   "cell_type": "code",
   "execution_count": 263,
   "id": "ed52a402-5c9a-46ff-a0a7-08cf6dcad789",
   "metadata": {},
   "outputs": [
    {
     "name": "stderr",
     "output_type": "stream",
     "text": [
      "ERROR:py4j.java_gateway:An error occurred while trying to connect to the Java server (127.0.0.1:40440)\n",
      "Traceback (most recent call last):\n",
      "  File \"/usr/share/spark/python/lib/py4j-0.10.7-src.zip/py4j/java_gateway.py\", line 929, in _get_connection\n",
      "    connection = self.deque.pop()\n",
      "IndexError: pop from an empty deque\n",
      "\n",
      "During handling of the above exception, another exception occurred:\n",
      "\n",
      "Traceback (most recent call last):\n",
      "  File \"/usr/share/spark/python/lib/py4j-0.10.7-src.zip/py4j/java_gateway.py\", line 1067, in start\n",
      "    self.socket.connect((self.address, self.port))\n",
      "ConnectionRefusedError: [Errno 111] Connection refused\n"
     ]
    },
    {
     "ename": "Py4JNetworkError",
     "evalue": "An error occurred while trying to connect to the Java server (127.0.0.1:40440)",
     "output_type": "error",
     "traceback": [
      "\u001b[0;31m---------------------------------------------------------------------------\u001b[0m",
      "\u001b[0;31mIndexError\u001b[0m                                Traceback (most recent call last)",
      "\u001b[0;32m/usr/share/spark/python/lib/py4j-0.10.7-src.zip/py4j/java_gateway.py\u001b[0m in \u001b[0;36m_get_connection\u001b[0;34m(self)\u001b[0m\n\u001b[1;32m    928\u001b[0m         \u001b[0;32mtry\u001b[0m\u001b[0;34m:\u001b[0m\u001b[0;34m\u001b[0m\u001b[0;34m\u001b[0m\u001b[0m\n\u001b[0;32m--> 929\u001b[0;31m             \u001b[0mconnection\u001b[0m \u001b[0;34m=\u001b[0m \u001b[0mself\u001b[0m\u001b[0;34m.\u001b[0m\u001b[0mdeque\u001b[0m\u001b[0;34m.\u001b[0m\u001b[0mpop\u001b[0m\u001b[0;34m(\u001b[0m\u001b[0;34m)\u001b[0m\u001b[0;34m\u001b[0m\u001b[0;34m\u001b[0m\u001b[0m\n\u001b[0m\u001b[1;32m    930\u001b[0m         \u001b[0;32mexcept\u001b[0m \u001b[0mIndexError\u001b[0m\u001b[0;34m:\u001b[0m\u001b[0;34m\u001b[0m\u001b[0;34m\u001b[0m\u001b[0m\n",
      "\u001b[0;31mIndexError\u001b[0m: pop from an empty deque",
      "\nDuring handling of the above exception, another exception occurred:\n",
      "\u001b[0;31mConnectionRefusedError\u001b[0m                    Traceback (most recent call last)",
      "\u001b[0;32m/usr/share/spark/python/lib/py4j-0.10.7-src.zip/py4j/java_gateway.py\u001b[0m in \u001b[0;36mstart\u001b[0;34m(self)\u001b[0m\n\u001b[1;32m   1066\u001b[0m         \u001b[0;32mtry\u001b[0m\u001b[0;34m:\u001b[0m\u001b[0;34m\u001b[0m\u001b[0;34m\u001b[0m\u001b[0m\n\u001b[0;32m-> 1067\u001b[0;31m             \u001b[0mself\u001b[0m\u001b[0;34m.\u001b[0m\u001b[0msocket\u001b[0m\u001b[0;34m.\u001b[0m\u001b[0mconnect\u001b[0m\u001b[0;34m(\u001b[0m\u001b[0;34m(\u001b[0m\u001b[0mself\u001b[0m\u001b[0;34m.\u001b[0m\u001b[0maddress\u001b[0m\u001b[0;34m,\u001b[0m \u001b[0mself\u001b[0m\u001b[0;34m.\u001b[0m\u001b[0mport\u001b[0m\u001b[0;34m)\u001b[0m\u001b[0;34m)\u001b[0m\u001b[0;34m\u001b[0m\u001b[0;34m\u001b[0m\u001b[0m\n\u001b[0m\u001b[1;32m   1068\u001b[0m             \u001b[0mself\u001b[0m\u001b[0;34m.\u001b[0m\u001b[0mstream\u001b[0m \u001b[0;34m=\u001b[0m \u001b[0mself\u001b[0m\u001b[0;34m.\u001b[0m\u001b[0msocket\u001b[0m\u001b[0;34m.\u001b[0m\u001b[0mmakefile\u001b[0m\u001b[0;34m(\u001b[0m\u001b[0;34m\"rb\"\u001b[0m\u001b[0;34m)\u001b[0m\u001b[0;34m\u001b[0m\u001b[0;34m\u001b[0m\u001b[0m\n",
      "\u001b[0;31mConnectionRefusedError\u001b[0m: [Errno 111] Connection refused",
      "\nDuring handling of the above exception, another exception occurred:\n",
      "\u001b[0;31mPy4JNetworkError\u001b[0m                          Traceback (most recent call last)",
      "\u001b[0;32m/tmp/ipykernel_12595/1021656143.py\u001b[0m in \u001b[0;36m<module>\u001b[0;34m\u001b[0m\n\u001b[0;32m----> 1\u001b[0;31m \u001b[0mspark\u001b[0m\u001b[0;34m.\u001b[0m\u001b[0msql\u001b[0m\u001b[0;34m(\u001b[0m\u001b[0;34m\"select prodname, price from prod where maker = (select maker from prod where prodname = '달콤비스켓'\"\u001b[0m\u001b[0;34m)\u001b[0m\u001b[0;34m.\u001b[0m\u001b[0mshow\u001b[0m\u001b[0;34m(\u001b[0m\u001b[0;34m)\u001b[0m\u001b[0;34m\u001b[0m\u001b[0;34m\u001b[0m\u001b[0m\n\u001b[0m",
      "\u001b[0;32m/usr/share/spark/python/pyspark/sql/session.py\u001b[0m in \u001b[0;36msql\u001b[0;34m(self, sqlQuery)\u001b[0m\n\u001b[1;32m    765\u001b[0m         \u001b[0;34m[\u001b[0m\u001b[0mRow\u001b[0m\u001b[0;34m(\u001b[0m\u001b[0mf1\u001b[0m\u001b[0;34m=\u001b[0m\u001b[0;36m1\u001b[0m\u001b[0;34m,\u001b[0m \u001b[0mf2\u001b[0m\u001b[0;34m=\u001b[0m\u001b[0;34mu'row1'\u001b[0m\u001b[0;34m)\u001b[0m\u001b[0;34m,\u001b[0m \u001b[0mRow\u001b[0m\u001b[0;34m(\u001b[0m\u001b[0mf1\u001b[0m\u001b[0;34m=\u001b[0m\u001b[0;36m2\u001b[0m\u001b[0;34m,\u001b[0m \u001b[0mf2\u001b[0m\u001b[0;34m=\u001b[0m\u001b[0;34mu'row2'\u001b[0m\u001b[0;34m)\u001b[0m\u001b[0;34m,\u001b[0m \u001b[0mRow\u001b[0m\u001b[0;34m(\u001b[0m\u001b[0mf1\u001b[0m\u001b[0;34m=\u001b[0m\u001b[0;36m3\u001b[0m\u001b[0;34m,\u001b[0m \u001b[0mf2\u001b[0m\u001b[0;34m=\u001b[0m\u001b[0;34mu'row3'\u001b[0m\u001b[0;34m)\u001b[0m\u001b[0;34m]\u001b[0m\u001b[0;34m\u001b[0m\u001b[0;34m\u001b[0m\u001b[0m\n\u001b[1;32m    766\u001b[0m         \"\"\"\n\u001b[0;32m--> 767\u001b[0;31m         \u001b[0;32mreturn\u001b[0m \u001b[0mDataFrame\u001b[0m\u001b[0;34m(\u001b[0m\u001b[0mself\u001b[0m\u001b[0;34m.\u001b[0m\u001b[0m_jsparkSession\u001b[0m\u001b[0;34m.\u001b[0m\u001b[0msql\u001b[0m\u001b[0;34m(\u001b[0m\u001b[0msqlQuery\u001b[0m\u001b[0;34m)\u001b[0m\u001b[0;34m,\u001b[0m \u001b[0mself\u001b[0m\u001b[0;34m.\u001b[0m\u001b[0m_wrapped\u001b[0m\u001b[0;34m)\u001b[0m\u001b[0;34m\u001b[0m\u001b[0;34m\u001b[0m\u001b[0m\n\u001b[0m\u001b[1;32m    768\u001b[0m \u001b[0;34m\u001b[0m\u001b[0m\n\u001b[1;32m    769\u001b[0m     \u001b[0;34m@\u001b[0m\u001b[0msince\u001b[0m\u001b[0;34m(\u001b[0m\u001b[0;36m2.0\u001b[0m\u001b[0;34m)\u001b[0m\u001b[0;34m\u001b[0m\u001b[0;34m\u001b[0m\u001b[0m\n",
      "\u001b[0;32m/usr/share/spark/python/lib/py4j-0.10.7-src.zip/py4j/java_gateway.py\u001b[0m in \u001b[0;36m__call__\u001b[0;34m(self, *args)\u001b[0m\n\u001b[1;32m   1253\u001b[0m             \u001b[0mproto\u001b[0m\u001b[0;34m.\u001b[0m\u001b[0mEND_COMMAND_PART\u001b[0m\u001b[0;34m\u001b[0m\u001b[0;34m\u001b[0m\u001b[0m\n\u001b[1;32m   1254\u001b[0m \u001b[0;34m\u001b[0m\u001b[0m\n\u001b[0;32m-> 1255\u001b[0;31m         \u001b[0manswer\u001b[0m \u001b[0;34m=\u001b[0m \u001b[0mself\u001b[0m\u001b[0;34m.\u001b[0m\u001b[0mgateway_client\u001b[0m\u001b[0;34m.\u001b[0m\u001b[0msend_command\u001b[0m\u001b[0;34m(\u001b[0m\u001b[0mcommand\u001b[0m\u001b[0;34m)\u001b[0m\u001b[0;34m\u001b[0m\u001b[0;34m\u001b[0m\u001b[0m\n\u001b[0m\u001b[1;32m   1256\u001b[0m         return_value = get_return_value(\n\u001b[1;32m   1257\u001b[0m             answer, self.gateway_client, self.target_id, self.name)\n",
      "\u001b[0;32m/usr/share/spark/python/lib/py4j-0.10.7-src.zip/py4j/java_gateway.py\u001b[0m in \u001b[0;36msend_command\u001b[0;34m(self, command, retry, binary)\u001b[0m\n\u001b[1;32m    981\u001b[0m          \u001b[0;32mif\u001b[0m\u001b[0;31m \u001b[0m\u001b[0;31m`\u001b[0m\u001b[0mbinary\u001b[0m\u001b[0;31m`\u001b[0m \u001b[0;32mis\u001b[0m\u001b[0;31m \u001b[0m\u001b[0;31m`\u001b[0m\u001b[0;32mTrue\u001b[0m\u001b[0;31m`\u001b[0m\u001b[0;34m.\u001b[0m\u001b[0;34m\u001b[0m\u001b[0;34m\u001b[0m\u001b[0m\n\u001b[1;32m    982\u001b[0m         \"\"\"\n\u001b[0;32m--> 983\u001b[0;31m         \u001b[0mconnection\u001b[0m \u001b[0;34m=\u001b[0m \u001b[0mself\u001b[0m\u001b[0;34m.\u001b[0m\u001b[0m_get_connection\u001b[0m\u001b[0;34m(\u001b[0m\u001b[0;34m)\u001b[0m\u001b[0;34m\u001b[0m\u001b[0;34m\u001b[0m\u001b[0m\n\u001b[0m\u001b[1;32m    984\u001b[0m         \u001b[0;32mtry\u001b[0m\u001b[0;34m:\u001b[0m\u001b[0;34m\u001b[0m\u001b[0;34m\u001b[0m\u001b[0m\n\u001b[1;32m    985\u001b[0m             \u001b[0mresponse\u001b[0m \u001b[0;34m=\u001b[0m \u001b[0mconnection\u001b[0m\u001b[0;34m.\u001b[0m\u001b[0msend_command\u001b[0m\u001b[0;34m(\u001b[0m\u001b[0mcommand\u001b[0m\u001b[0;34m)\u001b[0m\u001b[0;34m\u001b[0m\u001b[0;34m\u001b[0m\u001b[0m\n",
      "\u001b[0;32m/usr/share/spark/python/lib/py4j-0.10.7-src.zip/py4j/java_gateway.py\u001b[0m in \u001b[0;36m_get_connection\u001b[0;34m(self)\u001b[0m\n\u001b[1;32m    929\u001b[0m             \u001b[0mconnection\u001b[0m \u001b[0;34m=\u001b[0m \u001b[0mself\u001b[0m\u001b[0;34m.\u001b[0m\u001b[0mdeque\u001b[0m\u001b[0;34m.\u001b[0m\u001b[0mpop\u001b[0m\u001b[0;34m(\u001b[0m\u001b[0;34m)\u001b[0m\u001b[0;34m\u001b[0m\u001b[0;34m\u001b[0m\u001b[0m\n\u001b[1;32m    930\u001b[0m         \u001b[0;32mexcept\u001b[0m \u001b[0mIndexError\u001b[0m\u001b[0;34m:\u001b[0m\u001b[0;34m\u001b[0m\u001b[0;34m\u001b[0m\u001b[0m\n\u001b[0;32m--> 931\u001b[0;31m             \u001b[0mconnection\u001b[0m \u001b[0;34m=\u001b[0m \u001b[0mself\u001b[0m\u001b[0;34m.\u001b[0m\u001b[0m_create_connection\u001b[0m\u001b[0;34m(\u001b[0m\u001b[0;34m)\u001b[0m\u001b[0;34m\u001b[0m\u001b[0;34m\u001b[0m\u001b[0m\n\u001b[0m\u001b[1;32m    932\u001b[0m         \u001b[0;32mreturn\u001b[0m \u001b[0mconnection\u001b[0m\u001b[0;34m\u001b[0m\u001b[0;34m\u001b[0m\u001b[0m\n\u001b[1;32m    933\u001b[0m \u001b[0;34m\u001b[0m\u001b[0m\n",
      "\u001b[0;32m/usr/share/spark/python/lib/py4j-0.10.7-src.zip/py4j/java_gateway.py\u001b[0m in \u001b[0;36m_create_connection\u001b[0;34m(self)\u001b[0m\n\u001b[1;32m    935\u001b[0m         connection = GatewayConnection(\n\u001b[1;32m    936\u001b[0m             self.gateway_parameters, self.gateway_property)\n\u001b[0;32m--> 937\u001b[0;31m         \u001b[0mconnection\u001b[0m\u001b[0;34m.\u001b[0m\u001b[0mstart\u001b[0m\u001b[0;34m(\u001b[0m\u001b[0;34m)\u001b[0m\u001b[0;34m\u001b[0m\u001b[0;34m\u001b[0m\u001b[0m\n\u001b[0m\u001b[1;32m    938\u001b[0m         \u001b[0;32mreturn\u001b[0m \u001b[0mconnection\u001b[0m\u001b[0;34m\u001b[0m\u001b[0;34m\u001b[0m\u001b[0m\n\u001b[1;32m    939\u001b[0m \u001b[0;34m\u001b[0m\u001b[0m\n",
      "\u001b[0;32m/usr/share/spark/python/lib/py4j-0.10.7-src.zip/py4j/java_gateway.py\u001b[0m in \u001b[0;36mstart\u001b[0;34m(self)\u001b[0m\n\u001b[1;32m   1077\u001b[0m                 \u001b[0;34m\"server ({0}:{1})\"\u001b[0m\u001b[0;34m.\u001b[0m\u001b[0mformat\u001b[0m\u001b[0;34m(\u001b[0m\u001b[0mself\u001b[0m\u001b[0;34m.\u001b[0m\u001b[0maddress\u001b[0m\u001b[0;34m,\u001b[0m \u001b[0mself\u001b[0m\u001b[0;34m.\u001b[0m\u001b[0mport\u001b[0m\u001b[0;34m)\u001b[0m\u001b[0;34m\u001b[0m\u001b[0;34m\u001b[0m\u001b[0m\n\u001b[1;32m   1078\u001b[0m             \u001b[0mlogger\u001b[0m\u001b[0;34m.\u001b[0m\u001b[0mexception\u001b[0m\u001b[0;34m(\u001b[0m\u001b[0mmsg\u001b[0m\u001b[0;34m)\u001b[0m\u001b[0;34m\u001b[0m\u001b[0;34m\u001b[0m\u001b[0m\n\u001b[0;32m-> 1079\u001b[0;31m             \u001b[0;32mraise\u001b[0m \u001b[0mPy4JNetworkError\u001b[0m\u001b[0;34m(\u001b[0m\u001b[0mmsg\u001b[0m\u001b[0;34m,\u001b[0m \u001b[0me\u001b[0m\u001b[0;34m)\u001b[0m\u001b[0;34m\u001b[0m\u001b[0;34m\u001b[0m\u001b[0m\n\u001b[0m\u001b[1;32m   1080\u001b[0m \u001b[0;34m\u001b[0m\u001b[0m\n\u001b[1;32m   1081\u001b[0m     \u001b[0;32mdef\u001b[0m \u001b[0m_authenticate_connection\u001b[0m\u001b[0;34m(\u001b[0m\u001b[0mself\u001b[0m\u001b[0;34m)\u001b[0m\u001b[0;34m:\u001b[0m\u001b[0;34m\u001b[0m\u001b[0;34m\u001b[0m\u001b[0m\n",
      "\u001b[0;31mPy4JNetworkError\u001b[0m: An error occurred while trying to connect to the Java server (127.0.0.1:40440)"
     ]
    }
   ],
   "source": [
    "spark.sql(\"select prodname, price from prod where maker = (select maker from prod where prodname = '달콤비스켓'\").show()"
   ]
  },
  {
   "cell_type": "code",
   "execution_count": null,
   "id": "2f7667e2-6c8c-4b00-bbfc-fe7e577bc8ea",
   "metadata": {},
   "outputs": [],
   "source": []
  },
  {
   "cell_type": "code",
   "execution_count": null,
   "id": "d4f10632-337b-4e73-bd7a-652b13c70531",
   "metadata": {},
   "outputs": [],
   "source": []
  },
  {
   "cell_type": "code",
   "execution_count": null,
   "id": "8cceea94-8ac6-4838-a60c-185f4590e967",
   "metadata": {},
   "outputs": [],
   "source": []
  },
  {
   "cell_type": "code",
   "execution_count": null,
   "id": "4ca164d6-a997-4696-a497-4ef38aa10aa1",
   "metadata": {},
   "outputs": [],
   "source": []
  },
  {
   "cell_type": "code",
   "execution_count": null,
   "id": "7ec59888-96c2-4389-8290-663439fa414d",
   "metadata": {},
   "outputs": [],
   "source": []
  }
 ],
 "metadata": {
  "kernelspec": {
   "display_name": "Python 3 (ipykernel)",
   "language": "python",
   "name": "python3"
  },
  "language_info": {
   "codemirror_mode": {
    "name": "ipython",
    "version": 3
   },
   "file_extension": ".py",
   "mimetype": "text/x-python",
   "name": "python",
   "nbconvert_exporter": "python",
   "pygments_lexer": "ipython3",
   "version": "3.7.10"
  }
 },
 "nbformat": 4,
 "nbformat_minor": 5
}
