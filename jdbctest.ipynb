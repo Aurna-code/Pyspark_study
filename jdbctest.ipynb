{
 "cells": [
  {
   "cell_type": "code",
   "execution_count": 1,
   "id": "c4847bd1-7b27-4ab1-8e70-db7ab6c97ba0",
   "metadata": {},
   "outputs": [],
   "source": [
    "url = \"jdbc:mysql://bigdata.cwarwltabyk2.ap-northeast-2.rds.amazonaws.com/bigdata\""
   ]
  },
  {
   "cell_type": "code",
   "execution_count": 2,
   "id": "222b3433-d2cc-435b-abdf-820517434798",
   "metadata": {},
   "outputs": [],
   "source": [
    "user = 'admin'"
   ]
  },
  {
   "cell_type": "code",
   "execution_count": 3,
   "id": "ef261808-fae2-450a-a606-cbecdd590020",
   "metadata": {},
   "outputs": [],
   "source": [
    "password = 'bigdata2020'"
   ]
  },
  {
   "cell_type": "code",
   "execution_count": 15,
   "id": "27cbf6e2-c8bc-4dfb-b346-3fab04c7f078",
   "metadata": {},
   "outputs": [],
   "source": [
    "emp = spark.read.format('jdbc').options(url=url, user=user, password=password, dbtable='employees').load()"
   ]
  },
  {
   "cell_type": "code",
   "execution_count": 5,
   "id": "0a783a2e-54bc-497f-ad78-b2f9e35b8cbb",
   "metadata": {},
   "outputs": [
    {
     "name": "stdout",
     "output_type": "stream",
     "text": [
      "root\n",
      " |-- EMPLOYEE_ID: integer (nullable = true)\n",
      " |-- FIRST_NAME: string (nullable = true)\n",
      " |-- LAST_NAME: string (nullable = true)\n",
      " |-- EMAIL: string (nullable = true)\n",
      " |-- PHONE_NUMBER: string (nullable = true)\n",
      " |-- HIRE_DATE: string (nullable = true)\n",
      " |-- JOB_ID: string (nullable = true)\n",
      " |-- SALARY: integer (nullable = true)\n",
      " |-- COMMISSION_PCT: double (nullable = true)\n",
      " |-- MANAGER_ID: integer (nullable = true)\n",
      " |-- DEPARTMENT_ID: integer (nullable = true)\n",
      "\n"
     ]
    }
   ],
   "source": [
    "emp.printSchema()"
   ]
  },
  {
   "cell_type": "code",
   "execution_count": 6,
   "id": "6a169ad8-c6af-44a0-b377-6f8ec91f4249",
   "metadata": {},
   "outputs": [
    {
     "name": "stdout",
     "output_type": "stream",
     "text": [
      "+----------+\n",
      "|FIRST_NAME|\n",
      "+----------+\n",
      "|    Steven|\n",
      "|     Neena|\n",
      "|       Lex|\n",
      "| Alexander|\n",
      "|     Bruce|\n",
      "+----------+\n",
      "only showing top 5 rows\n",
      "\n"
     ]
    },
    {
     "name": "stderr",
     "output_type": "stream",
     "text": [
      "                                                                                \r"
     ]
    }
   ],
   "source": [
    "emp.select('FIRST_NAME').show(5)"
   ]
  },
  {
   "cell_type": "code",
   "execution_count": 7,
   "id": "5fbda9f8-8916-431e-a522-438258bb9e2d",
   "metadata": {},
   "outputs": [],
   "source": [
    "EMP = emp.createOrReplaceTempView('EMP')"
   ]
  },
  {
   "cell_type": "code",
   "execution_count": 30,
   "id": "9a7ed9cb-7afd-4e01-af95-3333a30e2746",
   "metadata": {},
   "outputs": [],
   "source": [
    "from pyspark.sql.functions import min,max,avg,sum,count,round,col,countDistinct"
   ]
  },
  {
   "cell_type": "code",
   "execution_count": 8,
   "id": "456542b3-ddc2-496c-877b-0ecf1a487e21",
   "metadata": {},
   "outputs": [
    {
     "name": "stdout",
     "output_type": "stream",
     "text": [
      "+-----------+\n",
      "| FIRST_NAME|\n",
      "+-----------+\n",
      "|     Steven|\n",
      "|      Neena|\n",
      "|        Lex|\n",
      "|  Alexander|\n",
      "|      Bruce|\n",
      "|      David|\n",
      "|      Valli|\n",
      "|      Diana|\n",
      "|      Nancy|\n",
      "|     Daniel|\n",
      "|       John|\n",
      "|     Ismael|\n",
      "|Jose Manuel|\n",
      "|       Luis|\n",
      "|        Den|\n",
      "|  Alexander|\n",
      "|     Shelli|\n",
      "|      Sigal|\n",
      "|        Guy|\n",
      "|      Karen|\n",
      "+-----------+\n",
      "only showing top 20 rows\n",
      "\n"
     ]
    },
    {
     "name": "stderr",
     "output_type": "stream",
     "text": [
      "21/10/11 00:59:52 WARN ObjectStore: Failed to get database global_temp, returning NoSuchObjectException\n"
     ]
    }
   ],
   "source": [
    "spark.sql('select FIRST_NAME from EMP').show()"
   ]
  },
  {
   "cell_type": "code",
   "execution_count": 21,
   "id": "5fe1e236-e06f-4c9b-bbd0-01688be5325c",
   "metadata": {},
   "outputs": [],
   "source": [
    "summermedals = spark.read.format('jdbc').options(url=url, user=user, password=password, dbtable='summermedals').load()"
   ]
  },
  {
   "cell_type": "code",
   "execution_count": 22,
   "id": "8ab85f73-95b4-4307-ada6-67b66354d8d7",
   "metadata": {},
   "outputs": [
    {
     "name": "stdout",
     "output_type": "stream",
     "text": [
      "root\n",
      " |-- Year: integer (nullable = true)\n",
      " |-- City: string (nullable = true)\n",
      " |-- Sport: string (nullable = true)\n",
      " |-- Discipline: string (nullable = true)\n",
      " |-- Athlete: string (nullable = true)\n",
      " |-- Country: string (nullable = true)\n",
      " |-- Gender: string (nullable = true)\n",
      " |-- Event: string (nullable = true)\n",
      " |-- Medal: string (nullable = true)\n",
      "\n"
     ]
    }
   ],
   "source": [
    "summermedals.printSchema()"
   ]
  },
  {
   "cell_type": "code",
   "execution_count": 23,
   "id": "3a145189-10bd-45c4-b519-c2801ab9ecb0",
   "metadata": {},
   "outputs": [],
   "source": [
    "SUMMER = summermedals.createOrReplaceTempView('SUMMER')"
   ]
  },
  {
   "cell_type": "code",
   "execution_count": 25,
   "id": "6adcd446-5090-4b34-8bef-8f290ef20caa",
   "metadata": {},
   "outputs": [
    {
     "name": "stderr",
     "output_type": "stream",
     "text": [
      "[Stage 11:===============================================>      (176 + 1) / 200]"
     ]
    },
    {
     "name": "stdout",
     "output_type": "stream",
     "text": [
      "+-------+---+\n",
      "|Country|cnt|\n",
      "+-------+---+\n",
      "|    USA|687|\n",
      "|    GBR|285|\n",
      "|    SWE|183|\n",
      "|    ITA|179|\n",
      "|    FRA|158|\n",
      "|    GER|132|\n",
      "|    HUN|102|\n",
      "|    NOR| 90|\n",
      "|    FIN| 73|\n",
      "|    BEL| 72|\n",
      "|    CAN| 56|\n",
      "|    IND| 53|\n",
      "|    DEN| 44|\n",
      "|    SUI| 42|\n",
      "|    URS| 39|\n",
      "|    NED| 34|\n",
      "|    TCH| 31|\n",
      "|    ZZX| 23|\n",
      "|    URU| 22|\n",
      "|    AUS| 22|\n",
      "+-------+---+\n",
      "only showing top 20 rows\n",
      "\n"
     ]
    },
    {
     "name": "stderr",
     "output_type": "stream",
     "text": [
      "                                                                                \r"
     ]
    }
   ],
   "source": [
    "spark.sql(\"select Country, count(Medal) cnt from SUMMER where Medal = 'Gold' group by country order by cnt desc\").show()"
   ]
  },
  {
   "cell_type": "code",
   "execution_count": 37,
   "id": "b55615f6-56c0-41d0-a25d-a054de374f25",
   "metadata": {},
   "outputs": [
    {
     "name": "stderr",
     "output_type": "stream",
     "text": [
      "[Stage 27:===============================================>      (175 + 1) / 200]"
     ]
    },
    {
     "name": "stdout",
     "output_type": "stream",
     "text": [
      "+-------+----+\n",
      "|Country|cntM|\n",
      "+-------+----+\n",
      "|    USA| 687|\n",
      "|    GBR| 285|\n",
      "|    SWE| 183|\n",
      "|    ITA| 179|\n",
      "|    FRA| 158|\n",
      "|    GER| 132|\n",
      "|    HUN| 102|\n",
      "|    NOR|  90|\n",
      "|    FIN|  73|\n",
      "|    BEL|  72|\n",
      "+-------+----+\n",
      "only showing top 10 rows\n",
      "\n"
     ]
    },
    {
     "name": "stderr",
     "output_type": "stream",
     "text": [
      "                                                                                \r"
     ]
    }
   ],
   "source": [
    "summermedals.filter(col('Medal') == 'Gold').groupBy('Country').agg(count('Medal').alias('cntM')).orderBy('cntM', ascending=False).show(10)"
   ]
  },
  {
   "cell_type": "markdown",
   "id": "6f90c870-7597-409c-85fd-79584df3dedb",
   "metadata": {},
   "source": [
    "#### tip : groupby replace select, fileter - groupby - agg - orderby"
   ]
  },
  {
   "cell_type": "code",
   "execution_count": null,
   "id": "46649efb-6444-4675-b940-d1609be0650a",
   "metadata": {},
   "outputs": [],
   "source": []
  },
  {
   "cell_type": "code",
   "execution_count": null,
   "id": "cf6acd66-16ac-4dbc-bc81-a1624567f17f",
   "metadata": {},
   "outputs": [],
   "source": []
  },
  {
   "cell_type": "code",
   "execution_count": null,
   "id": "4898a55d-ca5f-41e8-9e99-781809f775b4",
   "metadata": {},
   "outputs": [],
   "source": []
  },
  {
   "cell_type": "code",
   "execution_count": null,
   "id": "1bba76c5-1c56-4ddb-a8a3-f67404272483",
   "metadata": {},
   "outputs": [],
   "source": []
  },
  {
   "cell_type": "code",
   "execution_count": null,
   "id": "42c47891-2197-4c22-87a4-e75fbe71ff84",
   "metadata": {},
   "outputs": [],
   "source": []
  },
  {
   "cell_type": "code",
   "execution_count": null,
   "id": "9250be6b-eca5-4f8b-bd4e-e88251805948",
   "metadata": {},
   "outputs": [],
   "source": []
  }
 ],
 "metadata": {
  "kernelspec": {
   "display_name": "Python 3 (ipykernel)",
   "language": "python",
   "name": "python3"
  },
  "language_info": {
   "codemirror_mode": {
    "name": "ipython",
    "version": 3
   },
   "file_extension": ".py",
   "mimetype": "text/x-python",
   "name": "python",
   "nbconvert_exporter": "python",
   "pygments_lexer": "ipython3",
   "version": "3.7.10"
  }
 },
 "nbformat": 4,
 "nbformat_minor": 5
}
