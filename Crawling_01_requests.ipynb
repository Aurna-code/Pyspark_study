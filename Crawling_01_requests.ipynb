{
 "cells": [
  {
   "cell_type": "markdown",
   "id": "93091b31-b61d-4553-94d1-713e1104c5ce",
   "metadata": {},
   "source": [
    "### 크롤링 crawling\n",
    "+ 웹상에 존재하는 다양한 컨텐츠를 수집하는 행위\n",
    "+ html 문서를 통째로 읽어서 내용을 분석한 뒤 필요한 데이터만 추출"
   ]
  },
  {
   "cell_type": "markdown",
   "id": "824e8b46-7031-417b-811f-065c782c5973",
   "metadata": {},
   "source": [
    "### 파이썬으로 크롤링 하기\n",
    "+ urllib/urllib2 : 사용하기 무난, 코드 단순, 내장 패키지\n",
    "+ requests : 따로 설치, urlib보다 고급기능 제공\n",
    "+ lxml : 웹을 통해 읽어들인 문서 내용 분석, 그 내부에서 필요한 데이터 추출에 사용"
   ]
  },
  {
   "cell_type": "code",
   "execution_count": 4,
   "id": "3cf0421d-af5e-4f9c-9424-212c6f1aa8b8",
   "metadata": {},
   "outputs": [
    {
     "name": "stdout",
     "output_type": "stream",
     "text": [
      "Defaulting to user installation because normal site-packages is not writeable\n",
      "Requirement already satisfied: requests in /opt/miniconda3/lib/python3.7/site-packages (2.26.0)\n",
      "Requirement already satisfied: urllib3<1.27,>=1.21.1 in /opt/miniconda3/lib/python3.7/site-packages (from requests) (1.26.6)\n",
      "Requirement already satisfied: certifi>=2017.4.17 in /opt/miniconda3/lib/python3.7/site-packages (from requests) (2021.5.30)\n",
      "Requirement already satisfied: idna<4,>=2.5 in /opt/miniconda3/lib/python3.7/site-packages (from requests) (3.2)\n",
      "Requirement already satisfied: charset-normalizer~=2.0.0 in /opt/miniconda3/lib/python3.7/site-packages (from requests) (2.0.4)\n",
      "Note: you may need to restart the kernel to use updated packages.\n"
     ]
    }
   ],
   "source": [
    "pip install requests"
   ]
  },
  {
   "cell_type": "code",
   "execution_count": 22,
   "id": "a0c77d5a-392f-4a53-a6f3-582613f88a55",
   "metadata": {},
   "outputs": [
    {
     "name": "stdout",
     "output_type": "stream",
     "text": [
      "Defaulting to user installation because normal site-packages is not writeable\n",
      "Requirement already satisfied: lxml in ./.local/lib/python3.7/site-packages (4.6.3)\n",
      "Note: you may need to restart the kernel to use updated packages.\n"
     ]
    }
   ],
   "source": [
    "pip install lxml"
   ]
  },
  {
   "cell_type": "code",
   "execution_count": 23,
   "id": "bd752cd0-5209-491f-8d79-dd80a33beedd",
   "metadata": {},
   "outputs": [
    {
     "name": "stdout",
     "output_type": "stream",
     "text": [
      "Defaulting to user installation because normal site-packages is not writeable\n",
      "Requirement already satisfied: cssselect in ./.local/lib/python3.7/site-packages (1.1.0)\n",
      "Note: you may need to restart the kernel to use updated packages.\n"
     ]
    }
   ],
   "source": [
    "pip install cssselect"
   ]
  },
  {
   "cell_type": "code",
   "execution_count": 24,
   "id": "c9a7b3cd-3651-40d5-81bb-29edc8401b54",
   "metadata": {},
   "outputs": [],
   "source": [
    "import requests"
   ]
  },
  {
   "cell_type": "code",
   "execution_count": 25,
   "id": "36459499-88e5-4880-b377-c83a24297a6f",
   "metadata": {},
   "outputs": [],
   "source": [
    "import lxml.html "
   ]
  },
  {
   "cell_type": "code",
   "execution_count": 26,
   "id": "83a88052-7c9f-411b-80bc-165c4a38abe7",
   "metadata": {},
   "outputs": [],
   "source": [
    "from lxml.cssselect import CSSSelector"
   ]
  },
  {
   "cell_type": "code",
   "execution_count": 9,
   "id": "c534d078-51c0-466e-97fb-2c16a470d531",
   "metadata": {},
   "outputs": [],
   "source": [
    "url = 'https://www.hanbit.co.kr/store/books/bestseller_list.html'"
   ]
  },
  {
   "cell_type": "markdown",
   "id": "c48aa9e3-f333-48c7-8532-a48c40690bb0",
   "metadata": {},
   "source": [
    "### 지정한 url의 문서를 읽기 : get(주소, 옵션)"
   ]
  },
  {
   "cell_type": "code",
   "execution_count": 12,
   "id": "22154ad8-0ad1-4417-934c-903bbb67b889",
   "metadata": {},
   "outputs": [],
   "source": [
    "res = requests.get(url)"
   ]
  },
  {
   "cell_type": "markdown",
   "id": "07299687-25b9-4fa7-bcff-da8371ab40dc",
   "metadata": {},
   "source": [
    "### requests 패키지 실행 후 유용한 변수로 결과 확인\n",
    "+ http 응답코드, 응답으로 받은 컨텐츠의 인코딩 및 컨텐츠 유형 확인"
   ]
  },
  {
   "cell_type": "code",
   "execution_count": 17,
   "id": "1bae10ff-b83a-4b03-afd3-590ee6a86ee8",
   "metadata": {},
   "outputs": [
    {
     "name": "stdout",
     "output_type": "stream",
     "text": [
      "200 UTF-8 text/html; charset=UTF-8\n"
     ]
    }
   ],
   "source": [
    "print(res.status_code, res.encoding, res.headers['content-type'])"
   ]
  },
  {
   "cell_type": "markdown",
   "id": "1222f422-0102-457b-8099-88e0b3fec41d",
   "metadata": {},
   "source": [
    "### 응답으로 받은 컨텐츠 확인 : text, content"
   ]
  },
  {
   "cell_type": "code",
   "execution_count": 20,
   "id": "7e0d2271-4ece-45b9-b321-e2cc73dd5821",
   "metadata": {},
   "outputs": [
    {
     "data": {
      "text/plain": [
       "'<!DOCTYPE html>\\r\\n<html lang=\"ko\">\\r\\n<head>\\r\\n<!--[if lte IE 8]>\\r\\n<script>\\r\\n  location.replace(\\'/support/explorer_upgrade.html\\');\\r\\n</script>\\r\\n<![endif]-->\\r\\n<meta charset=\"utf-8\"/>\\r\\n<title>한빛출판네트워크</title>\\r\\n<link rel=\"shortcut icon\" href=\"https://www.hanbit.co.kr/images/common/hanbit.ico\"> \\r\\n<meta http-equiv=\"X-UA-Compatible\" content=\"IE=Edge\" />\\r\\n<meta property=\"og:type\" content=\"website\"/>\\r\\n<meta property=\"og:title\" content=\"한빛출판네트워크\"/>\\r\\n<meta property=\"og:description\" content=\"더 넓은 세상, 더 나은 미래를 위'"
      ]
     },
     "execution_count": 20,
     "metadata": {},
     "output_type": "execute_result"
    }
   ],
   "source": [
    "res.text[:500]"
   ]
  },
  {
   "cell_type": "code",
   "execution_count": 23,
   "id": "b78a4ec1-a153-4448-a0f7-1e090700d875",
   "metadata": {},
   "outputs": [
    {
     "data": {
      "text/plain": [
       "b'<!DOCTYPE html>\\r\\n<html lang=\"ko\">\\r\\n<head>\\r\\n<!--[if lte IE 8]>\\r\\n<script>\\r\\n  location.replace(\\'/support/explorer_upgrade.html\\');\\r\\n</script>\\r\\n<![endif]-->\\r\\n<meta charset=\"utf-8\"/>\\r\\n<title>\\xed\\x95\\x9c\\xeb\\xb9\\x9b\\xec\\xb6\\x9c\\xed\\x8c\\x90\\xeb\\x84\\xa4\\xed\\x8a\\xb8\\xec\\x9b\\x8c\\xed\\x81\\xac</title>\\r\\n<link rel=\"shortcut icon\" href=\"https://www.hanbit.co.kr/images/common/hanbit.ico\"> \\r\\n<meta http-equiv=\"X-UA-Compatible\" content=\"IE=Edge\" />\\r\\n<meta property=\"og:type\" content=\"website\"/>\\r\\n<meta property=\"og:title\" content=\"\\xed\\x95\\x9c\\xeb\\xb9\\x9b\\xec\\xb6\\x9c\\xed\\x8c\\x90\\xeb\\x84\\xa4\\xed\\x8a\\xb8\\xec\\x9b\\x8c\\xed\\x81\\xac\"/>\\r\\n<meta property=\"og:descripti'"
      ]
     },
     "execution_count": 23,
     "metadata": {},
     "output_type": "execute_result"
    }
   ],
   "source": [
    "res.content[:500] # 바이트 형식"
   ]
  },
  {
   "cell_type": "markdown",
   "id": "8624a76f-e42e-4771-a0ad-dfb04288778f",
   "metadata": {},
   "source": [
    "### 스크래핑한 결과를 분석해서 필요한 데이터를 추출하기 위해 따로 변수로 저장"
   ]
  },
  {
   "cell_type": "code",
   "execution_count": 24,
   "id": "9a349205-52d4-403d-a4a9-1ecf67e99b62",
   "metadata": {},
   "outputs": [],
   "source": [
    "html = res.text"
   ]
  },
  {
   "cell_type": "markdown",
   "id": "41d30f52-fb90-49e1-a39a-75f13c4ae512",
   "metadata": {},
   "source": [
    "### html 변수에 저장된 문서 내 요소들을 탐색하기 편하도록 계층구조 DOM으로 생성"
   ]
  },
  {
   "cell_type": "code",
   "execution_count": 25,
   "id": "260fa781-34ee-4dc4-ad50-011d32b56b78",
   "metadata": {},
   "outputs": [],
   "source": [
    "root = lxml.html.fromstring(html)"
   ]
  },
  {
   "cell_type": "markdown",
   "id": "33ace20f-5bf2-43c0-a205-4b83e124d057",
   "metadata": {},
   "source": [
    "### 추출한 제목을 저장하기 위해 리스트 선언"
   ]
  },
  {
   "cell_type": "code",
   "execution_count": 294,
   "id": "bc4ab442-5277-41c9-ae48-77b65d22f883",
   "metadata": {},
   "outputs": [],
   "source": [
    "titles = []\n",
    "authors = []\n",
    "prices = []\n",
    "thumbs = []"
   ]
  },
  {
   "cell_type": "markdown",
   "id": "a599695a-ce32-456e-ad3d-290bcba57662",
   "metadata": {},
   "source": [
    "#### 모든 p 태그들 중에서 클래스명이 book_tit인 p태그(들)을 찾은 후 자식 태그가 a인 요소들을 선택(select)한 후 텍스트 요소를 추출함"
   ]
  },
  {
   "cell_type": "code",
   "execution_count": 295,
   "id": "11527381-47af-4ee2-bf4f-064d4d091f45",
   "metadata": {},
   "outputs": [],
   "source": [
    "for title in root.cssselect('p.book_tit a'):\n",
    "   # print(title.text_content())\n",
    "    titles.append(title.text_content())"
   ]
  },
  {
   "cell_type": "code",
   "execution_count": 296,
   "id": "9d56384e-4016-4d8d-8608-381a1c14aa5a",
   "metadata": {},
   "outputs": [],
   "source": [
    "for author in root.cssselect('p.book_writer'):\n",
    "    # print(author.text_content())\n",
    "    authors.append(author.text_content())"
   ]
  },
  {
   "cell_type": "code",
   "execution_count": 297,
   "id": "33bd225c-c551-4834-97a0-bf72afce8979",
   "metadata": {},
   "outputs": [],
   "source": [
    "for price in root.cssselect('span.price'):\n",
    "    # print(price.text_content())\n",
    "    prices.append(price.text_content())"
   ]
  },
  {
   "cell_type": "code",
   "execution_count": 298,
   "id": "862459b4-1d97-4184-96b0-48800123f3c3",
   "metadata": {},
   "outputs": [],
   "source": [
    "for thum in root.cssselect('img.thumb'):\n",
    "    # print(thum.get('src'))\n",
    "    thumbs.append(thum.get('src'))"
   ]
  },
  {
   "cell_type": "code",
   "execution_count": 310,
   "id": "7dff7793-4a48-46c4-8e2a-c149d1e80fa5",
   "metadata": {},
   "outputs": [
    {
     "name": "stdout",
     "output_type": "stream",
     "text": [
      "['16200', '23400', '29000', '30150', '35000', '30600', '20700', '13500', '17820', '15300', '5400', '28000', '49500', '28800', '31500']\n"
     ]
    }
   ],
   "source": [
    "prices = str(prices).replace( ','  , '' )\n",
    "prices = str(prices).replace('원','')\n",
    "prices = str(prices).replace(' ', ', ')\n",
    "print(prices)"
   ]
  },
  {
   "cell_type": "code",
   "execution_count": 450,
   "id": "c9b3bab3-0bb0-4eb1-b05e-9a5521ec77b0",
   "metadata": {},
   "outputs": [
    {
     "name": "stdout",
     "output_type": "stream",
     "text": [
      "['윤인성, ', '박해선, ', '강문식, ', '김학렬(빠숑), ', '스티븐, H., 프리드버그, , 아놀드, J., 인셀, , 로렌스, E., 스펜스, ', '나동빈, ', '김덕영, , 심수진, , 윤성우, , 이수정, , 정지원, ', '문지애, ', '강대준, , 신홍철, ', '김태연(제주레이), , 양정임(제주규리), ', '한빛학습연구회, ', '조성호, ', '오렐리앙, 제롱(Aurélien, Géron), ', '김황후, ', '마틴, 파울러, ']\n"
     ]
    }
   ],
   "source": [
    "\n",
    "print(authors)"
   ]
  },
  {
   "cell_type": "code",
   "execution_count": null,
   "id": "27eccedd-b40f-4733-b1ec-b72f6171ee32",
   "metadata": {},
   "outputs": [],
   "source": [
    "authors = str(authors).replace(',', '')\n",
    "print(authors)"
   ]
  },
  {
   "cell_type": "code",
   "execution_count": null,
   "id": "eef558a4-28ba-4644-b0db-80befa42f657",
   "metadata": {},
   "outputs": [],
   "source": []
  },
  {
   "cell_type": "code",
   "execution_count": 408,
   "id": "24bb85f3-2da3-438b-b519-ff483c0a0fd3",
   "metadata": {},
   "outputs": [
    {
     "name": "stdout",
     "output_type": "stream",
     "text": [
      "['혼자 공부하는 파이썬', '혼자 공부하는 머신러닝+딥러닝', 'IT CookBook, 초연결 사회의 데이터통신과 네트워킹', '대한민국 부동산 미래지도', '프리드버그 선형대수학', '이것이 취업을 위한 코딩 테스트다 with 파이썬', '맛있는 디자인 프리미어 프로&애프터 이펙트 CC 2021', '고개를 끄덕이는 것만으로도 위로가 되니까', '지금 당장 회계공부 시작하라(전면개정판)', '리얼 제주 [2021~2022년 최신판]', '재미있고 빠른 첫 한글 준비 선 긋기 2권 : 글자 모양 따라 긋기', 'IT CookBook, 쉽게 배우는 운영체제', '핸즈온 머신러닝(2판)', '파이썬 증권 데이터 분석', '리팩터링 2판 (리팩토링 개정판)']\n",
      "['윤인성, ', '박해선, ', '강문식, ', '김학렬(빠숑), ', '스티븐, H., 프리드버그, , 아놀드, J., 인셀, , 로렌스, E., 스펜스, ', '나동빈, ', '김덕영, , 심수진, , 윤성우, , 이수정, , 정지원, ', '문지애, ', '강대준, , 신홍철, ', '김태연(제주레이), , 양정임(제주규리), ', '한빛학습연구회, ', '조성호, ', '오렐리앙, 제롱(Aurélien, Géron), ', '김황후, ', '마틴, 파울러, ']\n",
      "['16200', '23400', '29000', '30150', '35000', '30600', '20700', '13500', '17820', '15300', '5400', '28000', '49500', '28800', '31500']\n",
      "['/data/books/B2587075793_m.jpg', '/data/books/B2002963743_m.jpg', '/data/books/B4295361584_m.jpg', '/data/books/B6068039583_m.jpg', '/data/books/B1710834745_m.jpg', '/data/books/B8945183661_m.jpg', '/data/books/B6988001706_m.jpg', '/data/books/B6779771167_m.jpg', '/data/books/B9332880793_m.jpg', '/data/books/B7051031564_m.jpg', '/data/books/B3024570365_m.jpg', '/data/books/B5471691739_m.jpg', '/data/books/B7033438574_m.jpg', '/data/books/B7026921929_m.jpg', '/data/books/B6952616555_m.jpg']\n"
     ]
    }
   ],
   "source": [
    "print(titles)\n",
    "print(authors)\n",
    "print(prices)\n",
    "print(thumbs)\n"
   ]
  },
  {
   "cell_type": "markdown",
   "id": "509fb2f8-3b31-462f-b433-7c8ad3978088",
   "metadata": {},
   "source": [
    "### 추출한 데이터들을 csv 형식 재작성\n",
    "+ 혼자 공부하는 파이썬, 윤인성, 16200"
   ]
  },
  {
   "cell_type": "code",
   "execution_count": 301,
   "id": "9add1377-403a-45c2-85c1-6762e497c257",
   "metadata": {},
   "outputs": [
    {
     "name": "stdout",
     "output_type": "stream",
     "text": [
      "\"혼자 공부하는 파이썬\":, \"윤인성 \", \"16,200원\", \"/data/books/B2587075793_m.jpg\n",
      "\n",
      "\"혼자 공부하는 머신러닝+딥러닝\":, \"박해선 \", \"23,400원\", \"/data/books/B2002963743_m.jpg\n",
      "\n",
      "\"IT CookBook, 초연결 사회의 데이터통신과 네트워킹\":, \"강문식 \", \"29,000원\", \"/data/books/B4295361584_m.jpg\n",
      "\n",
      "\"대한민국 부동산 미래지도\":, \"김학렬(빠숑) \", \"30,150원\", \"/data/books/B6068039583_m.jpg\n",
      "\n",
      "\"프리드버그 선형대수학\":, \"스티븐 H. 프리드버그 , 아놀드 J. 인셀 , 로렌스 E. 스펜스 \", \"35,000원\", \"/data/books/B1710834745_m.jpg\n",
      "\n",
      "\"이것이 취업을 위한 코딩 테스트다 with 파이썬\":, \"나동빈 \", \"30,600원\", \"/data/books/B8945183661_m.jpg\n",
      "\n",
      "\"맛있는 디자인 프리미어 프로&애프터 이펙트 CC 2021\":, \"김덕영 , 심수진 , 윤성우 , 이수정 , 정지원 \", \"20,700원\", \"/data/books/B6988001706_m.jpg\n",
      "\n",
      "\"고개를 끄덕이는 것만으로도 위로가 되니까\":, \"문지애 \", \"13,500원\", \"/data/books/B6779771167_m.jpg\n",
      "\n",
      "\"지금 당장 회계공부 시작하라(전면개정판)\":, \"강대준 , 신홍철 \", \"17,820원\", \"/data/books/B9332880793_m.jpg\n",
      "\n",
      "\"리얼 제주 [2021~2022년 최신판]\":, \"김태연(제주레이) , 양정임(제주규리) \", \"15,300원\", \"/data/books/B7051031564_m.jpg\n",
      "\n",
      "\"재미있고 빠른 첫 한글 준비 선 긋기 2권 : 글자 모양 따라 긋기\":, \"한빛학습연구회 \", \"5,400원\", \"/data/books/B3024570365_m.jpg\n",
      "\n",
      "\"IT CookBook, 쉽게 배우는 운영체제\":, \"조성호 \", \"28,000원\", \"/data/books/B5471691739_m.jpg\n",
      "\n",
      "\"핸즈온 머신러닝(2판)\":, \"오렐리앙 제롱(Aurélien Géron) \", \"49,500원\", \"/data/books/B7033438574_m.jpg\n",
      "\n",
      "\"파이썬 증권 데이터 분석\":, \"김황후 \", \"28,800원\", \"/data/books/B7026921929_m.jpg\n",
      "\n",
      "\"리팩터링 2판 (리팩토링 개정판)\":, \"마틴 파울러 \", \"31,500원\", \"/data/books/B6952616555_m.jpg\n",
      "\n"
     ]
    }
   ],
   "source": [
    "for i in range(len(titles)):\n",
    "    print(f'\"{titles[i]}\":, \"{authors[i]}\", \"{prices[i]}\", \"{thumbs[i]}\\n') # 따옴표 때문에 \"\"를 붙일 것"
   ]
  },
  {
   "cell_type": "code",
   "execution_count": null,
   "id": "4fa4fce6-88a1-4e65-9412-a19b18cf62f8",
   "metadata": {},
   "outputs": [],
   "source": []
  },
  {
   "cell_type": "code",
   "execution_count": 197,
   "id": "5b6b4260-b1ec-4a92-a664-0f4b562ea362",
   "metadata": {},
   "outputs": [
    {
     "data": {
      "text/plain": [
       "\"['16200' '23400' '29000' '30150' '35000' '30600' '20700' '13500' '17820' '15300' '5400' '28000' '49500' '28800' '31500']\""
      ]
     },
     "execution_count": 197,
     "metadata": {},
     "output_type": "execute_result"
    }
   ],
   "source": [
    "prices"
   ]
  },
  {
   "cell_type": "code",
   "execution_count": 305,
   "id": "c13a74d5-5dbe-47ad-838c-9d7a515b14c3",
   "metadata": {},
   "outputs": [],
   "source": [
    "data = ''"
   ]
  },
  {
   "cell_type": "code",
   "execution_count": 306,
   "id": "5c9bce60-a274-4b2e-938e-4f53c4282a2b",
   "metadata": {},
   "outputs": [],
   "source": [
    " \n",
    "    \n",
    "for i in range(len(titles)):\n",
    "    data += f'\"{titles[i]}\":, \"{authors[i]}\", \"{prices[i]}\", \"{thumbs[i]}\\n'"
   ]
  },
  {
   "cell_type": "code",
   "execution_count": 307,
   "id": "aa5b3b81-c1cb-46ef-bcfe-d03d52b822c2",
   "metadata": {},
   "outputs": [
    {
     "name": "stdout",
     "output_type": "stream",
     "text": [
      "\"혼자 공부하는 파이썬\":, \"윤인성 \", \"16,200원\", \"/data/books/B2587075793_m.jpg\n",
      "\"혼자 공부하는 머신러닝+딥러닝\":, \"박해선 \", \"23,400원\", \"/data/books/B2002963743_m.jpg\n",
      "\"IT CookBook, 초연결 사회의 데이터통신과 네트워킹\":, \"강문식 \", \"29,000원\", \"/data/books/B4295361584_m.jpg\n",
      "\"대한민국 부동산 미래지도\":, \"김학렬(빠숑) \", \"30,150원\", \"/data/books/B6068039583_m.jpg\n",
      "\"프리드버그 선형대수학\":, \"스티븐 H. 프리드버그 , 아놀드 J. 인셀 , 로렌스 E. 스펜스 \", \"35,000원\", \"/data/books/B1710834745_m.jpg\n",
      "\"이것이 취업을 위한 코딩 테스트다 with 파이썬\":, \"나동빈 \", \"30,600원\", \"/data/books/B8945183661_m.jpg\n",
      "\"맛있는 디자인 프리미어 프로&애프터 이펙트 CC 2021\":, \"김덕영 , 심수진 , 윤성우 , 이수정 , 정지원 \", \"20,700원\", \"/data/books/B6988001706_m.jpg\n",
      "\"고개를 끄덕이는 것만으로도 위로가 되니까\":, \"문지애 \", \"13,500원\", \"/data/books/B6779771167_m.jpg\n",
      "\"지금 당장 회계공부 시작하라(전면개정판)\":, \"강대준 , 신홍철 \", \"17,820원\", \"/data/books/B9332880793_m.jpg\n",
      "\"리얼 제주 [2021~2022년 최신판]\":, \"김태연(제주레이) , 양정임(제주규리) \", \"15,300원\", \"/data/books/B7051031564_m.jpg\n",
      "\"재미있고 빠른 첫 한글 준비 선 긋기 2권 : 글자 모양 따라 긋기\":, \"한빛학습연구회 \", \"5,400원\", \"/data/books/B3024570365_m.jpg\n",
      "\"IT CookBook, 쉽게 배우는 운영체제\":, \"조성호 \", \"28,000원\", \"/data/books/B5471691739_m.jpg\n",
      "\"핸즈온 머신러닝(2판)\":, \"오렐리앙 제롱(Aurélien Géron) \", \"49,500원\", \"/data/books/B7033438574_m.jpg\n",
      "\"파이썬 증권 데이터 분석\":, \"김황후 \", \"28,800원\", \"/data/books/B7026921929_m.jpg\n",
      "\"리팩터링 2판 (리팩토링 개정판)\":, \"마틴 파울러 \", \"31,500원\", \"/data/books/B6952616555_m.jpg\n",
      "\n"
     ]
    }
   ],
   "source": [
    "print(data)"
   ]
  },
  {
   "cell_type": "code",
   "execution_count": 308,
   "id": "ca8e48f7-a8c2-4c8c-921b-462e6854e2b1",
   "metadata": {},
   "outputs": [],
   "source": [
    "hdr = 'title,author,price,thumb\\n'"
   ]
  },
  {
   "cell_type": "code",
   "execution_count": 309,
   "id": "57c55b95-fdf0-45e7-bf84-7d258fc233a0",
   "metadata": {},
   "outputs": [],
   "source": [
    "with open('books.csv', 'w') as f:\n",
    "    f.write(hdr)\n",
    "    f.write(data)"
   ]
  },
  {
   "cell_type": "code",
   "execution_count": null,
   "id": "845e9818-b333-4ff5-841b-086aee02754c",
   "metadata": {},
   "outputs": [],
   "source": []
  },
  {
   "cell_type": "code",
   "execution_count": null,
   "id": "53d0b503-84b7-44fc-9f72-83b7fb3838ee",
   "metadata": {},
   "outputs": [],
   "source": []
  },
  {
   "cell_type": "code",
   "execution_count": null,
   "id": "4fe5f76b-5ef9-45ed-bb27-9a0e64243a93",
   "metadata": {},
   "outputs": [],
   "source": []
  },
  {
   "cell_type": "markdown",
   "id": "932c0eff-f1b2-4049-a2c8-18244ff3cddc",
   "metadata": {},
   "source": [
    "### 한빛미디어 홈페이지의 '새로나온책' 페이지 도서정보(이미지,도서명, 저자, 가격) 수집\n",
    "+ 1~3페이지의 도서를 대상으로 추출"
   ]
  },
  {
   "cell_type": "code",
   "execution_count": null,
   "id": "4fda09dc-186c-4878-b4ad-93e0316d2857",
   "metadata": {},
   "outputs": [],
   "source": [
    "url2 = 'https://www.hanbit.co.kr/store/books/new_book_list.html'"
   ]
  },
  {
   "cell_type": "code",
   "execution_count": null,
   "id": "ae2bb819-5630-4579-b53c-54aea6fe9b3c",
   "metadata": {},
   "outputs": [],
   "source": [
    "res = requests.get(url)"
   ]
  },
  {
   "cell_type": "code",
   "execution_count": null,
   "id": "3157c985-fcb3-4989-a7ea-6075c3588da6",
   "metadata": {},
   "outputs": [],
   "source": []
  },
  {
   "cell_type": "code",
   "execution_count": null,
   "id": "9ca05b92-3902-4411-8538-1b9fe0bbcf39",
   "metadata": {},
   "outputs": [],
   "source": []
  },
  {
   "cell_type": "code",
   "execution_count": null,
   "id": "9d552ee4-7af6-409c-b7c0-a0a181441886",
   "metadata": {},
   "outputs": [],
   "source": []
  },
  {
   "cell_type": "markdown",
   "id": "5ae6f776-147a-456f-8d6b-f4bf29e89752",
   "metadata": {},
   "source": [
    "### 전체도서목록(브랜드, 도서명, 저자, 발행일, 가격)"
   ]
  },
  {
   "cell_type": "code",
   "execution_count": 209,
   "id": "3aab7c25-15a8-43e4-a9c9-73a1163bfa49",
   "metadata": {},
   "outputs": [],
   "source": [
    "url3 = 'https://www.hanbit.co.kr/store/books/full_book_list.html'"
   ]
  },
  {
   "cell_type": "code",
   "execution_count": 210,
   "id": "f9c716c9-a04d-4419-b678-eeb2e8974043",
   "metadata": {},
   "outputs": [],
   "source": [
    "res3 = requests.get(url3)"
   ]
  },
  {
   "cell_type": "code",
   "execution_count": 211,
   "id": "8cdbba53-7daf-46e1-a402-c3cc9de14d3b",
   "metadata": {},
   "outputs": [
    {
     "name": "stdout",
     "output_type": "stream",
     "text": [
      "200 UTF-8 text/html; charset=UTF-8\n"
     ]
    }
   ],
   "source": [
    "print(res3.status_code, res.encoding, res.headers['content-type'])"
   ]
  },
  {
   "cell_type": "code",
   "execution_count": 212,
   "id": "d298e7d2-37bd-431d-a086-c9cb48ba6d3f",
   "metadata": {},
   "outputs": [],
   "source": [
    "html3 = res3.text"
   ]
  },
  {
   "cell_type": "code",
   "execution_count": 213,
   "id": "475feea8-e80a-442e-9c1c-cfb4edcdcf2f",
   "metadata": {},
   "outputs": [],
   "source": [
    "root3 = lxml.html.fromstring(html3)"
   ]
  },
  {
   "cell_type": "code",
   "execution_count": 272,
   "id": "a5761928-f87d-4243-830d-b03c77178688",
   "metadata": {},
   "outputs": [],
   "source": [
    "brands2 = []\n",
    "titles2 = []\n",
    "writers2 = []\n",
    "pubdates2 = []\n",
    "prices2 = []"
   ]
  },
  {
   "cell_type": "markdown",
   "id": "08c61ea7-d64d-4b17-b423-98e6d1933890",
   "metadata": {},
   "source": [
    "#### 모든 td 태그 중 첫번째 td 태그를 선택함"
   ]
  },
  {
   "cell_type": "code",
   "execution_count": 273,
   "id": "5d4ae0f1-8511-472e-91fb-3b137757086b",
   "metadata": {},
   "outputs": [],
   "source": [
    "# for brand in root3.cssselect('td.brd_m'):\n",
    "for brand in root3.cssselect('table.tbl_type_list td:first_child'):\n",
    "    # print(brand.text_content())\n",
    "    brands2.append(brand.text_content())"
   ]
  },
  {
   "cell_type": "markdown",
   "id": "31b015a2-7c66-41bf-83cd-88f23b71280f",
   "metadata": {},
   "source": [
    "#### 동일한 css 선택자가 있을 경우 요소 이름보다는 요소 위치를 사용"
   ]
  },
  {
   "cell_type": "code",
   "execution_count": 274,
   "id": "556cb796-b84d-4daf-aff9-5ae4cafec704",
   "metadata": {},
   "outputs": [],
   "source": [
    "for title in root3.cssselect('td.left a'):\n",
    "    # print(title.text_content())\n",
    "    titles2.append(title.text_content())"
   ]
  },
  {
   "cell_type": "code",
   "execution_count": 275,
   "id": "a2d5b723-65ea-46f5-93bd-a4ad970a0144",
   "metadata": {},
   "outputs": [],
   "source": [
    "for writer in root3.cssselect('table.tbl_type_list td:nth_child(3)'):\n",
    "    # print(writer.text_content())\n",
    "    writers2.append(writer.text_content())"
   ]
  },
  {
   "cell_type": "code",
   "execution_count": 276,
   "id": "6af64767-4ca5-4608-a9d5-0a69db441fc5",
   "metadata": {},
   "outputs": [],
   "source": [
    "for pubdate in root3.cssselect('table.tbl_type_list td:nth_child(4)'):\n",
    "    # print(pubdate.text_content())\n",
    "    pubdates2.append(pubdate.text_content())"
   ]
  },
  {
   "cell_type": "code",
   "execution_count": 277,
   "id": "9dc9173a-244c-4840-9865-4a5d2dc438bc",
   "metadata": {},
   "outputs": [],
   "source": [
    "for price in root3.cssselect('table.tbl_type_list td.right'):\n",
    "# for price in root3.cssselect('table.tbl_type_list td:last-child'):\n",
    "    # print(price.text_content())\n",
    "    prices2.append(price.text_content())"
   ]
  },
  {
   "cell_type": "code",
   "execution_count": null,
   "id": "2c61cfb4-4dec-4fd5-8dd4-251cfba3705e",
   "metadata": {},
   "outputs": [],
   "source": [
    "prices2"
   ]
  },
  {
   "cell_type": "code",
   "execution_count": null,
   "id": "db4e33d0-3c45-45aa-bab4-67a11fb78b06",
   "metadata": {},
   "outputs": [],
   "source": []
  },
  {
   "cell_type": "markdown",
   "id": "ba2d4e6a-0871-4822-af2d-60a6cf0f5309",
   "metadata": {},
   "source": [
    "### 네이버 검색예제\n",
    "+ search.naver.com/search.naver?query=검색어\n",
    "+ 검색결과 데이터 추출\n",
    "+ 질의문자열 querystring을 이용하여 검색, 추출"
   ]
  },
  {
   "cell_type": "code",
   "execution_count": null,
   "id": "7bd64d3b-a13e-4808-9df9-d4b30763ae47",
   "metadata": {},
   "outputs": [],
   "source": []
  },
  {
   "cell_type": "code",
   "execution_count": 316,
   "id": "6c094145-6307-497c-b49c-b5f3c52ae084",
   "metadata": {},
   "outputs": [],
   "source": [
    "query = 'html5'   # 검색어"
   ]
  },
  {
   "cell_type": "code",
   "execution_count": 315,
   "id": "d439a80a-a1ce-49ad-9da3-02af709b10c3",
   "metadata": {},
   "outputs": [],
   "source": [
    "url4 = 'https://search.naver.com/search.naver'"
   ]
  },
  {
   "cell_type": "code",
   "execution_count": 314,
   "id": "e601d5a0-0e5a-47b4-a083-7642adfb869a",
   "metadata": {},
   "outputs": [],
   "source": [
    "headers = {'User-Agent' : 'Mozilla/5.0 (Windows NT 10.0; Win64; x64) AppleWebKit/537.36 (KHTML, like Gecko) Chrome/95.0.4638.54 Safari/537.36'}"
   ]
  },
  {
   "cell_type": "code",
   "execution_count": 317,
   "id": "bd0d3596-14cf-42dc-9537-a7bd1412c13a",
   "metadata": {},
   "outputs": [],
   "source": [
    "params = {'query' : query} "
   ]
  },
  {
   "cell_type": "code",
   "execution_count": 322,
   "id": "6b8d3ef1-b260-4ec3-a479-94c06e15cce2",
   "metadata": {},
   "outputs": [],
   "source": [
    "res4 = requests.get(url4, headers=headers, params=params)"
   ]
  },
  {
   "cell_type": "code",
   "execution_count": 323,
   "id": "d4c25e58-8fc0-444b-96b8-08bd58ce558c",
   "metadata": {},
   "outputs": [],
   "source": [
    "html4 = res4.text"
   ]
  },
  {
   "cell_type": "code",
   "execution_count": 325,
   "id": "88faa64e-6343-48c5-806f-1961fcd8ee5f",
   "metadata": {},
   "outputs": [
    {
     "data": {
      "text/plain": [
       "'<!doctype html> <html lang=\"ko\"> <head> <meta charset=\"utf-8\"> <meta name=\"referrer\" content=\"always\">  <meta name=\"format-detection\" content=\"telephone=no,address=no,email=no\"> <meta name=\"viewport\" content=\"width=device-width,initial-scale=1.0,maximum-scale=2.0\"> <meta property=\"og:title\" content=\"html5 : 네이버 통합검색\"/> <meta property=\"og:image\" content=\"https://ssl.pstatic.net/sstatic/search/common/og_v3.png\"> <meta property=\"og:description\" content=\"\\'html5\\'의 네이버 통합검색 결과입니다.\"> <meta name=\"descri'"
      ]
     },
     "execution_count": 325,
     "metadata": {},
     "output_type": "execute_result"
    }
   ],
   "source": [
    "html4[:500]"
   ]
  },
  {
   "cell_type": "code",
   "execution_count": 327,
   "id": "4dac0f76-b419-4fc5-8435-2d8960ef166b",
   "metadata": {},
   "outputs": [],
   "source": [
    "root4 = lxml.html.fromstring(html4)"
   ]
  },
  {
   "cell_type": "code",
   "execution_count": 326,
   "id": "a8fad866-2fb7-44ed-9fa6-43abd5786a52",
   "metadata": {},
   "outputs": [],
   "source": [
    "titles4 = []\n",
    "links4 = []"
   ]
  },
  {
   "cell_type": "code",
   "execution_count": 338,
   "id": "c7559d6c-fa00-4816-abbc-8b21bd99fbb7",
   "metadata": {},
   "outputs": [
    {
     "name": "stdout",
     "output_type": "stream",
     "text": [
      "Html5 구조 | 기초부터 디자인까지 셀프코딩#2\n",
      "https://blog.naver.com/call_1994/222253172378\n",
      "HTML5 + CSS + JS 스터디 시작\n",
      "https://blog.naver.com/sorang226/222278039447\n",
      "[HTML] 211011 HTML5\n",
      "https://blog.naver.com/blogubo/222540152084\n",
      "HTML5 웹 표준 단말 시스템 “W-ebTop(웹탑)” 이젠 선택이 아닌 필수\n",
      "https://blog.naver.com/inswavemk/222528821695\n",
      "앱 플랫폼에서 사용자가 떠나지 못하는 이유 'HTML5 게임'\n",
      "https://post.naver.com/viewer/postView.naver?volumeNo=32437712&memberNo=15460786&vType=VERTICAL\n",
      "html5 로딩 속도\n",
      "https://cafe.naver.com/hacosa/295274\n",
      "웹 제작의 뼈대! HTML5 한 번에 끝내기_경기도 지식 GSEEK\n",
      "https://blog.naver.com/gseekcampus/222025837061\n",
      "Html5 css3 코딩 프로토타입 결국은 아이디어 디자인인가...놀라운 css 컴퓨터의세계\n",
      "https://blog.naver.com/benya_ispin/222223152470\n"
     ]
    }
   ],
   "source": [
    "for web in root4.cssselect('panel-list a.api_txt_lines'):\n",
    "    print(web.text_content())\n",
    "    print(web.get('href'))\n",
    "    # titles2.append(title.text_content())"
   ]
  },
  {
   "cell_type": "code",
   "execution_count": 339,
   "id": "772de41f-bb72-4fc0-83fd-a431f3bcc03d",
   "metadata": {},
   "outputs": [
    {
     "name": "stdout",
     "output_type": "stream",
     "text": [
      "CSS,HTML 과 CSS3,HTML5의 차이점이 뭔가요? (간단히 요약해주세요!)\n",
      "https://kin.naver.com/qna/detail.naver?d1id=1&dirId=1040205&docId=379944783&qb=aHRtbDU=&enc=utf8&section=kin.ext&rank=1&search_sort=0&spq=0\n",
      "html5 css3 인강 추천 좀 html5css3공부하려구요 웹페이지 만들어보려는데 책은 어려워서요 단기간 준비할 수 있는 곳으로 추천좀요\n",
      "https://kin.naver.com/qna/detail.naver?d1id=1&dirId=10501&docId=384782269&qb=aHRtbDU=&enc=utf8&section=kin.ext&rank=2&search_sort=0&spq=0\n",
      "HTML5 table 관련 질문 HTML5로 다음과 같이 표를 넣고 싶은데 어떻게 하면 될까요?\n",
      "https://kin.naver.com/qna/detail.naver?d1id=1&dirId=1040205&docId=372443019&qb=aHRtbDU=&enc=utf8&section=kin.ext&rank=3&search_sort=0&spq=0\n"
     ]
    }
   ],
   "source": [
    "for brain in root4.cssselect('a.question_text'):\n",
    "    print(brain.text_content())\n",
    "    print(brain.get('href'))\n",
    "    # brands2.append(brand.text_content())"
   ]
  },
  {
   "cell_type": "code",
   "execution_count": 340,
   "id": "a249d522-87c5-4f01-886d-8b7f3c5979bd",
   "metadata": {},
   "outputs": [
    {
     "name": "stdout",
     "output_type": "stream",
     "text": [
      " HTML5 - 나무위키 \n",
      "https://namu.wiki/w/HTML5\n",
      " HTML5test - How well does your browser support HTML5? \n",
      "https://html5test.com/\n",
      " W3C HTML \n",
      "https://www.w3.org/html/\n",
      " Web Hypertext Application Technology Working Group (WHATWG) \n",
      "https://whatwg.org/\n"
     ]
    }
   ],
   "source": [
    "for wiki in root4.cssselect('a.link_tit'):\n",
    "    print(wiki.text_content())\n",
    "    print(wiki.get('href'))\n",
    "                            "
   ]
  },
  {
   "cell_type": "code",
   "execution_count": 341,
   "id": "6df6ee81-d563-4f62-b213-1f3011ddfca6",
   "metadata": {},
   "outputs": [
    {
     "name": "stdout",
     "output_type": "stream",
     "text": [
      " Do it! HTML5+CSS3 웹 표준의 정석 \n",
      "https://book.naver.com/bookdb/book_detail.nhn?bid=15975063\n",
      " Do it! HTML5+CSS3 웹 표준의 정석 \n",
      "https://book.naver.com/bookdb/book_detail.nhn?bid=11472743\n",
      " 명품 HTML5 + CSS3 + Javascript 웹 프로그래밍 \n",
      "https://book.naver.com/bookdb/book_detail.nhn?bid=11575805\n",
      " HTML5 웹 프로그래밍 입문 \n",
      "https://book.naver.com/bookdb/book_detail.nhn?bid=15257762\n",
      " HTML5 + CSS3 + JavaScript로 배우는 웹프로그래밍 기초 (기초부터 모바일웹까지 빠르고 쉽게 배우는 웹개발 지침서) \n",
      "https://book.naver.com/bookdb/book_detail.nhn?bid=7394492\n",
      " HTML5 독학백서 \n",
      "https://book.naver.com/bookdb/book_detail.nhn?bid=21156785\n",
      " 모던 웹을 위한 HTML5+CSS3 바이블 (웹 표준을 적용한 480개의 코드로 배우는 웹 페이지 제작의 모든 것) \n",
      "https://book.naver.com/bookdb/book_detail.nhn?bid=14840760\n",
      " Hello Coding HTML5+CSS3 (워드보다 쉬운 웹사이트 만들기) \n",
      "https://book.naver.com/bookdb/book_detail.nhn?bid=13330412\n",
      " 모두의 HTML5 & CSS3 (16일 만에 배우는 웹 사이트 제작 기초) \n",
      "https://book.naver.com/bookdb/book_detail.nhn?bid=13953882\n",
      " 쉽게 배우는 HTML5 웹 프로그래밍 입문 (차별 없는 인터넷 환경 구현하기) \n",
      "https://book.naver.com/bookdb/book_detail.nhn?bid=11020352\n",
      " HTML5 \n",
      "https://book.naver.com/bookdb/book_detail.nhn?bid=13983017\n",
      " HTML5 \n",
      "https://book.naver.com/bookdb/book_detail.nhn?bid=14009510\n",
      " HTML5 중심의 CSS3와 자바스크립트 \n",
      "https://book.naver.com/bookdb/book_detail.nhn?bid=18031603\n",
      " DO it! HTML5 + CSS3 웹 표준의 정석 (기초부터 반응형 웹까지! HTML 권위자에게 정석으로 배워라!) \n",
      "https://book.naver.com/bookdb/book_detail.nhn?bid=7309491\n",
      " HTML5 & CSS3 (UI디자인부터 EPUB코딩까지) \n",
      "https://book.naver.com/bookdb/book_detail.nhn?bid=20688976\n"
     ]
    }
   ],
   "source": [
    "for book in root4.cssselect('a.title_area'):\n",
    "    print(book.text_content())\n",
    "    print(book.get('href'))"
   ]
  },
  {
   "cell_type": "markdown",
   "id": "3cf1f99a-15c4-4bcd-8321-4e3a05c6168c",
   "metadata": {},
   "source": [
    "#### jtbc 뉴스 사이트에서 npic, title, preivew, ntype 크롤링해서 jtbcnews 테이블에 저장"
   ]
  },
  {
   "cell_type": "code",
   "execution_count": 44,
   "id": "65880664-6b70-45ab-a74e-6f5c65d6d4cd",
   "metadata": {},
   "outputs": [],
   "source": [
    "url5 = 'https://news.jtbc.joins.com/section/list.aspx'"
   ]
  },
  {
   "cell_type": "code",
   "execution_count": 28,
   "id": "bf062b5a-a6aa-400b-9015-a48566cdc81e",
   "metadata": {},
   "outputs": [],
   "source": [
    "params5 = {'pdate':'20201022'}"
   ]
  },
  {
   "cell_type": "code",
   "execution_count": 29,
   "id": "5443a326-4c7d-4338-b6cb-4b0eb2c80304",
   "metadata": {},
   "outputs": [],
   "source": [
    "res5 = requests.get(url5, params=params5)"
   ]
  },
  {
   "cell_type": "code",
   "execution_count": 17,
   "id": "7a62cf59-8fb0-4392-9bc9-aed272ff4091",
   "metadata": {},
   "outputs": [
    {
     "name": "stdout",
     "output_type": "stream",
     "text": [
      "200 utf-8 text/html; charset=utf-8\n"
     ]
    }
   ],
   "source": [
    "print(res5.status_code, res5.encoding, res5.headers['content-type'])"
   ]
  },
  {
   "cell_type": "code",
   "execution_count": 30,
   "id": "7c30d2bd-9e9e-47ed-8ac6-cd60c32b1347",
   "metadata": {},
   "outputs": [],
   "source": [
    "html5 = res5.text"
   ]
  },
  {
   "cell_type": "code",
   "execution_count": 31,
   "id": "8db5fcc1-3f81-4911-9b7d-588a2794a137",
   "metadata": {},
   "outputs": [],
   "source": [
    "root5 = lxml.html.fromstring(html5)"
   ]
  },
  {
   "cell_type": "code",
   "execution_count": 32,
   "id": "2178de38-af8b-4fa0-a527-7052dca4de81",
   "metadata": {},
   "outputs": [],
   "source": [
    "npic5 = []\n",
    "title5 = []\n",
    "preview5 = []\n",
    "ntype5 = []"
   ]
  },
  {
   "cell_type": "code",
   "execution_count": 33,
   "id": "75f83d12-deeb-496c-b140-51e3a33c309b",
   "metadata": {},
   "outputs": [],
   "source": [
    "for npic in root5.cssselect('dd.photo img'):\n",
    "    # print(npic.get('src'))\n",
    "    npic5.append(npic.get('src'))"
   ]
  },
  {
   "cell_type": "code",
   "execution_count": 34,
   "id": "97132802-c95b-4270-9f20-163b26711f14",
   "metadata": {},
   "outputs": [],
   "source": [
    "for title in root5.cssselect('dt.title_cr a'):\n",
    "    # print(title.text_content())\n",
    "    title5.append(title.text_content())"
   ]
  },
  {
   "cell_type": "code",
   "execution_count": 35,
   "id": "41d8f7d5-b895-4ba7-9f12-771dc21ba386",
   "metadata": {},
   "outputs": [],
   "source": [
    "for preview in root5.cssselect('dd.read_cr a'):\n",
    "    # print(preview.text_content())\n",
    "    preview5.append(preview.text_content())"
   ]
  },
  {
   "cell_type": "code",
   "execution_count": 36,
   "id": "f588164b-ba8a-48a1-a558-479ed9bd436e",
   "metadata": {},
   "outputs": [],
   "source": [
    "import re"
   ]
  },
  {
   "cell_type": "code",
   "execution_count": 37,
   "id": "451bb89f-3d1f-4a24-a174-1fe02140ae7f",
   "metadata": {},
   "outputs": [],
   "source": [
    "for ntype in root5.cssselect('span.location'):\n",
    "    #print(ntype.text_content())\n",
    "    ntype = re.sub('\\t|\\r\\n| ', '', ntype.text_content())\n",
    "    ntype = re.sub('\\[JTBC>|\\]', '', ntype)\n",
    "    ntype5.append(ntype)"
   ]
  },
  {
   "cell_type": "code",
   "execution_count": 455,
   "id": "9a9d910d-b92c-4495-b594-ca5bec4ca43d",
   "metadata": {},
   "outputs": [
    {
     "name": "stdout",
     "output_type": "stream",
     "text": [
      "['사회', '사회', '정치', '날씨', '스포츠', '스포츠', '사회', '사회', '정치', '사회', '사회', '사회', '정치', '사회', '정치']\n",
      "['https://photo.jtbc.joins.com/news/2020/10/22/202010222242142756_LC.jpg.tn350.jpg', 'https://photo.jtbc.joins.com/news/2020/10/22/202010222217403478_LC.jpg.tn350.jpg', 'https://photo.jtbc.joins.com/news/2020/10/22/202010222102401754_LC.jpg.tn350.jpg', 'https://photo.jtbc.joins.com/news/2020/10/22/202010222120070095_LC.jpg.tn350.jpg', 'https://photo.jtbc.joins.com/news/2020/10/22/202010220930056459.jpg.tn350.jpg', 'https://photo.jtbc.joins.com/news/2020/10/22/202010220927336004.jpg.tn350.jpg', 'https://photo.jtbc.joins.com/news/2020/10/22/202010222114196734_LC.jpg.tn350.jpg', 'https://photo.jtbc.joins.com/news/2020/10/22/202010222113384343_LC.jpg.tn350.jpg', 'https://photo.jtbc.joins.com/news/2020/10/22/202010222108560614_LC.jpg.tn350.jpg', 'https://photo.jtbc.joins.com/news/2020/10/26/202010261603123770_LC.jpg.tn350.jpg', 'https://photo.jtbc.joins.com/news/2020/10/22/202010222110571415_LC.jpg.tn350.jpg', 'https://photo.jtbc.joins.com/news/2020/10/22/202010222107187996_LC.jpg.tn350.jpg', 'https://photo.jtbc.joins.com/news/2020/10/22/202010222106335687_LC.jpg.tn350.jpg', 'https://photo.jtbc.joins.com/news/2020/10/22/202010222105548568_LC.jpg.tn350.jpg', 'https://photo.jtbc.joins.com/news/2020/10/22/202010222100510434_LC.jpg.tn350.jpg']\n"
     ]
    }
   ],
   "source": [
    "print(ntype5)\n",
    "print(npic5)\n",
    "print("
   ]
  },
  {
   "cell_type": "code",
   "execution_count": 45,
   "id": "51251fe3-7e34-417a-87b6-1f3a1343505e",
   "metadata": {},
   "outputs": [
    {
     "name": "stdout",
     "output_type": "stream",
     "text": [
      "0 건설 폐기물 파묻은 땅에서 벼농사…'브랜드 쌀'로 판매  [앵커]경기도 일부 지역에서 '건설 폐기물'이 섞인 논에서 자란 벼를 브랜드 쌀로 포장해 팔고 있습니다. 저희 취재진이 다섯 달 동안 현장을 추적했는데요. 업체들이 처리 비용을 아끼려고 논에다 폐기물을 퍼부었... 사회 https://photo.jtbc.joins.com/news/2020/10/22/202010222242142756_LC.jpg.tn350.jpg\n",
      "\n",
      "1 [단독] '술접대' 지목 유흥업소…\"김봉현과 검사들 왔었다\"  [앵커]오늘(22일) 국정감사에선 김봉현 전 회장이 주장한 '검사 술접대 의혹'도 쟁점이 됐습니다. 아직 그 진위는 확인되지 않고 있는데, 일단 당사자 측은 강하게 반박하고 있습니다. 저희 법조팀이 그 유흥업소를... 사회 https://photo.jtbc.joins.com/news/2020/10/22/202010222217403478_LC.jpg.tn350.jpg\n",
      "\n",
      "2 [원보가중계] 국감 중에 이러시면…강훈식, 또 게임하다 딱 걸려  좋은 밤, 좋은 뉴스 < 원보가중계 > 시작합니다.첫 번째 소식입니다.앞서 대검찰청 국정감사 리포트에서 미처 다루지 못한 소식이 있어서 준비했습니다.열린민주당 김진애 의원, 윤석열 검찰총장 상대로 부인의 재... 정치 https://photo.jtbc.joins.com/news/2020/10/22/202010222102401754_LC.jpg.tn350.jpg\n",
      "\n",
      "3 [날씨박사] 먼지에 한파까지…23일 아침은 더 춥다  [앵커]날씨박사 시간입니다. 기상학 박사, 김세현 기상전문기자가 나와 있습니다.김세현 기자, 오늘(22일) 황사 때문에 전국 곳곳에 미세먼지 주의보가 내려졌고, 지금도 내려진 곳이 있다고 하는데, 오늘 밤엔 한... 날씨 https://photo.jtbc.joins.com/news/2020/10/22/202010222120070095_LC.jpg.tn350.jpg\n",
      "\n",
      "4 둥근 공의 '심술'…챔피언스리그 흔드는 '자책골' [앵커]축구에서 자책골은 골문을 지키는 선수라면 어떻게든 피하고 싶은 순간이죠. 하지만 의도치 않은 순간, 야속한 장면이 튀어나오곤 합니다. 엉뚱한 곳에 맞아서 골라인을 넘고, 또 막아냈다 싶다가도 골이 되는... 스포츠 https://photo.jtbc.joins.com/news/2020/10/22/202010220930056459.jpg.tn350.jpg\n",
      "\n",
      "5 김태균 '눈물의 은퇴'…\"20년간 우승 못 해서 아쉬워\" [김태균/한화이글스 : 한화이글스는 저의 자존심이었고 자부심이었습니다.][앵커]20년 선수 생활을 내려놓으면서 한화의 4번 타자 김태균은 끝내 울어버렸습니다. 홈런만 대접받던 우리 야구에 출루의 가치를 알려준... 스포츠 https://photo.jtbc.joins.com/news/2020/10/22/202010220927336004.jpg.tn350.jpg\n",
      "\n",
      "6 [팩트체크] 월성 원전 방사성물질이 후쿠시마 130배?  [앵커]일본 정부가 '방사능 오염수'를 바다에 흘려보낼 방침을 이달 안에 확정할 것으로 보입니다. 일본 정치권에서는 \"한국의 원전에서 나오는 방사성 물질이 후쿠시마의 130배다\"라는 주장이 나왔습니다. 저희 팩... 사회 https://photo.jtbc.joins.com/news/2020/10/22/202010222114196734_LC.jpg.tn350.jpg\n",
      "\n",
      "7 '채용비리 혐의' LG전자 전·현직 임직원 12명 검찰 송치  경찰이 LG전자 전·현직 임직원 12명을 채용비리 혐의로 검찰에 넘겼습니다.지난 2013년에서 2015년 사이, LG전자 한국영업본부 공개채용 과정에서 채용 청탁이 들어온 지원자들을 부당하게 합격시킨 혐의입... 사회 https://photo.jtbc.joins.com/news/2020/10/22/202010222113384343_LC.jpg.tn350.jpg\n",
      "\n",
      "8 구글, 게임업체에 '구글 규제법' 반대 종용 의혹  [앵커]최근 미국 정부가 구글을 상대로 반독점법 위반 혐의로 소송을 냈습니다. 인터넷 혁신 기업이 어느새 독점의 상징이 됐단 지적도 나오고 있는데요. 우리 국회에서도 이른바 '구글 규제법'이 발의됐는데, JTBC... 정치 https://photo.jtbc.joins.com/news/2020/10/22/202010222108560614_LC.jpg.tn350.jpg\n",
      "\n",
      "9 \"택배노동자 사망, 업무와 무관\" 쿠팡 측 주장 따져보니…  [앵커]이렇게 고된 일에 시달렸던 택배노동자들이 목숨을 잃고 나면 남아있는 가족들은 사망 원인을 놓고 힘겨운 싸움을 벌여야 합니다. 열흘 전, 쿠팡 물류센터에서 숨진 20대 노동자 장덕준 씨. 쿠팡 측은 택배 ... 사회 https://photo.jtbc.joins.com/news/2020/10/26/202010261603123770_LC.jpg.tn350.jpg\n",
      "\n",
      "10 택배노동자 또 숨져…\"한 번 출근하면 2,3일씩 근무\"  [앵커]택배노동자가 또 세상을 떠났습니다. 물류터미널을 오가면서 택배 상자를 지역 터미널로 옮기던 노동자입니다. 저희 취재진이 유가족을 만나봤는데요. 한 번 출근하면 2, 3일씩 집에 들어오지 못했다고 말했... 사회 https://photo.jtbc.joins.com/news/2020/10/22/202010222110571415_LC.jpg.tn350.jpg\n",
      "\n",
      "11 총선 토론회서 '세월호 유가족에 막말' 차명진 기소  지난 총선 기간에 세월호 유가족을 향해 막말을 한 혐의로 차명진 전 의원이 재판을 받게 됐습니다.인천지검 부천지청은 명예훼손과 모욕 등의 혐의로 차 전 의원을 지난 14일에 재판에 넘겼다고 밝혔습니다.차 전 ... 사회 https://photo.jtbc.joins.com/news/2020/10/22/202010222107187996_LC.jpg.tn350.jpg\n",
      "\n",
      "12 \"나경원 아들, 엄마 찬스\"…서울대 국감서 도마 올라  [앵커]서울대에 대한 국정감사에선 나경원 전 의원 아들의 특혜 논란이 다시 도마에 올랐습니다. 최근 서울대에서 이 논란에 대한 결정문을 냈는데, 그 내용을 놓고 다시 공방이 벌어진 겁니다.채승기 기자입니다.[... 정치 https://photo.jtbc.joins.com/news/2020/10/22/202010222106335687_LC.jpg.tn350.jpg\n",
      "\n",
      "13 [밀착카메라] 13살도 전동킥보드 허용…안전은 누가?  [앵커]도심 곳곳을 씽씽 달리는 전동 킥보드를 오는 12월부터는 운전면허가 없어도 만 13세 이상, 그러니까 중학생들도 탈 수 있습니다. 청소년들이 이걸 타고 도로 위를 달려도 될지 걱정이 앞서는데요. 밀착카메... 사회 https://photo.jtbc.joins.com/news/2020/10/22/202010222105548568_LC.jpg.tn350.jpg\n",
      "\n",
      "14 윤석열, 문 대통령 메시지 공개…청와대 \"입장 없다\"  [앵커]지금 국회에선 대검찰청 대상으로 국정감사가 계속되고 있습니다. 앞서까지는 윤석열 검찰총장이 발언을 쏟아냈는데요. 지금 상황은 어떤지, 잠시 국회를 연결하겠습니다. 최수연 기자가 나가 있는데요.최 기... 정치 https://photo.jtbc.joins.com/news/2020/10/22/202010222100510434_LC.jpg.tn350.jpg\n",
      "\n"
     ]
    }
   ],
   "source": [
    "for i in range(len(title5)):\n",
    "    rows = f'{i} {title5[i]} {preview5[i]} {ntype5[i]} {npic5[i]}\\n'\n",
    "    print(rows)"
   ]
  },
  {
   "cell_type": "code",
   "execution_count": 461,
   "id": "b1e42974-ecf3-44bd-b755-858aea106dc6",
   "metadata": {},
   "outputs": [
    {
     "name": "stdout",
     "output_type": "stream",
     "text": [
      "15 15 15 15\n"
     ]
    }
   ],
   "source": [
    "print(len(title5), len(preview5), len(ntype5), len(npic5))"
   ]
  },
  {
   "cell_type": "code",
   "execution_count": 27,
   "id": "4f0a33f8-e8c2-48f6-8d4c-2e3cbb6445cf",
   "metadata": {},
   "outputs": [],
   "source": [
    "hdr = 'title, preivew, ntype, npic\\n'"
   ]
  },
  {
   "cell_type": "code",
   "execution_count": null,
   "id": "613a6de8-26b9-4d37-8550-8bf62a2c32a5",
   "metadata": {},
   "outputs": [],
   "source": [
    "with open('reports.csv', 'w') as f:\n",
    "    f.write(hdr)\n",
    "    f.write(data)"
   ]
  },
  {
   "cell_type": "code",
   "execution_count": 3,
   "id": "cfaf2934-3276-4375-b0e1-4843cc398c06",
   "metadata": {},
   "outputs": [
    {
     "name": "stdout",
     "output_type": "stream",
     "text": [
      "Defaulting to user installation because normal site-packages is not writeable\n",
      "Collecting pymysql\n",
      "  Downloading PyMySQL-1.0.2-py3-none-any.whl (43 kB)\n",
      "\u001b[K     |████████████████████████████████| 43 kB 1.1 MB/s eta 0:00:011\n",
      "\u001b[?25hInstalling collected packages: pymysql\n",
      "Successfully installed pymysql-1.0.2\n",
      "Note: you may need to restart the kernel to use updated packages.\n"
     ]
    }
   ],
   "source": [
    "pip install pymysql"
   ]
  },
  {
   "cell_type": "code",
   "execution_count": 4,
   "id": "fd495226-83db-4614-af8d-f3b63ee7e04d",
   "metadata": {},
   "outputs": [],
   "source": [
    "import pymysql"
   ]
  },
  {
   "cell_type": "code",
   "execution_count": 15,
   "id": "e7c2cfd4-6cd4-46d7-a65c-62eaf431c59c",
   "metadata": {},
   "outputs": [],
   "source": [
    "url = 'bigdata.cwarwltabyk2.ap-northeast-2.rds.amazonaws.com'\n",
    "uid = 'admin'\n",
    "pwd = 'bigdata2020'\n",
    "db = 'bigdata'\n",
    "charset = 'utf8'"
   ]
  },
  {
   "cell_type": "code",
   "execution_count": 73,
   "id": "06cea895-8bfd-4fd6-927c-1e9050722340",
   "metadata": {},
   "outputs": [],
   "source": [
    "sql = 'insert into jtbcnews\\\n",
    "        (title,preivew,ntype,npic) values (%s,%s,%s,%s)'"
   ]
  },
  {
   "cell_type": "code",
   "execution_count": 74,
   "id": "fe402602-90cb-4d21-a00d-076a1a75fc96",
   "metadata": {},
   "outputs": [],
   "source": [
    "conn = pymysql.connect(host=url, user=uid, password=pwd, db=db, charset=charset)"
   ]
  },
  {
   "cell_type": "code",
   "execution_count": 75,
   "id": "e4de69f7-6f30-4d0a-ab16-9752d2e6a080",
   "metadata": {},
   "outputs": [],
   "source": [
    "cursor = conn.cursor()"
   ]
  },
  {
   "cell_type": "code",
   "execution_count": 76,
   "id": "896940ef-f383-49f5-8798-885c39f77e2c",
   "metadata": {},
   "outputs": [],
   "source": [
    "for i in range(len(title5)):\n",
    "    params = (title5[i],preview5[i],ntype5[i],npic5[i])\n",
    "    cursor.execute(sql, params)\n",
    "    conn.commit()\n",
    "\n",
    "cursor.close()\n",
    "conn.close()"
   ]
  },
  {
   "cell_type": "code",
   "execution_count": null,
   "id": "cfdf7618-6037-476c-b957-ae1cc78d5094",
   "metadata": {},
   "outputs": [],
   "source": []
  },
  {
   "cell_type": "code",
   "execution_count": null,
   "id": "98b2b62d-4cf0-43bb-8e90-9228f62eef33",
   "metadata": {},
   "outputs": [],
   "source": []
  },
  {
   "cell_type": "code",
   "execution_count": 47,
   "id": "30448769-51b8-46f9-9621-ddd93499f8aa",
   "metadata": {},
   "outputs": [],
   "source": [
    "url6 = 'https://movie.daum.net/main'"
   ]
  },
  {
   "cell_type": "code",
   "execution_count": 57,
   "id": "252d1260-e7f6-4c25-b7bf-b7d445aee11d",
   "metadata": {},
   "outputs": [],
   "source": [
    "res6 = requests.get(url6)"
   ]
  },
  {
   "cell_type": "code",
   "execution_count": 49,
   "id": "16a02287-3556-4ee1-a9cf-64e638da4c89",
   "metadata": {},
   "outputs": [
    {
     "name": "stdout",
     "output_type": "stream",
     "text": [
      "200 UTF-8 text/html;charset=UTF-8\n"
     ]
    }
   ],
   "source": [
    "print(res6.status_code, res6.encoding, res6.headers['content-type'])"
   ]
  },
  {
   "cell_type": "code",
   "execution_count": 58,
   "id": "654751f6-795a-47c8-bd75-9cff8e565b7d",
   "metadata": {},
   "outputs": [],
   "source": [
    "html6 = res6.text"
   ]
  },
  {
   "cell_type": "code",
   "execution_count": 59,
   "id": "5f30134a-137f-4934-89af-b3dfc3564bbe",
   "metadata": {},
   "outputs": [],
   "source": [
    "root6 = lxml.html.fromstring(html6)"
   ]
  },
  {
   "cell_type": "code",
   "execution_count": 52,
   "id": "f5c02c7f-3f24-4124-8bc6-f7e77f5e7293",
   "metadata": {},
   "outputs": [],
   "source": [
    "title6 = []\n",
    "point6 = []\n",
    "pre = []\n"
   ]
  },
  {
   "cell_type": "markdown",
   "id": "096b8a70-e3ab-48d7-9323-9e44099e49ae",
   "metadata": {},
   "source": [
    "#### 코드로 내용이 고정된 정적 사이트와 달리 브라우저 내에서 실행이 되어야 보이는 동적 사이트가 있음\n",
    "+ 검사로 보이는 코드와 소스코드가 다름(동적 변경)\n",
    "+ selenium 필요"
   ]
  },
  {
   "cell_type": "code",
   "execution_count": null,
   "id": "3fd95e70-b4c6-4df7-84dc-073e391690ab",
   "metadata": {},
   "outputs": [],
   "source": []
  },
  {
   "cell_type": "code",
   "execution_count": null,
   "id": "536eb397-959b-4a45-a8d5-75e035ed07bc",
   "metadata": {},
   "outputs": [],
   "source": []
  },
  {
   "cell_type": "code",
   "execution_count": null,
   "id": "fa8a2010-100d-474b-a7bd-65cea990a79c",
   "metadata": {},
   "outputs": [],
   "source": []
  },
  {
   "cell_type": "code",
   "execution_count": null,
   "id": "fc47c9c6-2921-4093-9102-171cb08cb772",
   "metadata": {},
   "outputs": [],
   "source": []
  },
  {
   "cell_type": "code",
   "execution_count": null,
   "id": "8c3ba013-3308-4946-8d84-15e115de8009",
   "metadata": {},
   "outputs": [],
   "source": []
  },
  {
   "cell_type": "code",
   "execution_count": null,
   "id": "eceb096b-15af-47a5-bdf7-1d74a252d038",
   "metadata": {},
   "outputs": [],
   "source": []
  },
  {
   "cell_type": "code",
   "execution_count": null,
   "id": "6050f63a-6798-4044-bb14-252c35053944",
   "metadata": {},
   "outputs": [],
   "source": []
  }
 ],
 "metadata": {
  "kernelspec": {
   "display_name": "Python 3 (ipykernel)",
   "language": "python",
   "name": "python3"
  },
  "language_info": {
   "codemirror_mode": {
    "name": "ipython",
    "version": 3
   },
   "file_extension": ".py",
   "mimetype": "text/x-python",
   "name": "python",
   "nbconvert_exporter": "python",
   "pygments_lexer": "ipython3",
   "version": "3.7.10"
  }
 },
 "nbformat": 4,
 "nbformat_minor": 5
}
