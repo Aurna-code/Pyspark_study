{
 "cells": [
  {
   "cell_type": "markdown",
   "id": "810b247d-a454-40cb-8af7-4b101aebea30",
   "metadata": {},
   "source": [
    "## 스파크세션을 이용한 고급 데이터프레임 생성"
   ]
  },
  {
   "cell_type": "code",
   "execution_count": 11,
   "id": "34833b5f-4421-449c-901c-8270b7bad5d7",
   "metadata": {},
   "outputs": [],
   "source": [
    "from pyspark.sql.types import StringType, IntegerType"
   ]
  },
  {
   "cell_type": "code",
   "execution_count": 12,
   "id": "b2c6b791-36ae-41a8-b34e-903670335c3d",
   "metadata": {},
   "outputs": [],
   "source": [
    "from pyspark.sql import SparkSession"
   ]
  },
  {
   "cell_type": "code",
   "execution_count": 13,
   "id": "a7207b85-6d71-45cc-87e3-0ad5b80d6339",
   "metadata": {},
   "outputs": [],
   "source": [
    "from pyspark.sql.types import StructType"
   ]
  },
  {
   "cell_type": "markdown",
   "id": "0eb84641-b3b3-4877-bb5d-07237945b993",
   "metadata": {},
   "source": [
    "### 데이터프레임 스키마 정의 - employees"
   ]
  },
  {
   "cell_type": "markdown",
   "id": "c117476c-7456-4165-9b58-eb57bc909399",
   "metadata": {},
   "source": [
    "### 스파크 세션 객체 생성"
   ]
  },
  {
   "cell_type": "code",
   "execution_count": 14,
   "id": "a18af286-942f-4d2d-b0b7-af43b5c06ecb",
   "metadata": {},
   "outputs": [],
   "source": [
    "spark = SparkSession.builder.appName(\"emp\").getOrCreate()"
   ]
  },
  {
   "cell_type": "markdown",
   "id": "262884af-f348-4430-b451-c6b9b6c1fe8c",
   "metadata": {},
   "source": [
    "#### 데이터프레임 생성 전 스키마 타입"
   ]
  },
  {
   "cell_type": "markdown",
   "id": "0d6124fd-e267-49f0-b106-e2c31884a814",
   "metadata": {},
   "source": [
    "#### add(컬럼명, 데이터타입)"
   ]
  },
  {
   "cell_type": "code",
   "execution_count": 6,
   "id": "84a3ee31-4709-4c72-a2de-d4a249637f70",
   "metadata": {},
   "outputs": [],
   "source": [
    "emp_schema = StructType().add(\"empno\", \"integer\").add(\"fname\", \"string\").add(\"lname\", \"string\").add(\"hdate\", \"string\").add(\"sal\", \"integer\").add(\"deptid\", \"integer\")"
   ]
  },
  {
   "cell_type": "markdown",
   "id": "a36fb536-e412-4823-8796-774a5c5e8c5e",
   "metadata": {},
   "source": [
    "#### 지정한 스키마를 이용해서 데이터프레임 생성"
   ]
  },
  {
   "cell_type": "markdown",
   "id": "3d441d87-133a-4116-9cdc-02d2d246d122",
   "metadata": {},
   "source": [
    "#### 데이터프레임의 각 행은 set 객체로 정의"
   ]
  },
  {
   "cell_type": "markdown",
   "id": "2ca8dce0-43b2-4155-92a7-b4df949fce48",
   "metadata": {},
   "source": [
    "#### 위에서 정의한 스키마는 schema 속성으로 지정"
   ]
  },
  {
   "cell_type": "code",
   "execution_count": 11,
   "id": "c608d797-3dc3-4b95-9f1c-37cacf5d1353",
   "metadata": {},
   "outputs": [],
   "source": [
    "df = spark.createDataFrame([(123, 'steve', 'king', '2003-06-17', 35000, None),(456, 'john', 'seo', '2005-12-15', 20000, 50),(789, 'david', 'None', '2004-03-01', 22000, 90)], schema=emp_schema)"
   ]
  },
  {
   "cell_type": "code",
   "execution_count": 12,
   "id": "9973db6e-be91-4ae4-9759-273f88db2e16",
   "metadata": {},
   "outputs": [
    {
     "name": "stdout",
     "output_type": "stream",
     "text": [
      "+-----+-----+-----+----------+-----+------+\n",
      "|empno|fname|lname|     hdate|  sal|deptid|\n",
      "+-----+-----+-----+----------+-----+------+\n",
      "|  123|steve| king|2003-06-17|35000|  null|\n",
      "|  456| john|  seo|2005-12-15|20000|    50|\n",
      "|  789|david| None|2004-03-01|22000|    90|\n",
      "+-----+-----+-----+----------+-----+------+\n",
      "\n"
     ]
    }
   ],
   "source": [
    "df.show()"
   ]
  },
  {
   "cell_type": "markdown",
   "id": "639eaadb-bfa6-47d3-aa79-63b1046501d8",
   "metadata": {},
   "source": [
    "### 데이터프레임의 스키마 확인"
   ]
  },
  {
   "cell_type": "code",
   "execution_count": 13,
   "id": "bfefa975-f4c5-4e15-b57f-76486b050222",
   "metadata": {},
   "outputs": [
    {
     "name": "stdout",
     "output_type": "stream",
     "text": [
      "root\n",
      " |-- empno: integer (nullable = true)\n",
      " |-- fname: string (nullable = true)\n",
      " |-- lname: string (nullable = true)\n",
      " |-- hdate: string (nullable = true)\n",
      " |-- sal: integer (nullable = true)\n",
      " |-- deptid: integer (nullable = true)\n",
      "\n"
     ]
    }
   ],
   "source": [
    "df.printSchema()"
   ]
  },
  {
   "cell_type": "code",
   "execution_count": null,
   "id": "44d40373-75e4-4849-8b9d-389c1c20bee7",
   "metadata": {},
   "outputs": [],
   "source": []
  },
  {
   "cell_type": "markdown",
   "id": "64b67a77-a06b-4e42-a15a-2dc51dbe5535",
   "metadata": {},
   "source": [
    "### 결측치 처리"
   ]
  },
  {
   "cell_type": "markdown",
   "id": "725c36eb-843c-413c-93f9-f0a55fabb26c",
   "metadata": {},
   "source": [
    "### fillna(대체값)"
   ]
  },
  {
   "cell_type": "code",
   "execution_count": 16,
   "id": "f13625af-7ecb-4bd2-9e48-ce39264fdb3b",
   "metadata": {},
   "outputs": [
    {
     "name": "stdout",
     "output_type": "stream",
     "text": [
      "+-----+-----+-----+----------+-----+------+\n",
      "|empno|fname|lname|     hdate|  sal|deptid|\n",
      "+-----+-----+-----+----------+-----+------+\n",
      "|  123|steve| king|2003-06-17|35000|  null|\n",
      "|  456| john|  seo|2005-12-15|20000|    50|\n",
      "|  789|david| None|2004-03-01|22000|    90|\n",
      "+-----+-----+-----+----------+-----+------+\n",
      "\n"
     ]
    }
   ],
   "source": [
    "df.fillna('X').show()"
   ]
  },
  {
   "cell_type": "code",
   "execution_count": 17,
   "id": "87697fa7-78f0-441b-9a57-73a21f1a0539",
   "metadata": {},
   "outputs": [
    {
     "name": "stdout",
     "output_type": "stream",
     "text": [
      "+-----+-----+-----+----------+-----+------+\n",
      "|empno|fname|lname|     hdate|  sal|deptid|\n",
      "+-----+-----+-----+----------+-----+------+\n",
      "|  123|steve| king|2003-06-17|35000|   999|\n",
      "|  456| john|  seo|2005-12-15|20000|    50|\n",
      "|  789|david| None|2004-03-01|22000|    90|\n",
      "+-----+-----+-----+----------+-----+------+\n",
      "\n"
     ]
    }
   ],
   "source": [
    "df.fillna(999).show()"
   ]
  },
  {
   "cell_type": "markdown",
   "id": "07c1af52-0234-4b46-9a8a-33dbb10e413d",
   "metadata": {},
   "source": [
    "#### 여러 컬럼에 대해 결측치 처리 : dict 이용"
   ]
  },
  {
   "cell_type": "code",
   "execution_count": 18,
   "id": "fff730e3-957a-4fa3-90df-51b8a785086e",
   "metadata": {},
   "outputs": [
    {
     "name": "stdout",
     "output_type": "stream",
     "text": [
      "+-----+-----+-----+----------+-----+------+\n",
      "|empno|fname|lname|     hdate|  sal|deptid|\n",
      "+-----+-----+-----+----------+-----+------+\n",
      "|  123|steve| king|2003-06-17|35000|   999|\n",
      "|  456| john|  seo|2005-12-15|20000|    50|\n",
      "|  789|david| None|2004-03-01|22000|    90|\n",
      "+-----+-----+-----+----------+-----+------+\n",
      "\n"
     ]
    }
   ],
   "source": [
    "df.fillna({'lname':'X', 'deptid':999}).show()"
   ]
  },
  {
   "cell_type": "markdown",
   "id": "26426012-38d8-4c8e-bac2-617d6c99564f",
   "metadata": {},
   "source": [
    "#### 결측치 제거"
   ]
  },
  {
   "cell_type": "markdown",
   "id": "fa9c0916-5ca1-487b-932f-beb977fa6f85",
   "metadata": {},
   "source": [
    "#### na.drop()"
   ]
  },
  {
   "cell_type": "code",
   "execution_count": 22,
   "id": "268fb23c-6280-4543-947f-9fdfef6a87ac",
   "metadata": {},
   "outputs": [],
   "source": [
    "df2 = spark.createDataFrame([(123, 'steve', 'king', '2003-06-17', 35000, None),(456, 'john', 'seo', '2005-12-15', 20000, 50),(789, 'david', 'None', '2004-03-01', 22000, 90)], schema=emp_schema)"
   ]
  },
  {
   "cell_type": "code",
   "execution_count": 23,
   "id": "dad9b61d-8f60-4bf1-874f-18ebf1995d23",
   "metadata": {},
   "outputs": [
    {
     "name": "stdout",
     "output_type": "stream",
     "text": [
      "+-----+-----+-----+----------+-----+------+\n",
      "|empno|fname|lname|     hdate|  sal|deptid|\n",
      "+-----+-----+-----+----------+-----+------+\n",
      "|  456| john|  seo|2005-12-15|20000|    50|\n",
      "|  789|david| None|2004-03-01|22000|    90|\n",
      "+-----+-----+-----+----------+-----+------+\n",
      "\n"
     ]
    }
   ],
   "source": [
    "df2.na.drop().show()"
   ]
  },
  {
   "cell_type": "markdown",
   "id": "1231a82c-7721-41e3-a453-7de5aaacd3a8",
   "metadata": {},
   "source": [
    "#### 특정 컬럼 제거"
   ]
  },
  {
   "cell_type": "markdown",
   "id": "1960e9f0-cd56-4d48-82bf-ce357e135b4f",
   "metadata": {},
   "source": [
    "#### drop(컬럼명)"
   ]
  },
  {
   "cell_type": "code",
   "execution_count": 24,
   "id": "051ffd07-7855-46e8-8844-2f2cca22295b",
   "metadata": {},
   "outputs": [
    {
     "name": "stdout",
     "output_type": "stream",
     "text": [
      "+-----+-----+----------+-----+------+\n",
      "|empno|lname|     hdate|  sal|deptid|\n",
      "+-----+-----+----------+-----+------+\n",
      "|  123| king|2003-06-17|35000|  null|\n",
      "|  456|  seo|2005-12-15|20000|    50|\n",
      "|  789| None|2004-03-01|22000|    90|\n",
      "+-----+-----+----------+-----+------+\n",
      "\n"
     ]
    }
   ],
   "source": [
    "df2.drop('fname').show()"
   ]
  },
  {
   "cell_type": "code",
   "execution_count": 25,
   "id": "1d1edd48-03a1-443d-b28a-ed7f59a59c01",
   "metadata": {},
   "outputs": [
    {
     "name": "stdout",
     "output_type": "stream",
     "text": [
      "+-----+-----+-----+------+\n",
      "|empno|fname|lname|deptid|\n",
      "+-----+-----+-----+------+\n",
      "|  123|steve| king|  null|\n",
      "|  456| john|  seo|    50|\n",
      "|  789|david| None|    90|\n",
      "+-----+-----+-----+------+\n",
      "\n"
     ]
    }
   ],
   "source": [
    "df2.drop('hdate', 'sal').show()"
   ]
  },
  {
   "cell_type": "markdown",
   "id": "87cedd86-69b1-4fb4-842f-cc779bdf6384",
   "metadata": {},
   "source": [
    "#### csv 파일을 이용해서 데이터프레임 만들기\n",
    "+ read.csv(경로, 헤더여부, 스키마여부)"
   ]
  },
  {
   "cell_type": "code",
   "execution_count": 3,
   "id": "7f4bd928-16a1-484b-b2f2-cc50d6142b3e",
   "metadata": {},
   "outputs": [
    {
     "name": "stderr",
     "output_type": "stream",
     "text": [
      "                                                                                \r"
     ]
    }
   ],
   "source": [
    "emp = spark.read.csv(\"employees.csv\", header=True, inferSchema=True)"
   ]
  },
  {
   "cell_type": "code",
   "execution_count": 28,
   "id": "3d7c7ac0-fd5b-4a9d-8406-76e8829362fd",
   "metadata": {},
   "outputs": [
    {
     "name": "stdout",
     "output_type": "stream",
     "text": [
      "root\n",
      " |-- EMPLOYEE_ID: integer (nullable = true)\n",
      " |-- FIRST_NAME: string (nullable = true)\n",
      " |-- LAST_NAME: string (nullable = true)\n",
      " |-- EMAIL: string (nullable = true)\n",
      " |-- PHONE_NUMBER: string (nullable = true)\n",
      " |-- HIRE_DATE: timestamp (nullable = true)\n",
      " |-- JOB_ID: string (nullable = true)\n",
      " |-- SALARY: integer (nullable = true)\n",
      " |-- COMMISSION_PCT: double (nullable = true)\n",
      " |-- MANAGER_ID: integer (nullable = true)\n",
      " |-- DEPARTMENT_ID: integer (nullable = true)\n",
      "\n"
     ]
    }
   ],
   "source": [
    "emp.printSchema() # 데이터프레임 스키마 출력"
   ]
  },
  {
   "cell_type": "code",
   "execution_count": 29,
   "id": "e6747f93-8b08-49dd-8bbc-bab91ae24066",
   "metadata": {},
   "outputs": [
    {
     "data": {
      "text/plain": [
       "107"
      ]
     },
     "execution_count": 29,
     "metadata": {},
     "output_type": "execute_result"
    }
   ],
   "source": [
    "emp.count()"
   ]
  },
  {
   "cell_type": "code",
   "execution_count": 31,
   "id": "29c1563c-755c-4c2b-b093-7548e6a5a895",
   "metadata": {},
   "outputs": [
    {
     "data": {
      "text/plain": [
       "['EMPLOYEE_ID',\n",
       " 'FIRST_NAME',\n",
       " 'LAST_NAME',\n",
       " 'EMAIL',\n",
       " 'PHONE_NUMBER',\n",
       " 'HIRE_DATE',\n",
       " 'JOB_ID',\n",
       " 'SALARY',\n",
       " 'COMMISSION_PCT',\n",
       " 'MANAGER_ID',\n",
       " 'DEPARTMENT_ID']"
      ]
     },
     "execution_count": 31,
     "metadata": {},
     "output_type": "execute_result"
    }
   ],
   "source": [
    "emp.columns  #데이터프레임 컬럼명 출력"
   ]
  },
  {
   "cell_type": "code",
   "execution_count": 32,
   "id": "e5b52425-9b58-4628-8968-f78bf08d76ad",
   "metadata": {},
   "outputs": [
    {
     "name": "stdout",
     "output_type": "stream",
     "text": [
      "+-----------+-----------+----------+--------+------------+-------------------+----------+------+--------------+----------+-------------+\n",
      "|EMPLOYEE_ID| FIRST_NAME| LAST_NAME|   EMAIL|PHONE_NUMBER|          HIRE_DATE|    JOB_ID|SALARY|COMMISSION_PCT|MANAGER_ID|DEPARTMENT_ID|\n",
      "+-----------+-----------+----------+--------+------------+-------------------+----------+------+--------------+----------+-------------+\n",
      "|        100|     Steven|      King|   SKING|515.123.4567|2003-06-17 00:00:00|   AD_PRES| 24000|          null|      null|           90|\n",
      "|        101|      Neena|   Kochhar|NKOCHHAR|515.123.4568|2005-09-21 00:00:00|     AD_VP| 17000|          null|       100|           90|\n",
      "|        102|        Lex|   De Haan| LDEHAAN|515.123.4569|2001-01-13 00:00:00|     AD_VP| 17000|          null|       100|           90|\n",
      "|        103|  Alexander|    Hunold| AHUNOLD|590.423.4567|2006-01-03 00:00:00|   IT_PROG|  9000|          null|       102|           60|\n",
      "|        104|      Bruce|     Ernst|  BERNST|590.423.4568|2007-05-21 00:00:00|   IT_PROG|  6000|          null|       103|           60|\n",
      "|        105|      David|    Austin| DAUSTIN|590.423.4569|2005-06-25 00:00:00|   IT_PROG|  4800|          null|       103|           60|\n",
      "|        106|      Valli| Pataballa|VPATABAL|590.423.4560|2006-02-05 00:00:00|   IT_PROG|  4800|          null|       103|           60|\n",
      "|        107|      Diana|   Lorentz|DLORENTZ|590.423.5567|2007-02-07 00:00:00|   IT_PROG|  4200|          null|       103|           60|\n",
      "|        108|      Nancy| Greenberg|NGREENBE|515.124.4569|2002-08-17 00:00:00|    FI_MGR| 12008|          null|       101|          100|\n",
      "|        109|     Daniel|    Faviet| DFAVIET|515.124.4169|2002-08-16 00:00:00|FI_ACCOUNT|  9000|          null|       108|          100|\n",
      "|        110|       John|      Chen|   JCHEN|515.124.4269|2005-09-28 00:00:00|FI_ACCOUNT|  8200|          null|       108|          100|\n",
      "|        111|     Ismael|   Sciarra|ISCIARRA|515.124.4369|2005-09-30 00:00:00|FI_ACCOUNT|  7700|          null|       108|          100|\n",
      "|        112|Jose Manuel|     Urman| JMURMAN|515.124.4469|2006-03-07 00:00:00|FI_ACCOUNT|  7800|          null|       108|          100|\n",
      "|        113|       Luis|      Popp|   LPOPP|515.124.4567|2007-12-07 00:00:00|FI_ACCOUNT|  6900|          null|       108|          100|\n",
      "|        114|        Den|  Raphaely|DRAPHEAL|515.127.4561|2002-12-07 00:00:00|    PU_MAN| 11000|          null|       100|           30|\n",
      "|        115|  Alexander|      Khoo|   AKHOO|515.127.4562|2003-05-18 00:00:00|  PU_CLERK|  3100|          null|       114|           30|\n",
      "|        116|     Shelli|     Baida|  SBAIDA|515.127.4563|2005-12-24 00:00:00|  PU_CLERK|  2900|          null|       114|           30|\n",
      "|        117|      Sigal|    Tobias| STOBIAS|515.127.4564|2005-07-24 00:00:00|  PU_CLERK|  2800|          null|       114|           30|\n",
      "|        118|        Guy|    Himuro| GHIMURO|515.127.4565|2006-11-15 00:00:00|  PU_CLERK|  2600|          null|       114|           30|\n",
      "|        119|      Karen|Colmenares|KCOLMENA|515.127.4566|2007-08-10 00:00:00|  PU_CLERK|  2500|          null|       114|           30|\n",
      "+-----------+-----------+----------+--------+------------+-------------------+----------+------+--------------+----------+-------------+\n",
      "only showing top 20 rows\n",
      "\n"
     ]
    }
   ],
   "source": [
    "emp.show()"
   ]
  },
  {
   "cell_type": "markdown",
   "id": "927de49f-6cb4-4dea-a71a-7c45677cc5b7",
   "metadata": {},
   "source": [
    "#### 데이터 요약 보기"
   ]
  },
  {
   "cell_type": "markdown",
   "id": "0a8ddecb-c4ef-4777-b7a3-dac87d853c0d",
   "metadata": {},
   "source": [
    "#### summary(통계항목)"
   ]
  },
  {
   "cell_type": "code",
   "execution_count": 33,
   "id": "6e6270a9-d2de-4ad5-a4c1-902090d673ff",
   "metadata": {},
   "outputs": [
    {
     "name": "stdout",
     "output_type": "stream",
     "text": [
      "+-------+----------------+----------+---------+-------+------------------+----------+------------------+-------------------+------------------+------------------+\n",
      "|summary|     EMPLOYEE_ID|FIRST_NAME|LAST_NAME|  EMAIL|      PHONE_NUMBER|    JOB_ID|            SALARY|     COMMISSION_PCT|        MANAGER_ID|     DEPARTMENT_ID|\n",
      "+-------+----------------+----------+---------+-------+------------------+----------+------------------+-------------------+------------------+------------------+\n",
      "|  count|             107|       107|      107|    107|               107|       107|               107|                 35|               106|               106|\n",
      "|   mean|           153.0|      null|     null|   null|              null|      null|6461.8317757009345|0.22285714285714286|124.76415094339623| 63.20754716981132|\n",
      "| stddev|31.0322412983658|      null|     null|   null|              null|      null|3909.5797305524825|0.08518393346757594|20.315395000692018|20.910110100200708|\n",
      "|    min|             100|      Adam|     Abel| ABANDA|011.44.1343.329268|AC_ACCOUNT|              2100|                0.1|               100|                10|\n",
      "|    25%|             126|      null|     null|   null|              null|      null|              3100|               0.15|               108|                50|\n",
      "|    50%|             153|      null|     null|   null|              null|      null|              6200|                0.2|               122|                50|\n",
      "|    75%|             180|      null|     null|   null|              null|      null|              9000|                0.3|               145|                80|\n",
      "|    max|             206|   Winston|  Zlotkey|WTAYLOR|      650.509.4876|    ST_MAN|             24000|                0.4|               205|               110|\n",
      "+-------+----------------+----------+---------+-------+------------------+----------+------------------+-------------------+------------------+------------------+\n",
      "\n"
     ]
    }
   ],
   "source": [
    "emp.summary().show()  "
   ]
  },
  {
   "cell_type": "code",
   "execution_count": 35,
   "id": "b9fc0575-8e0b-4358-a1bd-cc2618fdfc1b",
   "metadata": {},
   "outputs": [
    {
     "name": "stdout",
     "output_type": "stream",
     "text": [
      "+-------+-----------+----------+---------+-------+------------------+----------+------+--------------+----------+-------------+\n",
      "|summary|EMPLOYEE_ID|FIRST_NAME|LAST_NAME|  EMAIL|      PHONE_NUMBER|    JOB_ID|SALARY|COMMISSION_PCT|MANAGER_ID|DEPARTMENT_ID|\n",
      "+-------+-----------+----------+---------+-------+------------------+----------+------+--------------+----------+-------------+\n",
      "|  count|        107|       107|      107|    107|               107|       107|   107|            35|       106|          106|\n",
      "|    min|        100|      Adam|     Abel| ABANDA|011.44.1343.329268|AC_ACCOUNT|  2100|           0.1|       100|           10|\n",
      "|    max|        206|   Winston|  Zlotkey|WTAYLOR|      650.509.4876|    ST_MAN| 24000|           0.4|       205|          110|\n",
      "+-------+-----------+----------+---------+-------+------------------+----------+------+--------------+----------+-------------+\n",
      "\n"
     ]
    }
   ],
   "source": [
    "emp.summary('count', 'min' ,'max').show()"
   ]
  },
  {
   "cell_type": "code",
   "execution_count": 37,
   "id": "768a6c45-ad58-4741-971e-e184b9d3c653",
   "metadata": {},
   "outputs": [
    {
     "name": "stdout",
     "output_type": "stream",
     "text": [
      "+-------+------------------+-------------------+\n",
      "|summary|            SALARY|     COMMISSION_PCT|\n",
      "+-------+------------------+-------------------+\n",
      "|  count|               107|                 35|\n",
      "|   mean|6461.8317757009345|0.22285714285714286|\n",
      "| stddev|3909.5797305524825|0.08518393346757594|\n",
      "|    min|              2100|                0.1|\n",
      "|    25%|              3100|               0.15|\n",
      "|    50%|              6200|                0.2|\n",
      "|    75%|              9000|                0.3|\n",
      "|    max|             24000|                0.4|\n",
      "+-------+------------------+-------------------+\n",
      "\n"
     ]
    }
   ],
   "source": [
    "emp.select('SALARY','COMMISSION_PCT').summary().show()"
   ]
  },
  {
   "cell_type": "markdown",
   "id": "94c5ffcd-c964-46a5-b118-d63e03f33065",
   "metadata": {},
   "source": [
    "### 데이터프레임 데이터 탐색\n",
    "+ select : 컬럼 선택\n",
    "+ filter : 조건 검색\n",
    "+ where : 고급 조건 검색\n",
    "+ orderBy : 정렬\n",
    "+ groupBy : 그룹"
   ]
  },
  {
   "cell_type": "markdown",
   "id": "da5b9de2-1344-4537-8a5b-0e2fc45d7ec1",
   "metadata": {},
   "source": [
    "#### 모든 사원의 이름 조회"
   ]
  },
  {
   "cell_type": "code",
   "execution_count": 39,
   "id": "499a668e-710f-4b7f-bbd4-f35c08c11a14",
   "metadata": {},
   "outputs": [
    {
     "name": "stdout",
     "output_type": "stream",
     "text": [
      "+----------+---------+\n",
      "|FIRST_NAME|LAST_NAME|\n",
      "+----------+---------+\n",
      "|    Steven|     King|\n",
      "|     Neena|  Kochhar|\n",
      "|       Lex|  De Haan|\n",
      "| Alexander|   Hunold|\n",
      "|     Bruce|    Ernst|\n",
      "+----------+---------+\n",
      "only showing top 5 rows\n",
      "\n"
     ]
    }
   ],
   "source": [
    "emp.select(['FIRST_NAME', 'LAST_NAME']).show(5)"
   ]
  },
  {
   "cell_type": "markdown",
   "id": "d81f057a-fc00-4560-a66a-e3f3481298ac",
   "metadata": {},
   "source": [
    "#### 급여가 7000 이상 사원 검색"
   ]
  },
  {
   "cell_type": "code",
   "execution_count": 40,
   "id": "f551296a-8f0e-4438-b7cd-ebfe7b50a523",
   "metadata": {},
   "outputs": [
    {
     "name": "stdout",
     "output_type": "stream",
     "text": [
      "+-----------+----------+---------+--------+------------+-------------------+-------+------+--------------+----------+-------------+\n",
      "|EMPLOYEE_ID|FIRST_NAME|LAST_NAME|   EMAIL|PHONE_NUMBER|          HIRE_DATE| JOB_ID|SALARY|COMMISSION_PCT|MANAGER_ID|DEPARTMENT_ID|\n",
      "+-----------+----------+---------+--------+------------+-------------------+-------+------+--------------+----------+-------------+\n",
      "|        100|    Steven|     King|   SKING|515.123.4567|2003-06-17 00:00:00|AD_PRES| 24000|          null|      null|           90|\n",
      "|        101|     Neena|  Kochhar|NKOCHHAR|515.123.4568|2005-09-21 00:00:00|  AD_VP| 17000|          null|       100|           90|\n",
      "|        102|       Lex|  De Haan| LDEHAAN|515.123.4569|2001-01-13 00:00:00|  AD_VP| 17000|          null|       100|           90|\n",
      "|        103| Alexander|   Hunold| AHUNOLD|590.423.4567|2006-01-03 00:00:00|IT_PROG|  9000|          null|       102|           60|\n",
      "|        108|     Nancy|Greenberg|NGREENBE|515.124.4569|2002-08-17 00:00:00| FI_MGR| 12008|          null|       101|          100|\n",
      "+-----------+----------+---------+--------+------------+-------------------+-------+------+--------------+----------+-------------+\n",
      "only showing top 5 rows\n",
      "\n"
     ]
    }
   ],
   "source": [
    "emp.filter(emp['SALARY'] >= 7000).show(5)"
   ]
  },
  {
   "cell_type": "markdown",
   "id": "f77632a0-405f-43d7-9710-ff0360a3b49d",
   "metadata": {},
   "source": [
    "#### 급여가 7000 이상 사원 수 검색"
   ]
  },
  {
   "cell_type": "code",
   "execution_count": 46,
   "id": "ca9d1d57-d58d-45f5-be02-eb51ba4d68a7",
   "metadata": {},
   "outputs": [
    {
     "data": {
      "text/plain": [
       "47"
      ]
     },
     "execution_count": 46,
     "metadata": {},
     "output_type": "execute_result"
    }
   ],
   "source": [
    "emp.filter(emp['SALARY'] >= 7000).count()"
   ]
  },
  {
   "cell_type": "markdown",
   "id": "1ffd12ee-7e4b-4705-a237-37417f051ca5",
   "metadata": {},
   "source": [
    "#### 2006-02-05 ~ 2006-11-15 피고용사원 조회"
   ]
  },
  {
   "cell_type": "code",
   "execution_count": 48,
   "id": "98b5f9b2-f367-4137-b460-026fd36920ec",
   "metadata": {},
   "outputs": [
    {
     "name": "stdout",
     "output_type": "stream",
     "text": [
      "+-----------+-----------+-----------+--------+------------+-------------------+----------+------+--------------+----------+-------------+\n",
      "|EMPLOYEE_ID| FIRST_NAME|  LAST_NAME|   EMAIL|PHONE_NUMBER|          HIRE_DATE|    JOB_ID|SALARY|COMMISSION_PCT|MANAGER_ID|DEPARTMENT_ID|\n",
      "+-----------+-----------+-----------+--------+------------+-------------------+----------+------+--------------+----------+-------------+\n",
      "|        106|      Valli|  Pataballa|VPATABAL|590.423.4560|2006-02-05 00:00:00|   IT_PROG|  4800|          null|       103|           60|\n",
      "|        112|Jose Manuel|      Urman| JMURMAN|515.124.4469|2006-03-07 00:00:00|FI_ACCOUNT|  7800|          null|       108|          100|\n",
      "|        126|      Irene|Mikkilineni|IMIKKILI|650.124.1224|2006-09-28 00:00:00|  ST_CLERK|  2700|          null|       120|           50|\n",
      "|        134|    Michael|     Rogers| MROGERS|650.127.1834|2006-08-26 00:00:00|  ST_CLERK|  2900|          null|       122|           50|\n",
      "|        139|       John|        Seo|    JSEO|650.121.2019|2006-02-12 00:00:00|  ST_CLERK|  2700|          null|       123|           50|\n",
      "+-----------+-----------+-----------+--------+------------+-------------------+----------+------+--------------+----------+-------------+\n",
      "only showing top 5 rows\n",
      "\n"
     ]
    }
   ],
   "source": [
    "emp.filter(emp['HIRE_DATE'] >= '2006-02-05').filter(emp['HIRE_DATE'] <= '2006-11-15').show(5)"
   ]
  },
  {
   "cell_type": "code",
   "execution_count": 49,
   "id": "891e348c-10b8-450d-ba78-82c62d29e745",
   "metadata": {},
   "outputs": [
    {
     "name": "stdout",
     "output_type": "stream",
     "text": [
      "+-----------+-----------+-----------+--------+------------+-------------------+----------+------+--------------+----------+-------------+\n",
      "|EMPLOYEE_ID| FIRST_NAME|  LAST_NAME|   EMAIL|PHONE_NUMBER|          HIRE_DATE|    JOB_ID|SALARY|COMMISSION_PCT|MANAGER_ID|DEPARTMENT_ID|\n",
      "+-----------+-----------+-----------+--------+------------+-------------------+----------+------+--------------+----------+-------------+\n",
      "|        106|      Valli|  Pataballa|VPATABAL|590.423.4560|2006-02-05 00:00:00|   IT_PROG|  4800|          null|       103|           60|\n",
      "|        112|Jose Manuel|      Urman| JMURMAN|515.124.4469|2006-03-07 00:00:00|FI_ACCOUNT|  7800|          null|       108|          100|\n",
      "|        126|      Irene|Mikkilineni|IMIKKILI|650.124.1224|2006-09-28 00:00:00|  ST_CLERK|  2700|          null|       120|           50|\n",
      "|        134|    Michael|     Rogers| MROGERS|650.127.1834|2006-08-26 00:00:00|  ST_CLERK|  2900|          null|       122|           50|\n",
      "|        139|       John|        Seo|    JSEO|650.121.2019|2006-02-12 00:00:00|  ST_CLERK|  2700|          null|       123|           50|\n",
      "+-----------+-----------+-----------+--------+------------+-------------------+----------+------+--------------+----------+-------------+\n",
      "only showing top 5 rows\n",
      "\n"
     ]
    }
   ],
   "source": [
    "emp.where((emp['HIRE_DATE'] >= '2006-02-05') & (emp['HIRE_DATE'] <= '2006-11-15')).show(5)"
   ]
  },
  {
   "cell_type": "code",
   "execution_count": 4,
   "id": "6ff8f2b3-7cea-4bd5-b526-73738823cc3c",
   "metadata": {},
   "outputs": [
    {
     "name": "stdout",
     "output_type": "stream",
     "text": [
      "+-----------+-----------+-----------+--------+------------+-------------------+----------+------+--------------+----------+-------------+\n",
      "|EMPLOYEE_ID| FIRST_NAME|  LAST_NAME|   EMAIL|PHONE_NUMBER|          HIRE_DATE|    JOB_ID|SALARY|COMMISSION_PCT|MANAGER_ID|DEPARTMENT_ID|\n",
      "+-----------+-----------+-----------+--------+------------+-------------------+----------+------+--------------+----------+-------------+\n",
      "|        106|      Valli|  Pataballa|VPATABAL|590.423.4560|2006-02-05 00:00:00|   IT_PROG|  4800|          null|       103|           60|\n",
      "|        112|Jose Manuel|      Urman| JMURMAN|515.124.4469|2006-03-07 00:00:00|FI_ACCOUNT|  7800|          null|       108|          100|\n",
      "|        126|      Irene|Mikkilineni|IMIKKILI|650.124.1224|2006-09-28 00:00:00|  ST_CLERK|  2700|          null|       120|           50|\n",
      "|        134|    Michael|     Rogers| MROGERS|650.127.1834|2006-08-26 00:00:00|  ST_CLERK|  2900|          null|       122|           50|\n",
      "|        139|       John|        Seo|    JSEO|650.121.2019|2006-02-12 00:00:00|  ST_CLERK|  2700|          null|       123|           50|\n",
      "+-----------+-----------+-----------+--------+------------+-------------------+----------+------+--------------+----------+-------------+\n",
      "only showing top 5 rows\n",
      "\n"
     ]
    }
   ],
   "source": [
    "emp.filter((emp['HIRE_DATE'] >= '2006-02-05') & (emp['HIRE_DATE'] <= '2006-11-15')).show(5)"
   ]
  },
  {
   "cell_type": "markdown",
   "id": "7af7713b-506d-43ec-bbb8-e00d035b15cb",
   "metadata": {},
   "source": [
    "#### 부서번호별 사원수 조회"
   ]
  },
  {
   "cell_type": "code",
   "execution_count": 5,
   "id": "2b60a8bd-21d9-43b8-9d0b-bc8dc0292929",
   "metadata": {},
   "outputs": [
    {
     "name": "stderr",
     "output_type": "stream",
     "text": [
      "                                                                                \r"
     ]
    },
    {
     "name": "stdout",
     "output_type": "stream",
     "text": [
      "+-------------+-----+\n",
      "|DEPARTMENT_ID|count|\n",
      "+-------------+-----+\n",
      "|         null|    1|\n",
      "|           20|    2|\n",
      "|           40|    1|\n",
      "|          100|    6|\n",
      "|           10|    1|\n",
      "|           50|   45|\n",
      "|           80|   34|\n",
      "|           70|    1|\n",
      "|           90|    3|\n",
      "|           60|    5|\n",
      "|          110|    2|\n",
      "|           30|    6|\n",
      "+-------------+-----+\n",
      "\n"
     ]
    },
    {
     "name": "stderr",
     "output_type": "stream",
     "text": [
      "                                                                                \r"
     ]
    }
   ],
   "source": [
    "emp.groupBy('DEPARTMENT_ID').count().show()"
   ]
  },
  {
   "cell_type": "markdown",
   "id": "cee60542-ad9c-4748-a2e8-efd4411be037",
   "metadata": {},
   "source": [
    "#### 직책별 사원수 조회"
   ]
  },
  {
   "cell_type": "code",
   "execution_count": 6,
   "id": "2b44f202-518f-40c3-9ca8-86b698d485fa",
   "metadata": {},
   "outputs": [
    {
     "name": "stderr",
     "output_type": "stream",
     "text": [
      "                                                                                \r"
     ]
    },
    {
     "name": "stdout",
     "output_type": "stream",
     "text": [
      "+----------+-----+\n",
      "|    JOB_ID|count|\n",
      "+----------+-----+\n",
      "|FI_ACCOUNT|    5|\n",
      "|    MK_MAN|    1|\n",
      "|   IT_PROG|    5|\n",
      "|    FI_MGR|    1|\n",
      "|AC_ACCOUNT|    1|\n",
      "|    HR_REP|    1|\n",
      "|  PU_CLERK|    5|\n",
      "|    AC_MGR|    1|\n",
      "|    PR_REP|    1|\n",
      "|    ST_MAN|    5|\n",
      "|    MK_REP|    1|\n",
      "|    SA_REP|   30|\n",
      "|    SA_MAN|    5|\n",
      "|    PU_MAN|    1|\n",
      "|  SH_CLERK|   20|\n",
      "|   AD_PRES|    1|\n",
      "|  ST_CLERK|   20|\n",
      "|   AD_ASST|    1|\n",
      "|     AD_VP|    2|\n",
      "+----------+-----+\n",
      "\n"
     ]
    }
   ],
   "source": [
    "emp.groupBy('JOB_ID').count().show()"
   ]
  },
  {
   "cell_type": "markdown",
   "id": "b0c659ba-adb4-4d3c-8f30-ee4f14e0a1b5",
   "metadata": {},
   "source": [
    "#### 부서번호별 사원수 조회후 부서번호 순으로 정렬"
   ]
  },
  {
   "cell_type": "code",
   "execution_count": 7,
   "id": "c6ccafb5-06d8-4d41-9fb1-dd24dca997a0",
   "metadata": {},
   "outputs": [
    {
     "name": "stderr",
     "output_type": "stream",
     "text": [
      "[Stage 24:=====================================================>(197 + 1) / 200]"
     ]
    },
    {
     "name": "stdout",
     "output_type": "stream",
     "text": [
      "+-------------+-----+\n",
      "|DEPARTMENT_ID|count|\n",
      "+-------------+-----+\n",
      "|         null|    1|\n",
      "|           10|    1|\n",
      "|           20|    2|\n",
      "|           30|    6|\n",
      "|           40|    1|\n",
      "|           50|   45|\n",
      "|           60|    5|\n",
      "|           70|    1|\n",
      "|           80|   34|\n",
      "|           90|    3|\n",
      "|          100|    6|\n",
      "|          110|    2|\n",
      "+-------------+-----+\n",
      "\n"
     ]
    },
    {
     "name": "stderr",
     "output_type": "stream",
     "text": [
      "                                                                                \r"
     ]
    }
   ],
   "source": [
    "emp.groupBy('DEPARTMENT_ID').count().orderBy('DEPARTMENT_ID').show()"
   ]
  },
  {
   "cell_type": "markdown",
   "id": "48078ba1-1359-410b-b449-d2399d8ed24e",
   "metadata": {},
   "source": [
    "#### 직책별 사원수 조회후 직책 순으로 정렬"
   ]
  },
  {
   "cell_type": "code",
   "execution_count": null,
   "id": "58cc395a-41df-477f-aed4-0f9881237c91",
   "metadata": {},
   "outputs": [],
   "source": [
    "emp.groupBy('JOB_ID').count().orderBy('JOB_ID').show()"
   ]
  },
  {
   "cell_type": "markdown",
   "id": "d1f70dcb-3ac0-4bf6-91b0-55d865588265",
   "metadata": {},
   "source": [
    "#### 직책별 사원수 조회후 직책 순으로 내림정렬"
   ]
  },
  {
   "cell_type": "code",
   "execution_count": null,
   "id": "001d9f47-a90d-4fef-8e4a-6fecdec5df9d",
   "metadata": {},
   "outputs": [],
   "source": [
    "emp.groupBy('JOB_ID').count().orderBy('count', ascending=False).show()"
   ]
  },
  {
   "cell_type": "markdown",
   "id": "c077ed26-66e8-452f-9082-e834e98b505b",
   "metadata": {},
   "source": [
    "#### 집계함수 사용하기\n",
    "+ agg(집계함수명)"
   ]
  },
  {
   "cell_type": "code",
   "execution_count": 8,
   "id": "7adc5184-dc6e-4415-b3b2-d6d2e9711e21",
   "metadata": {},
   "outputs": [],
   "source": [
    "from pyspark.sql import functions as F"
   ]
  },
  {
   "cell_type": "markdown",
   "id": "b9613f6f-1cfd-4962-be26-143f26b6b18c",
   "metadata": {},
   "source": [
    "#### 직책별 평균 급여 조회"
   ]
  },
  {
   "cell_type": "markdown",
   "id": "0b81927c-a5e9-4943-b526-4697d18a21e0",
   "metadata": {},
   "source": [
    "#### 단  평균급여 컬럼의 이름에 함수명이 포함되어 출력"
   ]
  },
  {
   "cell_type": "code",
   "execution_count": 9,
   "id": "bd898dea-cd7b-4ad7-b782-5597c8582758",
   "metadata": {},
   "outputs": [
    {
     "data": {
      "text/plain": [
       "DataFrame[JOB_ID: string, avg(SALARY): double]"
      ]
     },
     "execution_count": 9,
     "metadata": {},
     "output_type": "execute_result"
    }
   ],
   "source": [
    "emp.groupBy('JOB_ID').agg(F.avg('SALARY'))"
   ]
  },
  {
   "cell_type": "code",
   "execution_count": 15,
   "id": "387df697-d7d9-46fe-b679-9e3385d4b58e",
   "metadata": {},
   "outputs": [
    {
     "ename": "NameError",
     "evalue": "name 'rs' is not defined",
     "output_type": "error",
     "traceback": [
      "\u001b[0;31m---------------------------------------------------------------------------\u001b[0m",
      "\u001b[0;31mNameError\u001b[0m                                 Traceback (most recent call last)",
      "\u001b[0;32m/tmp/ipykernel_8182/62537135.py\u001b[0m in \u001b[0;36m<module>\u001b[0;34m\u001b[0m\n\u001b[0;32m----> 1\u001b[0;31m \u001b[0mrs\u001b[0m\u001b[0;34m.\u001b[0m\u001b[0mshow\u001b[0m\u001b[0;34m(\u001b[0m\u001b[0;34m)\u001b[0m\u001b[0;34m\u001b[0m\u001b[0;34m\u001b[0m\u001b[0m\n\u001b[0m",
      "\u001b[0;31mNameError\u001b[0m: name 'rs' is not defined"
     ]
    }
   ],
   "source": [
    "rs.show()"
   ]
  },
  {
   "cell_type": "code",
   "execution_count": 16,
   "id": "aa20f689-5126-4233-affa-de5894b0ef86",
   "metadata": {},
   "outputs": [
    {
     "ename": "NameError",
     "evalue": "name 'rs' is not defined",
     "output_type": "error",
     "traceback": [
      "\u001b[0;31m---------------------------------------------------------------------------\u001b[0m",
      "\u001b[0;31mNameError\u001b[0m                                 Traceback (most recent call last)",
      "\u001b[0;32m/tmp/ipykernel_8182/554839237.py\u001b[0m in \u001b[0;36m<module>\u001b[0;34m\u001b[0m\n\u001b[0;32m----> 1\u001b[0;31m \u001b[0mrs\u001b[0m\u001b[0;34m.\u001b[0m\u001b[0morderBy\u001b[0m\u001b[0;34m(\u001b[0m\u001b[0;34m'avg(SALARY)'\u001b[0m\u001b[0;34m,\u001b[0m \u001b[0mascending\u001b[0m\u001b[0;34m=\u001b[0m\u001b[0;32mFalse\u001b[0m\u001b[0;34m)\u001b[0m\u001b[0;34m.\u001b[0m\u001b[0mshow\u001b[0m\u001b[0;34m(\u001b[0m\u001b[0;34m)\u001b[0m\u001b[0;34m\u001b[0m\u001b[0;34m\u001b[0m\u001b[0m\n\u001b[0m",
      "\u001b[0;31mNameError\u001b[0m: name 'rs' is not defined"
     ]
    }
   ],
   "source": [
    "rs.orderBy('avg(SALARY)', ascending=False).show()"
   ]
  },
  {
   "cell_type": "markdown",
   "id": "c601fd36-dca2-4b33-98ec-78ef929dac6c",
   "metadata": {},
   "source": [
    "#### 직책별 평균 급여를 조회에서 내림차순으로 정렬 (별칭부여 : alias)"
   ]
  },
  {
   "cell_type": "code",
   "execution_count": null,
   "id": "ba270cdb-feed-44ea-a556-23aa9b83247a",
   "metadata": {},
   "outputs": [],
   "source": [
    "emp.groupBy('JOB_ID').agg(F.avg('SALARY').alias('mean sal'))"
   ]
  },
  {
   "cell_type": "code",
   "execution_count": null,
   "id": "ab435d81-18d4-43ca-a811-0235629641d6",
   "metadata": {},
   "outputs": [],
   "source": [
    "rs.orderBy('mean sal', ascending=False).show()"
   ]
  },
  {
   "cell_type": "code",
   "execution_count": null,
   "id": "5be67332-df10-424f-b00b-8a1face818d0",
   "metadata": {},
   "outputs": [],
   "source": []
  },
  {
   "cell_type": "markdown",
   "id": "fffa2fb3-0856-47ab-9e1c-4440e9134b97",
   "metadata": {},
   "source": [
    "#### 사원들 직책 모두 출력 단 중복없이 하나씩만 표시"
   ]
  },
  {
   "cell_type": "code",
   "execution_count": 19,
   "id": "3b41f78c-a020-432f-be1a-e5de90d8c6ad",
   "metadata": {},
   "outputs": [
    {
     "name": "stderr",
     "output_type": "stream",
     "text": [
      "                                                                                \r"
     ]
    },
    {
     "name": "stdout",
     "output_type": "stream",
     "text": [
      "+----------+\n",
      "|    JOB_ID|\n",
      "+----------+\n",
      "|FI_ACCOUNT|\n",
      "|    MK_MAN|\n",
      "|   IT_PROG|\n",
      "|    FI_MGR|\n",
      "|AC_ACCOUNT|\n",
      "|    HR_REP|\n",
      "|  PU_CLERK|\n",
      "|    AC_MGR|\n",
      "|    PR_REP|\n",
      "|    ST_MAN|\n",
      "|    MK_REP|\n",
      "|    SA_REP|\n",
      "|    SA_MAN|\n",
      "|    PU_MAN|\n",
      "|  SH_CLERK|\n",
      "|   AD_PRES|\n",
      "|  ST_CLERK|\n",
      "|   AD_ASST|\n",
      "|     AD_VP|\n",
      "+----------+\n",
      "\n"
     ]
    }
   ],
   "source": [
    "emp.select('JOB_ID').distinct().show()"
   ]
  },
  {
   "cell_type": "markdown",
   "id": "848a67b3-2185-4be9-ab29-c3f6ac79a878",
   "metadata": {},
   "source": [
    "#### 모든 직책 수는"
   ]
  },
  {
   "cell_type": "code",
   "execution_count": 21,
   "id": "f63ce2ae-4c87-4bc0-91b3-2520b3878be0",
   "metadata": {},
   "outputs": [
    {
     "name": "stderr",
     "output_type": "stream",
     "text": [
      "                                                                                \r"
     ]
    },
    {
     "data": {
      "text/plain": [
       "19"
      ]
     },
     "execution_count": 21,
     "metadata": {},
     "output_type": "execute_result"
    }
   ],
   "source": [
    "emp.select('JOB_ID').distinct().count()"
   ]
  },
  {
   "cell_type": "code",
   "execution_count": 22,
   "id": "1d6f96cd-db40-4f16-acd2-f3aade411bd4",
   "metadata": {},
   "outputs": [
    {
     "data": {
      "text/plain": [
       "DataFrame[JOB_ID: bigint]"
      ]
     },
     "execution_count": 22,
     "metadata": {},
     "output_type": "execute_result"
    }
   ],
   "source": [
    "emp.select(F.countDistinct('JOB_ID').alias('JOB_ID'))"
   ]
  },
  {
   "cell_type": "markdown",
   "id": "604f8bac-c56a-48a1-9f00-dad9f488b288",
   "metadata": {},
   "source": [
    "#### 사원의 이름직책급여 출력 5% 인상한 급여도 같이"
   ]
  },
  {
   "cell_type": "code",
   "execution_count": 23,
   "id": "6f72e95a-4be9-4bf7-bd0d-157d93a557d3",
   "metadata": {},
   "outputs": [
    {
     "name": "stdout",
     "output_type": "stream",
     "text": [
      "+-----------+----------+------+--------+\n",
      "| FIRST_NAME|    JOB_ID|SALARY|105% sal|\n",
      "+-----------+----------+------+--------+\n",
      "|     Steven|   AD_PRES| 24000| 25200.0|\n",
      "|      Neena|     AD_VP| 17000| 17850.0|\n",
      "|        Lex|     AD_VP| 17000| 17850.0|\n",
      "|  Alexander|   IT_PROG|  9000|  9450.0|\n",
      "|      Bruce|   IT_PROG|  6000|  6300.0|\n",
      "|      David|   IT_PROG|  4800|  5040.0|\n",
      "|      Valli|   IT_PROG|  4800|  5040.0|\n",
      "|      Diana|   IT_PROG|  4200|  4410.0|\n",
      "|      Nancy|    FI_MGR| 12008| 12608.4|\n",
      "|     Daniel|FI_ACCOUNT|  9000|  9450.0|\n",
      "|       John|FI_ACCOUNT|  8200|  8610.0|\n",
      "|     Ismael|FI_ACCOUNT|  7700|  8085.0|\n",
      "|Jose Manuel|FI_ACCOUNT|  7800|  8190.0|\n",
      "|       Luis|FI_ACCOUNT|  6900|  7245.0|\n",
      "|        Den|    PU_MAN| 11000| 11550.0|\n",
      "|  Alexander|  PU_CLERK|  3100|  3255.0|\n",
      "|     Shelli|  PU_CLERK|  2900|  3045.0|\n",
      "|      Sigal|  PU_CLERK|  2800|  2940.0|\n",
      "|        Guy|  PU_CLERK|  2600|  2730.0|\n",
      "|      Karen|  PU_CLERK|  2500|  2625.0|\n",
      "+-----------+----------+------+--------+\n",
      "only showing top 20 rows\n",
      "\n"
     ]
    }
   ],
   "source": [
    "emp.select('FIRST_NAME', 'JOB_ID', 'SALARY', (emp.SALARY * 1.05).alias('105% sal')).show()"
   ]
  },
  {
   "cell_type": "markdown",
   "id": "02e674b2-fa04-462d-b1f6-b8012e62cd85",
   "metadata": {},
   "source": [
    "#### 20번 또는 50번 부서, 급여 5000~12000 사이 사원들 LAST_NAME 및 급여 조회"
   ]
  },
  {
   "cell_type": "code",
   "execution_count": 24,
   "id": "2d2062b4-84e5-4d52-9ada-99db192d6fa6",
   "metadata": {},
   "outputs": [
    {
     "name": "stdout",
     "output_type": "stream",
     "text": [
      "+---------+------+\n",
      "|LAST_NAME|SALARY|\n",
      "+---------+------+\n",
      "|  Mourgos|  5800|\n",
      "|      Fay|  6000|\n",
      "|  Vollman|  6500|\n",
      "| Kaufling|  7900|\n",
      "|    Weiss|  8000|\n",
      "+---------+------+\n",
      "only showing top 5 rows\n",
      "\n"
     ]
    }
   ],
   "source": [
    "emp.filter((emp.SALARY>= 5000) & (emp.SALARY <= 12000)).filter((emp.DEPARTMENT_ID == 20) | (emp.DEPARTMENT_ID == 50)).select('LAST_NAME', 'SALARY')\\\n",
    ".orderBy('SALARY').show(5)"
   ]
  },
  {
   "cell_type": "code",
   "execution_count": null,
   "id": "ce90ffa1-347b-4cda-a467-28dc5634833f",
   "metadata": {},
   "outputs": [],
   "source": []
  },
  {
   "cell_type": "code",
   "execution_count": null,
   "id": "d474fd9a-e48d-4d9b-b815-d37b392b91d8",
   "metadata": {},
   "outputs": [],
   "source": []
  },
  {
   "cell_type": "code",
   "execution_count": null,
   "id": "34f95f21-fbe4-4cac-9a04-64301debf0ce",
   "metadata": {},
   "outputs": [],
   "source": []
  }
 ],
 "metadata": {
  "kernelspec": {
   "display_name": "Python 3 (ipykernel)",
   "language": "python",
   "name": "python3"
  },
  "language_info": {
   "codemirror_mode": {
    "name": "ipython",
    "version": 3
   },
   "file_extension": ".py",
   "mimetype": "text/x-python",
   "name": "python",
   "nbconvert_exporter": "python",
   "pygments_lexer": "ipython3",
   "version": "3.7.10"
  }
 },
 "nbformat": 4,
 "nbformat_minor": 5
}
