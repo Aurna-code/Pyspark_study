{
 "cells": [
  {
   "cell_type": "markdown",
   "id": "3a0b0a9e-0260-413f-b030-0c213b2cc605",
   "metadata": {},
   "source": [
    "### 파이썬으로 json 다루기\n",
    "* javascript object notation\n",
    "* 자바스크립트에서 객체를 표현하는 방식을 이용해 각종 프로그래밍 언어에서 데이터를 표현함\n",
    "* 예전에는 csv, xml로 데이터를 표현했다면 지금은 json으로 거의 대부분 이용해서 표현\n",
    "* NoSQL 데이터베이스 중에서 MongoDB나 neo4j 역시 데이터를 다룰 때에는 json 형식을 주로 사용\n",
    "* json은 파이썬의 dict 자료형과 유사 \n",
    "    + [{'키':'값, {...}, {...}]\n",
    "    + { 'userid':'abc123', 'passwd':'987xyz', 'email':'abc123@xyz987.com'}\n",
    "\n"
   ]
  },
  {
   "cell_type": "code",
   "execution_count": 5,
   "id": "e4e8c96f-fef1-4150-8ed3-79202c0adf8c",
   "metadata": {},
   "outputs": [],
   "source": [
    "# xml 표기법\n",
    "    # <data>\n",
    "    #   <userid>abc123</userid>\n",
    "    #   <passwd>987xyz</passwd>\n",
    "    #   <email>abc123@xyz987.com</email>\n",
    "    # </data>\n",
    "    "
   ]
  },
  {
   "cell_type": "markdown",
   "id": "b4f8355b-291e-425e-9b8e-f647dea24acd",
   "metadata": {},
   "source": [
    "#### 파이썬에서 json 내장객체 초기화\n"
   ]
  },
  {
   "cell_type": "code",
   "execution_count": 3,
   "id": "8bcf6be0-9818-45ca-b140-6c52c02a96da",
   "metadata": {},
   "outputs": [],
   "source": [
    "import json"
   ]
  },
  {
   "cell_type": "markdown",
   "id": "aa2755e6-ae27-4555-815b-b6104fe10f1f",
   "metadata": {},
   "source": [
    "#### JSON 파일을 만들기 위해 사전dict형 객체 생성"
   ]
  },
  {
   "cell_type": "code",
   "execution_count": 4,
   "id": "9912af21-92e6-45d5-84c8-63e99fd15aa8",
   "metadata": {},
   "outputs": [],
   "source": [
    "from collections import OrderedDict"
   ]
  },
  {
   "cell_type": "markdown",
   "id": "ea8102c3-9e30-4c09-a89e-f50c5eb95a49",
   "metadata": {},
   "source": [
    "#### json 객체 생성 1- text 이용\n",
    "+ python의 dict처럼 정의"
   ]
  },
  {
   "cell_type": "code",
   "execution_count": 9,
   "id": "5df129f8-05c3-485b-8266-0b71802161e4",
   "metadata": {},
   "outputs": [],
   "source": [
    "member = { 'userid':'abc123', 'passwd':'987xyz', 'email':'abc123@xyz987.com'}"
   ]
  },
  {
   "cell_type": "code",
   "execution_count": 10,
   "id": "9605e75c-ac44-40c1-b2ec-310f2911415d",
   "metadata": {},
   "outputs": [
    {
     "name": "stdout",
     "output_type": "stream",
     "text": [
      "{'userid': 'abc123', 'passwd': '987xyz', 'email': 'abc123@xyz987.com'}\n"
     ]
    }
   ],
   "source": [
    "print(member)"
   ]
  },
  {
   "cell_type": "markdown",
   "id": "4e892b55-0547-4348-9f73-afbf3bb804b7",
   "metadata": {},
   "source": [
    "#### dumps 함수를 이용해서 파이썬에서 만든 dict 객체를 json 객체로 만들 수 있음"
   ]
  },
  {
   "cell_type": "code",
   "execution_count": 11,
   "id": "71831ce0-b535-46fa-a8fe-32bdbf018fce",
   "metadata": {},
   "outputs": [],
   "source": [
    "obj  = json.dumps(member)"
   ]
  },
  {
   "cell_type": "code",
   "execution_count": 12,
   "id": "83879088-a8bb-479e-8b54-70a3fe915e77",
   "metadata": {},
   "outputs": [
    {
     "name": "stdout",
     "output_type": "stream",
     "text": [
      "{\"userid\": \"abc123\", \"passwd\": \"987xyz\", \"email\": \"abc123@xyz987.com\"}\n"
     ]
    }
   ],
   "source": [
    "print(obj)"
   ]
  },
  {
   "cell_type": "markdown",
   "id": "c9301f8e-8b29-441f-8feb-b541effe9e25",
   "metadata": {},
   "source": [
    "#### indent 속성을 이용하면 json 객체를 보기좋게 출력"
   ]
  },
  {
   "cell_type": "code",
   "execution_count": 13,
   "id": "089a9494-71ae-41ed-9ac0-cc39b2737ceb",
   "metadata": {},
   "outputs": [
    {
     "name": "stdout",
     "output_type": "stream",
     "text": [
      "{\n",
      " \"userid\": \"abc123\",\n",
      " \"passwd\": \"987xyz\",\n",
      " \"email\": \"abc123@xyz987.com\"\n",
      "}\n"
     ]
    }
   ],
   "source": [
    "obj = json.dumps(member, indent=True)\n",
    "print(obj)"
   ]
  },
  {
   "cell_type": "markdown",
   "id": "bfc4012f-f4b0-48db-bc63-b146c7cd1466",
   "metadata": {},
   "source": [
    "#### 이름, 전화번호를 person이라는 json 객체로 생성 \n",
    "+ 속성값이 여러개일 경우 친구 list 추가\n",
    "+ 객체가 여러개 존재할 경우 dict로 정의"
   ]
  },
  {
   "cell_type": "code",
   "execution_count": 40,
   "id": "7d27a219-75f7-4bce-b85c-d57342343d61",
   "metadata": {},
   "outputs": [],
   "source": [
    "person1 = {'name' : '홍길동', 'phone' : '01045543392', 'friends' : ['혜교','지현','수지'], 'schools' : {'mid':'서울중학교', 'high':'서울고등학교'}}"
   ]
  },
  {
   "cell_type": "code",
   "execution_count": 41,
   "id": "43932830-c003-48d8-a0bf-352ffe5283fc",
   "metadata": {},
   "outputs": [
    {
     "name": "stdout",
     "output_type": "stream",
     "text": [
      "{\n",
      " \"name\": \"\\ud64d\\uae38\\ub3d9\",\n",
      " \"phone\": \"01045543392\",\n",
      " \"friends\": [\n",
      "  \"\\ud61c\\uad50\",\n",
      "  \"\\uc9c0\\ud604\",\n",
      "  \"\\uc218\\uc9c0\"\n",
      " ],\n",
      " \"schools\": {\n",
      "  \"mid\": \"\\uc11c\\uc6b8\\uc911\\ud559\\uad50\",\n",
      "  \"high\": \"\\uc11c\\uc6b8\\uace0\\ub4f1\\ud559\\uad50\"\n",
      " }\n",
      "}\n"
     ]
    }
   ],
   "source": [
    "person = json.dumps(person1, indent=True)\n",
    "print(person)"
   ]
  },
  {
   "cell_type": "markdown",
   "id": "87c99d9e-8a20-41eb-9a2e-c717805f4b0d",
   "metadata": {},
   "source": [
    "#### 한글의 경우 제대로 출력이 되지 않음. 따라서 강제 ascii 인코딩 중지 필요"
   ]
  },
  {
   "cell_type": "code",
   "execution_count": 42,
   "id": "3c7aae6a-dc89-46de-a7bd-18efa07c8247",
   "metadata": {},
   "outputs": [
    {
     "name": "stdout",
     "output_type": "stream",
     "text": [
      "{\n",
      " \"name\": \"홍길동\",\n",
      " \"phone\": \"01045543392\",\n",
      " \"friends\": [\n",
      "  \"혜교\",\n",
      "  \"지현\",\n",
      "  \"수지\"\n",
      " ],\n",
      " \"schools\": {\n",
      "  \"mid\": \"서울중학교\",\n",
      "  \"high\": \"서울고등학교\"\n",
      " }\n",
      "}\n"
     ]
    }
   ],
   "source": [
    "obj = json.dumps(person1, indent=True, ensure_ascii=False)\n",
    "print(obj)"
   ]
  },
  {
   "cell_type": "markdown",
   "id": "97cec9a1-f559-4293-b564-517db941b054",
   "metadata": {},
   "source": [
    "#### json 객체 생성 2 - OrderedDict 이용 - python dict보다 효율적"
   ]
  },
  {
   "cell_type": "code",
   "execution_count": 43,
   "id": "58aab96a-0852-4f8a-9b0d-1aeffd7b2ff4",
   "metadata": {},
   "outputs": [],
   "source": [
    "person2 = OrderedDict()"
   ]
  },
  {
   "cell_type": "code",
   "execution_count": 44,
   "id": "5b1cb6bd-3f00-4d70-9a85-de8717cfa869",
   "metadata": {},
   "outputs": [],
   "source": [
    "person2['name'] = '홍길동'\n",
    "person2['phone'] = '123-4567-9876'\n",
    "person2['friends'] = '혜교','지현','수지'\n"
   ]
  },
  {
   "cell_type": "code",
   "execution_count": 49,
   "id": "35db4168-518a-492a-aefe-c6a9002b0644",
   "metadata": {},
   "outputs": [],
   "source": [
    "schools = OrderedDict()\n",
    "schools['mid'] = '서울중학교'\n",
    "schools['high'] = '서울고등학교'"
   ]
  },
  {
   "cell_type": "code",
   "execution_count": 53,
   "id": "452aa585-2879-4277-9029-eb4c20628e3b",
   "metadata": {},
   "outputs": [],
   "source": [
    "person2['schools'] = schools"
   ]
  },
  {
   "cell_type": "code",
   "execution_count": 54,
   "id": "977128f2-999d-4604-8d2e-b2c26769f6e6",
   "metadata": {},
   "outputs": [
    {
     "name": "stdout",
     "output_type": "stream",
     "text": [
      "OrderedDict([('name', '홍길동'), ('phone', '123-4567-9876'), ('friends', ('혜교', '지현', '수지')), ('schools', OrderedDict([('mid', '서울중학교'), ('high', '서울고등학교')]))])\n"
     ]
    }
   ],
   "source": [
    "print(person2)"
   ]
  },
  {
   "cell_type": "code",
   "execution_count": 55,
   "id": "6926a90a-5065-425b-8fb6-4c0c7030c137",
   "metadata": {},
   "outputs": [
    {
     "name": "stdout",
     "output_type": "stream",
     "text": [
      "{\n",
      " \"name\": \"홍길동\",\n",
      " \"phone\": \"123-4567-9876\",\n",
      " \"friends\": [\n",
      "  \"혜교\",\n",
      "  \"지현\",\n",
      "  \"수지\"\n",
      " ],\n",
      " \"schools\": {\n",
      "  \"mid\": \"서울중학교\",\n",
      "  \"high\": \"서울고등학교\"\n",
      " }\n",
      "}\n"
     ]
    }
   ],
   "source": [
    "obj = json.dumps(person2, indent=True, ensure_ascii=False)\n",
    "print(obj)"
   ]
  },
  {
   "cell_type": "markdown",
   "id": "7d8ecf7e-8680-4828-b6c7-c4d4026e3e73",
   "metadata": {},
   "source": [
    "#### 메모리에 존재하는 json 객체를 파일로 저장\n",
    "+ dump(json객체, 파일객체, 옵션) "
   ]
  },
  {
   "cell_type": "code",
   "execution_count": 56,
   "id": "a851bebe-69a3-4ce2-bf1e-518cb006c09e",
   "metadata": {},
   "outputs": [],
   "source": [
    "with open('person.json', 'w', encoding='utf-8') as f:\n",
    "    json.dump(person1, f, ensure_ascii=False)"
   ]
  },
  {
   "cell_type": "markdown",
   "id": "ddecbb0b-847e-4a19-9959-cd09c9b08bcb",
   "metadata": {},
   "source": [
    "#### 파일에 생성된 json 객체를 메모리로 불러옴\n",
    "+ load(파일객체)"
   ]
  },
  {
   "cell_type": "code",
   "execution_count": 57,
   "id": "3a5bd73f-cb77-4216-854b-9503853eef1a",
   "metadata": {},
   "outputs": [
    {
     "name": "stdout",
     "output_type": "stream",
     "text": [
      "{'name': '홍길동', 'phone': '01045543392', 'friends': ['혜교', '지현', '수지'], 'schools': {'mid': '서울중학교', 'high': '서울고등학교'}}\n"
     ]
    }
   ],
   "source": [
    "with open('person.json', encoding='utf-8') as f:\n",
    "           person_data = json.load(f)\n",
    "print(person_data)"
   ]
  },
  {
   "cell_type": "code",
   "execution_count": null,
   "id": "02b1248f-cd04-4298-9201-680d836c92c6",
   "metadata": {},
   "outputs": [],
   "source": []
  },
  {
   "cell_type": "code",
   "execution_count": null,
   "id": "8c0008db-3020-4767-83ef-409c0dd93fb1",
   "metadata": {},
   "outputs": [],
   "source": []
  },
  {
   "cell_type": "code",
   "execution_count": null,
   "id": "f7459930-a581-499e-8fcb-cb0120e94ddc",
   "metadata": {},
   "outputs": [],
   "source": []
  },
  {
   "cell_type": "code",
   "execution_count": null,
   "id": "2d33616e-a914-4baf-8acb-e75c8087e72b",
   "metadata": {},
   "outputs": [],
   "source": []
  },
  {
   "cell_type": "code",
   "execution_count": null,
   "id": "0ae4d62a-6966-4f16-9780-f2a6f84c93e4",
   "metadata": {},
   "outputs": [],
   "source": []
  },
  {
   "cell_type": "code",
   "execution_count": null,
   "id": "dad2d1a5-39a6-4ccb-8003-b09fca04c185",
   "metadata": {},
   "outputs": [],
   "source": []
  },
  {
   "cell_type": "code",
   "execution_count": null,
   "id": "cbe5e647-f298-40a7-b952-69b399b419e7",
   "metadata": {},
   "outputs": [],
   "source": []
  }
 ],
 "metadata": {
  "kernelspec": {
   "display_name": "Python 3 (ipykernel)",
   "language": "python",
   "name": "python3"
  },
  "language_info": {
   "codemirror_mode": {
    "name": "ipython",
    "version": 3
   },
   "file_extension": ".py",
   "mimetype": "text/x-python",
   "name": "python",
   "nbconvert_exporter": "python",
   "pygments_lexer": "ipython3",
   "version": "3.7.10"
  }
 },
 "nbformat": 4,
 "nbformat_minor": 5
}
