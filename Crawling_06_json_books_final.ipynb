{
 "cells": [
  {
   "cell_type": "markdown",
   "id": "8140ff59-d42a-455a-86d2-b83ba1d1d840",
   "metadata": {},
   "source": [
    "#### yes24.com에서 베스트셀러 메뉴에서 도서명, 저자, 출판사, 가격을 추출해서 books.json으로 저장"
   ]
  },
  {
   "cell_type": "code",
   "execution_count": 51,
   "id": "5d266208-97df-4a19-a233-6c88bac46dab",
   "metadata": {},
   "outputs": [],
   "source": [
    "import json\n",
    "from collections import OrderedDict\n",
    "import re"
   ]
  },
  {
   "cell_type": "code",
   "execution_count": 52,
   "id": "d98a1fa3-23db-427d-be3d-4aed12f88e94",
   "metadata": {},
   "outputs": [],
   "source": [
    "import requests\n",
    "from bs4 import BeautifulSoup\n"
   ]
  },
  {
   "cell_type": "code",
   "execution_count": 53,
   "id": "87038eb3-559a-4b58-b2df-f518067ac14e",
   "metadata": {},
   "outputs": [],
   "source": [
    "url = 'http://www.yes24.com/24/Category/BestSeller'\n",
    "headers = {}"
   ]
  },
  {
   "cell_type": "code",
   "execution_count": 54,
   "id": "cfa5e7f4-5efe-4442-913c-02c46e407006",
   "metadata": {},
   "outputs": [],
   "source": [
    "res = requests.get(url, headers=headers)\n",
    "html = BeautifulSoup(res.text, 'lxml')"
   ]
  },
  {
   "cell_type": "code",
   "execution_count": 58,
   "id": "ccea7ac1-2873-438d-9755-9fee7d1c2330",
   "metadata": {},
   "outputs": [
    {
     "name": "stdout",
     "output_type": "stream",
     "text": [
      "200 ks_c_5601-1987 text/html; charset=ks_c_5601-1987\n"
     ]
    }
   ],
   "source": [
    "print(res.status_code, res.encoding, res.headers['content-type'])"
   ]
  },
  {
   "cell_type": "code",
   "execution_count": 55,
   "id": "0638e103-4c8a-4424-bd8a-d739bd4845dd",
   "metadata": {},
   "outputs": [
    {
     "data": {
      "text/plain": [
       "'\\r\\n\\t<!DOCTYPE HTML PUBLIC \"-//W3C//DTD HTML 4.01 Transitional//EN\">\\r\\n\\t<html>\\r\\n\\r\\n<head><base href=\"http://www.yes24.com/24/\" />\\r\\n\\t<meta http-equiv=\"X-UA-Compatible\" content=\"IE=Edge\" />\\r\\n\\t<meta http-equiv=\"Content-Type\" content=\"text/html;charset=euc-kr\" />\\r\\n\\t<meta http-equiv=\"Accept-CH\" content=\"dpr,'"
      ]
     },
     "execution_count": 55,
     "metadata": {},
     "output_type": "execute_result"
    }
   ],
   "source": [
    "res.text[:300]"
   ]
  },
  {
   "cell_type": "code",
   "execution_count": 154,
   "id": "51c9ca96-bd5f-41cf-b3b8-03206e11ae2f",
   "metadata": {},
   "outputs": [],
   "source": [
    "titles = []\n",
    "writers = []\n",
    "pubs = []\n",
    "prices = []"
   ]
  },
  {
   "cell_type": "code",
   "execution_count": 155,
   "id": "c6e4ac46-5295-458d-bbb4-bdee6ebe50e8",
   "metadata": {},
   "outputs": [
    {
     "name": "stdout",
     "output_type": "stream",
     "text": [
      " 트렌드 코리아 2022\n",
      " 설민석의 한국사 대모험 18\n",
      " 달러구트 꿈 백화점 2\n",
      " 방금 떠나온 세계\n",
      " 달러구트 꿈 백화점\n",
      " 인생은 실전이다\n",
      " 4~7세 보다 중요한 시기는 없습니다\n",
      " 그냥 하지 말라\n",
      " 갯마을 차차차 2\n",
      " 갯마을 차차차 1\n",
      " 햇빛은 찬란하고 인생은 귀하니까요\n",
      " 돈, 뜨겁게 사랑하고 차갑게 다루어라\n",
      " 듄 신장판 전집 세트\n",
      " 불편한 편의점\n",
      " 오늘 밤, 세계에서 이 사랑이 사라진다 해도\n",
      " 거꾸로 읽는 세계사\n",
      " 미드나잇 라이브러리\n",
      " 세금 내는 아이들\n",
      " 돈의 심리학\n",
      " 어떻게 말해줘야 할까\n",
      " 채사장의 지대넓얕 1 : 권력의 탄생\n",
      " 초등 사자소학\n",
      " 오은영의 화해\n",
      " 소크라테스 익스프레스\n",
      " 그리스 로마 신화 25\n",
      " 크리스마스 피그\n",
      " 해리 포터와 비밀의 방 : 미나리마 에디션\n",
      " 아들의 뇌\n",
      " 모든 것은 기본에서 시작한다\n",
      " 듄 신장판 1\n",
      " 공부의 본질 \n",
      " 양순이네 떡집\n",
      " 설민석의 세계사 대모험 10\n",
      " 작별하지 않는다\n",
      " 지금은 나만의 시간입니다\n",
      " 잘했고 잘하고 있고 잘 될 것이다\n",
      " 부자 아빠 가난한 아빠 20주년 특별 기념판\n",
      " 베서니와 괴물의 복수\n",
      "[만화] 열혈강호 84 \n",
      " 해커스 토익 기출 보카\n"
     ]
    }
   ],
   "source": [
    "for title in html.select('ol li p:nth-child(3)'):\n",
    "    title = re.sub('\\[도서\\]', '', title.text)\n",
    "    titles.append(title)\n",
    "    print(title)"
   ]
  },
  {
   "cell_type": "code",
   "execution_count": 156,
   "id": "96ea603a-449e-4a14-96dc-6aeaf194b234",
   "metadata": {},
   "outputs": [
    {
     "name": "stdout",
     "output_type": "stream",
     "text": [
      "이혜원,서울대학교 생활과학연구소 소비트렌드분석센터,한다혜,권정윤,서유현 저 외 6명\n",
      "스토리박스,설민석 글/정현희 그림/강석화 감수\n",
      "이미예 저\n",
      "김초엽 저\n",
      "이미예 저\n",
      "신영준,주언규(신사임당) 저\n",
      "이임숙 저\n",
      "송길영 저\n",
      "신하은 저\n",
      "신하은 저\n",
      "장명숙 저\n",
      "앙드레 코스톨라니 저\n",
      "프랭크 허버트 저/김승욱 역\n",
      "김호연 저\n",
      "이치조 미사키 저/권영주 역\n",
      "유시민 저\n",
      "매트 헤이그 저/노진선 역\n",
      "옥효진 글/김미연 그림\n",
      "모건 하우절 저/이지연 역\n",
      "오은영 저/차상미 그림\n",
      "채사장,마케마케 글/정용환 그림\n",
      "송재환 글/인호빵 그림\n",
      "오은영 저\n",
      "에릭 와이너 저/김하현 역\n",
      "박시연 글/최우빈 그림/김헌 감수\n",
      "J.K. 롤링 저/짐 필드 일러스트/공보경 역\n",
      "J.K. 롤링 저/미나리마 그림/강동혁 역\n",
      "곽윤정 저\n",
      "손웅정 저\n",
      "프랭크 허버트 저/김승욱 역\n",
      "이윤규 저\n",
      "김리리 글/김이랑 그림\n",
      "설민석,김정욱 글/박성일 그림/원태준 감수\n",
      "한강 저\n",
      "김유진 저\n",
      "정영욱 저\n",
      "로버트 기요사키 저/안진환 역\n",
      "잭 메기트-필립스 글/이사벨 폴라트 그림/김선희 역\n",
      "전극진 글/양재현 그림\n",
      "데이비드 조 저\n"
     ]
    }
   ],
   "source": [
    "for writer in html.select('p.aupu'):\n",
    "    writer = (writer.text.split('|')[0]).strip()\n",
    "    writers.append(writer)\n",
    "    print(writer)"
   ]
  },
  {
   "cell_type": "code",
   "execution_count": 157,
   "id": "9024ba17-9a45-48f4-a626-98d6bc949c9d",
   "metadata": {},
   "outputs": [
    {
     "name": "stdout",
     "output_type": "stream",
     "text": [
      "미래의창\n",
      "아이휴먼\n",
      "팩토리나인\n",
      "한겨레출판\n",
      "팩토리나인\n",
      "상상스퀘어\n",
      "카시오페아\n",
      "북스톤\n",
      "북로그컴퍼니\n",
      "북로그컴퍼니\n",
      "김영사\n",
      "미래의창\n",
      "황금가지\n",
      "나무옆의자\n",
      "모모\n",
      "돌베개\n",
      "인플루엔셜\n",
      "한국경제신문사(한경비피)\n",
      "인플루엔셜\n",
      "김영사\n",
      "돌핀북\n",
      "위즈덤하우스\n",
      "코리아닷컴(Korea.com)\n",
      "어크로스\n",
      "아울북\n",
      "문학수첩\n",
      "문학수첩\n",
      "포레스트북스\n",
      "수오서재\n",
      "황금가지\n",
      "빅피시\n",
      "비룡소\n",
      "단꿈아이\n",
      "문학동네\n",
      "토네이도\n",
      "부크럼\n",
      "민음인\n",
      "요요\n",
      "대원\n",
      "해커스어학연구소\n"
     ]
    }
   ],
   "source": [
    "for pub in html.select('p.aupu'):\n",
    "    pub = (pub.text.split('|')[1]).strip()\n",
    "    pubs.append(pub)\n",
    "    print(pub)"
   ]
  },
  {
   "cell_type": "code",
   "execution_count": 158,
   "id": "810c24ab-9c56-4e58-bde0-92287bacc15f",
   "metadata": {},
   "outputs": [
    {
     "name": "stdout",
     "output_type": "stream",
     "text": [
      "16200\n",
      "10800\n",
      "12420\n",
      "13500\n",
      "12420\n",
      "16650\n",
      "14400\n",
      "15300\n",
      "16200\n",
      "16200\n",
      "13320\n",
      "10800\n",
      "108000\n",
      "12600\n",
      "12600\n",
      "15750\n",
      "14220\n",
      "12600\n",
      "17820\n",
      "15750\n",
      "12600\n",
      "12420\n",
      "14400\n",
      "16200\n",
      "12600\n",
      "18000\n",
      "29700\n",
      "13500\n",
      "14400\n",
      "22500\n",
      "14850\n",
      "9900\n",
      "10800\n",
      "12600\n",
      "13500\n",
      "13500\n",
      "14220\n",
      "12600\n",
      "4050\n",
      "11610\n"
     ]
    }
   ],
   "source": [
    "for price in html.select('p.price'):\n",
    "    # price = re.sub(',','',price.text)\n",
    "    # price = re.sub('\\(.*?\\)', '', price)\n",
    "    # price = re.sub('원','', price).strip()\n",
    "    price = (price.text.split('원')[0]).strip()\n",
    "    price = re.sub(',','',price)\n",
    "    prices.append(price)\n",
    "    print(price)"
   ]
  },
  {
   "cell_type": "markdown",
   "id": "9709f535-1866-42c8-9ab4-66a86b2d0227",
   "metadata": {},
   "source": [
    "#### 스크래핑한 도서목록을 json 형식으로 재구성"
   ]
  },
  {
   "cell_type": "code",
   "execution_count": 159,
   "id": "ac32e08d-c51d-4c0b-bf5e-29f4bc8aef9a",
   "metadata": {},
   "outputs": [],
   "source": [
    "allbooks = OrderedDict()\n",
    "books = []"
   ]
  },
  {
   "cell_type": "code",
   "execution_count": 163,
   "id": "af84ab9a-4081-476f-ae9b-4520921f720b",
   "metadata": {},
   "outputs": [],
   "source": [
    "for i in range(len(title)):\n",
    "    book = OrderedDict()\n",
    "    book['title'] = titles[i]\n",
    "    book['writer'] = writers[i]\n",
    "    book['pub'] = pubs[i]\n",
    "    book['price'] = prices[i]\n",
    "    books.append(book)\n",
    "    \n",
    "allbooks['books'] = books    "
   ]
  },
  {
   "cell_type": "code",
   "execution_count": 167,
   "id": "4904b258-2212-4b68-877d-f530d0582422",
   "metadata": {},
   "outputs": [
    {
     "data": {
      "text/plain": [
       "[OrderedDict([('title', ' 트렌드 코리아 2022'),\n",
       "              ('writer', '이혜원,서울대학교 생활과학연구소 소비트렌드분석센터,한다혜,권정윤,서유현 저 외 6명'),\n",
       "              ('pub', '미래의창'),\n",
       "              ('price', '16200')]),\n",
       " OrderedDict([('title', ' 설민석의 한국사 대모험 18'),\n",
       "              ('writer', '스토리박스,설민석 글/정현희 그림/강석화 감수'),\n",
       "              ('pub', '아이휴먼'),\n",
       "              ('price', '10800')]),\n",
       " OrderedDict([('title', ' 달러구트 꿈 백화점 2'),\n",
       "              ('writer', '이미예 저'),\n",
       "              ('pub', '팩토리나인'),\n",
       "              ('price', '12420')]),\n",
       " OrderedDict([('title', ' 방금 떠나온 세계'),\n",
       "              ('writer', '김초엽 저'),\n",
       "              ('pub', '한겨레출판'),\n",
       "              ('price', '13500')]),\n",
       " OrderedDict([('title', ' 달러구트 꿈 백화점'),\n",
       "              ('writer', '이미예 저'),\n",
       "              ('pub', '팩토리나인'),\n",
       "              ('price', '12420')]),\n",
       " OrderedDict([('title', ' 인생은 실전이다'),\n",
       "              ('writer', '신영준,주언규(신사임당) 저'),\n",
       "              ('pub', '상상스퀘어'),\n",
       "              ('price', '16650')]),\n",
       " OrderedDict([('title', ' 4~7세 보다 중요한 시기는 없습니다'),\n",
       "              ('writer', '이임숙 저'),\n",
       "              ('pub', '카시오페아'),\n",
       "              ('price', '14400')]),\n",
       " OrderedDict([('title', ' 그냥 하지 말라'),\n",
       "              ('writer', '송길영 저'),\n",
       "              ('pub', '북스톤'),\n",
       "              ('price', '15300')]),\n",
       " OrderedDict([('title', ' 갯마을 차차차 2'),\n",
       "              ('writer', '신하은 저'),\n",
       "              ('pub', '북로그컴퍼니'),\n",
       "              ('price', '16200')]),\n",
       " OrderedDict([('title', ' 갯마을 차차차 1'),\n",
       "              ('writer', '신하은 저'),\n",
       "              ('pub', '북로그컴퍼니'),\n",
       "              ('price', '16200')]),\n",
       " OrderedDict([('title', ' 햇빛은 찬란하고 인생은 귀하니까요'),\n",
       "              ('writer', '장명숙 저'),\n",
       "              ('pub', '김영사'),\n",
       "              ('price', '13320')]),\n",
       " OrderedDict([('title', ' 돈, 뜨겁게 사랑하고 차갑게 다루어라'),\n",
       "              ('writer', '앙드레 코스톨라니 저'),\n",
       "              ('pub', '미래의창'),\n",
       "              ('price', '10800')]),\n",
       " OrderedDict([('title', ' 듄 신장판 전집 세트'),\n",
       "              ('writer', '프랭크 허버트 저/김승욱 역'),\n",
       "              ('pub', '황금가지'),\n",
       "              ('price', '108000')]),\n",
       " OrderedDict([('title', ' 트렌드 코리아 2022'),\n",
       "              ('writer', '이혜원,서울대학교 생활과학연구소 소비트렌드분석센터,한다혜,권정윤,서유현 저 외 6명'),\n",
       "              ('pub', '미래의창'),\n",
       "              ('price', '16200')]),\n",
       " OrderedDict([('title', ' 설민석의 한국사 대모험 18'),\n",
       "              ('writer', '스토리박스,설민석 글/정현희 그림/강석화 감수'),\n",
       "              ('pub', '아이휴먼'),\n",
       "              ('price', '10800')]),\n",
       " OrderedDict([('title', ' 달러구트 꿈 백화점 2'),\n",
       "              ('writer', '이미예 저'),\n",
       "              ('pub', '팩토리나인'),\n",
       "              ('price', '12420')]),\n",
       " OrderedDict([('title', ' 방금 떠나온 세계'),\n",
       "              ('writer', '김초엽 저'),\n",
       "              ('pub', '한겨레출판'),\n",
       "              ('price', '13500')]),\n",
       " OrderedDict([('title', ' 달러구트 꿈 백화점'),\n",
       "              ('writer', '이미예 저'),\n",
       "              ('pub', '팩토리나인'),\n",
       "              ('price', '12420')]),\n",
       " OrderedDict([('title', ' 인생은 실전이다'),\n",
       "              ('writer', '신영준,주언규(신사임당) 저'),\n",
       "              ('pub', '상상스퀘어'),\n",
       "              ('price', '16650')]),\n",
       " OrderedDict([('title', ' 4~7세 보다 중요한 시기는 없습니다'),\n",
       "              ('writer', '이임숙 저'),\n",
       "              ('pub', '카시오페아'),\n",
       "              ('price', '14400')]),\n",
       " OrderedDict([('title', ' 그냥 하지 말라'),\n",
       "              ('writer', '송길영 저'),\n",
       "              ('pub', '북스톤'),\n",
       "              ('price', '15300')]),\n",
       " OrderedDict([('title', ' 갯마을 차차차 2'),\n",
       "              ('writer', '신하은 저'),\n",
       "              ('pub', '북로그컴퍼니'),\n",
       "              ('price', '16200')]),\n",
       " OrderedDict([('title', ' 갯마을 차차차 1'),\n",
       "              ('writer', '신하은 저'),\n",
       "              ('pub', '북로그컴퍼니'),\n",
       "              ('price', '16200')]),\n",
       " OrderedDict([('title', ' 햇빛은 찬란하고 인생은 귀하니까요'),\n",
       "              ('writer', '장명숙 저'),\n",
       "              ('pub', '김영사'),\n",
       "              ('price', '13320')]),\n",
       " OrderedDict([('title', ' 돈, 뜨겁게 사랑하고 차갑게 다루어라'),\n",
       "              ('writer', '앙드레 코스톨라니 저'),\n",
       "              ('pub', '미래의창'),\n",
       "              ('price', '10800')]),\n",
       " OrderedDict([('title', ' 듄 신장판 전집 세트'),\n",
       "              ('writer', '프랭크 허버트 저/김승욱 역'),\n",
       "              ('pub', '황금가지'),\n",
       "              ('price', '108000')])]"
      ]
     },
     "execution_count": 167,
     "metadata": {},
     "output_type": "execute_result"
    }
   ],
   "source": [
    "books"
   ]
  },
  {
   "cell_type": "code",
   "execution_count": 173,
   "id": "a502c693-d374-4693-92bc-d1b578f006a2",
   "metadata": {},
   "outputs": [
    {
     "name": "stdout",
     "output_type": "stream",
     "text": [
      "[\n",
      "  {\n",
      "    \"title\": \" 트렌드 코리아 2022\",\n",
      "    \"writer\": \"이혜원,서울대학교 생활과학연구소 소비트렌드분석센터,한다혜,권정윤,서유현 저 외 6명\",\n",
      "    \"pub\": \"미래의창\",\n",
      "    \"price\": \"16200\"\n",
      "  },\n",
      "  {\n",
      "    \"title\": \" 설민석의 한국사 대모험 18\",\n",
      "    \"writer\": \"스토리박스,설민석 글/정현희 그림/강석화 감수\",\n",
      "    \"pub\": \"아이휴먼\",\n",
      "    \"price\": \"10800\"\n",
      "  },\n",
      "  {\n",
      "    \"title\": \" 달러구트 꿈 백화점 2\",\n",
      "    \"writer\": \"이미예 저\",\n",
      "    \"pub\": \"팩토리나인\",\n",
      "    \"price\": \"12420\"\n",
      "  },\n",
      "  {\n",
      "    \"title\": \" 방금 떠나온 세\n"
     ]
    }
   ],
   "source": [
    "print(json.dumps(books, indent=2, ensure_ascii=False)[:400])\n"
   ]
  },
  {
   "cell_type": "markdown",
   "id": "875116d1-d976-4936-b4e4-1e7ef7fac84a",
   "metadata": {},
   "source": [
    "#### allbooks로 한번 더 묶는 이유 : 나중에 문서를 만들 때 dict를 묶어주는 키 생성 "
   ]
  },
  {
   "cell_type": "code",
   "execution_count": 174,
   "id": "8bc8b625-a40f-4bab-bc47-7873201738e5",
   "metadata": {},
   "outputs": [
    {
     "name": "stdout",
     "output_type": "stream",
     "text": [
      "{\n",
      "  \"books\": [\n",
      "    {\n",
      "      \"title\": \" 트렌드 코리아 2022\",\n",
      "      \"writer\": \"이혜원,서울대학교 생활과학연구소 소비트렌드분석센터,한다혜,권정윤,서유현 저 외 6명\",\n",
      "      \"pub\": \"미래의창\",\n",
      "      \"price\": \"16200\"\n",
      "    },\n",
      "    {\n",
      "      \"title\": \" 설민석의 한국사 대모험 18\",\n",
      "      \"writer\": \"스토리박스,설민석 글/정현희 그림/강석화 감수\",\n",
      "      \"pub\": \"아이휴먼\",\n",
      "      \"price\": \"10800\"\n",
      "    },\n",
      "    {\n",
      "      \"title\": \" 달러구트 꿈 백화점 2\",\n",
      "      \"writer\": \"이미예 저\",\n",
      "      \"pub\": \"팩토리나인\",\n",
      "      \"p\n"
     ]
    }
   ],
   "source": [
    "print(json.dumps(allbooks, indent=2, ensure_ascii=False)[:400])\n"
   ]
  },
  {
   "cell_type": "code",
   "execution_count": 170,
   "id": "f47f2b8d-e5c0-40cb-992d-263f5e29ddcf",
   "metadata": {},
   "outputs": [
    {
     "name": "stdout",
     "output_type": "stream",
     "text": [
      "{\"books\": [{\"title\": \" 트렌드 코리아 2022\", \"writer\": \"이혜원,서울대학교 생활과학연구소 소비트렌드분석센터,한다혜,권정윤,서유현 저 외 6명\", \"pub\": \"미래의창\", \"price\": \"16200\"}, {\"title\": \" 설민석의 한국사 대모험 18\", \"writer\": \"스토리박스,설민석 글/정현희 그림/강석화 감수\",\n"
     ]
    }
   ],
   "source": [
    "print(json.dumps(allbooks, ensure_ascii=False)[:200])"
   ]
  },
  {
   "cell_type": "markdown",
   "id": "8d887f6c-1815-46d4-884b-4e3acb6066d5",
   "metadata": {},
   "source": [
    "#### 생성 객체를 파일로 저장"
   ]
  },
  {
   "cell_type": "code",
   "execution_count": 175,
   "id": "ea2e109b-39b3-49ac-8ac4-d9546d291acc",
   "metadata": {},
   "outputs": [],
   "source": [
    "with open('books.json', 'w', encoding='utf-8') as f:\n",
    "    json.dump(allbooks, f, ensure_ascii=False)"
   ]
  },
  {
   "cell_type": "markdown",
   "id": "2ddea846-483b-4de7-9b11-27ae4f4f72e4",
   "metadata": {},
   "source": [
    "#### 생성 객체 불러오기"
   ]
  },
  {
   "cell_type": "code",
   "execution_count": 181,
   "id": "e0008b33-c0af-4cdb-868c-37192015a25b",
   "metadata": {},
   "outputs": [
    {
     "name": "stdout",
     "output_type": "stream",
     "text": [
      "{'books': [{'title': ' 트렌드 코리아 2022', 'writer': '이혜원,서울대학교 생활과학연구소 소비트렌드분석센터,한다혜,권정윤,서유현 저 외 6명', 'pub': '미래의창', 'price': '16200'}, {'title': ' 설민석의 한국사 대모험 18', 'writer': '스토리박스,설민석 글/정현희 그림/강석화 감수', 'pub': '아이휴먼', 'price': '10800'}, {'title': ' 달러구트 꿈 백화점 2', 'writer': '이미예 저', 'pub': '팩토리나인', 'price': '12420'}, {'title': ' 방금 떠나온 세계', 'writer': '김초엽 저', 'pub': '한겨레출판', 'price': '13500'}, {'title': ' 달러구트 꿈 백화점', 'writer': '이미예 저', 'pub': '팩토리나인', 'price': '12420'}, {'title': ' 인생은 실전이다', 'writer': '신영준,주언규(신사임당) 저', 'pub': '상상스퀘어', 'price': '16650'}, {'title': ' 4~7세 보다 중요한 시기는 없습니다', 'writer': '이임숙 저', 'pub': '카시오페아', 'price': '14400'}, {'title': ' 그냥 하지 말라', 'writer': '송길영 저', 'pub': '북스톤', 'price': '15300'}, {'title': ' 갯마을 차차차 2', 'writer': '신하은 저', 'pub': '북로그컴퍼니', 'price': '16200'}, {'title': ' 갯마을 차차차 1', 'writer': '신하은 저', 'pub': '북로그컴퍼니', 'price': '16200'}, {'title': ' 햇빛은 찬란하고 인생은 귀하니까요', 'writer': '장명숙 저', 'pub': '김영사', 'price': '13320'}, {'title': ' 돈, 뜨겁게 사랑하고 차갑게 다루어라', 'writer': '앙드레 코스톨라니 저', 'pub': '미래의창', 'price': '10800'}, {'title': ' 듄 신장판 전집 세트', 'writer': '프랭크 허버트 저/김승욱 역', 'pub': '황금가지', 'price': '108000'}, {'title': ' 트렌드 코리아 2022', 'writer': '이혜원,서울대학교 생활과학연구소 소비트렌드분석센터,한다혜,권정윤,서유현 저 외 6명', 'pub': '미래의창', 'price': '16200'}, {'title': ' 설민석의 한국사 대모험 18', 'writer': '스토리박스,설민석 글/정현희 그림/강석화 감수', 'pub': '아이휴먼', 'price': '10800'}, {'title': ' 달러구트 꿈 백화점 2', 'writer': '이미예 저', 'pub': '팩토리나인', 'price': '12420'}, {'title': ' 방금 떠나온 세계', 'writer': '김초엽 저', 'pub': '한겨레출판', 'price': '13500'}, {'title': ' 달러구트 꿈 백화점', 'writer': '이미예 저', 'pub': '팩토리나인', 'price': '12420'}, {'title': ' 인생은 실전이다', 'writer': '신영준,주언규(신사임당) 저', 'pub': '상상스퀘어', 'price': '16650'}, {'title': ' 4~7세 보다 중요한 시기는 없습니다', 'writer': '이임숙 저', 'pub': '카시오페아', 'price': '14400'}, {'title': ' 그냥 하지 말라', 'writer': '송길영 저', 'pub': '북스톤', 'price': '15300'}, {'title': ' 갯마을 차차차 2', 'writer': '신하은 저', 'pub': '북로그컴퍼니', 'price': '16200'}, {'title': ' 갯마을 차차차 1', 'writer': '신하은 저', 'pub': '북로그컴퍼니', 'price': '16200'}, {'title': ' 햇빛은 찬란하고 인생은 귀하니까요', 'writer': '장명숙 저', 'pub': '김영사', 'price': '13320'}, {'title': ' 돈, 뜨겁게 사랑하고 차갑게 다루어라', 'writer': '앙드레 코스톨라니 저', 'pub': '미래의창', 'price': '10800'}, {'title': ' 듄 신장판 전집 세트', 'writer': '프랭크 허버트 저/김승욱 역', 'pub': '황금가지', 'price': '108000'}]}\n"
     ]
    }
   ],
   "source": [
    "with open('books.json', encoding='utf-8') as f:\n",
    "           jbooks = json.load(f)\n",
    "print(jbooks)"
   ]
  },
  {
   "cell_type": "markdown",
   "id": "3b69e297-8153-416d-9c8c-b8d28a85fbfc",
   "metadata": {},
   "source": [
    "#### 베스트셀러 도서 검색"
   ]
  },
  {
   "cell_type": "code",
   "execution_count": 184,
   "id": "6bb250c3-1bae-42a6-ba16-037f4bd8305e",
   "metadata": {},
   "outputs": [
    {
     "data": {
      "text/plain": [
       "[{'title': ' 트렌드 코리아 2022',\n",
       "  'writer': '이혜원,서울대학교 생활과학연구소 소비트렌드분석센터,한다혜,권정윤,서유현 저 외 6명',\n",
       "  'pub': '미래의창',\n",
       "  'price': '16200'},\n",
       " {'title': ' 설민석의 한국사 대모험 18',\n",
       "  'writer': '스토리박스,설민석 글/정현희 그림/강석화 감수',\n",
       "  'pub': '아이휴먼',\n",
       "  'price': '10800'},\n",
       " {'title': ' 달러구트 꿈 백화점 2',\n",
       "  'writer': '이미예 저',\n",
       "  'pub': '팩토리나인',\n",
       "  'price': '12420'},\n",
       " {'title': ' 방금 떠나온 세계', 'writer': '김초엽 저', 'pub': '한겨레출판', 'price': '13500'},\n",
       " {'title': ' 달러구트 꿈 백화점', 'writer': '이미예 저', 'pub': '팩토리나인', 'price': '12420'}]"
      ]
     },
     "execution_count": 184,
     "metadata": {},
     "output_type": "execute_result"
    }
   ],
   "source": [
    "jbooks.get('books')[:5]"
   ]
  },
  {
   "cell_type": "markdown",
   "id": "583b0e00-66ed-456e-8a07-814cd66487f2",
   "metadata": {},
   "source": [
    "#### 베스트셀러 10위 도서 검색"
   ]
  },
  {
   "cell_type": "code",
   "execution_count": 187,
   "id": "aa4f0c2a-7252-46b5-873f-c5a3e08bfe7e",
   "metadata": {},
   "outputs": [
    {
     "data": {
      "text/plain": [
       "' 갯마을 차차차 1'"
      ]
     },
     "execution_count": 187,
     "metadata": {},
     "output_type": "execute_result"
    }
   ],
   "source": [
    "jbooks.get('books')[9].get('title')"
   ]
  },
  {
   "cell_type": "markdown",
   "id": "58ea7248-3c20-47d4-995d-1bea5863a1db",
   "metadata": {},
   "source": []
  },
  {
   "cell_type": "code",
   "execution_count": null,
   "id": "d3283c13-cae3-466d-a8b9-d9f7dbd02723",
   "metadata": {},
   "outputs": [],
   "source": []
  },
  {
   "cell_type": "code",
   "execution_count": null,
   "id": "7d59e843-f2b1-4a45-b7e7-18c4a18b2afe",
   "metadata": {},
   "outputs": [],
   "source": []
  },
  {
   "cell_type": "code",
   "execution_count": null,
   "id": "ffca59ef-67e3-47df-8005-3d26423c791c",
   "metadata": {},
   "outputs": [],
   "source": []
  },
  {
   "cell_type": "code",
   "execution_count": null,
   "id": "918cdd18-2afd-4ea1-bf30-24046ae4a920",
   "metadata": {},
   "outputs": [],
   "source": []
  },
  {
   "cell_type": "code",
   "execution_count": null,
   "id": "816cf78a-0fde-4ba5-b75f-a34b948a78c2",
   "metadata": {},
   "outputs": [],
   "source": []
  },
  {
   "cell_type": "code",
   "execution_count": null,
   "id": "f01340ff-c69c-4fa1-bc13-70bc56a9106b",
   "metadata": {},
   "outputs": [],
   "source": []
  },
  {
   "cell_type": "code",
   "execution_count": null,
   "id": "16e6d43b-5bd0-48b6-bde9-ecb34fc5257d",
   "metadata": {},
   "outputs": [],
   "source": []
  },
  {
   "cell_type": "code",
   "execution_count": null,
   "id": "b854b5ae-8703-4e99-8c1d-75cdaa4866bd",
   "metadata": {},
   "outputs": [],
   "source": []
  },
  {
   "cell_type": "code",
   "execution_count": null,
   "id": "caf569d4-9e3a-4fc7-8487-b1300d2f84cb",
   "metadata": {},
   "outputs": [],
   "source": []
  },
  {
   "cell_type": "code",
   "execution_count": null,
   "id": "1b8f9d44-5803-4f98-a01c-9d7bc8d274e1",
   "metadata": {},
   "outputs": [],
   "source": []
  },
  {
   "cell_type": "code",
   "execution_count": null,
   "id": "c3b4e805-46d1-436e-9ca6-7a9bc86ed528",
   "metadata": {},
   "outputs": [],
   "source": []
  },
  {
   "cell_type": "code",
   "execution_count": null,
   "id": "6c320b86-2f8e-4a36-957f-a66d3e6acbbe",
   "metadata": {},
   "outputs": [],
   "source": []
  },
  {
   "cell_type": "code",
   "execution_count": null,
   "id": "264a59fc-9d19-4b12-bee1-761909230ecc",
   "metadata": {},
   "outputs": [],
   "source": []
  },
  {
   "cell_type": "code",
   "execution_count": null,
   "id": "04ea9e22-3a09-4f39-8dae-8e68373e8a3a",
   "metadata": {},
   "outputs": [],
   "source": []
  }
 ],
 "metadata": {
  "kernelspec": {
   "display_name": "Python 3 (ipykernel)",
   "language": "python",
   "name": "python3"
  },
  "language_info": {
   "codemirror_mode": {
    "name": "ipython",
    "version": 3
   },
   "file_extension": ".py",
   "mimetype": "text/x-python",
   "name": "python",
   "nbconvert_exporter": "python",
   "pygments_lexer": "ipython3",
   "version": "3.7.10"
  }
 },
 "nbformat": 4,
 "nbformat_minor": 5
}
