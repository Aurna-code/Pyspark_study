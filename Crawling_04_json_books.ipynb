{
 "cells": [
  {
   "cell_type": "code",
   "execution_count": 61,
   "id": "dd7456b8-7b1a-4c0e-9017-541f62f6abdc",
   "metadata": {},
   "outputs": [],
   "source": [
    "import json\n",
    "from collections import OrderedDict\n",
    "import re\n",
    "import requests\n",
    "from bs4 import BeautifulSoup\n",
    "import time"
   ]
  },
  {
   "cell_type": "code",
   "execution_count": 62,
   "id": "b0b493bb-917e-419e-9ddf-fd40aed9f1f4",
   "metadata": {},
   "outputs": [],
   "source": [
    "url = 'http://www.yes24.com/24/category/bestseller'\n",
    "headers = {}"
   ]
  },
  {
   "cell_type": "code",
   "execution_count": 63,
   "id": "8b16f393-aaa3-4913-bcd5-ea86726b46d8",
   "metadata": {},
   "outputs": [],
   "source": [
    "allbooks2 = OrderedDict()\n",
    "books2 = []"
   ]
  },
  {
   "cell_type": "code",
   "execution_count": 65,
   "id": "ca9c5bf8-9ae4-4909-99bf-fddc0bfbd333",
   "metadata": {},
   "outputs": [],
   "source": [
    "for i in range(2, 5+1):\n",
    "    params= {'CategoryNumber':'001', 'sumgb' : '09', 'year' : '2020', 'month' : '10', 'PageNumber' : i}"
   ]
  },
  {
   "cell_type": "code",
   "execution_count": 66,
   "id": "f9499072-aa09-48fe-b436-b48d7064ada5",
   "metadata": {},
   "outputs": [],
   "source": [
    "res = requests.get(url, headers=headers, params=params)\n",
    "html = BeautifulSoup(res.text, 'lxml')"
   ]
  },
  {
   "cell_type": "code",
   "execution_count": 67,
   "id": "a258a5ee-93b8-4d9c-8f54-97cde5e46b4b",
   "metadata": {},
   "outputs": [],
   "source": [
    "titles = []\n",
    "writers = []\n",
    "pubs = []\n",
    "prices = []\n",
    "pubdates = []"
   ]
  },
  {
   "cell_type": "code",
   "execution_count": 68,
   "id": "eca5ffd1-d894-4635-917a-e259484e0a5b",
   "metadata": {},
   "outputs": [
    {
     "name": "stdout",
     "output_type": "stream",
     "text": [
      "이기적 유전자 The Selfish Gene\n",
      "리더라면 정조처럼 : 정조대왕의 숨겨진 리더십 코드 5049-문재인 대통령 2020년 독서의 달 추천도서\n",
      "정부가 집값을 안 잡는 이유\n",
      "내가 들어보지 못해서, 아이에게 해주지 못한 말들 : 5,000가정을 변화시킨 정신과 의사의 따뜻한 대화 습관 28\n",
      "우리가 빛의 속도로 갈 수 없다면\n",
      "영원의 사자들 1,2 세트\n",
      "[만화]   원피스 ONE PIECE 97 : 나의 바이블\n",
      "페스트-민음사 세계문학전집 267\n",
      "진짜 진짜 얼굴을 찾아서 : 고문영 동화-사이코지만 괜찮아 특별 동화 시리즈 5\n",
      "에듀윌 한국사능력검정시험 2주끝장 심화\n",
      "하루 10분의 기적 초등 패턴 글쓰기 : 아이의 글머리가 5일 안에 완성된다!\n",
      "무엇을 위해 살죠? : 박진영 에세이\n",
      "죽은 자의 집 청소\n",
      "당신의 인생을 정리해드립니다 : 삶이 바뀌는 신박한 정리\n",
      "시간을 파는 상점-자음과모음 청소년문학 15/자음과모음 청소년문학상 수상작\n",
      "하루만 네가 되고 싶어 1 특별판\n",
      "아비투스 : 인간의 품격을 결정하는 7가지 자본\n",
      "내일은 실험왕 50 : 빅뱅 우주론\n",
      "부자 아빠 가난한 아빠 20주년 특별 기념판-부자 아빠 가난한 아빠\n",
      "1분 과학 : 세상에서 가장 놀라운 꿀잼 과학 이야기\n"
     ]
    }
   ],
   "source": [
    "for title in html.select('td.goodsTxtInfo p:first-child'):\n",
    "    title = re.sub('\\[도서\\]', '', title.text)\n",
    "    title = re.sub('\\(.*?\\)', '', title)\n",
    "    title = re.sub('\\)', '', title).strip()\n",
    "    titles.append(title)\n",
    "    print(title)"
   ]
  },
  {
   "cell_type": "code",
   "execution_count": 69,
   "id": "0d2a7e3d-c560-432c-9c7a-efa1b1a3a5cd",
   "metadata": {},
   "outputs": [
    {
     "name": "stdout",
     "output_type": "stream",
     "text": [
      "리처드 도킨스\n",
      "김준혁\n",
      "윤세경\n",
      "다나카 시게키\n",
      "김초엽\n",
      "정은궐\n",
      "오다 에이이치로\n",
      "알베르 까뮈\n",
      "조용\n",
      "에듀윌 한국사교육연구소\n",
      "남낙현\n",
      "박진영\n",
      "김완\n",
      "이지영\n",
      "김선영\n",
      "삼\n",
      "도리스 메르틴\n",
      "스토리 a.\n",
      "로버트 기요사키\n",
      "이재범\n"
     ]
    }
   ],
   "source": [
    "for writer in html.select('div.aupu a:nth-child(1)'):\n",
    "    writer = (writer.text.split('|')[0].strip())\n",
    "    writers.append(writer)\n",
    "    print(writer)"
   ]
  },
  {
   "cell_type": "code",
   "execution_count": 70,
   "id": "62c75cca-9e9b-4563-ad9c-0565e9783c52",
   "metadata": {},
   "outputs": [
    {
     "name": "stdout",
     "output_type": "stream",
     "text": [
      "을유문화사\n",
      "더봄\n",
      "이레퍼블리싱\n",
      "길벗\n",
      "허블\n",
      "파란 (파란미디어)\n",
      "대원\n",
      "민음사\n",
      "위즈덤하우스\n",
      "에듀윌\n",
      "청림Life\n",
      "은행나무\n",
      "김영사\n",
      "쌤앤파커스\n",
      "자음과모음\n",
      "문학동네\n",
      "다산초당\n",
      "미래엔아이세움\n",
      "민음인\n",
      "위즈덤하우스\n"
     ]
    }
   ],
   "source": [
    "for pub in html.select('div.aupu'):\n",
    "    pub = (pub.text.split('|')[1].strip())\n",
    "    pubs.append(pub)\n",
    "    print(pub)"
   ]
  },
  {
   "cell_type": "code",
   "execution_count": 71,
   "id": "c8e6020f-e8b0-4496-a578-fabc6ef233ca",
   "metadata": {},
   "outputs": [
    {
     "name": "stdout",
     "output_type": "stream",
     "text": [
      "20000\n",
      "18000\n",
      "14500\n",
      "13800\n",
      "14000\n",
      "30000\n",
      "5000\n",
      "13000\n",
      "12000\n",
      "21000\n",
      "15000\n",
      "15000\n",
      "13800\n",
      "15000\n",
      "11000\n",
      "36000\n",
      "18000\n",
      "12800\n",
      "15800\n",
      "16800\n"
     ]
    }
   ],
   "source": [
    "for price in html.select('td.goodsTxtInfo p:nth-of-type(2)'):\n",
    "    price = (price.text.split('→')[0].strip())\n",
    "    price = re.sub('원','', price).strip()\n",
    "    price = re.sub(',','',price)\n",
    "    prices.append(price)\n",
    "    print(price)"
   ]
  },
  {
   "cell_type": "code",
   "execution_count": 72,
   "id": "2afb8e4e-a07b-4865-9888-5853c5a267d4",
   "metadata": {},
   "outputs": [
    {
     "name": "stdout",
     "output_type": "stream",
     "text": [
      "2018년 10월\n",
      "2020년 06월\n",
      "2020년 09월\n",
      "2020년 09월\n",
      "2019년 06월\n",
      "2020년 09월\n",
      "2020년 09월\n",
      "2011년 03월\n",
      "2020년 08월\n",
      "2020년 03월\n",
      "2020년 09월\n",
      "2020년 08월\n",
      "2020년 05월\n",
      "2020년 10월\n",
      "2012년 04월\n",
      "2020년 11월\n",
      "2020년 08월\n",
      "2020년 08월\n",
      "2018년 02월\n",
      "2020년 09월\n"
     ]
    }
   ],
   "source": [
    "for pubdate in html.select('div.aupu'):\n",
    "    pubdate = (pubdate.text.split('|')[2].strip())\n",
    "    pubdates.append(pubdate)\n",
    "    print(pubdate)"
   ]
  },
  {
   "cell_type": "code",
   "execution_count": null,
   "id": "fd78f386-c7cf-4ff5-b1de-958a2ceb76c0",
   "metadata": {},
   "outputs": [],
   "source": []
  },
  {
   "cell_type": "code",
   "execution_count": 73,
   "id": "ed0891a2-27b6-4965-8627-e2d061ccc666",
   "metadata": {},
   "outputs": [],
   "source": [
    "for i in range(len(titles)):\n",
    "    book = OrderedDict()\n",
    "    book['title'] = titles[i]\n",
    "    book['writer'] = writers[i]\n",
    "    book['pub'] = pubs[i]\n",
    "    book['pubdate'] = pubdates[i]\n",
    "    book['price'] = prices[i]\n",
    "    books3.append(book)\n",
    "    \n",
    "allbooks2['books2'] = books2"
   ]
  },
  {
   "cell_type": "code",
   "execution_count": 74,
   "id": "22abf72f-1732-4ca6-848f-3fd85c59290d",
   "metadata": {},
   "outputs": [],
   "source": [
    "\n",
    "time.sleep(3)"
   ]
  },
  {
   "cell_type": "code",
   "execution_count": 75,
   "id": "916420ad-e1e6-4bb7-8944-130663abd4f0",
   "metadata": {},
   "outputs": [],
   "source": [
    "with open('books2.json', 'w', encoding='utf-8') as f:\n",
    "    json.dump(allbooks2, f, ensure_ascii=False)\n",
    "    "
   ]
  },
  {
   "cell_type": "code",
   "execution_count": null,
   "id": "0a926c84-67ea-4e78-8137-3f6e0bb820ae",
   "metadata": {},
   "outputs": [],
   "source": []
  },
  {
   "cell_type": "code",
   "execution_count": null,
   "id": "62fb41ca-d5da-45c2-a780-88454dd93271",
   "metadata": {},
   "outputs": [],
   "source": []
  },
  {
   "cell_type": "code",
   "execution_count": null,
   "id": "f1461751-1101-4b4e-8e54-e5642568eb21",
   "metadata": {},
   "outputs": [],
   "source": []
  },
  {
   "cell_type": "code",
   "execution_count": null,
   "id": "a881f26d-cec0-420f-b1b2-192b48bcce6c",
   "metadata": {},
   "outputs": [],
   "source": []
  },
  {
   "cell_type": "code",
   "execution_count": null,
   "id": "440a1ce3-8628-4575-9ed7-f16a72c6f128",
   "metadata": {},
   "outputs": [],
   "source": []
  },
  {
   "cell_type": "code",
   "execution_count": null,
   "id": "c0edbb27-a345-478a-9f33-29724644b0da",
   "metadata": {},
   "outputs": [],
   "source": []
  },
  {
   "cell_type": "code",
   "execution_count": null,
   "id": "9ea06a30-be76-4051-88e4-8dc690711a52",
   "metadata": {},
   "outputs": [],
   "source": []
  },
  {
   "cell_type": "code",
   "execution_count": null,
   "id": "ff422df2-3365-4b9d-9d43-82e9c7fb4bd8",
   "metadata": {},
   "outputs": [],
   "source": []
  },
  {
   "cell_type": "code",
   "execution_count": null,
   "id": "d003441d-624c-4865-8a6d-628e8c077188",
   "metadata": {},
   "outputs": [],
   "source": []
  },
  {
   "cell_type": "code",
   "execution_count": null,
   "id": "78d88a5c-c376-4259-bea8-2d33b3d4b2bd",
   "metadata": {},
   "outputs": [],
   "source": []
  }
 ],
 "metadata": {
  "kernelspec": {
   "display_name": "Python 3 (ipykernel)",
   "language": "python",
   "name": "python3"
  },
  "language_info": {
   "codemirror_mode": {
    "name": "ipython",
    "version": 3
   },
   "file_extension": ".py",
   "mimetype": "text/x-python",
   "name": "python",
   "nbconvert_exporter": "python",
   "pygments_lexer": "ipython3",
   "version": "3.7.10"
  }
 },
 "nbformat": 4,
 "nbformat_minor": 5
}
